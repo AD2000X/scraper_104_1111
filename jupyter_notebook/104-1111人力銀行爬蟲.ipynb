{
 "cells": [
  {
   "cell_type": "markdown",
   "metadata": {},
   "source": [
    "# 介紹\n",
    "1. 2020/6/5 測試可正常爬資料，\n",
    "\n",
    "如果遇到無法爬資料可能是104、1111有改版導致BeautifulSoup無法找到calss、tag、attr，\n",
    "\n",
    "**發生無法爬取從以下修改def**\n",
    "* 104人力銀行\n",
    "    * find_title_104 爬資料\n",
    "    * selenium_get_Code_104 取得最大頁面數\n",
    "* 1111人力銀行\n",
    "    * find_title_1111 爬資料\n",
    "    * find_data_1111 指定class、tag、id 並丟給find_title_1111\n",
    "    * selenium_get_Code_1111 取得最大頁面數\n",
    "    \n",
    "\n",
    "2. 只爬取104，1111因為比較多人使用。\n",
    "3. 爬取大量資料並使用Pandas處理資料及過濾資料，找有興趣的相關工作。 \n",
    "\n",
    "\n",
    "104爬取資料有『日期、工作名稱、公司名稱、公司地址、薪資、工作內容、地區、經歷、學歷、公司人數、文章編號、工作網址』\n",
    "11111爬取資料有『日期、工作名稱、公司名稱、公司地址、薪資、工作內容、地區、經歷、學歷、工作網址』\n",
    "\n",
    "爬取資料並儲存csv格式，使用Pandas處理資料。\n",
    "\n",
    "\n",
    "## 需安裝的套件\n",
    "需要安裝的套件：\n",
    "BeautifulSoup、requests、selenium、pandas、tqdm、openpyxl\n",
    "\n",
    "## 使用selenium目的\n",
    "104需要讓網頁加載javascript得到共有多少頁面，使用Headless(無頭)模式在背景執行Chrome，並不會實際看到瀏覽器。\n",
    "\n",
    "chromedriver下載\n",
    "\n",
    "https://chromedriver.chromium.org/downloads"
   ]
  },
  {
   "cell_type": "code",
   "execution_count": 1,
   "metadata": {},
   "outputs": [],
   "source": [
    "import requests\n",
    "from bs4 import BeautifulSoup\n",
    "import re\n",
    "import random\n",
    "import time\n",
    "from urllib.parse import quote\n",
    "from tqdm import tqdm, trange\n",
    "import csv\n",
    "from selenium import webdriver\n",
    "from selenium.webdriver.common.keys import Keys\n",
    "from selenium.webdriver.chrome.options import Options\n",
    "import pandas as pd\n",
    "from datetime import date\n",
    "from IPython.display import clear_output\n",
    "import os,os.path"
   ]
  },
  {
   "cell_type": "markdown",
   "metadata": {},
   "source": [
    "# 104-1111人力銀行 爬蟲"
   ]
  },
  {
   "cell_type": "code",
   "execution_count": 2,
   "metadata": {},
   "outputs": [],
   "source": [
    "def get_todate():\n",
    "    return date.today()\n",
    "\n",
    "def selenium_get_Code_104(url):\n",
    "    chrome_options = Options() # 啟動無頭模式\n",
    "    chrome_options.add_argument('--headless')  #規避google bug\n",
    "    chrome_options.add_argument('--disable-gpu')\n",
    "    driver = webdriver.Chrome(chrome_options=chrome_options)\n",
    "    driver.get(url)\n",
    "    save = driver.page_source\n",
    "    driver.quit()#關閉瀏覽器\n",
    "    soup = BeautifulSoup(save, \"html.parser\")\n",
    "    page = soup.select('.page-select.js-paging-select.gtm-paging-top')[0].find_all('option')[-1].get('value')\n",
    "    return page\n",
    "\n",
    "def read_url(url):\n",
    "    USER_AGENT_LIST = [\n",
    "        \"Mozilla/4.0 (compatible; MSIE 6.0; Windows NT 5.1; SV1; AcooBrowser; .NET CLR 1.1.4322; .NET CLR 2.0.50727)\",\n",
    "        \"Mozilla/4.0 (compatible; MSIE 7.0; Windows NT 6.0; Acoo Browser; SLCC1; .NET CLR 2.0.50727; Media Center PC 5.0; .NET CLR 3.0.04506)\",\n",
    "        \"Mozilla/4.0 (compatible; MSIE 7.0; AOL 9.5; AOLBuild 4337.35; Windows NT 5.1; .NET CLR 1.1.4322; .NET CLR 2.0.50727)\",\n",
    "        \"Mozilla/5.0 (Windows; U; MSIE 9.0; Windows NT 9.0; en-US)\",\n",
    "        \"Mozilla/5.0 (compatible; MSIE 9.0; Windows NT 6.1; Win64; x64; Trident/5.0; .NET CLR 3.5.30729; .NET CLR 3.0.30729; .NET CLR 2.0.50727; Media Center PC 6.0)\",\n",
    "        \"Mozilla/5.0 (compatible; MSIE 8.0; Windows NT 6.0; Trident/4.0; WOW64; Trident/4.0; SLCC2; .NET CLR 2.0.50727; .NET CLR 3.5.30729; .NET CLR 3.0.30729; .NET CLR 1.0.3705; .NET CLR 1.1.4322)\",\n",
    "        \"Mozilla/4.0 (compatible; MSIE 7.0b; Windows NT 5.2; .NET CLR 1.1.4322; .NET CLR 2.0.50727; InfoPath.2; .NET CLR 3.0.04506.30)\",\n",
    "        \"Mozilla/5.0 (Windows; U; Windows NT 5.1; zh-CN) AppleWebKit/523.15 (KHTML, like Gecko, Safari/419.3) Arora/0.3 (Change: 287 c9dfb30)\",\n",
    "        \"Mozilla/5.0 (X11; U; Linux; en-US) AppleWebKit/527+ (KHTML, like Gecko, Safari/419.3) Arora/0.6\",\n",
    "        \"Mozilla/5.0 (Windows; U; Windows NT 5.1; en-US; rv:1.8.1.2pre) Gecko/20070215 K-Ninja/2.1.1\",\n",
    "        \"Mozilla/5.0 (Windows; U; Windows NT 5.1; zh-CN; rv:1.9) Gecko/20080705 Firefox/3.0 Kapiko/3.0\",\n",
    "        \"Mozilla/5.0 (X11; Linux i686; U;) Gecko/20070322 Kazehakase/0.4.5\",\n",
    "        \"Mozilla/5.0 (X11; U; Linux i686; en-US; rv:1.9.0.8) Gecko Fedora/1.9.0.8-1.fc10 Kazehakase/0.5.6\",\n",
    "        \"Mozilla/5.0 (Windows NT 6.1; WOW64) AppleWebKit/535.11 (KHTML, like Gecko) Chrome/17.0.963.56 Safari/535.11\",\n",
    "        \"Mozilla/5.0 (Macintosh; Intel Mac OS X 10_7_3) AppleWebKit/535.20 (KHTML, like Gecko) Chrome/19.0.1036.7 Safari/535.20\",\n",
    "        \"Opera/9.80 (Macintosh; Intel Mac OS X 10.6.8; U; fr) Presto/2.9.168 Version/11.52\",\n",
    "        \"Mozilla/5.0 (Windows NT 6.1; WOW64) AppleWebKit/536.11 (KHTML, like Gecko) Chrome/20.0.1132.11 TaoBrowser/2.0 Safari/536.11\",\n",
    "        \"Mozilla/5.0 (Windows NT 6.1; WOW64) AppleWebKit/537.1 (KHTML, like Gecko) Chrome/21.0.1180.71 Safari/537.1 LBBROWSER\",\n",
    "        \"Mozilla/5.0 (compatible; MSIE 9.0; Windows NT 6.1; WOW64; Trident/5.0; SLCC2; .NET CLR 2.0.50727; .NET CLR 3.5.30729; .NET CLR 3.0.30729; Media Center PC 6.0; .NET4.0C; .NET4.0E; LBBROWSER)\",\n",
    "        \"Mozilla/4.0 (compatible; MSIE 6.0; Windows NT 5.1; SV1; QQDownload 732; .NET4.0C; .NET4.0E; LBBROWSER)\",\n",
    "        \"Mozilla/5.0 (Windows NT 6.1; WOW64) AppleWebKit/535.11 (KHTML, like Gecko) Chrome/17.0.963.84 Safari/535.11 LBBROWSER\",\n",
    "        \"Mozilla/4.0 (compatible; MSIE 7.0; Windows NT 6.1; WOW64; Trident/5.0; SLCC2; .NET CLR 2.0.50727; .NET CLR 3.5.30729; .NET CLR 3.0.30729; Media Center PC 6.0; .NET4.0C; .NET4.0E)\",\n",
    "        \"Mozilla/5.0 (compatible; MSIE 9.0; Windows NT 6.1; WOW64; Trident/5.0; SLCC2; .NET CLR 2.0.50727; .NET CLR 3.5.30729; .NET CLR 3.0.30729; Media Center PC 6.0; .NET4.0C; .NET4.0E; QQBrowser/7.0.3698.400)\",\n",
    "        \"Mozilla/4.0 (compatible; MSIE 6.0; Windows NT 5.1; SV1; QQDownload 732; .NET4.0C; .NET4.0E)\",\n",
    "        \"Mozilla/4.0 (compatible; MSIE 7.0; Windows NT 5.1; Trident/4.0; SV1; QQDownload 732; .NET4.0C; .NET4.0E; 360SE)\",\n",
    "        \"Mozilla/4.0 (compatible; MSIE 6.0; Windows NT 5.1; SV1; QQDownload 732; .NET4.0C; .NET4.0E)\",\n",
    "        \"Mozilla/4.0 (compatible; MSIE 7.0; Windows NT 6.1; WOW64; Trident/5.0; SLCC2; .NET CLR 2.0.50727; .NET CLR 3.5.30729; .NET CLR 3.0.30729; Media Center PC 6.0; .NET4.0C; .NET4.0E)\",\n",
    "        \"Mozilla/5.0 (Windows NT 5.1) AppleWebKit/537.1 (KHTML, like Gecko) Chrome/21.0.1180.89 Safari/537.1\",\n",
    "        \"Mozilla/5.0 (Windows NT 6.1; WOW64) AppleWebKit/537.1 (KHTML, like Gecko) Chrome/21.0.1180.89 Safari/537.1\",\n",
    "        \"Mozilla/5.0 (iPad; U; CPU OS 4_2_1 like Mac OS X; zh-cn) AppleWebKit/533.17.9 (KHTML, like Gecko) Version/5.0.2 Mobile/8C148 Safari/6533.18.5\",\n",
    "        \"Mozilla/5.0 (Windows NT 6.1; Win64; x64; rv:2.0b13pre) Gecko/20110307 Firefox/4.0b13pre\",\n",
    "        \"Mozilla/5.0 (X11; Ubuntu; Linux x86_64; rv:16.0) Gecko/20100101 Firefox/16.0\",\n",
    "        \"Mozilla/5.0 (Windows NT 6.1; WOW64) AppleWebKit/537.11 (KHTML, like Gecko) Chrome/23.0.1271.64 Safari/537.11\",\n",
    "        \"Mozilla/5.0 (X11; U; Linux x86_64; zh-CN; rv:1.9.2.10) Gecko/20100922 Ubuntu/10.10 (maverick) Firefox/3.6.10\",\n",
    "        \"Mozilla/5.0 (Windows NT 10.0; Win64; x64) AppleWebKit/537.36 (KHTML, like Gecko) Chrome/58.0.3029.110 Safari/537.36\",\n",
    "        ]\n",
    "    USER_AGENT = random.choice(USER_AGENT_LIST)\n",
    "    headers = {'user-agent': USER_AGENT}\n",
    "    s = requests.Session()\n",
    "    req = s.get(url, headers = headers)\n",
    "    soup = BeautifulSoup(req.text, \"html.parser\")\n",
    "    return soup\n",
    "\n",
    "def csv_column_104(path_csv, key_txt): #建立行標題\n",
    "    with open(path_csv + '.csv', mode='a+', newline='', encoding='utf-8') as employee_file: \n",
    "        employee_writer = csv.writer(employee_file, delimiter=',', quotechar='\"', quoting=csv.QUOTE_MINIMAL)\n",
    "        employee_writer.writerow(['日期', '工作名稱', '公司名稱', '公司地址', '薪資', '工作內容', '地區', '經歷', '學歷', '公司人數', '文章編號', '工作網址'])\n",
    "\n",
    "def find_title_104(key_txt):\n",
    "    #路徑組合\n",
    "    today = get_todate()\n",
    "    path_csv = \"%s\" % os.getcwd() + '\\\\' + 'jobs_csv\\\\'+ str(today) + key_txt + '_104人力銀行'\n",
    "    if not os.path.isdir('jobs_csv'): # 確認是否有jobs_csv資料夾  沒有則返回Ture\n",
    "        os.mkdir('jobs_csv') # 建立jobs_csv資料夾\n",
    "        print('建立jobs_csv資料夾完成')\n",
    "    csv_column_104(path_csv, key_txt) #建立行標題\n",
    "    csv_save = \"\"\n",
    "    key = quote(key_txt)\n",
    "    #  104 api searchTempExclude=2  -> 設定排除派遣\n",
    "    find_page_url = 'https://www.104.com.tw/jobs/search/?ro=0&kwop=7&keyword={0}&order=15&asc=0&page=1&mode=s&jobsource=2018indexpoc&searchTempExclude=2'.format(key)\n",
    "    get_sum_page = int(selenium_get_Code_104(find_page_url))\n",
    "    print('共有：' + str(get_sum_page) + ' 頁')\n",
    "    for i in tqdm(range(1, get_sum_page+1)):  #set page 1 to find all max page ,tqdm讀取進度條\n",
    "        url = 'https://www.104.com.tw/jobs/search/?ro=0&kwop=7&keyword={0}&order=15&asc=0&page={1}&mode=s&jobsource=2018indexpoc&searchTempExclude=2'.format(key, i) \n",
    "        #time.sleep(random.randint(2,10)) #隨機等待\n",
    "        soup = read_url(url) #讀取網頁\n",
    "        print('目前爬取頁面是：' + url)\n",
    "        for title_1 in soup.select('.b-block__left'):\n",
    "            #有三個資料是無資料的，遇到無資料就跳過這個迴圈\n",
    "            if title_1.select('.b-list-inline.b-clearfix.job-list-item__company') != soup.select('.b-block__left')[0].select('.b-list-inline.b-clearfix.job-list-item__company'):\n",
    "                #日期\n",
    "                try:\n",
    "                    #正常代表找到 讚 廣告 (業主買廣告)，發生異常代表找不到 讚，執行except找日期 \n",
    "                    date_match__ = title_1.select('.b-icon--gray.b-icon--w18')[0].select('use')[0]\n",
    "                    date = '廣告'\n",
    "                except:\n",
    "                    date = title_1.select('.b-tit__date')[0].get_text().replace('\\n','').replace(' ','')\n",
    "        \n",
    "                #地區\n",
    "                area = title_1.select('.b-list-inline.b-clearfix.job-list-intro.b-content')[0].find('li').get_text()\n",
    "                #經歷(年資)\n",
    "                experience = title_1.select('.b-list-inline.b-clearfix.job-list-intro.b-content')[0].find_all('li')[1].get_text()\n",
    "                try: #業者沒有輸入學歷，遇到錯誤處理\n",
    "                    #學歷\n",
    "                    education = title_1.select('.b-list-inline.b-clearfix.job-list-intro.b-content')[0].find_all('li')[2].get_text()\n",
    "                except:\n",
    "                    education = \"\"\n",
    "                #工作網址\n",
    "                title_url = title_1.select('.js-job-link')[0].get('href')[2:]\n",
    "                #get 文章編號\n",
    "                title_str = title_url.split('?')[0].split('/')[-1] #get 文章編號\n",
    "                #標題名稱\n",
    "                title = title_1.select('.js-job-link')[0].get_text() #get title\n",
    "                #print(title + title_url + area)\n",
    "                #公司名\n",
    "                company_name = title_1.select('li')[1].find('a').get('title').split('\\n')[0][4:]\n",
    "                try:\n",
    "                    #公司地址\n",
    "                    company_address = title_1.select('li')[1].find('a').get('title').split('\\n')[1][5:]\n",
    "                except:\n",
    "                    company_address = \"\"\n",
    "                try:\n",
    "                    #簡介\n",
    "                    introduction = title_1.select('.job-list-item__info.b-clearfix.b-content')[0].get_text()\n",
    "                    #處理string \\r \\n5 \\n轉成''\n",
    "                    introduction = introduction.replace('\\r','').replace('\\n5','').replace('\\n','')\n",
    "                except:\n",
    "                    introduction = \"\"\n",
    "                #薪資\n",
    "                try:\n",
    "                    salary = title_1.select('.b-tag--default')[0].get_text()\n",
    "                except:\n",
    "                    salary = 0 #沒有寫薪資或待遇面議，設定 0\n",
    "                    \n",
    "                if salary == '待遇面議':\n",
    "                    salary = \"待遇面議\"\n",
    "                else: #數字處理 25000~35000 取25000最低薪資為主要，三位數 = 日薪，四位數 = 論件計酬\n",
    "                    try:\n",
    "                        salary = re.search('\\d+.\\d+', salary).group()\n",
    "                    except:\n",
    "                        salary = 0\n",
    "                #員工人數\n",
    "                try:\n",
    "                    people = title_1.select('.b-tag--default')[1].get_text()\n",
    "                except:\n",
    "                    people = \"\"\n",
    "                #clear_output() # 清除輸出 用於清除進度讀，註解#不使用：用來檢查出錯的網址\n",
    "\n",
    "                with open(path_csv + '.csv', mode='a+', newline='', encoding='utf-8') as employee_file: #w\n",
    "                    employee_writer = csv.writer(employee_file, delimiter=',', quotechar='\"', quoting=csv.QUOTE_MINIMAL)\n",
    "                    employee_writer.writerow([date, title, company_name, company_address, salary, introduction, area, experience, education, people, title_str, title_url])\n",
    "            else:\n",
    "                continue\n",
    "    return print('爬取104完成：請開啟csv檔案')\n",
    "\n",
    "\n",
    "# input_go = input('輸入關鍵字')\n",
    "# save_title_data = find_title_104(input_go)\n",
    "\n",
    "\n",
    "\n",
    "\n",
    "############ 1111人力銀行 #########\n",
    "\n",
    "\n",
    "def selenium_get_Code_1111(url):\n",
    "    chrome_options = Options() # 啟動無頭模式\n",
    "    chrome_options.add_argument('--headless')  #規避google bug\n",
    "    chrome_options.add_argument('--disable-gpu')\n",
    "    driver = webdriver.Chrome(chrome_options=chrome_options)\n",
    "    driver.get(url)\n",
    "    save = driver.page_source\n",
    "    driver.quit()#關閉瀏覽器\n",
    "    soup = BeautifulSoup(save, \"html.parser\")\n",
    "    \n",
    "    page = soup.select('.custom-select')[0].select('option')[0].text\n",
    "    page = page.split('/')\n",
    "    page = page[1].strip(' ')\n",
    "    return page\n",
    "\n",
    "\n",
    "def csv_column_1111(path_csv): #建立行標題\n",
    "    with open(path_csv + '.csv', mode='a+', newline='', encoding='utf-8') as employee_file: \n",
    "        employee_writer = csv.writer(employee_file, delimiter=',', quotechar='\"', quoting=csv.QUOTE_MINIMAL)\n",
    "        employee_writer.writerow(['日期', '工作名稱', '公司名稱', '公司地址', '薪資', '工作內容', '地區', '經歷', '學歷', '工作網址'])\n",
    "\n",
    "def find_data_1111(soup):\n",
    "    #錢錢\n",
    "    mnone = soup.select('.needs') \n",
    "    #縣市區域\n",
    "    location = soup.select('.needs')\n",
    "    #日期\n",
    "    get_date = soup.select('.date')\n",
    "    #簡介\n",
    "    jbInfoTxt = soup.select('.jbInfoTxt')\n",
    "    #網址\n",
    "    jobs_url = soup.select('.position0')\n",
    "    #公司名稱、類別、住址\n",
    "    company_data = soup.select('.d-md-flex')\n",
    "    #工作標題\n",
    "    title = soup.select('.position0')\n",
    "    #工作經驗\n",
    "    jobs_exp = soup.select('.needs')\n",
    "    # 學歷\n",
    "    education = soup.select('.needs')\n",
    "    return mnone, location, jbInfoTxt, jobs_url, company_data, title, jobs_exp, get_date, education\n",
    "\n",
    "        \n",
    "def find_title_1111(key_txt):\n",
    "    #路徑組合\n",
    "    today = get_todate()\n",
    "    path_csv = \"%s\" % os.getcwd() + '\\\\' + 'jobs_csv\\\\' + str(today) + key_txt + '_1111人力銀行'\n",
    "    if not os.path.isdir('jobs_csv'): # 確認是否有jobs_csv資料夾  沒有則返回Ture\n",
    "        os.mkdir('jobs_csv') # 建立jobs_csv資料夾\n",
    "        print('建立jobs_csv資料夾完成')\n",
    "    csv_column_1111(path_csv) #建立行標題\n",
    "    key = quote(key_txt)\n",
    "    find_page_url = 'https://www.1111.com.tw/job-bank/job-index.asp?si=1&ss=s&ks={0}&page=1'.format(key)\n",
    "    #取得最大page數\n",
    "    get_sum_page = int(selenium_get_Code_1111(find_page_url))\n",
    "    print('共有：' + str(get_sum_page) + ' 頁')\n",
    "    \n",
    "    for i in tqdm(range(1, get_sum_page+1)):\n",
    "        url = 'https://www.1111.com.tw/job-bank/job-index.asp?si=1&ss=s&ks={0}&page={1}'.format(key, i)\n",
    "        soup = read_url(url) #讀取網頁\n",
    "        #讀取網頁資料\n",
    "        mnone, location, jbInfoTxt, jobs_url, company_data, title, jobs_exp, get_date, education = find_data_1111(soup)\n",
    "        print('目前爬取頁面是：' + url)\n",
    "        for mnone, location, jbInfoTxt, jobs_url, company_data, title, jobs_exp, get_date, education in zip(mnone, location, jbInfoTxt, jobs_url, company_data, title, jobs_exp, get_date, education):\n",
    "            #錢 取最低薪資\n",
    "            try:\n",
    "                mnone = mnone.find_all(\"span\")[1].get_text()\n",
    "                get_mone = re.search('\\d+.\\d+', mnone).group()\n",
    "            except:\n",
    "                get_mone = '面議（經常性薪資4萬/月含以上）' #也可以直接給40000\n",
    "            #日期\n",
    "            get_date = get_date.get_text()[5:]\n",
    "\n",
    "            #縣市區域\n",
    "            location = location.find_all(\"span\")[0].get_text()\n",
    "\n",
    "            #簡介\n",
    "            jbInfoTxt = jbInfoTxt.get_text().replace(\"\\xa0\", \"\") #刪除\\xa0\n",
    "\n",
    "            #工作網址\n",
    "            jobs_url = 'https://www.1111.com.tw{0}'.format(jobs_url.find('a').get('href'))\n",
    "\n",
    "            #公司名\n",
    "            company = company_data.find_all('a')[0].get('title').replace('\\r','').split('\\n')[0][6:]\n",
    "\n",
    "            #公司分類 目前暫不使用\n",
    "            category = company_data.find_all('a')[0].get('title').replace('\\r','').split('\\n')[1][6:]\n",
    "\n",
    "            #公司地址\n",
    "            address = company_data.find_all('a')[0].get('title').replace('\\r','').split('\\n')[2][6:]\n",
    "\n",
    "            #工作標題\n",
    "            title = title.find('a').get('title')\n",
    "\n",
    "            # 工作經驗\n",
    "            jobs_exp = jobs_exp.find_all(\"span\")[2].get_text()\n",
    "\n",
    "            # 學歷\n",
    "            education = education.find_all(\"span\")[3].get_text()\n",
    "            # 儲存\n",
    "\n",
    "            # clear_output() # 清除輸出 用於清除進度讀\n",
    "\n",
    "            with open(path_csv + '.csv', mode='a+', newline='', encoding='utf-8') as employee_file: #w\n",
    "                employee_writer = csv.writer(employee_file, delimiter=',', quotechar='\"', quoting=csv.QUOTE_MINIMAL)\n",
    "                employee_writer.writerow([get_date, title, company, address, get_mone, jbInfoTxt, location, jobs_exp, education, jobs_url])\n",
    "    return print('爬取1111完成：請開啟csv檔案')\n"
   ]
  },
  {
   "cell_type": "markdown",
   "metadata": {},
   "source": [
    "# 執行爬蟲\n",
    "\n",
    "使用 find_title_104('金融') find_title_1111('金融')"
   ]
  },
  {
   "cell_type": "code",
   "execution_count": 3,
   "metadata": {
    "scrolled": true
   },
   "outputs": [
    {
     "name": "stderr",
     "output_type": "stream",
     "text": [
      "C:\\Users\\love\\anaconda3\\envs\\mytest\\lib\\site-packages\\ipykernel_launcher.py:8: DeprecationWarning: use options instead of chrome_options\n",
      "  \n",
      "  0%|                                                                                          | 0/150 [00:00<?, ?it/s]"
     ]
    },
    {
     "name": "stdout",
     "output_type": "stream",
     "text": [
      "共有：150 頁\n",
      "目前爬取頁面是：https://www.104.com.tw/jobs/search/?ro=0&kwop=7&keyword=%E9%87%91%E8%9E%8D&order=15&asc=0&page=1&mode=s&jobsource=2018indexpoc&searchTempExclude=2\n"
     ]
    },
    {
     "name": "stderr",
     "output_type": "stream",
     "text": [
      "\r",
      "  1%|▌                                                                                 | 1/150 [00:01<03:13,  1.30s/it]"
     ]
    },
    {
     "name": "stdout",
     "output_type": "stream",
     "text": [
      "目前爬取頁面是：https://www.104.com.tw/jobs/search/?ro=0&kwop=7&keyword=%E9%87%91%E8%9E%8D&order=15&asc=0&page=2&mode=s&jobsource=2018indexpoc&searchTempExclude=2\n"
     ]
    },
    {
     "name": "stderr",
     "output_type": "stream",
     "text": [
      "\r",
      "  1%|█                                                                                 | 2/150 [00:02<02:51,  1.16s/it]"
     ]
    },
    {
     "name": "stdout",
     "output_type": "stream",
     "text": [
      "目前爬取頁面是：https://www.104.com.tw/jobs/search/?ro=0&kwop=7&keyword=%E9%87%91%E8%9E%8D&order=15&asc=0&page=3&mode=s&jobsource=2018indexpoc&searchTempExclude=2\n"
     ]
    },
    {
     "name": "stderr",
     "output_type": "stream",
     "text": [
      "\r",
      "  2%|█▋                                                                                | 3/150 [00:03<02:41,  1.10s/it]"
     ]
    },
    {
     "name": "stdout",
     "output_type": "stream",
     "text": [
      "目前爬取頁面是：https://www.104.com.tw/jobs/search/?ro=0&kwop=7&keyword=%E9%87%91%E8%9E%8D&order=15&asc=0&page=4&mode=s&jobsource=2018indexpoc&searchTempExclude=2\n"
     ]
    },
    {
     "name": "stderr",
     "output_type": "stream",
     "text": [
      "\r",
      "  3%|██▏                                                                               | 4/150 [00:03<02:25,  1.00it/s]"
     ]
    },
    {
     "name": "stdout",
     "output_type": "stream",
     "text": [
      "目前爬取頁面是：https://www.104.com.tw/jobs/search/?ro=0&kwop=7&keyword=%E9%87%91%E8%9E%8D&order=15&asc=0&page=5&mode=s&jobsource=2018indexpoc&searchTempExclude=2\n"
     ]
    },
    {
     "name": "stderr",
     "output_type": "stream",
     "text": [
      "\r",
      "  3%|██▋                                                                               | 5/150 [00:04<02:22,  1.02it/s]"
     ]
    },
    {
     "name": "stdout",
     "output_type": "stream",
     "text": [
      "目前爬取頁面是：https://www.104.com.tw/jobs/search/?ro=0&kwop=7&keyword=%E9%87%91%E8%9E%8D&order=15&asc=0&page=6&mode=s&jobsource=2018indexpoc&searchTempExclude=2\n"
     ]
    },
    {
     "name": "stderr",
     "output_type": "stream",
     "text": [
      "\r",
      "  4%|███▎                                                                              | 6/150 [00:05<02:22,  1.01it/s]"
     ]
    },
    {
     "name": "stdout",
     "output_type": "stream",
     "text": [
      "目前爬取頁面是：https://www.104.com.tw/jobs/search/?ro=0&kwop=7&keyword=%E9%87%91%E8%9E%8D&order=15&asc=0&page=7&mode=s&jobsource=2018indexpoc&searchTempExclude=2\n"
     ]
    },
    {
     "name": "stderr",
     "output_type": "stream",
     "text": [
      "\r",
      "  5%|███▊                                                                              | 7/150 [00:06<02:18,  1.03it/s]"
     ]
    },
    {
     "name": "stdout",
     "output_type": "stream",
     "text": [
      "目前爬取頁面是：https://www.104.com.tw/jobs/search/?ro=0&kwop=7&keyword=%E9%87%91%E8%9E%8D&order=15&asc=0&page=8&mode=s&jobsource=2018indexpoc&searchTempExclude=2\n"
     ]
    },
    {
     "name": "stderr",
     "output_type": "stream",
     "text": [
      "\r",
      "  5%|████▎                                                                             | 8/150 [00:07<02:22,  1.00s/it]"
     ]
    },
    {
     "name": "stdout",
     "output_type": "stream",
     "text": [
      "目前爬取頁面是：https://www.104.com.tw/jobs/search/?ro=0&kwop=7&keyword=%E9%87%91%E8%9E%8D&order=15&asc=0&page=9&mode=s&jobsource=2018indexpoc&searchTempExclude=2\n"
     ]
    },
    {
     "name": "stderr",
     "output_type": "stream",
     "text": [
      "\r",
      "  6%|████▉                                                                             | 9/150 [00:08<02:19,  1.01it/s]"
     ]
    },
    {
     "name": "stdout",
     "output_type": "stream",
     "text": [
      "目前爬取頁面是：https://www.104.com.tw/jobs/search/?ro=0&kwop=7&keyword=%E9%87%91%E8%9E%8D&order=15&asc=0&page=10&mode=s&jobsource=2018indexpoc&searchTempExclude=2\n"
     ]
    },
    {
     "name": "stderr",
     "output_type": "stream",
     "text": [
      "\r",
      "  7%|█████▍                                                                           | 10/150 [00:09<02:15,  1.03it/s]"
     ]
    },
    {
     "name": "stdout",
     "output_type": "stream",
     "text": [
      "目前爬取頁面是：https://www.104.com.tw/jobs/search/?ro=0&kwop=7&keyword=%E9%87%91%E8%9E%8D&order=15&asc=0&page=11&mode=s&jobsource=2018indexpoc&searchTempExclude=2\n"
     ]
    },
    {
     "name": "stderr",
     "output_type": "stream",
     "text": [
      "\r",
      "  7%|█████▉                                                                           | 11/150 [00:10<02:16,  1.01it/s]"
     ]
    },
    {
     "name": "stdout",
     "output_type": "stream",
     "text": [
      "目前爬取頁面是：https://www.104.com.tw/jobs/search/?ro=0&kwop=7&keyword=%E9%87%91%E8%9E%8D&order=15&asc=0&page=12&mode=s&jobsource=2018indexpoc&searchTempExclude=2\n"
     ]
    },
    {
     "name": "stderr",
     "output_type": "stream",
     "text": [
      "\r",
      "  8%|██████▍                                                                          | 12/150 [00:11<02:10,  1.06it/s]"
     ]
    },
    {
     "name": "stdout",
     "output_type": "stream",
     "text": [
      "目前爬取頁面是：https://www.104.com.tw/jobs/search/?ro=0&kwop=7&keyword=%E9%87%91%E8%9E%8D&order=15&asc=0&page=13&mode=s&jobsource=2018indexpoc&searchTempExclude=2\n"
     ]
    },
    {
     "name": "stderr",
     "output_type": "stream",
     "text": [
      "\r",
      "  9%|███████                                                                          | 13/150 [00:12<02:09,  1.06it/s]"
     ]
    },
    {
     "name": "stdout",
     "output_type": "stream",
     "text": [
      "目前爬取頁面是：https://www.104.com.tw/jobs/search/?ro=0&kwop=7&keyword=%E9%87%91%E8%9E%8D&order=15&asc=0&page=14&mode=s&jobsource=2018indexpoc&searchTempExclude=2\n"
     ]
    },
    {
     "name": "stderr",
     "output_type": "stream",
     "text": [
      "\r",
      "  9%|███████▌                                                                         | 14/150 [00:13<02:00,  1.13it/s]"
     ]
    },
    {
     "name": "stdout",
     "output_type": "stream",
     "text": [
      "目前爬取頁面是：https://www.104.com.tw/jobs/search/?ro=0&kwop=7&keyword=%E9%87%91%E8%9E%8D&order=15&asc=0&page=15&mode=s&jobsource=2018indexpoc&searchTempExclude=2\n"
     ]
    },
    {
     "name": "stderr",
     "output_type": "stream",
     "text": [
      "\r",
      " 10%|████████                                                                         | 15/150 [00:14<02:01,  1.11it/s]"
     ]
    },
    {
     "name": "stdout",
     "output_type": "stream",
     "text": [
      "目前爬取頁面是：https://www.104.com.tw/jobs/search/?ro=0&kwop=7&keyword=%E9%87%91%E8%9E%8D&order=15&asc=0&page=16&mode=s&jobsource=2018indexpoc&searchTempExclude=2\n"
     ]
    },
    {
     "name": "stderr",
     "output_type": "stream",
     "text": [
      "\r",
      " 11%|████████▋                                                                        | 16/150 [00:14<01:56,  1.15it/s]"
     ]
    },
    {
     "name": "stdout",
     "output_type": "stream",
     "text": [
      "目前爬取頁面是：https://www.104.com.tw/jobs/search/?ro=0&kwop=7&keyword=%E9%87%91%E8%9E%8D&order=15&asc=0&page=17&mode=s&jobsource=2018indexpoc&searchTempExclude=2\n"
     ]
    },
    {
     "name": "stderr",
     "output_type": "stream",
     "text": [
      " 12%|█████████▋                                                                       | 18/150 [00:16<01:43,  1.27it/s]"
     ]
    },
    {
     "name": "stdout",
     "output_type": "stream",
     "text": [
      "目前爬取頁面是：https://www.104.com.tw/jobs/search/?ro=0&kwop=7&keyword=%E9%87%91%E8%9E%8D&order=15&asc=0&page=18&mode=s&jobsource=2018indexpoc&searchTempExclude=2\n",
      "目前爬取頁面是：https://www.104.com.tw/jobs/search/?ro=0&kwop=7&keyword=%E9%87%91%E8%9E%8D&order=15&asc=0&page=19&mode=s&jobsource=2018indexpoc&searchTempExclude=2\n"
     ]
    },
    {
     "name": "stderr",
     "output_type": "stream",
     "text": [
      "\r",
      " 13%|██████████▎                                                                      | 19/150 [00:17<01:41,  1.29it/s]"
     ]
    },
    {
     "name": "stdout",
     "output_type": "stream",
     "text": [
      "目前爬取頁面是：https://www.104.com.tw/jobs/search/?ro=0&kwop=7&keyword=%E9%87%91%E8%9E%8D&order=15&asc=0&page=20&mode=s&jobsource=2018indexpoc&searchTempExclude=2\n"
     ]
    },
    {
     "name": "stderr",
     "output_type": "stream",
     "text": [
      "\r",
      " 13%|██████████▊                                                                      | 20/150 [00:18<01:44,  1.24it/s]"
     ]
    },
    {
     "name": "stdout",
     "output_type": "stream",
     "text": [
      "目前爬取頁面是：https://www.104.com.tw/jobs/search/?ro=0&kwop=7&keyword=%E9%87%91%E8%9E%8D&order=15&asc=0&page=21&mode=s&jobsource=2018indexpoc&searchTempExclude=2\n"
     ]
    },
    {
     "name": "stderr",
     "output_type": "stream",
     "text": [
      "\r",
      " 14%|███████████▎                                                                     | 21/150 [00:18<01:42,  1.25it/s]"
     ]
    },
    {
     "name": "stdout",
     "output_type": "stream",
     "text": [
      "目前爬取頁面是：https://www.104.com.tw/jobs/search/?ro=0&kwop=7&keyword=%E9%87%91%E8%9E%8D&order=15&asc=0&page=22&mode=s&jobsource=2018indexpoc&searchTempExclude=2\n"
     ]
    },
    {
     "name": "stderr",
     "output_type": "stream",
     "text": [
      "\r",
      " 15%|███████████▉                                                                     | 22/150 [00:19<01:41,  1.26it/s]"
     ]
    },
    {
     "name": "stdout",
     "output_type": "stream",
     "text": [
      "目前爬取頁面是：https://www.104.com.tw/jobs/search/?ro=0&kwop=7&keyword=%E9%87%91%E8%9E%8D&order=15&asc=0&page=23&mode=s&jobsource=2018indexpoc&searchTempExclude=2\n"
     ]
    },
    {
     "name": "stderr",
     "output_type": "stream",
     "text": [
      "\r",
      " 15%|████████████▍                                                                    | 23/150 [00:20<01:45,  1.20it/s]"
     ]
    },
    {
     "name": "stdout",
     "output_type": "stream",
     "text": [
      "目前爬取頁面是：https://www.104.com.tw/jobs/search/?ro=0&kwop=7&keyword=%E9%87%91%E8%9E%8D&order=15&asc=0&page=24&mode=s&jobsource=2018indexpoc&searchTempExclude=2\n"
     ]
    },
    {
     "name": "stderr",
     "output_type": "stream",
     "text": [
      "\r",
      " 16%|████████████▉                                                                    | 24/150 [00:21<01:45,  1.20it/s]"
     ]
    },
    {
     "name": "stdout",
     "output_type": "stream",
     "text": [
      "目前爬取頁面是：https://www.104.com.tw/jobs/search/?ro=0&kwop=7&keyword=%E9%87%91%E8%9E%8D&order=15&asc=0&page=25&mode=s&jobsource=2018indexpoc&searchTempExclude=2\n"
     ]
    },
    {
     "name": "stderr",
     "output_type": "stream",
     "text": [
      "\r",
      " 17%|█████████████▌                                                                   | 25/150 [00:22<01:45,  1.19it/s]"
     ]
    },
    {
     "name": "stdout",
     "output_type": "stream",
     "text": [
      "目前爬取頁面是：https://www.104.com.tw/jobs/search/?ro=0&kwop=7&keyword=%E9%87%91%E8%9E%8D&order=15&asc=0&page=26&mode=s&jobsource=2018indexpoc&searchTempExclude=2\n"
     ]
    },
    {
     "name": "stderr",
     "output_type": "stream",
     "text": [
      " 18%|██████████████▌                                                                  | 27/150 [00:23<01:36,  1.27it/s]"
     ]
    },
    {
     "name": "stdout",
     "output_type": "stream",
     "text": [
      "目前爬取頁面是：https://www.104.com.tw/jobs/search/?ro=0&kwop=7&keyword=%E9%87%91%E8%9E%8D&order=15&asc=0&page=27&mode=s&jobsource=2018indexpoc&searchTempExclude=2\n",
      "目前爬取頁面是：https://www.104.com.tw/jobs/search/?ro=0&kwop=7&keyword=%E9%87%91%E8%9E%8D&order=15&asc=0&page=28&mode=s&jobsource=2018indexpoc&searchTempExclude=2\n"
     ]
    },
    {
     "name": "stderr",
     "output_type": "stream",
     "text": [
      "\r",
      " 19%|███████████████                                                                  | 28/150 [00:24<01:37,  1.24it/s]"
     ]
    },
    {
     "name": "stdout",
     "output_type": "stream",
     "text": [
      "目前爬取頁面是：https://www.104.com.tw/jobs/search/?ro=0&kwop=7&keyword=%E9%87%91%E8%9E%8D&order=15&asc=0&page=29&mode=s&jobsource=2018indexpoc&searchTempExclude=2\n"
     ]
    },
    {
     "name": "stderr",
     "output_type": "stream",
     "text": [
      "\r",
      " 19%|███████████████▋                                                                 | 29/150 [00:25<01:42,  1.18it/s]"
     ]
    },
    {
     "name": "stdout",
     "output_type": "stream",
     "text": [
      "目前爬取頁面是：https://www.104.com.tw/jobs/search/?ro=0&kwop=7&keyword=%E9%87%91%E8%9E%8D&order=15&asc=0&page=30&mode=s&jobsource=2018indexpoc&searchTempExclude=2\n"
     ]
    },
    {
     "name": "stderr",
     "output_type": "stream",
     "text": [
      "\r",
      " 20%|████████████████▏                                                                | 30/150 [00:26<01:45,  1.14it/s]"
     ]
    },
    {
     "name": "stdout",
     "output_type": "stream",
     "text": [
      "目前爬取頁面是：https://www.104.com.tw/jobs/search/?ro=0&kwop=7&keyword=%E9%87%91%E8%9E%8D&order=15&asc=0&page=31&mode=s&jobsource=2018indexpoc&searchTempExclude=2\n"
     ]
    },
    {
     "name": "stderr",
     "output_type": "stream",
     "text": [
      "\r",
      " 21%|████████████████▋                                                                | 31/150 [00:27<01:53,  1.05it/s]"
     ]
    },
    {
     "name": "stdout",
     "output_type": "stream",
     "text": [
      "目前爬取頁面是：https://www.104.com.tw/jobs/search/?ro=0&kwop=7&keyword=%E9%87%91%E8%9E%8D&order=15&asc=0&page=32&mode=s&jobsource=2018indexpoc&searchTempExclude=2\n"
     ]
    },
    {
     "name": "stderr",
     "output_type": "stream",
     "text": [
      "\r",
      " 21%|█████████████████▎                                                               | 32/150 [00:28<01:48,  1.09it/s]"
     ]
    },
    {
     "name": "stdout",
     "output_type": "stream",
     "text": [
      "目前爬取頁面是：https://www.104.com.tw/jobs/search/?ro=0&kwop=7&keyword=%E9%87%91%E8%9E%8D&order=15&asc=0&page=33&mode=s&jobsource=2018indexpoc&searchTempExclude=2\n"
     ]
    },
    {
     "name": "stderr",
     "output_type": "stream",
     "text": [
      "\r",
      " 22%|█████████████████▊                                                               | 33/150 [00:29<01:43,  1.14it/s]"
     ]
    },
    {
     "name": "stdout",
     "output_type": "stream",
     "text": [
      "目前爬取頁面是：https://www.104.com.tw/jobs/search/?ro=0&kwop=7&keyword=%E9%87%91%E8%9E%8D&order=15&asc=0&page=34&mode=s&jobsource=2018indexpoc&searchTempExclude=2\n"
     ]
    },
    {
     "name": "stderr",
     "output_type": "stream",
     "text": [
      "\r",
      " 23%|██████████████████▎                                                              | 34/150 [00:30<01:42,  1.13it/s]"
     ]
    },
    {
     "name": "stdout",
     "output_type": "stream",
     "text": [
      "目前爬取頁面是：https://www.104.com.tw/jobs/search/?ro=0&kwop=7&keyword=%E9%87%91%E8%9E%8D&order=15&asc=0&page=35&mode=s&jobsource=2018indexpoc&searchTempExclude=2\n"
     ]
    },
    {
     "name": "stderr",
     "output_type": "stream",
     "text": [
      "\r",
      " 23%|██████████████████▉                                                              | 35/150 [00:31<01:43,  1.11it/s]"
     ]
    },
    {
     "name": "stdout",
     "output_type": "stream",
     "text": [
      "目前爬取頁面是：https://www.104.com.tw/jobs/search/?ro=0&kwop=7&keyword=%E9%87%91%E8%9E%8D&order=15&asc=0&page=36&mode=s&jobsource=2018indexpoc&searchTempExclude=2\n"
     ]
    },
    {
     "name": "stderr",
     "output_type": "stream",
     "text": [
      "\r",
      " 24%|███████████████████▍                                                             | 36/150 [00:32<01:40,  1.13it/s]"
     ]
    },
    {
     "name": "stdout",
     "output_type": "stream",
     "text": [
      "目前爬取頁面是：https://www.104.com.tw/jobs/search/?ro=0&kwop=7&keyword=%E9%87%91%E8%9E%8D&order=15&asc=0&page=37&mode=s&jobsource=2018indexpoc&searchTempExclude=2\n"
     ]
    },
    {
     "name": "stderr",
     "output_type": "stream",
     "text": [
      "\r",
      " 25%|███████████████████▉                                                             | 37/150 [00:33<01:44,  1.08it/s]"
     ]
    },
    {
     "name": "stdout",
     "output_type": "stream",
     "text": [
      "目前爬取頁面是：https://www.104.com.tw/jobs/search/?ro=0&kwop=7&keyword=%E9%87%91%E8%9E%8D&order=15&asc=0&page=38&mode=s&jobsource=2018indexpoc&searchTempExclude=2\n"
     ]
    },
    {
     "name": "stderr",
     "output_type": "stream",
     "text": [
      "\r",
      " 25%|████████████████████▌                                                            | 38/150 [00:33<01:38,  1.13it/s]"
     ]
    },
    {
     "name": "stdout",
     "output_type": "stream",
     "text": [
      "目前爬取頁面是：https://www.104.com.tw/jobs/search/?ro=0&kwop=7&keyword=%E9%87%91%E8%9E%8D&order=15&asc=0&page=39&mode=s&jobsource=2018indexpoc&searchTempExclude=2\n"
     ]
    },
    {
     "name": "stderr",
     "output_type": "stream",
     "text": [
      "\r",
      " 26%|█████████████████████                                                            | 39/150 [00:34<01:38,  1.13it/s]"
     ]
    },
    {
     "name": "stdout",
     "output_type": "stream",
     "text": [
      "目前爬取頁面是：https://www.104.com.tw/jobs/search/?ro=0&kwop=7&keyword=%E9%87%91%E8%9E%8D&order=15&asc=0&page=40&mode=s&jobsource=2018indexpoc&searchTempExclude=2\n"
     ]
    },
    {
     "name": "stderr",
     "output_type": "stream",
     "text": [
      "\r",
      " 27%|█████████████████████▌                                                           | 40/150 [00:35<01:39,  1.10it/s]"
     ]
    },
    {
     "name": "stdout",
     "output_type": "stream",
     "text": [
      "目前爬取頁面是：https://www.104.com.tw/jobs/search/?ro=0&kwop=7&keyword=%E9%87%91%E8%9E%8D&order=15&asc=0&page=41&mode=s&jobsource=2018indexpoc&searchTempExclude=2\n"
     ]
    },
    {
     "name": "stderr",
     "output_type": "stream",
     "text": [
      "\r",
      " 27%|██████████████████████▏                                                          | 41/150 [00:36<01:38,  1.11it/s]"
     ]
    },
    {
     "name": "stdout",
     "output_type": "stream",
     "text": [
      "目前爬取頁面是：https://www.104.com.tw/jobs/search/?ro=0&kwop=7&keyword=%E9%87%91%E8%9E%8D&order=15&asc=0&page=42&mode=s&jobsource=2018indexpoc&searchTempExclude=2\n"
     ]
    },
    {
     "name": "stderr",
     "output_type": "stream",
     "text": [
      "\r",
      " 28%|██████████████████████▋                                                          | 42/150 [00:37<01:33,  1.16it/s]"
     ]
    },
    {
     "name": "stdout",
     "output_type": "stream",
     "text": [
      "目前爬取頁面是：https://www.104.com.tw/jobs/search/?ro=0&kwop=7&keyword=%E9%87%91%E8%9E%8D&order=15&asc=0&page=43&mode=s&jobsource=2018indexpoc&searchTempExclude=2\n"
     ]
    },
    {
     "name": "stderr",
     "output_type": "stream",
     "text": [
      "\r",
      " 29%|███████████████████████▏                                                         | 43/150 [00:38<01:31,  1.17it/s]"
     ]
    },
    {
     "name": "stdout",
     "output_type": "stream",
     "text": [
      "目前爬取頁面是：https://www.104.com.tw/jobs/search/?ro=0&kwop=7&keyword=%E9%87%91%E8%9E%8D&order=15&asc=0&page=44&mode=s&jobsource=2018indexpoc&searchTempExclude=2\n"
     ]
    },
    {
     "name": "stderr",
     "output_type": "stream",
     "text": [
      "\r",
      " 29%|███████████████████████▊                                                         | 44/150 [00:39<01:35,  1.11it/s]"
     ]
    },
    {
     "name": "stdout",
     "output_type": "stream",
     "text": [
      "目前爬取頁面是：https://www.104.com.tw/jobs/search/?ro=0&kwop=7&keyword=%E9%87%91%E8%9E%8D&order=15&asc=0&page=45&mode=s&jobsource=2018indexpoc&searchTempExclude=2\n"
     ]
    },
    {
     "name": "stderr",
     "output_type": "stream",
     "text": [
      "\r",
      " 30%|████████████████████████▎                                                        | 45/150 [00:40<01:33,  1.12it/s]"
     ]
    },
    {
     "name": "stdout",
     "output_type": "stream",
     "text": [
      "目前爬取頁面是：https://www.104.com.tw/jobs/search/?ro=0&kwop=7&keyword=%E9%87%91%E8%9E%8D&order=15&asc=0&page=46&mode=s&jobsource=2018indexpoc&searchTempExclude=2\n"
     ]
    },
    {
     "name": "stderr",
     "output_type": "stream",
     "text": [
      "\r",
      " 31%|████████████████████████▊                                                        | 46/150 [00:40<01:31,  1.14it/s]"
     ]
    },
    {
     "name": "stdout",
     "output_type": "stream",
     "text": [
      "目前爬取頁面是：https://www.104.com.tw/jobs/search/?ro=0&kwop=7&keyword=%E9%87%91%E8%9E%8D&order=15&asc=0&page=47&mode=s&jobsource=2018indexpoc&searchTempExclude=2\n"
     ]
    },
    {
     "name": "stderr",
     "output_type": "stream",
     "text": [
      "\r",
      " 31%|█████████████████████████▍                                                       | 47/150 [00:41<01:30,  1.14it/s]"
     ]
    },
    {
     "name": "stdout",
     "output_type": "stream",
     "text": [
      "目前爬取頁面是：https://www.104.com.tw/jobs/search/?ro=0&kwop=7&keyword=%E9%87%91%E8%9E%8D&order=15&asc=0&page=48&mode=s&jobsource=2018indexpoc&searchTempExclude=2\n"
     ]
    },
    {
     "name": "stderr",
     "output_type": "stream",
     "text": [
      "\r",
      " 32%|█████████████████████████▉                                                       | 48/150 [00:42<01:31,  1.12it/s]"
     ]
    },
    {
     "name": "stdout",
     "output_type": "stream",
     "text": [
      "目前爬取頁面是：https://www.104.com.tw/jobs/search/?ro=0&kwop=7&keyword=%E9%87%91%E8%9E%8D&order=15&asc=0&page=49&mode=s&jobsource=2018indexpoc&searchTempExclude=2\n"
     ]
    },
    {
     "name": "stderr",
     "output_type": "stream",
     "text": [
      "\r",
      " 33%|██████████████████████████▍                                                      | 49/150 [00:43<01:34,  1.07it/s]"
     ]
    },
    {
     "name": "stdout",
     "output_type": "stream",
     "text": [
      "目前爬取頁面是：https://www.104.com.tw/jobs/search/?ro=0&kwop=7&keyword=%E9%87%91%E8%9E%8D&order=15&asc=0&page=50&mode=s&jobsource=2018indexpoc&searchTempExclude=2\n"
     ]
    },
    {
     "name": "stderr",
     "output_type": "stream",
     "text": [
      "\r",
      " 33%|███████████████████████████                                                      | 50/150 [00:44<01:31,  1.10it/s]"
     ]
    },
    {
     "name": "stdout",
     "output_type": "stream",
     "text": [
      "目前爬取頁面是：https://www.104.com.tw/jobs/search/?ro=0&kwop=7&keyword=%E9%87%91%E8%9E%8D&order=15&asc=0&page=51&mode=s&jobsource=2018indexpoc&searchTempExclude=2\n"
     ]
    },
    {
     "name": "stderr",
     "output_type": "stream",
     "text": [
      "\r",
      " 34%|███████████████████████████▌                                                     | 51/150 [00:45<01:30,  1.10it/s]"
     ]
    },
    {
     "name": "stdout",
     "output_type": "stream",
     "text": [
      "目前爬取頁面是：https://www.104.com.tw/jobs/search/?ro=0&kwop=7&keyword=%E9%87%91%E8%9E%8D&order=15&asc=0&page=52&mode=s&jobsource=2018indexpoc&searchTempExclude=2\n"
     ]
    },
    {
     "name": "stderr",
     "output_type": "stream",
     "text": [
      "\r",
      " 35%|████████████████████████████                                                     | 52/150 [00:46<01:31,  1.07it/s]"
     ]
    },
    {
     "name": "stdout",
     "output_type": "stream",
     "text": [
      "目前爬取頁面是：https://www.104.com.tw/jobs/search/?ro=0&kwop=7&keyword=%E9%87%91%E8%9E%8D&order=15&asc=0&page=53&mode=s&jobsource=2018indexpoc&searchTempExclude=2\n"
     ]
    },
    {
     "name": "stderr",
     "output_type": "stream",
     "text": [
      "\r",
      " 35%|████████████████████████████▌                                                    | 53/150 [00:47<01:36,  1.01it/s]"
     ]
    },
    {
     "name": "stdout",
     "output_type": "stream",
     "text": [
      "目前爬取頁面是：https://www.104.com.tw/jobs/search/?ro=0&kwop=7&keyword=%E9%87%91%E8%9E%8D&order=15&asc=0&page=54&mode=s&jobsource=2018indexpoc&searchTempExclude=2\n"
     ]
    },
    {
     "name": "stderr",
     "output_type": "stream",
     "text": [
      "\r",
      " 36%|█████████████████████████████▏                                                   | 54/150 [00:48<01:30,  1.06it/s]"
     ]
    },
    {
     "name": "stdout",
     "output_type": "stream",
     "text": [
      "目前爬取頁面是：https://www.104.com.tw/jobs/search/?ro=0&kwop=7&keyword=%E9%87%91%E8%9E%8D&order=15&asc=0&page=55&mode=s&jobsource=2018indexpoc&searchTempExclude=2\n"
     ]
    },
    {
     "name": "stderr",
     "output_type": "stream",
     "text": [
      "\r",
      " 37%|█████████████████████████████▋                                                   | 55/150 [00:49<01:27,  1.09it/s]"
     ]
    },
    {
     "name": "stdout",
     "output_type": "stream",
     "text": [
      "目前爬取頁面是：https://www.104.com.tw/jobs/search/?ro=0&kwop=7&keyword=%E9%87%91%E8%9E%8D&order=15&asc=0&page=56&mode=s&jobsource=2018indexpoc&searchTempExclude=2\n"
     ]
    },
    {
     "name": "stderr",
     "output_type": "stream",
     "text": [
      "\r",
      " 37%|██████████████████████████████▏                                                  | 56/150 [00:50<01:26,  1.09it/s]"
     ]
    },
    {
     "name": "stdout",
     "output_type": "stream",
     "text": [
      "目前爬取頁面是：https://www.104.com.tw/jobs/search/?ro=0&kwop=7&keyword=%E9%87%91%E8%9E%8D&order=15&asc=0&page=57&mode=s&jobsource=2018indexpoc&searchTempExclude=2\n"
     ]
    },
    {
     "name": "stderr",
     "output_type": "stream",
     "text": [
      "\r",
      " 38%|██████████████████████████████▊                                                  | 57/150 [00:51<01:22,  1.13it/s]"
     ]
    },
    {
     "name": "stdout",
     "output_type": "stream",
     "text": [
      "目前爬取頁面是：https://www.104.com.tw/jobs/search/?ro=0&kwop=7&keyword=%E9%87%91%E8%9E%8D&order=15&asc=0&page=58&mode=s&jobsource=2018indexpoc&searchTempExclude=2\n"
     ]
    },
    {
     "name": "stderr",
     "output_type": "stream",
     "text": [
      "\r",
      " 39%|███████████████████████████████▎                                                 | 58/150 [00:52<01:25,  1.08it/s]"
     ]
    },
    {
     "name": "stdout",
     "output_type": "stream",
     "text": [
      "目前爬取頁面是：https://www.104.com.tw/jobs/search/?ro=0&kwop=7&keyword=%E9%87%91%E8%9E%8D&order=15&asc=0&page=59&mode=s&jobsource=2018indexpoc&searchTempExclude=2\n"
     ]
    },
    {
     "name": "stderr",
     "output_type": "stream",
     "text": [
      "\r",
      " 39%|███████████████████████████████▊                                                 | 59/150 [00:53<01:26,  1.05it/s]"
     ]
    },
    {
     "name": "stdout",
     "output_type": "stream",
     "text": [
      "目前爬取頁面是：https://www.104.com.tw/jobs/search/?ro=0&kwop=7&keyword=%E9%87%91%E8%9E%8D&order=15&asc=0&page=60&mode=s&jobsource=2018indexpoc&searchTempExclude=2\n"
     ]
    },
    {
     "name": "stderr",
     "output_type": "stream",
     "text": [
      "\r",
      " 40%|████████████████████████████████▍                                                | 60/150 [00:53<01:22,  1.09it/s]"
     ]
    },
    {
     "name": "stdout",
     "output_type": "stream",
     "text": [
      "目前爬取頁面是：https://www.104.com.tw/jobs/search/?ro=0&kwop=7&keyword=%E9%87%91%E8%9E%8D&order=15&asc=0&page=61&mode=s&jobsource=2018indexpoc&searchTempExclude=2\n"
     ]
    },
    {
     "name": "stderr",
     "output_type": "stream",
     "text": [
      "\r",
      " 41%|████████████████████████████████▉                                                | 61/150 [00:54<01:20,  1.10it/s]"
     ]
    },
    {
     "name": "stdout",
     "output_type": "stream",
     "text": [
      "目前爬取頁面是：https://www.104.com.tw/jobs/search/?ro=0&kwop=7&keyword=%E9%87%91%E8%9E%8D&order=15&asc=0&page=62&mode=s&jobsource=2018indexpoc&searchTempExclude=2\n"
     ]
    },
    {
     "name": "stderr",
     "output_type": "stream",
     "text": [
      "\r",
      " 41%|█████████████████████████████████▍                                               | 62/150 [00:55<01:23,  1.06it/s]"
     ]
    },
    {
     "name": "stdout",
     "output_type": "stream",
     "text": [
      "目前爬取頁面是：https://www.104.com.tw/jobs/search/?ro=0&kwop=7&keyword=%E9%87%91%E8%9E%8D&order=15&asc=0&page=63&mode=s&jobsource=2018indexpoc&searchTempExclude=2\n"
     ]
    },
    {
     "name": "stderr",
     "output_type": "stream",
     "text": [
      "\r",
      " 42%|██████████████████████████████████                                               | 63/150 [00:56<01:18,  1.10it/s]"
     ]
    },
    {
     "name": "stdout",
     "output_type": "stream",
     "text": [
      "目前爬取頁面是：https://www.104.com.tw/jobs/search/?ro=0&kwop=7&keyword=%E9%87%91%E8%9E%8D&order=15&asc=0&page=64&mode=s&jobsource=2018indexpoc&searchTempExclude=2\n"
     ]
    },
    {
     "name": "stderr",
     "output_type": "stream",
     "text": [
      "\r",
      " 43%|██████████████████████████████████▌                                              | 64/150 [00:57<01:17,  1.11it/s]"
     ]
    },
    {
     "name": "stdout",
     "output_type": "stream",
     "text": [
      "目前爬取頁面是：https://www.104.com.tw/jobs/search/?ro=0&kwop=7&keyword=%E9%87%91%E8%9E%8D&order=15&asc=0&page=65&mode=s&jobsource=2018indexpoc&searchTempExclude=2\n"
     ]
    },
    {
     "name": "stderr",
     "output_type": "stream",
     "text": [
      "\r",
      " 43%|███████████████████████████████████                                              | 65/150 [00:58<01:13,  1.16it/s]"
     ]
    },
    {
     "name": "stdout",
     "output_type": "stream",
     "text": [
      "目前爬取頁面是：https://www.104.com.tw/jobs/search/?ro=0&kwop=7&keyword=%E9%87%91%E8%9E%8D&order=15&asc=0&page=66&mode=s&jobsource=2018indexpoc&searchTempExclude=2\n"
     ]
    },
    {
     "name": "stderr",
     "output_type": "stream",
     "text": [
      "\r",
      " 44%|███████████████████████████████████▋                                             | 66/150 [00:59<01:11,  1.18it/s]"
     ]
    },
    {
     "name": "stdout",
     "output_type": "stream",
     "text": [
      "目前爬取頁面是：https://www.104.com.tw/jobs/search/?ro=0&kwop=7&keyword=%E9%87%91%E8%9E%8D&order=15&asc=0&page=67&mode=s&jobsource=2018indexpoc&searchTempExclude=2\n"
     ]
    },
    {
     "name": "stderr",
     "output_type": "stream",
     "text": [
      "\r",
      " 45%|████████████████████████████████████▏                                            | 67/150 [01:00<01:12,  1.15it/s]"
     ]
    },
    {
     "name": "stdout",
     "output_type": "stream",
     "text": [
      "目前爬取頁面是：https://www.104.com.tw/jobs/search/?ro=0&kwop=7&keyword=%E9%87%91%E8%9E%8D&order=15&asc=0&page=68&mode=s&jobsource=2018indexpoc&searchTempExclude=2\n"
     ]
    },
    {
     "name": "stderr",
     "output_type": "stream",
     "text": [
      "\r",
      " 45%|████████████████████████████████████▋                                            | 68/150 [01:00<01:08,  1.20it/s]"
     ]
    },
    {
     "name": "stdout",
     "output_type": "stream",
     "text": [
      "目前爬取頁面是：https://www.104.com.tw/jobs/search/?ro=0&kwop=7&keyword=%E9%87%91%E8%9E%8D&order=15&asc=0&page=69&mode=s&jobsource=2018indexpoc&searchTempExclude=2\n"
     ]
    },
    {
     "name": "stderr",
     "output_type": "stream",
     "text": [
      "\r",
      " 46%|█████████████████████████████████████▎                                           | 69/150 [01:01<01:09,  1.16it/s]"
     ]
    },
    {
     "name": "stdout",
     "output_type": "stream",
     "text": [
      "目前爬取頁面是：https://www.104.com.tw/jobs/search/?ro=0&kwop=7&keyword=%E9%87%91%E8%9E%8D&order=15&asc=0&page=70&mode=s&jobsource=2018indexpoc&searchTempExclude=2\n"
     ]
    },
    {
     "name": "stderr",
     "output_type": "stream",
     "text": [
      "\r",
      " 47%|█████████████████████████████████████▊                                           | 70/150 [01:02<01:12,  1.11it/s]"
     ]
    },
    {
     "name": "stdout",
     "output_type": "stream",
     "text": [
      "目前爬取頁面是：https://www.104.com.tw/jobs/search/?ro=0&kwop=7&keyword=%E9%87%91%E8%9E%8D&order=15&asc=0&page=71&mode=s&jobsource=2018indexpoc&searchTempExclude=2\n"
     ]
    },
    {
     "name": "stderr",
     "output_type": "stream",
     "text": [
      "\r",
      " 47%|██████████████████████████████████████▎                                          | 71/150 [01:03<01:11,  1.11it/s]"
     ]
    },
    {
     "name": "stdout",
     "output_type": "stream",
     "text": [
      "目前爬取頁面是：https://www.104.com.tw/jobs/search/?ro=0&kwop=7&keyword=%E9%87%91%E8%9E%8D&order=15&asc=0&page=72&mode=s&jobsource=2018indexpoc&searchTempExclude=2\n"
     ]
    },
    {
     "name": "stderr",
     "output_type": "stream",
     "text": [
      "\r",
      " 48%|██████████████████████████████████████▉                                          | 72/150 [01:04<01:09,  1.13it/s]"
     ]
    },
    {
     "name": "stdout",
     "output_type": "stream",
     "text": [
      "目前爬取頁面是：https://www.104.com.tw/jobs/search/?ro=0&kwop=7&keyword=%E9%87%91%E8%9E%8D&order=15&asc=0&page=73&mode=s&jobsource=2018indexpoc&searchTempExclude=2\n"
     ]
    },
    {
     "name": "stderr",
     "output_type": "stream",
     "text": [
      "\r",
      " 49%|███████████████████████████████████████▍                                         | 73/150 [01:05<01:09,  1.11it/s]"
     ]
    },
    {
     "name": "stdout",
     "output_type": "stream",
     "text": [
      "目前爬取頁面是：https://www.104.com.tw/jobs/search/?ro=0&kwop=7&keyword=%E9%87%91%E8%9E%8D&order=15&asc=0&page=74&mode=s&jobsource=2018indexpoc&searchTempExclude=2\n"
     ]
    },
    {
     "name": "stderr",
     "output_type": "stream",
     "text": [
      "\r",
      " 49%|███████████████████████████████████████▉                                         | 74/150 [01:06<01:05,  1.16it/s]"
     ]
    },
    {
     "name": "stdout",
     "output_type": "stream",
     "text": [
      "目前爬取頁面是：https://www.104.com.tw/jobs/search/?ro=0&kwop=7&keyword=%E9%87%91%E8%9E%8D&order=15&asc=0&page=75&mode=s&jobsource=2018indexpoc&searchTempExclude=2\n"
     ]
    },
    {
     "name": "stderr",
     "output_type": "stream",
     "text": [
      "\r",
      " 50%|████████████████████████████████████████▌                                        | 75/150 [01:07<01:07,  1.11it/s]"
     ]
    },
    {
     "name": "stdout",
     "output_type": "stream",
     "text": [
      "目前爬取頁面是：https://www.104.com.tw/jobs/search/?ro=0&kwop=7&keyword=%E9%87%91%E8%9E%8D&order=15&asc=0&page=76&mode=s&jobsource=2018indexpoc&searchTempExclude=2\n"
     ]
    },
    {
     "name": "stderr",
     "output_type": "stream",
     "text": [
      "\r",
      " 51%|█████████████████████████████████████████                                        | 76/150 [01:08<01:08,  1.08it/s]"
     ]
    },
    {
     "name": "stdout",
     "output_type": "stream",
     "text": [
      "目前爬取頁面是：https://www.104.com.tw/jobs/search/?ro=0&kwop=7&keyword=%E9%87%91%E8%9E%8D&order=15&asc=0&page=77&mode=s&jobsource=2018indexpoc&searchTempExclude=2\n"
     ]
    },
    {
     "name": "stderr",
     "output_type": "stream",
     "text": [
      "\r",
      " 51%|█████████████████████████████████████████▌                                       | 77/150 [01:08<01:04,  1.14it/s]"
     ]
    },
    {
     "name": "stdout",
     "output_type": "stream",
     "text": [
      "目前爬取頁面是：https://www.104.com.tw/jobs/search/?ro=0&kwop=7&keyword=%E9%87%91%E8%9E%8D&order=15&asc=0&page=78&mode=s&jobsource=2018indexpoc&searchTempExclude=2\n"
     ]
    },
    {
     "name": "stderr",
     "output_type": "stream",
     "text": [
      "\r",
      " 52%|██████████████████████████████████████████                                       | 78/150 [01:09<01:04,  1.12it/s]"
     ]
    },
    {
     "name": "stdout",
     "output_type": "stream",
     "text": [
      "目前爬取頁面是：https://www.104.com.tw/jobs/search/?ro=0&kwop=7&keyword=%E9%87%91%E8%9E%8D&order=15&asc=0&page=79&mode=s&jobsource=2018indexpoc&searchTempExclude=2\n"
     ]
    },
    {
     "name": "stderr",
     "output_type": "stream",
     "text": [
      "\r",
      " 53%|██████████████████████████████████████████▋                                      | 79/150 [01:10<01:03,  1.12it/s]"
     ]
    },
    {
     "name": "stdout",
     "output_type": "stream",
     "text": [
      "目前爬取頁面是：https://www.104.com.tw/jobs/search/?ro=0&kwop=7&keyword=%E9%87%91%E8%9E%8D&order=15&asc=0&page=80&mode=s&jobsource=2018indexpoc&searchTempExclude=2\n"
     ]
    },
    {
     "name": "stderr",
     "output_type": "stream",
     "text": [
      "\r",
      " 53%|███████████████████████████████████████████▏                                     | 80/150 [01:11<00:59,  1.18it/s]"
     ]
    },
    {
     "name": "stdout",
     "output_type": "stream",
     "text": [
      "目前爬取頁面是：https://www.104.com.tw/jobs/search/?ro=0&kwop=7&keyword=%E9%87%91%E8%9E%8D&order=15&asc=0&page=81&mode=s&jobsource=2018indexpoc&searchTempExclude=2\n"
     ]
    },
    {
     "name": "stderr",
     "output_type": "stream",
     "text": [
      "\r",
      " 54%|███████████████████████████████████████████▋                                     | 81/150 [01:12<00:59,  1.17it/s]"
     ]
    },
    {
     "name": "stdout",
     "output_type": "stream",
     "text": [
      "目前爬取頁面是：https://www.104.com.tw/jobs/search/?ro=0&kwop=7&keyword=%E9%87%91%E8%9E%8D&order=15&asc=0&page=82&mode=s&jobsource=2018indexpoc&searchTempExclude=2\n"
     ]
    },
    {
     "name": "stderr",
     "output_type": "stream",
     "text": [
      "\r",
      " 55%|████████████████████████████████████████████▎                                    | 82/150 [01:13<01:01,  1.11it/s]"
     ]
    },
    {
     "name": "stdout",
     "output_type": "stream",
     "text": [
      "目前爬取頁面是：https://www.104.com.tw/jobs/search/?ro=0&kwop=7&keyword=%E9%87%91%E8%9E%8D&order=15&asc=0&page=83&mode=s&jobsource=2018indexpoc&searchTempExclude=2\n"
     ]
    },
    {
     "name": "stderr",
     "output_type": "stream",
     "text": [
      "\r",
      " 55%|████████████████████████████████████████████▊                                    | 83/150 [01:14<00:57,  1.16it/s]"
     ]
    },
    {
     "name": "stdout",
     "output_type": "stream",
     "text": [
      "目前爬取頁面是：https://www.104.com.tw/jobs/search/?ro=0&kwop=7&keyword=%E9%87%91%E8%9E%8D&order=15&asc=0&page=84&mode=s&jobsource=2018indexpoc&searchTempExclude=2\n"
     ]
    },
    {
     "name": "stderr",
     "output_type": "stream",
     "text": [
      "\r",
      " 56%|█████████████████████████████████████████████▎                                   | 84/150 [01:14<00:55,  1.19it/s]"
     ]
    },
    {
     "name": "stdout",
     "output_type": "stream",
     "text": [
      "目前爬取頁面是：https://www.104.com.tw/jobs/search/?ro=0&kwop=7&keyword=%E9%87%91%E8%9E%8D&order=15&asc=0&page=85&mode=s&jobsource=2018indexpoc&searchTempExclude=2\n"
     ]
    },
    {
     "name": "stderr",
     "output_type": "stream",
     "text": [
      " 57%|██████████████████████████████████████████████▍                                  | 86/150 [01:16<00:50,  1.27it/s]"
     ]
    },
    {
     "name": "stdout",
     "output_type": "stream",
     "text": [
      "目前爬取頁面是：https://www.104.com.tw/jobs/search/?ro=0&kwop=7&keyword=%E9%87%91%E8%9E%8D&order=15&asc=0&page=86&mode=s&jobsource=2018indexpoc&searchTempExclude=2\n",
      "目前爬取頁面是：https://www.104.com.tw/jobs/search/?ro=0&kwop=7&keyword=%E9%87%91%E8%9E%8D&order=15&asc=0&page=87&mode=s&jobsource=2018indexpoc&searchTempExclude=2\n"
     ]
    },
    {
     "name": "stderr",
     "output_type": "stream",
     "text": [
      "\r",
      " 58%|██████████████████████████████████████████████▉                                  | 87/150 [01:17<00:50,  1.24it/s]"
     ]
    },
    {
     "name": "stdout",
     "output_type": "stream",
     "text": [
      "目前爬取頁面是：https://www.104.com.tw/jobs/search/?ro=0&kwop=7&keyword=%E9%87%91%E8%9E%8D&order=15&asc=0&page=88&mode=s&jobsource=2018indexpoc&searchTempExclude=2\n"
     ]
    },
    {
     "name": "stderr",
     "output_type": "stream",
     "text": [
      "\r",
      " 59%|███████████████████████████████████████████████▌                                 | 88/150 [01:18<00:52,  1.18it/s]"
     ]
    },
    {
     "name": "stdout",
     "output_type": "stream",
     "text": [
      "目前爬取頁面是：https://www.104.com.tw/jobs/search/?ro=0&kwop=7&keyword=%E9%87%91%E8%9E%8D&order=15&asc=0&page=89&mode=s&jobsource=2018indexpoc&searchTempExclude=2\n"
     ]
    },
    {
     "name": "stderr",
     "output_type": "stream",
     "text": [
      "\r",
      " 59%|████████████████████████████████████████████████                                 | 89/150 [01:18<00:50,  1.21it/s]"
     ]
    },
    {
     "name": "stdout",
     "output_type": "stream",
     "text": [
      "目前爬取頁面是：https://www.104.com.tw/jobs/search/?ro=0&kwop=7&keyword=%E9%87%91%E8%9E%8D&order=15&asc=0&page=90&mode=s&jobsource=2018indexpoc&searchTempExclude=2\n"
     ]
    },
    {
     "name": "stderr",
     "output_type": "stream",
     "text": [
      "\r",
      " 60%|████████████████████████████████████████████████▌                                | 90/150 [01:19<00:49,  1.21it/s]"
     ]
    },
    {
     "name": "stdout",
     "output_type": "stream",
     "text": [
      "目前爬取頁面是：https://www.104.com.tw/jobs/search/?ro=0&kwop=7&keyword=%E9%87%91%E8%9E%8D&order=15&asc=0&page=91&mode=s&jobsource=2018indexpoc&searchTempExclude=2\n"
     ]
    },
    {
     "name": "stderr",
     "output_type": "stream",
     "text": [
      "\r",
      " 61%|█████████████████████████████████████████████████▏                               | 91/150 [01:20<00:48,  1.21it/s]"
     ]
    },
    {
     "name": "stdout",
     "output_type": "stream",
     "text": [
      "目前爬取頁面是：https://www.104.com.tw/jobs/search/?ro=0&kwop=7&keyword=%E9%87%91%E8%9E%8D&order=15&asc=0&page=92&mode=s&jobsource=2018indexpoc&searchTempExclude=2\n"
     ]
    },
    {
     "name": "stderr",
     "output_type": "stream",
     "text": [
      "\r",
      " 61%|█████████████████████████████████████████████████▋                               | 92/150 [01:21<00:49,  1.17it/s]"
     ]
    },
    {
     "name": "stdout",
     "output_type": "stream",
     "text": [
      "目前爬取頁面是：https://www.104.com.tw/jobs/search/?ro=0&kwop=7&keyword=%E9%87%91%E8%9E%8D&order=15&asc=0&page=93&mode=s&jobsource=2018indexpoc&searchTempExclude=2\n"
     ]
    },
    {
     "name": "stderr",
     "output_type": "stream",
     "text": [
      "\r",
      " 62%|██████████████████████████████████████████████████▏                              | 93/150 [01:22<00:48,  1.17it/s]"
     ]
    },
    {
     "name": "stdout",
     "output_type": "stream",
     "text": [
      "目前爬取頁面是：https://www.104.com.tw/jobs/search/?ro=0&kwop=7&keyword=%E9%87%91%E8%9E%8D&order=15&asc=0&page=94&mode=s&jobsource=2018indexpoc&searchTempExclude=2\n"
     ]
    },
    {
     "name": "stderr",
     "output_type": "stream",
     "text": [
      "\r",
      " 63%|██████████████████████████████████████████████████▊                              | 94/150 [01:23<00:48,  1.16it/s]"
     ]
    },
    {
     "name": "stdout",
     "output_type": "stream",
     "text": [
      "目前爬取頁面是：https://www.104.com.tw/jobs/search/?ro=0&kwop=7&keyword=%E9%87%91%E8%9E%8D&order=15&asc=0&page=95&mode=s&jobsource=2018indexpoc&searchTempExclude=2\n"
     ]
    },
    {
     "name": "stderr",
     "output_type": "stream",
     "text": [
      "\r",
      " 63%|███████████████████████████████████████████████████▎                             | 95/150 [01:24<00:47,  1.15it/s]"
     ]
    },
    {
     "name": "stdout",
     "output_type": "stream",
     "text": [
      "目前爬取頁面是：https://www.104.com.tw/jobs/search/?ro=0&kwop=7&keyword=%E9%87%91%E8%9E%8D&order=15&asc=0&page=96&mode=s&jobsource=2018indexpoc&searchTempExclude=2\n"
     ]
    },
    {
     "name": "stderr",
     "output_type": "stream",
     "text": [
      "\r",
      " 64%|███████████████████████████████████████████████████▊                             | 96/150 [01:25<00:47,  1.13it/s]"
     ]
    },
    {
     "name": "stdout",
     "output_type": "stream",
     "text": [
      "目前爬取頁面是：https://www.104.com.tw/jobs/search/?ro=0&kwop=7&keyword=%E9%87%91%E8%9E%8D&order=15&asc=0&page=97&mode=s&jobsource=2018indexpoc&searchTempExclude=2\n"
     ]
    },
    {
     "name": "stderr",
     "output_type": "stream",
     "text": [
      "\r",
      " 65%|████████████████████████████████████████████████████▍                            | 97/150 [01:25<00:46,  1.14it/s]"
     ]
    },
    {
     "name": "stdout",
     "output_type": "stream",
     "text": [
      "目前爬取頁面是：https://www.104.com.tw/jobs/search/?ro=0&kwop=7&keyword=%E9%87%91%E8%9E%8D&order=15&asc=0&page=98&mode=s&jobsource=2018indexpoc&searchTempExclude=2\n"
     ]
    },
    {
     "name": "stderr",
     "output_type": "stream",
     "text": [
      "\r",
      " 65%|████████████████████████████████████████████████████▉                            | 98/150 [01:26<00:44,  1.18it/s]"
     ]
    },
    {
     "name": "stdout",
     "output_type": "stream",
     "text": [
      "目前爬取頁面是：https://www.104.com.tw/jobs/search/?ro=0&kwop=7&keyword=%E9%87%91%E8%9E%8D&order=15&asc=0&page=99&mode=s&jobsource=2018indexpoc&searchTempExclude=2\n"
     ]
    },
    {
     "name": "stderr",
     "output_type": "stream",
     "text": [
      "\r",
      " 66%|█████████████████████████████████████████████████████▍                           | 99/150 [01:27<00:44,  1.14it/s]"
     ]
    },
    {
     "name": "stdout",
     "output_type": "stream",
     "text": [
      "目前爬取頁面是：https://www.104.com.tw/jobs/search/?ro=0&kwop=7&keyword=%E9%87%91%E8%9E%8D&order=15&asc=0&page=100&mode=s&jobsource=2018indexpoc&searchTempExclude=2\n"
     ]
    },
    {
     "name": "stderr",
     "output_type": "stream",
     "text": [
      "\r",
      " 67%|█████████████████████████████████████████████████████▎                          | 100/150 [01:28<00:42,  1.19it/s]"
     ]
    },
    {
     "name": "stdout",
     "output_type": "stream",
     "text": [
      "目前爬取頁面是：https://www.104.com.tw/jobs/search/?ro=0&kwop=7&keyword=%E9%87%91%E8%9E%8D&order=15&asc=0&page=101&mode=s&jobsource=2018indexpoc&searchTempExclude=2\n"
     ]
    },
    {
     "name": "stderr",
     "output_type": "stream",
     "text": [
      "\r",
      " 67%|█████████████████████████████████████████████████████▊                          | 101/150 [01:29<00:41,  1.19it/s]"
     ]
    },
    {
     "name": "stdout",
     "output_type": "stream",
     "text": [
      "目前爬取頁面是：https://www.104.com.tw/jobs/search/?ro=0&kwop=7&keyword=%E9%87%91%E8%9E%8D&order=15&asc=0&page=102&mode=s&jobsource=2018indexpoc&searchTempExclude=2\n"
     ]
    },
    {
     "name": "stderr",
     "output_type": "stream",
     "text": [
      "\r",
      " 68%|██████████████████████████████████████████████████████▍                         | 102/150 [01:30<00:40,  1.19it/s]"
     ]
    },
    {
     "name": "stdout",
     "output_type": "stream",
     "text": [
      "目前爬取頁面是：https://www.104.com.tw/jobs/search/?ro=0&kwop=7&keyword=%E9%87%91%E8%9E%8D&order=15&asc=0&page=103&mode=s&jobsource=2018indexpoc&searchTempExclude=2\n"
     ]
    },
    {
     "name": "stderr",
     "output_type": "stream",
     "text": [
      "\r",
      " 69%|██████████████████████████████████████████████████████▉                         | 103/150 [01:30<00:38,  1.21it/s]"
     ]
    },
    {
     "name": "stdout",
     "output_type": "stream",
     "text": [
      "目前爬取頁面是：https://www.104.com.tw/jobs/search/?ro=0&kwop=7&keyword=%E9%87%91%E8%9E%8D&order=15&asc=0&page=104&mode=s&jobsource=2018indexpoc&searchTempExclude=2\n"
     ]
    },
    {
     "name": "stderr",
     "output_type": "stream",
     "text": [
      "\r",
      " 69%|███████████████████████████████████████████████████████▍                        | 104/150 [01:31<00:38,  1.20it/s]"
     ]
    },
    {
     "name": "stdout",
     "output_type": "stream",
     "text": [
      "目前爬取頁面是：https://www.104.com.tw/jobs/search/?ro=0&kwop=7&keyword=%E9%87%91%E8%9E%8D&order=15&asc=0&page=105&mode=s&jobsource=2018indexpoc&searchTempExclude=2\n"
     ]
    },
    {
     "name": "stderr",
     "output_type": "stream",
     "text": [
      "\r",
      " 70%|████████████████████████████████████████████████████████                        | 105/150 [01:32<00:36,  1.24it/s]"
     ]
    },
    {
     "name": "stdout",
     "output_type": "stream",
     "text": [
      "目前爬取頁面是：https://www.104.com.tw/jobs/search/?ro=0&kwop=7&keyword=%E9%87%91%E8%9E%8D&order=15&asc=0&page=106&mode=s&jobsource=2018indexpoc&searchTempExclude=2\n"
     ]
    },
    {
     "name": "stderr",
     "output_type": "stream",
     "text": [
      "\r",
      " 71%|████████████████████████████████████████████████████████▌                       | 106/150 [01:33<00:36,  1.22it/s]"
     ]
    },
    {
     "name": "stdout",
     "output_type": "stream",
     "text": [
      "目前爬取頁面是：https://www.104.com.tw/jobs/search/?ro=0&kwop=7&keyword=%E9%87%91%E8%9E%8D&order=15&asc=0&page=107&mode=s&jobsource=2018indexpoc&searchTempExclude=2\n"
     ]
    },
    {
     "name": "stderr",
     "output_type": "stream",
     "text": [
      "\r",
      " 71%|█████████████████████████████████████████████████████████                       | 107/150 [01:34<00:35,  1.20it/s]"
     ]
    },
    {
     "name": "stdout",
     "output_type": "stream",
     "text": [
      "目前爬取頁面是：https://www.104.com.tw/jobs/search/?ro=0&kwop=7&keyword=%E9%87%91%E8%9E%8D&order=15&asc=0&page=108&mode=s&jobsource=2018indexpoc&searchTempExclude=2\n"
     ]
    },
    {
     "name": "stderr",
     "output_type": "stream",
     "text": [
      "\r",
      " 72%|█████████████████████████████████████████████████████████▌                      | 108/150 [01:35<00:36,  1.16it/s]"
     ]
    },
    {
     "name": "stdout",
     "output_type": "stream",
     "text": [
      "目前爬取頁面是：https://www.104.com.tw/jobs/search/?ro=0&kwop=7&keyword=%E9%87%91%E8%9E%8D&order=15&asc=0&page=109&mode=s&jobsource=2018indexpoc&searchTempExclude=2\n"
     ]
    },
    {
     "name": "stderr",
     "output_type": "stream",
     "text": [
      "\r",
      " 73%|██████████████████████████████████████████████████████████▏                     | 109/150 [01:35<00:34,  1.17it/s]"
     ]
    },
    {
     "name": "stdout",
     "output_type": "stream",
     "text": [
      "目前爬取頁面是：https://www.104.com.tw/jobs/search/?ro=0&kwop=7&keyword=%E9%87%91%E8%9E%8D&order=15&asc=0&page=110&mode=s&jobsource=2018indexpoc&searchTempExclude=2\n"
     ]
    },
    {
     "name": "stderr",
     "output_type": "stream",
     "text": [
      "\r",
      " 73%|██████████████████████████████████████████████████████████▋                     | 110/150 [01:36<00:35,  1.13it/s]"
     ]
    },
    {
     "name": "stdout",
     "output_type": "stream",
     "text": [
      "目前爬取頁面是：https://www.104.com.tw/jobs/search/?ro=0&kwop=7&keyword=%E9%87%91%E8%9E%8D&order=15&asc=0&page=111&mode=s&jobsource=2018indexpoc&searchTempExclude=2\n"
     ]
    },
    {
     "name": "stderr",
     "output_type": "stream",
     "text": [
      "\r",
      " 74%|███████████████████████████████████████████████████████████▏                    | 111/150 [01:38<00:36,  1.06it/s]"
     ]
    },
    {
     "name": "stdout",
     "output_type": "stream",
     "text": [
      "目前爬取頁面是：https://www.104.com.tw/jobs/search/?ro=0&kwop=7&keyword=%E9%87%91%E8%9E%8D&order=15&asc=0&page=112&mode=s&jobsource=2018indexpoc&searchTempExclude=2\n"
     ]
    },
    {
     "name": "stderr",
     "output_type": "stream",
     "text": [
      "\r",
      " 75%|███████████████████████████████████████████████████████████▋                    | 112/150 [01:38<00:33,  1.12it/s]"
     ]
    },
    {
     "name": "stdout",
     "output_type": "stream",
     "text": [
      "目前爬取頁面是：https://www.104.com.tw/jobs/search/?ro=0&kwop=7&keyword=%E9%87%91%E8%9E%8D&order=15&asc=0&page=113&mode=s&jobsource=2018indexpoc&searchTempExclude=2\n"
     ]
    },
    {
     "name": "stderr",
     "output_type": "stream",
     "text": [
      "\r",
      " 75%|████████████████████████████████████████████████████████████▎                   | 113/150 [01:39<00:34,  1.07it/s]"
     ]
    },
    {
     "name": "stdout",
     "output_type": "stream",
     "text": [
      "目前爬取頁面是：https://www.104.com.tw/jobs/search/?ro=0&kwop=7&keyword=%E9%87%91%E8%9E%8D&order=15&asc=0&page=114&mode=s&jobsource=2018indexpoc&searchTempExclude=2\n"
     ]
    },
    {
     "name": "stderr",
     "output_type": "stream",
     "text": [
      "\r",
      " 76%|████████████████████████████████████████████████████████████▊                   | 114/150 [01:40<00:32,  1.09it/s]"
     ]
    },
    {
     "name": "stdout",
     "output_type": "stream",
     "text": [
      "目前爬取頁面是：https://www.104.com.tw/jobs/search/?ro=0&kwop=7&keyword=%E9%87%91%E8%9E%8D&order=15&asc=0&page=115&mode=s&jobsource=2018indexpoc&searchTempExclude=2\n"
     ]
    },
    {
     "name": "stderr",
     "output_type": "stream",
     "text": [
      "\r",
      " 77%|█████████████████████████████████████████████████████████████▎                  | 115/150 [01:41<00:31,  1.10it/s]"
     ]
    },
    {
     "name": "stdout",
     "output_type": "stream",
     "text": [
      "目前爬取頁面是：https://www.104.com.tw/jobs/search/?ro=0&kwop=7&keyword=%E9%87%91%E8%9E%8D&order=15&asc=0&page=116&mode=s&jobsource=2018indexpoc&searchTempExclude=2\n"
     ]
    },
    {
     "name": "stderr",
     "output_type": "stream",
     "text": [
      "\r",
      " 77%|█████████████████████████████████████████████████████████████▊                  | 116/150 [01:42<00:31,  1.07it/s]"
     ]
    },
    {
     "name": "stdout",
     "output_type": "stream",
     "text": [
      "目前爬取頁面是：https://www.104.com.tw/jobs/search/?ro=0&kwop=7&keyword=%E9%87%91%E8%9E%8D&order=15&asc=0&page=117&mode=s&jobsource=2018indexpoc&searchTempExclude=2\n"
     ]
    },
    {
     "name": "stderr",
     "output_type": "stream",
     "text": [
      "\r",
      " 78%|██████████████████████████████████████████████████████████████▍                 | 117/150 [01:43<00:29,  1.11it/s]"
     ]
    },
    {
     "name": "stdout",
     "output_type": "stream",
     "text": [
      "目前爬取頁面是：https://www.104.com.tw/jobs/search/?ro=0&kwop=7&keyword=%E9%87%91%E8%9E%8D&order=15&asc=0&page=118&mode=s&jobsource=2018indexpoc&searchTempExclude=2\n"
     ]
    },
    {
     "name": "stderr",
     "output_type": "stream",
     "text": [
      "\r",
      " 79%|██████████████████████████████████████████████████████████████▉                 | 118/150 [01:44<00:29,  1.07it/s]"
     ]
    },
    {
     "name": "stdout",
     "output_type": "stream",
     "text": [
      "目前爬取頁面是：https://www.104.com.tw/jobs/search/?ro=0&kwop=7&keyword=%E9%87%91%E8%9E%8D&order=15&asc=0&page=119&mode=s&jobsource=2018indexpoc&searchTempExclude=2\n"
     ]
    },
    {
     "name": "stderr",
     "output_type": "stream",
     "text": [
      "\r",
      " 79%|███████████████████████████████████████████████████████████████▍                | 119/150 [01:45<00:27,  1.12it/s]"
     ]
    },
    {
     "name": "stdout",
     "output_type": "stream",
     "text": [
      "目前爬取頁面是：https://www.104.com.tw/jobs/search/?ro=0&kwop=7&keyword=%E9%87%91%E8%9E%8D&order=15&asc=0&page=120&mode=s&jobsource=2018indexpoc&searchTempExclude=2\n"
     ]
    },
    {
     "name": "stderr",
     "output_type": "stream",
     "text": [
      "\r",
      " 80%|████████████████████████████████████████████████████████████████                | 120/150 [01:45<00:25,  1.16it/s]"
     ]
    },
    {
     "name": "stdout",
     "output_type": "stream",
     "text": [
      "目前爬取頁面是：https://www.104.com.tw/jobs/search/?ro=0&kwop=7&keyword=%E9%87%91%E8%9E%8D&order=15&asc=0&page=121&mode=s&jobsource=2018indexpoc&searchTempExclude=2\n"
     ]
    },
    {
     "name": "stderr",
     "output_type": "stream",
     "text": [
      "\r",
      " 81%|████████████████████████████████████████████████████████████████▌               | 121/150 [01:46<00:24,  1.17it/s]"
     ]
    },
    {
     "name": "stdout",
     "output_type": "stream",
     "text": [
      "目前爬取頁面是：https://www.104.com.tw/jobs/search/?ro=0&kwop=7&keyword=%E9%87%91%E8%9E%8D&order=15&asc=0&page=122&mode=s&jobsource=2018indexpoc&searchTempExclude=2\n"
     ]
    },
    {
     "name": "stderr",
     "output_type": "stream",
     "text": [
      "\r",
      " 81%|█████████████████████████████████████████████████████████████████               | 122/150 [01:47<00:26,  1.06it/s]"
     ]
    },
    {
     "name": "stdout",
     "output_type": "stream",
     "text": [
      "目前爬取頁面是：https://www.104.com.tw/jobs/search/?ro=0&kwop=7&keyword=%E9%87%91%E8%9E%8D&order=15&asc=0&page=123&mode=s&jobsource=2018indexpoc&searchTempExclude=2\n"
     ]
    },
    {
     "name": "stderr",
     "output_type": "stream",
     "text": [
      "\r",
      " 82%|█████████████████████████████████████████████████████████████████▌              | 123/150 [01:48<00:25,  1.07it/s]"
     ]
    },
    {
     "name": "stdout",
     "output_type": "stream",
     "text": [
      "目前爬取頁面是：https://www.104.com.tw/jobs/search/?ro=0&kwop=7&keyword=%E9%87%91%E8%9E%8D&order=15&asc=0&page=124&mode=s&jobsource=2018indexpoc&searchTempExclude=2\n"
     ]
    },
    {
     "name": "stderr",
     "output_type": "stream",
     "text": [
      "\r",
      " 83%|██████████████████████████████████████████████████████████████████▏             | 124/150 [01:49<00:24,  1.08it/s]"
     ]
    },
    {
     "name": "stdout",
     "output_type": "stream",
     "text": [
      "目前爬取頁面是：https://www.104.com.tw/jobs/search/?ro=0&kwop=7&keyword=%E9%87%91%E8%9E%8D&order=15&asc=0&page=125&mode=s&jobsource=2018indexpoc&searchTempExclude=2\n"
     ]
    },
    {
     "name": "stderr",
     "output_type": "stream",
     "text": [
      "\r",
      " 83%|██████████████████████████████████████████████████████████████████▋             | 125/150 [01:50<00:21,  1.15it/s]"
     ]
    },
    {
     "name": "stdout",
     "output_type": "stream",
     "text": [
      "目前爬取頁面是：https://www.104.com.tw/jobs/search/?ro=0&kwop=7&keyword=%E9%87%91%E8%9E%8D&order=15&asc=0&page=126&mode=s&jobsource=2018indexpoc&searchTempExclude=2\n"
     ]
    },
    {
     "name": "stderr",
     "output_type": "stream",
     "text": [
      "\r",
      " 84%|███████████████████████████████████████████████████████████████████▏            | 126/150 [01:51<00:19,  1.20it/s]"
     ]
    },
    {
     "name": "stdout",
     "output_type": "stream",
     "text": [
      "目前爬取頁面是：https://www.104.com.tw/jobs/search/?ro=0&kwop=7&keyword=%E9%87%91%E8%9E%8D&order=15&asc=0&page=127&mode=s&jobsource=2018indexpoc&searchTempExclude=2\n"
     ]
    },
    {
     "name": "stderr",
     "output_type": "stream",
     "text": [
      "\r",
      " 85%|███████████████████████████████████████████████████████████████████▋            | 127/150 [01:52<00:18,  1.23it/s]"
     ]
    },
    {
     "name": "stdout",
     "output_type": "stream",
     "text": [
      "目前爬取頁面是：https://www.104.com.tw/jobs/search/?ro=0&kwop=7&keyword=%E9%87%91%E8%9E%8D&order=15&asc=0&page=128&mode=s&jobsource=2018indexpoc&searchTempExclude=2\n"
     ]
    },
    {
     "name": "stderr",
     "output_type": "stream",
     "text": [
      "\r",
      " 85%|████████████████████████████████████████████████████████████████████▎           | 128/150 [01:53<00:19,  1.10it/s]"
     ]
    },
    {
     "name": "stdout",
     "output_type": "stream",
     "text": [
      "目前爬取頁面是：https://www.104.com.tw/jobs/search/?ro=0&kwop=7&keyword=%E9%87%91%E8%9E%8D&order=15&asc=0&page=129&mode=s&jobsource=2018indexpoc&searchTempExclude=2\n"
     ]
    },
    {
     "name": "stderr",
     "output_type": "stream",
     "text": [
      "\r",
      " 86%|████████████████████████████████████████████████████████████████████▊           | 129/150 [01:56<00:31,  1.50s/it]"
     ]
    },
    {
     "name": "stdout",
     "output_type": "stream",
     "text": [
      "目前爬取頁面是：https://www.104.com.tw/jobs/search/?ro=0&kwop=7&keyword=%E9%87%91%E8%9E%8D&order=15&asc=0&page=130&mode=s&jobsource=2018indexpoc&searchTempExclude=2\n"
     ]
    },
    {
     "name": "stderr",
     "output_type": "stream",
     "text": [
      "\r",
      " 87%|█████████████████████████████████████████████████████████████████████▎          | 130/150 [01:56<00:26,  1.31s/it]"
     ]
    },
    {
     "name": "stdout",
     "output_type": "stream",
     "text": [
      "目前爬取頁面是：https://www.104.com.tw/jobs/search/?ro=0&kwop=7&keyword=%E9%87%91%E8%9E%8D&order=15&asc=0&page=131&mode=s&jobsource=2018indexpoc&searchTempExclude=2\n"
     ]
    },
    {
     "name": "stderr",
     "output_type": "stream",
     "text": [
      "\r",
      " 87%|█████████████████████████████████████████████████████████████████████▊          | 131/150 [01:58<00:27,  1.46s/it]"
     ]
    },
    {
     "name": "stdout",
     "output_type": "stream",
     "text": [
      "目前爬取頁面是：https://www.104.com.tw/jobs/search/?ro=0&kwop=7&keyword=%E9%87%91%E8%9E%8D&order=15&asc=0&page=132&mode=s&jobsource=2018indexpoc&searchTempExclude=2\n"
     ]
    },
    {
     "name": "stderr",
     "output_type": "stream",
     "text": [
      "\r",
      " 88%|██████████████████████████████████████████████████████████████████████▍         | 132/150 [02:00<00:28,  1.60s/it]"
     ]
    },
    {
     "name": "stdout",
     "output_type": "stream",
     "text": [
      "目前爬取頁面是：https://www.104.com.tw/jobs/search/?ro=0&kwop=7&keyword=%E9%87%91%E8%9E%8D&order=15&asc=0&page=133&mode=s&jobsource=2018indexpoc&searchTempExclude=2\n"
     ]
    },
    {
     "name": "stderr",
     "output_type": "stream",
     "text": [
      "\r",
      " 89%|██████████████████████████████████████████████████████████████████████▉         | 133/150 [02:01<00:22,  1.34s/it]"
     ]
    },
    {
     "name": "stdout",
     "output_type": "stream",
     "text": [
      "目前爬取頁面是：https://www.104.com.tw/jobs/search/?ro=0&kwop=7&keyword=%E9%87%91%E8%9E%8D&order=15&asc=0&page=134&mode=s&jobsource=2018indexpoc&searchTempExclude=2\n"
     ]
    },
    {
     "name": "stderr",
     "output_type": "stream",
     "text": [
      "\r",
      " 89%|███████████████████████████████████████████████████████████████████████▍        | 134/150 [02:02<00:19,  1.19s/it]"
     ]
    },
    {
     "name": "stdout",
     "output_type": "stream",
     "text": [
      "目前爬取頁面是：https://www.104.com.tw/jobs/search/?ro=0&kwop=7&keyword=%E9%87%91%E8%9E%8D&order=15&asc=0&page=135&mode=s&jobsource=2018indexpoc&searchTempExclude=2\n"
     ]
    },
    {
     "name": "stderr",
     "output_type": "stream",
     "text": [
      "\r",
      " 90%|████████████████████████████████████████████████████████████████████████        | 135/150 [02:03<00:17,  1.16s/it]"
     ]
    },
    {
     "name": "stdout",
     "output_type": "stream",
     "text": [
      "目前爬取頁面是：https://www.104.com.tw/jobs/search/?ro=0&kwop=7&keyword=%E9%87%91%E8%9E%8D&order=15&asc=0&page=136&mode=s&jobsource=2018indexpoc&searchTempExclude=2\n"
     ]
    },
    {
     "name": "stderr",
     "output_type": "stream",
     "text": [
      "\r",
      " 91%|████████████████████████████████████████████████████████████████████████▌       | 136/150 [02:04<00:15,  1.09s/it]"
     ]
    },
    {
     "name": "stdout",
     "output_type": "stream",
     "text": [
      "目前爬取頁面是：https://www.104.com.tw/jobs/search/?ro=0&kwop=7&keyword=%E9%87%91%E8%9E%8D&order=15&asc=0&page=137&mode=s&jobsource=2018indexpoc&searchTempExclude=2\n"
     ]
    },
    {
     "name": "stderr",
     "output_type": "stream",
     "text": [
      "\r",
      " 91%|█████████████████████████████████████████████████████████████████████████       | 137/150 [02:05<00:12,  1.01it/s]"
     ]
    },
    {
     "name": "stdout",
     "output_type": "stream",
     "text": [
      "目前爬取頁面是：https://www.104.com.tw/jobs/search/?ro=0&kwop=7&keyword=%E9%87%91%E8%9E%8D&order=15&asc=0&page=138&mode=s&jobsource=2018indexpoc&searchTempExclude=2\n"
     ]
    },
    {
     "name": "stderr",
     "output_type": "stream",
     "text": [
      "\r",
      " 92%|█████████████████████████████████████████████████████████████████████████▌      | 138/150 [02:05<00:11,  1.07it/s]"
     ]
    },
    {
     "name": "stdout",
     "output_type": "stream",
     "text": [
      "目前爬取頁面是：https://www.104.com.tw/jobs/search/?ro=0&kwop=7&keyword=%E9%87%91%E8%9E%8D&order=15&asc=0&page=139&mode=s&jobsource=2018indexpoc&searchTempExclude=2\n"
     ]
    },
    {
     "name": "stderr",
     "output_type": "stream",
     "text": [
      "\r",
      " 93%|██████████████████████████████████████████████████████████████████████████▏     | 139/150 [02:06<00:10,  1.06it/s]"
     ]
    },
    {
     "name": "stdout",
     "output_type": "stream",
     "text": [
      "目前爬取頁面是：https://www.104.com.tw/jobs/search/?ro=0&kwop=7&keyword=%E9%87%91%E8%9E%8D&order=15&asc=0&page=140&mode=s&jobsource=2018indexpoc&searchTempExclude=2\n"
     ]
    },
    {
     "name": "stderr",
     "output_type": "stream",
     "text": [
      "\r",
      " 93%|██████████████████████████████████████████████████████████████████████████▋     | 140/150 [02:07<00:09,  1.03it/s]"
     ]
    },
    {
     "name": "stdout",
     "output_type": "stream",
     "text": [
      "目前爬取頁面是：https://www.104.com.tw/jobs/search/?ro=0&kwop=7&keyword=%E9%87%91%E8%9E%8D&order=15&asc=0&page=141&mode=s&jobsource=2018indexpoc&searchTempExclude=2\n"
     ]
    },
    {
     "name": "stderr",
     "output_type": "stream",
     "text": [
      "\r",
      " 94%|███████████████████████████████████████████████████████████████████████████▏    | 141/150 [02:08<00:08,  1.05it/s]"
     ]
    },
    {
     "name": "stdout",
     "output_type": "stream",
     "text": [
      "目前爬取頁面是：https://www.104.com.tw/jobs/search/?ro=0&kwop=7&keyword=%E9%87%91%E8%9E%8D&order=15&asc=0&page=142&mode=s&jobsource=2018indexpoc&searchTempExclude=2\n"
     ]
    },
    {
     "name": "stderr",
     "output_type": "stream",
     "text": [
      "\r",
      " 95%|███████████████████████████████████████████████████████████████████████████▋    | 142/150 [02:09<00:07,  1.09it/s]"
     ]
    },
    {
     "name": "stdout",
     "output_type": "stream",
     "text": [
      "目前爬取頁面是：https://www.104.com.tw/jobs/search/?ro=0&kwop=7&keyword=%E9%87%91%E8%9E%8D&order=15&asc=0&page=143&mode=s&jobsource=2018indexpoc&searchTempExclude=2\n"
     ]
    },
    {
     "name": "stderr",
     "output_type": "stream",
     "text": [
      "\r",
      " 95%|████████████████████████████████████████████████████████████████████████████▎   | 143/150 [02:10<00:06,  1.14it/s]"
     ]
    },
    {
     "name": "stdout",
     "output_type": "stream",
     "text": [
      "目前爬取頁面是：https://www.104.com.tw/jobs/search/?ro=0&kwop=7&keyword=%E9%87%91%E8%9E%8D&order=15&asc=0&page=144&mode=s&jobsource=2018indexpoc&searchTempExclude=2\n"
     ]
    },
    {
     "name": "stderr",
     "output_type": "stream",
     "text": [
      "\r",
      " 96%|████████████████████████████████████████████████████████████████████████████▊   | 144/150 [02:11<00:05,  1.15it/s]"
     ]
    },
    {
     "name": "stdout",
     "output_type": "stream",
     "text": [
      "目前爬取頁面是：https://www.104.com.tw/jobs/search/?ro=0&kwop=7&keyword=%E9%87%91%E8%9E%8D&order=15&asc=0&page=145&mode=s&jobsource=2018indexpoc&searchTempExclude=2\n"
     ]
    },
    {
     "name": "stderr",
     "output_type": "stream",
     "text": [
      "\r",
      " 97%|█████████████████████████████████████████████████████████████████████████████▎  | 145/150 [02:12<00:04,  1.16it/s]"
     ]
    },
    {
     "name": "stdout",
     "output_type": "stream",
     "text": [
      "目前爬取頁面是：https://www.104.com.tw/jobs/search/?ro=0&kwop=7&keyword=%E9%87%91%E8%9E%8D&order=15&asc=0&page=146&mode=s&jobsource=2018indexpoc&searchTempExclude=2\n"
     ]
    },
    {
     "name": "stderr",
     "output_type": "stream",
     "text": [
      "\r",
      " 97%|█████████████████████████████████████████████████████████████████████████████▊  | 146/150 [02:13<00:03,  1.08it/s]"
     ]
    },
    {
     "name": "stdout",
     "output_type": "stream",
     "text": [
      "目前爬取頁面是：https://www.104.com.tw/jobs/search/?ro=0&kwop=7&keyword=%E9%87%91%E8%9E%8D&order=15&asc=0&page=147&mode=s&jobsource=2018indexpoc&searchTempExclude=2\n"
     ]
    },
    {
     "name": "stderr",
     "output_type": "stream",
     "text": [
      "\r",
      " 98%|██████████████████████████████████████████████████████████████████████████████▍ | 147/150 [02:14<00:02,  1.08it/s]"
     ]
    },
    {
     "name": "stdout",
     "output_type": "stream",
     "text": [
      "目前爬取頁面是：https://www.104.com.tw/jobs/search/?ro=0&kwop=7&keyword=%E9%87%91%E8%9E%8D&order=15&asc=0&page=148&mode=s&jobsource=2018indexpoc&searchTempExclude=2\n"
     ]
    },
    {
     "name": "stderr",
     "output_type": "stream",
     "text": [
      "\r",
      " 99%|██████████████████████████████████████████████████████████████████████████████▉ | 148/150 [02:14<00:01,  1.08it/s]"
     ]
    },
    {
     "name": "stdout",
     "output_type": "stream",
     "text": [
      "目前爬取頁面是：https://www.104.com.tw/jobs/search/?ro=0&kwop=7&keyword=%E9%87%91%E8%9E%8D&order=15&asc=0&page=149&mode=s&jobsource=2018indexpoc&searchTempExclude=2\n"
     ]
    },
    {
     "name": "stderr",
     "output_type": "stream",
     "text": [
      "\r",
      " 99%|███████████████████████████████████████████████████████████████████████████████▍| 149/150 [02:15<00:00,  1.14it/s]"
     ]
    },
    {
     "name": "stdout",
     "output_type": "stream",
     "text": [
      "目前爬取頁面是：https://www.104.com.tw/jobs/search/?ro=0&kwop=7&keyword=%E9%87%91%E8%9E%8D&order=15&asc=0&page=150&mode=s&jobsource=2018indexpoc&searchTempExclude=2\n"
     ]
    },
    {
     "name": "stderr",
     "output_type": "stream",
     "text": [
      "100%|████████████████████████████████████████████████████████████████████████████████| 150/150 [02:16<00:00,  1.10it/s]\n",
      "C:\\Users\\love\\anaconda3\\envs\\mytest\\lib\\site-packages\\ipykernel_launcher.py:167: DeprecationWarning: use options instead of chrome_options\n"
     ]
    },
    {
     "name": "stdout",
     "output_type": "stream",
     "text": [
      "爬取104完成：請開啟csv檔案\n"
     ]
    },
    {
     "name": "stderr",
     "output_type": "stream",
     "text": [
      "  1%|▌                                                                                 | 1/150 [00:00<00:16,  9.15it/s]"
     ]
    },
    {
     "name": "stdout",
     "output_type": "stream",
     "text": [
      "共有：150 頁\n",
      "目前爬取頁面是：https://www.1111.com.tw/job-bank/job-index.asp?si=1&ss=s&ks=%E9%87%91%E8%9E%8D&page=1\n"
     ]
    },
    {
     "name": "stderr",
     "output_type": "stream",
     "text": [
      "\r",
      "  1%|█                                                                                 | 2/150 [00:01<01:17,  1.90it/s]"
     ]
    },
    {
     "name": "stdout",
     "output_type": "stream",
     "text": [
      "目前爬取頁面是：https://www.1111.com.tw/job-bank/job-index.asp?si=1&ss=s&ks=%E9%87%91%E8%9E%8D&page=2\n",
      "目前爬取頁面是：https://www.1111.com.tw/job-bank/job-index.asp?si=1&ss=s&ks=%E9%87%91%E8%9E%8D&page=3\n"
     ]
    },
    {
     "name": "stderr",
     "output_type": "stream",
     "text": [
      "\r",
      "  3%|██▏                                                                               | 4/150 [00:03<01:33,  1.56it/s]"
     ]
    },
    {
     "name": "stdout",
     "output_type": "stream",
     "text": [
      "目前爬取頁面是：https://www.1111.com.tw/job-bank/job-index.asp?si=1&ss=s&ks=%E9%87%91%E8%9E%8D&page=4\n"
     ]
    },
    {
     "name": "stderr",
     "output_type": "stream",
     "text": [
      "\r",
      "  3%|██▋                                                                               | 5/150 [00:04<01:50,  1.32it/s]"
     ]
    },
    {
     "name": "stdout",
     "output_type": "stream",
     "text": [
      "目前爬取頁面是：https://www.1111.com.tw/job-bank/job-index.asp?si=1&ss=s&ks=%E9%87%91%E8%9E%8D&page=5\n",
      "目前爬取頁面是：https://www.1111.com.tw/job-bank/job-index.asp?si=1&ss=s&ks=%E9%87%91%E8%9E%8D&page=6\n"
     ]
    },
    {
     "name": "stderr",
     "output_type": "stream",
     "text": [
      "\r",
      "  5%|███▊                                                                              | 7/150 [00:05<01:34,  1.51it/s]"
     ]
    },
    {
     "name": "stdout",
     "output_type": "stream",
     "text": [
      "目前爬取頁面是：https://www.1111.com.tw/job-bank/job-index.asp?si=1&ss=s&ks=%E9%87%91%E8%9E%8D&page=7\n"
     ]
    },
    {
     "name": "stderr",
     "output_type": "stream",
     "text": [
      "\r",
      "  5%|████▎                                                                             | 8/150 [00:06<01:55,  1.23it/s]"
     ]
    },
    {
     "name": "stdout",
     "output_type": "stream",
     "text": [
      "目前爬取頁面是：https://www.1111.com.tw/job-bank/job-index.asp?si=1&ss=s&ks=%E9%87%91%E8%9E%8D&page=8\n"
     ]
    },
    {
     "name": "stderr",
     "output_type": "stream",
     "text": [
      "\r",
      "  6%|████▉                                                                             | 9/150 [00:08<02:38,  1.12s/it]"
     ]
    },
    {
     "name": "stdout",
     "output_type": "stream",
     "text": [
      "目前爬取頁面是：https://www.1111.com.tw/job-bank/job-index.asp?si=1&ss=s&ks=%E9%87%91%E8%9E%8D&page=9\n"
     ]
    },
    {
     "name": "stderr",
     "output_type": "stream",
     "text": [
      "  8%|██████▍                                                                          | 12/150 [00:09<01:52,  1.23it/s]"
     ]
    },
    {
     "name": "stdout",
     "output_type": "stream",
     "text": [
      "目前爬取頁面是：https://www.1111.com.tw/job-bank/job-index.asp?si=1&ss=s&ks=%E9%87%91%E8%9E%8D&page=10\n",
      "目前爬取頁面是：https://www.1111.com.tw/job-bank/job-index.asp?si=1&ss=s&ks=%E9%87%91%E8%9E%8D&page=11\n",
      "目前爬取頁面是：https://www.1111.com.tw/job-bank/job-index.asp?si=1&ss=s&ks=%E9%87%91%E8%9E%8D&page=12\n"
     ]
    },
    {
     "name": "stderr",
     "output_type": "stream",
     "text": [
      "\r",
      "  9%|███████                                                                          | 13/150 [00:10<02:10,  1.05it/s]"
     ]
    },
    {
     "name": "stdout",
     "output_type": "stream",
     "text": [
      "目前爬取頁面是：https://www.1111.com.tw/job-bank/job-index.asp?si=1&ss=s&ks=%E9%87%91%E8%9E%8D&page=13\n",
      "目前爬取頁面是：https://www.1111.com.tw/job-bank/job-index.asp?si=1&ss=s&ks=%E9%87%91%E8%9E%8D&page=14\n"
     ]
    },
    {
     "name": "stderr",
     "output_type": "stream",
     "text": [
      " 11%|████████▋                                                                        | 16/150 [00:12<01:26,  1.55it/s]"
     ]
    },
    {
     "name": "stdout",
     "output_type": "stream",
     "text": [
      "目前爬取頁面是：https://www.1111.com.tw/job-bank/job-index.asp?si=1&ss=s&ks=%E9%87%91%E8%9E%8D&page=15\n",
      "目前爬取頁面是：https://www.1111.com.tw/job-bank/job-index.asp?si=1&ss=s&ks=%E9%87%91%E8%9E%8D&page=16\n"
     ]
    },
    {
     "name": "stderr",
     "output_type": "stream",
     "text": [
      "\r",
      " 11%|█████████▏                                                                       | 17/150 [00:13<01:51,  1.19it/s]"
     ]
    },
    {
     "name": "stdout",
     "output_type": "stream",
     "text": [
      "目前爬取頁面是：https://www.1111.com.tw/job-bank/job-index.asp?si=1&ss=s&ks=%E9%87%91%E8%9E%8D&page=17\n"
     ]
    },
    {
     "name": "stderr",
     "output_type": "stream",
     "text": [
      " 13%|██████████▊                                                                      | 20/150 [00:14<01:24,  1.54it/s]"
     ]
    },
    {
     "name": "stdout",
     "output_type": "stream",
     "text": [
      "目前爬取頁面是：https://www.1111.com.tw/job-bank/job-index.asp?si=1&ss=s&ks=%E9%87%91%E8%9E%8D&page=18\n",
      "目前爬取頁面是：https://www.1111.com.tw/job-bank/job-index.asp?si=1&ss=s&ks=%E9%87%91%E8%9E%8D&page=19\n",
      "目前爬取頁面是：https://www.1111.com.tw/job-bank/job-index.asp?si=1&ss=s&ks=%E9%87%91%E8%9E%8D&page=20\n"
     ]
    },
    {
     "name": "stderr",
     "output_type": "stream",
     "text": [
      "\r",
      " 14%|███████████▎                                                                     | 21/150 [00:14<01:02,  2.05it/s]"
     ]
    },
    {
     "name": "stdout",
     "output_type": "stream",
     "text": [
      "目前爬取頁面是：https://www.1111.com.tw/job-bank/job-index.asp?si=1&ss=s&ks=%E9%87%91%E8%9E%8D&page=21\n"
     ]
    },
    {
     "name": "stderr",
     "output_type": "stream",
     "text": [
      "\r",
      " 15%|███████████▉                                                                     | 22/150 [00:16<01:31,  1.40it/s]"
     ]
    },
    {
     "name": "stdout",
     "output_type": "stream",
     "text": [
      "目前爬取頁面是：https://www.1111.com.tw/job-bank/job-index.asp?si=1&ss=s&ks=%E9%87%91%E8%9E%8D&page=22\n"
     ]
    },
    {
     "name": "stderr",
     "output_type": "stream",
     "text": [
      " 17%|█████████████▌                                                                   | 25/150 [00:17<01:26,  1.44it/s]"
     ]
    },
    {
     "name": "stdout",
     "output_type": "stream",
     "text": [
      "目前爬取頁面是：https://www.1111.com.tw/job-bank/job-index.asp?si=1&ss=s&ks=%E9%87%91%E8%9E%8D&page=23\n",
      "目前爬取頁面是：https://www.1111.com.tw/job-bank/job-index.asp?si=1&ss=s&ks=%E9%87%91%E8%9E%8D&page=24\n",
      "目前爬取頁面是：https://www.1111.com.tw/job-bank/job-index.asp?si=1&ss=s&ks=%E9%87%91%E8%9E%8D&page=25\n"
     ]
    },
    {
     "name": "stderr",
     "output_type": "stream",
     "text": [
      "\r",
      " 17%|██████████████                                                                   | 26/150 [00:18<01:41,  1.22it/s]"
     ]
    },
    {
     "name": "stdout",
     "output_type": "stream",
     "text": [
      "目前爬取頁面是：https://www.1111.com.tw/job-bank/job-index.asp?si=1&ss=s&ks=%E9%87%91%E8%9E%8D&page=26\n"
     ]
    },
    {
     "name": "stderr",
     "output_type": "stream",
     "text": [
      "\r",
      " 18%|██████████████▌                                                                  | 27/150 [00:19<01:46,  1.16it/s]"
     ]
    },
    {
     "name": "stdout",
     "output_type": "stream",
     "text": [
      "目前爬取頁面是：https://www.1111.com.tw/job-bank/job-index.asp?si=1&ss=s&ks=%E9%87%91%E8%9E%8D&page=27\n",
      "目前爬取頁面是：https://www.1111.com.tw/job-bank/job-index.asp?si=1&ss=s&ks=%E9%87%91%E8%9E%8D&page=28\n"
     ]
    },
    {
     "name": "stderr",
     "output_type": "stream",
     "text": [
      " 21%|████████████████▋                                                                | 31/150 [00:21<01:17,  1.54it/s]"
     ]
    },
    {
     "name": "stdout",
     "output_type": "stream",
     "text": [
      "目前爬取頁面是：https://www.1111.com.tw/job-bank/job-index.asp?si=1&ss=s&ks=%E9%87%91%E8%9E%8D&page=29\n",
      "目前爬取頁面是：https://www.1111.com.tw/job-bank/job-index.asp?si=1&ss=s&ks=%E9%87%91%E8%9E%8D&page=30\n",
      "目前爬取頁面是：https://www.1111.com.tw/job-bank/job-index.asp?si=1&ss=s&ks=%E9%87%91%E8%9E%8D&page=31\n",
      "目前爬取頁面是：https://www.1111.com.tw/job-bank/job-index.asp?si=1&ss=s&ks=%E9%87%91%E8%9E%8D&page=32\n"
     ]
    },
    {
     "name": "stderr",
     "output_type": "stream",
     "text": [
      "\r",
      " 22%|█████████████████▊                                                               | 33/150 [00:23<01:13,  1.59it/s]"
     ]
    },
    {
     "name": "stdout",
     "output_type": "stream",
     "text": [
      "目前爬取頁面是：https://www.1111.com.tw/job-bank/job-index.asp?si=1&ss=s&ks=%E9%87%91%E8%9E%8D&page=33\n"
     ]
    },
    {
     "name": "stderr",
     "output_type": "stream",
     "text": [
      "\r",
      " 23%|██████████████████▎                                                              | 34/150 [00:24<01:50,  1.05it/s]"
     ]
    },
    {
     "name": "stdout",
     "output_type": "stream",
     "text": [
      "目前爬取頁面是：https://www.1111.com.tw/job-bank/job-index.asp?si=1&ss=s&ks=%E9%87%91%E8%9E%8D&page=34\n"
     ]
    },
    {
     "name": "stderr",
     "output_type": "stream",
     "text": [
      "\r",
      " 23%|██████████████████▉                                                              | 35/150 [00:25<01:41,  1.14it/s]"
     ]
    },
    {
     "name": "stdout",
     "output_type": "stream",
     "text": [
      "目前爬取頁面是：https://www.1111.com.tw/job-bank/job-index.asp?si=1&ss=s&ks=%E9%87%91%E8%9E%8D&page=35\n",
      "目前爬取頁面是：https://www.1111.com.tw/job-bank/job-index.asp?si=1&ss=s&ks=%E9%87%91%E8%9E%8D&page=36\n"
     ]
    },
    {
     "name": "stderr",
     "output_type": "stream",
     "text": [
      "\r",
      " 25%|███████████████████▉                                                             | 37/150 [00:27<01:35,  1.18it/s]"
     ]
    },
    {
     "name": "stdout",
     "output_type": "stream",
     "text": [
      "目前爬取頁面是：https://www.1111.com.tw/job-bank/job-index.asp?si=1&ss=s&ks=%E9%87%91%E8%9E%8D&page=37\n"
     ]
    },
    {
     "name": "stderr",
     "output_type": "stream",
     "text": [
      "\r",
      " 25%|████████████████████▌                                                            | 38/150 [00:28<02:05,  1.12s/it]"
     ]
    },
    {
     "name": "stdout",
     "output_type": "stream",
     "text": [
      "目前爬取頁面是：https://www.1111.com.tw/job-bank/job-index.asp?si=1&ss=s&ks=%E9%87%91%E8%9E%8D&page=38\n"
     ]
    },
    {
     "name": "stderr",
     "output_type": "stream",
     "text": [
      "\r",
      " 26%|█████████████████████                                                            | 39/150 [00:30<02:18,  1.24s/it]"
     ]
    },
    {
     "name": "stdout",
     "output_type": "stream",
     "text": [
      "目前爬取頁面是：https://www.1111.com.tw/job-bank/job-index.asp?si=1&ss=s&ks=%E9%87%91%E8%9E%8D&page=39\n",
      "目前爬取頁面是：https://www.1111.com.tw/job-bank/job-index.asp?si=1&ss=s&ks=%E9%87%91%E8%9E%8D&page=40\n"
     ]
    },
    {
     "name": "stderr",
     "output_type": "stream",
     "text": [
      "\r",
      " 27%|██████████████████████▏                                                          | 41/150 [00:30<01:38,  1.11it/s]"
     ]
    },
    {
     "name": "stdout",
     "output_type": "stream",
     "text": [
      "目前爬取頁面是：https://www.1111.com.tw/job-bank/job-index.asp?si=1&ss=s&ks=%E9%87%91%E8%9E%8D&page=41\n"
     ]
    },
    {
     "name": "stderr",
     "output_type": "stream",
     "text": [
      "\r",
      " 28%|██████████████████████▋                                                          | 42/150 [00:31<01:46,  1.01it/s]"
     ]
    },
    {
     "name": "stdout",
     "output_type": "stream",
     "text": [
      "目前爬取頁面是：https://www.1111.com.tw/job-bank/job-index.asp?si=1&ss=s&ks=%E9%87%91%E8%9E%8D&page=42\n"
     ]
    },
    {
     "name": "stderr",
     "output_type": "stream",
     "text": [
      "\r",
      " 29%|███████████████████████▏                                                         | 43/150 [00:32<01:38,  1.08it/s]"
     ]
    },
    {
     "name": "stdout",
     "output_type": "stream",
     "text": [
      "目前爬取頁面是：https://www.1111.com.tw/job-bank/job-index.asp?si=1&ss=s&ks=%E9%87%91%E8%9E%8D&page=43\n",
      "目前爬取頁面是：https://www.1111.com.tw/job-bank/job-index.asp?si=1&ss=s&ks=%E9%87%91%E8%9E%8D&page=44\n"
     ]
    },
    {
     "name": "stderr",
     "output_type": "stream",
     "text": [
      " 31%|█████████████████████████▍                                                       | 47/150 [00:33<01:01,  1.68it/s]"
     ]
    },
    {
     "name": "stdout",
     "output_type": "stream",
     "text": [
      "目前爬取頁面是：https://www.1111.com.tw/job-bank/job-index.asp?si=1&ss=s&ks=%E9%87%91%E8%9E%8D&page=45\n",
      "目前爬取頁面是：https://www.1111.com.tw/job-bank/job-index.asp?si=1&ss=s&ks=%E9%87%91%E8%9E%8D&page=46\n",
      "目前爬取頁面是：https://www.1111.com.tw/job-bank/job-index.asp?si=1&ss=s&ks=%E9%87%91%E8%9E%8D&page=47\n"
     ]
    },
    {
     "name": "stderr",
     "output_type": "stream",
     "text": [
      " 33%|███████████████████████████                                                      | 50/150 [00:35<01:00,  1.65it/s]"
     ]
    },
    {
     "name": "stdout",
     "output_type": "stream",
     "text": [
      "目前爬取頁面是：https://www.1111.com.tw/job-bank/job-index.asp?si=1&ss=s&ks=%E9%87%91%E8%9E%8D&page=48\n",
      "目前爬取頁面是：https://www.1111.com.tw/job-bank/job-index.asp?si=1&ss=s&ks=%E9%87%91%E8%9E%8D&page=49\n",
      "目前爬取頁面是：https://www.1111.com.tw/job-bank/job-index.asp?si=1&ss=s&ks=%E9%87%91%E8%9E%8D&page=50\n",
      "目前爬取頁面是：https://www.1111.com.tw/job-bank/job-index.asp?si=1&ss=s&ks=%E9%87%91%E8%9E%8D&page=51\n"
     ]
    },
    {
     "name": "stderr",
     "output_type": "stream",
     "text": [
      "\r",
      " 35%|████████████████████████████                                                     | 52/150 [00:36<01:01,  1.60it/s]"
     ]
    },
    {
     "name": "stdout",
     "output_type": "stream",
     "text": [
      "目前爬取頁面是：https://www.1111.com.tw/job-bank/job-index.asp?si=1&ss=s&ks=%E9%87%91%E8%9E%8D&page=52\n"
     ]
    },
    {
     "name": "stderr",
     "output_type": "stream",
     "text": [
      "\r",
      " 35%|████████████████████████████▌                                                    | 53/150 [00:37<01:15,  1.28it/s]"
     ]
    },
    {
     "name": "stdout",
     "output_type": "stream",
     "text": [
      "目前爬取頁面是：https://www.1111.com.tw/job-bank/job-index.asp?si=1&ss=s&ks=%E9%87%91%E8%9E%8D&page=53\n"
     ]
    },
    {
     "name": "stderr",
     "output_type": "stream",
     "text": [
      "\r",
      " 36%|█████████████████████████████▏                                                   | 54/150 [00:39<01:32,  1.03it/s]"
     ]
    },
    {
     "name": "stdout",
     "output_type": "stream",
     "text": [
      "目前爬取頁面是：https://www.1111.com.tw/job-bank/job-index.asp?si=1&ss=s&ks=%E9%87%91%E8%9E%8D&page=54\n",
      "目前爬取頁面是：https://www.1111.com.tw/job-bank/job-index.asp?si=1&ss=s&ks=%E9%87%91%E8%9E%8D&page=55\n"
     ]
    },
    {
     "name": "stderr",
     "output_type": "stream",
     "text": [
      "\r",
      " 37%|██████████████████████████████▏                                                  | 56/150 [00:40<01:18,  1.20it/s]"
     ]
    },
    {
     "name": "stdout",
     "output_type": "stream",
     "text": [
      "目前爬取頁面是：https://www.1111.com.tw/job-bank/job-index.asp?si=1&ss=s&ks=%E9%87%91%E8%9E%8D&page=56\n"
     ]
    },
    {
     "name": "stderr",
     "output_type": "stream",
     "text": [
      "\r",
      " 38%|██████████████████████████████▊                                                  | 57/150 [00:41<01:24,  1.10it/s]"
     ]
    },
    {
     "name": "stdout",
     "output_type": "stream",
     "text": [
      "目前爬取頁面是：https://www.1111.com.tw/job-bank/job-index.asp?si=1&ss=s&ks=%E9%87%91%E8%9E%8D&page=57\n",
      "目前爬取頁面是：https://www.1111.com.tw/job-bank/job-index.asp?si=1&ss=s&ks=%E9%87%91%E8%9E%8D&page=58\n"
     ]
    },
    {
     "name": "stderr",
     "output_type": "stream",
     "text": [
      "\r",
      " 39%|███████████████████████████████▊                                                 | 59/150 [00:42<01:18,  1.16it/s]"
     ]
    },
    {
     "name": "stdout",
     "output_type": "stream",
     "text": [
      "目前爬取頁面是：https://www.1111.com.tw/job-bank/job-index.asp?si=1&ss=s&ks=%E9%87%91%E8%9E%8D&page=59\n"
     ]
    },
    {
     "name": "stderr",
     "output_type": "stream",
     "text": [
      "\r",
      " 40%|████████████████████████████████▍                                                | 60/150 [00:44<01:32,  1.03s/it]"
     ]
    },
    {
     "name": "stdout",
     "output_type": "stream",
     "text": [
      "目前爬取頁面是：https://www.1111.com.tw/job-bank/job-index.asp?si=1&ss=s&ks=%E9%87%91%E8%9E%8D&page=60\n"
     ]
    },
    {
     "name": "stderr",
     "output_type": "stream",
     "text": [
      " 42%|██████████████████████████████████                                               | 63/150 [00:46<01:17,  1.12it/s]"
     ]
    },
    {
     "name": "stdout",
     "output_type": "stream",
     "text": [
      "目前爬取頁面是：https://www.1111.com.tw/job-bank/job-index.asp?si=1&ss=s&ks=%E9%87%91%E8%9E%8D&page=61\n",
      "目前爬取頁面是：https://www.1111.com.tw/job-bank/job-index.asp?si=1&ss=s&ks=%E9%87%91%E8%9E%8D&page=62\n",
      "目前爬取頁面是：https://www.1111.com.tw/job-bank/job-index.asp?si=1&ss=s&ks=%E9%87%91%E8%9E%8D&page=63\n"
     ]
    },
    {
     "name": "stderr",
     "output_type": "stream",
     "text": [
      " 44%|███████████████████████████████████▋                                             | 66/150 [00:47<00:53,  1.57it/s]"
     ]
    },
    {
     "name": "stdout",
     "output_type": "stream",
     "text": [
      "目前爬取頁面是：https://www.1111.com.tw/job-bank/job-index.asp?si=1&ss=s&ks=%E9%87%91%E8%9E%8D&page=64\n",
      "目前爬取頁面是：https://www.1111.com.tw/job-bank/job-index.asp?si=1&ss=s&ks=%E9%87%91%E8%9E%8D&page=65\n",
      "目前爬取頁面是：https://www.1111.com.tw/job-bank/job-index.asp?si=1&ss=s&ks=%E9%87%91%E8%9E%8D&page=66\n"
     ]
    },
    {
     "name": "stderr",
     "output_type": "stream",
     "text": [
      "\r",
      " 45%|████████████████████████████████████▏                                            | 67/150 [00:48<01:02,  1.33it/s]"
     ]
    },
    {
     "name": "stdout",
     "output_type": "stream",
     "text": [
      "目前爬取頁面是：https://www.1111.com.tw/job-bank/job-index.asp?si=1&ss=s&ks=%E9%87%91%E8%9E%8D&page=67\n",
      "目前爬取頁面是：https://www.1111.com.tw/job-bank/job-index.asp?si=1&ss=s&ks=%E9%87%91%E8%9E%8D&page=68\n"
     ]
    },
    {
     "name": "stderr",
     "output_type": "stream",
     "text": [
      " 47%|██████████████████████████████████████▎                                          | 71/150 [00:50<00:44,  1.78it/s]"
     ]
    },
    {
     "name": "stdout",
     "output_type": "stream",
     "text": [
      "目前爬取頁面是：https://www.1111.com.tw/job-bank/job-index.asp?si=1&ss=s&ks=%E9%87%91%E8%9E%8D&page=69\n",
      "目前爬取頁面是：https://www.1111.com.tw/job-bank/job-index.asp?si=1&ss=s&ks=%E9%87%91%E8%9E%8D&page=70\n",
      "目前爬取頁面是：https://www.1111.com.tw/job-bank/job-index.asp?si=1&ss=s&ks=%E9%87%91%E8%9E%8D&page=71\n"
     ]
    },
    {
     "name": "stderr",
     "output_type": "stream",
     "text": [
      "\r",
      " 48%|██████████████████████████████████████▉                                          | 72/150 [00:51<00:52,  1.47it/s]"
     ]
    },
    {
     "name": "stdout",
     "output_type": "stream",
     "text": [
      "目前爬取頁面是：https://www.1111.com.tw/job-bank/job-index.asp?si=1&ss=s&ks=%E9%87%91%E8%9E%8D&page=72\n"
     ]
    },
    {
     "name": "stderr",
     "output_type": "stream",
     "text": [
      "\r",
      " 49%|███████████████████████████████████████▍                                         | 73/150 [00:52<01:03,  1.22it/s]"
     ]
    },
    {
     "name": "stdout",
     "output_type": "stream",
     "text": [
      "目前爬取頁面是：https://www.1111.com.tw/job-bank/job-index.asp?si=1&ss=s&ks=%E9%87%91%E8%9E%8D&page=73\n",
      "目前爬取頁面是：https://www.1111.com.tw/job-bank/job-index.asp?si=1&ss=s&ks=%E9%87%91%E8%9E%8D&page=74\n"
     ]
    },
    {
     "name": "stderr",
     "output_type": "stream",
     "text": [
      "\r",
      " 50%|████████████████████████████████████████▌                                        | 75/150 [00:53<01:02,  1.19it/s]"
     ]
    },
    {
     "name": "stdout",
     "output_type": "stream",
     "text": [
      "目前爬取頁面是：https://www.1111.com.tw/job-bank/job-index.asp?si=1&ss=s&ks=%E9%87%91%E8%9E%8D&page=75\n"
     ]
    },
    {
     "name": "stderr",
     "output_type": "stream",
     "text": [
      "\r",
      " 51%|█████████████████████████████████████████                                        | 76/150 [00:54<00:59,  1.24it/s]"
     ]
    },
    {
     "name": "stdout",
     "output_type": "stream",
     "text": [
      "目前爬取頁面是：https://www.1111.com.tw/job-bank/job-index.asp?si=1&ss=s&ks=%E9%87%91%E8%9E%8D&page=76\n"
     ]
    },
    {
     "name": "stderr",
     "output_type": "stream",
     "text": [
      "\r",
      " 51%|█████████████████████████████████████████▌                                       | 77/150 [00:56<01:19,  1.09s/it]"
     ]
    },
    {
     "name": "stdout",
     "output_type": "stream",
     "text": [
      "目前爬取頁面是：https://www.1111.com.tw/job-bank/job-index.asp?si=1&ss=s&ks=%E9%87%91%E8%9E%8D&page=77\n"
     ]
    },
    {
     "name": "stderr",
     "output_type": "stream",
     "text": [
      "\r",
      " 52%|██████████████████████████████████████████                                       | 78/150 [00:58<01:29,  1.25s/it]"
     ]
    },
    {
     "name": "stdout",
     "output_type": "stream",
     "text": [
      "目前爬取頁面是：https://www.1111.com.tw/job-bank/job-index.asp?si=1&ss=s&ks=%E9%87%91%E8%9E%8D&page=78\n",
      "目前爬取頁面是：https://www.1111.com.tw/job-bank/job-index.asp?si=1&ss=s&ks=%E9%87%91%E8%9E%8D&page=79\n"
     ]
    },
    {
     "name": "stderr",
     "output_type": "stream",
     "text": [
      " 55%|████████████████████████████████████████████▎                                    | 82/150 [00:59<00:51,  1.33it/s]"
     ]
    },
    {
     "name": "stdout",
     "output_type": "stream",
     "text": [
      "目前爬取頁面是：https://www.1111.com.tw/job-bank/job-index.asp?si=1&ss=s&ks=%E9%87%91%E8%9E%8D&page=80\n",
      "目前爬取頁面是：https://www.1111.com.tw/job-bank/job-index.asp?si=1&ss=s&ks=%E9%87%91%E8%9E%8D&page=81\n",
      "目前爬取頁面是：https://www.1111.com.tw/job-bank/job-index.asp?si=1&ss=s&ks=%E9%87%91%E8%9E%8D&page=82\n",
      "目前爬取頁面是：https://www.1111.com.tw/job-bank/job-index.asp?si=1&ss=s&ks=%E9%87%91%E8%9E%8D&page=83\n"
     ]
    },
    {
     "name": "stderr",
     "output_type": "stream",
     "text": [
      "\r",
      " 56%|█████████████████████████████████████████████▎                                   | 84/150 [01:00<00:48,  1.36it/s]"
     ]
    },
    {
     "name": "stdout",
     "output_type": "stream",
     "text": [
      "目前爬取頁面是：https://www.1111.com.tw/job-bank/job-index.asp?si=1&ss=s&ks=%E9%87%91%E8%9E%8D&page=84\n",
      "目前爬取頁面是：https://www.1111.com.tw/job-bank/job-index.asp?si=1&ss=s&ks=%E9%87%91%E8%9E%8D&page=85\n"
     ]
    },
    {
     "name": "stderr",
     "output_type": "stream",
     "text": [
      " 59%|███████████████████████████████████████████████▌                                 | 88/150 [01:02<00:34,  1.80it/s]"
     ]
    },
    {
     "name": "stdout",
     "output_type": "stream",
     "text": [
      "目前爬取頁面是：https://www.1111.com.tw/job-bank/job-index.asp?si=1&ss=s&ks=%E9%87%91%E8%9E%8D&page=86\n",
      "目前爬取頁面是：https://www.1111.com.tw/job-bank/job-index.asp?si=1&ss=s&ks=%E9%87%91%E8%9E%8D&page=87\n",
      "目前爬取頁面是：https://www.1111.com.tw/job-bank/job-index.asp?si=1&ss=s&ks=%E9%87%91%E8%9E%8D&page=88\n"
     ]
    },
    {
     "name": "stderr",
     "output_type": "stream",
     "text": [
      "\r",
      " 59%|████████████████████████████████████████████████                                 | 89/150 [01:03<00:48,  1.27it/s]"
     ]
    },
    {
     "name": "stdout",
     "output_type": "stream",
     "text": [
      "目前爬取頁面是：https://www.1111.com.tw/job-bank/job-index.asp?si=1&ss=s&ks=%E9%87%91%E8%9E%8D&page=89\n"
     ]
    },
    {
     "name": "stderr",
     "output_type": "stream",
     "text": [
      "\r",
      " 60%|████████████████████████████████████████████████▌                                | 90/150 [01:04<00:52,  1.15it/s]"
     ]
    },
    {
     "name": "stdout",
     "output_type": "stream",
     "text": [
      "目前爬取頁面是：https://www.1111.com.tw/job-bank/job-index.asp?si=1&ss=s&ks=%E9%87%91%E8%9E%8D&page=90\n"
     ]
    },
    {
     "name": "stderr",
     "output_type": "stream",
     "text": [
      "\r",
      " 61%|█████████████████████████████████████████████████▏                               | 91/150 [01:06<00:59,  1.00s/it]"
     ]
    },
    {
     "name": "stdout",
     "output_type": "stream",
     "text": [
      "目前爬取頁面是：https://www.1111.com.tw/job-bank/job-index.asp?si=1&ss=s&ks=%E9%87%91%E8%9E%8D&page=91\n",
      "目前爬取頁面是：https://www.1111.com.tw/job-bank/job-index.asp?si=1&ss=s&ks=%E9%87%91%E8%9E%8D&page=92\n",
      "目前爬取頁面是：https://www.1111.com.tw/job-bank/job-index.asp?si=1&ss=s&ks=%E9%87%91%E8%9E%8D&page=93"
     ]
    },
    {
     "name": "stderr",
     "output_type": "stream",
     "text": [
      "\r",
      " 62%|██████████████████████████████████████████████████▏                              | 93/150 [01:06<00:41,  1.37it/s]"
     ]
    },
    {
     "name": "stdout",
     "output_type": "stream",
     "text": [
      "\n"
     ]
    },
    {
     "name": "stderr",
     "output_type": "stream",
     "text": [
      "\r",
      " 63%|██████████████████████████████████████████████████▊                              | 94/150 [01:08<00:56,  1.02s/it]"
     ]
    },
    {
     "name": "stdout",
     "output_type": "stream",
     "text": [
      "目前爬取頁面是：https://www.1111.com.tw/job-bank/job-index.asp?si=1&ss=s&ks=%E9%87%91%E8%9E%8D&page=94\n"
     ]
    },
    {
     "name": "stderr",
     "output_type": "stream",
     "text": [
      "\r",
      " 63%|███████████████████████████████████████████████████▎                             | 95/150 [01:09<01:05,  1.19s/it]"
     ]
    },
    {
     "name": "stdout",
     "output_type": "stream",
     "text": [
      "目前爬取頁面是：https://www.1111.com.tw/job-bank/job-index.asp?si=1&ss=s&ks=%E9%87%91%E8%9E%8D&page=95\n"
     ]
    },
    {
     "name": "stderr",
     "output_type": "stream",
     "text": [
      "\r",
      " 64%|███████████████████████████████████████████████████▊                             | 96/150 [01:11<01:13,  1.36s/it]"
     ]
    },
    {
     "name": "stdout",
     "output_type": "stream",
     "text": [
      "目前爬取頁面是：https://www.1111.com.tw/job-bank/job-index.asp?si=1&ss=s&ks=%E9%87%91%E8%9E%8D&page=96\n"
     ]
    },
    {
     "name": "stderr",
     "output_type": "stream",
     "text": [
      " 66%|█████████████████████████████████████████████████████▍                           | 99/150 [01:12<00:47,  1.08it/s]"
     ]
    },
    {
     "name": "stdout",
     "output_type": "stream",
     "text": [
      "目前爬取頁面是：https://www.1111.com.tw/job-bank/job-index.asp?si=1&ss=s&ks=%E9%87%91%E8%9E%8D&page=97\n",
      "目前爬取頁面是：https://www.1111.com.tw/job-bank/job-index.asp?si=1&ss=s&ks=%E9%87%91%E8%9E%8D&page=98\n",
      "目前爬取頁面是：https://www.1111.com.tw/job-bank/job-index.asp?si=1&ss=s&ks=%E9%87%91%E8%9E%8D&page=99\n"
     ]
    },
    {
     "name": "stderr",
     "output_type": "stream",
     "text": [
      "\r",
      " 67%|█████████████████████████████████████████████████████▎                          | 100/150 [01:14<00:57,  1.14s/it]"
     ]
    },
    {
     "name": "stdout",
     "output_type": "stream",
     "text": [
      "目前爬取頁面是：https://www.1111.com.tw/job-bank/job-index.asp?si=1&ss=s&ks=%E9%87%91%E8%9E%8D&page=100\n"
     ]
    },
    {
     "name": "stderr",
     "output_type": "stream",
     "text": [
      "\r",
      " 67%|█████████████████████████████████████████████████████▊                          | 101/150 [01:15<00:56,  1.15s/it]"
     ]
    },
    {
     "name": "stdout",
     "output_type": "stream",
     "text": [
      "目前爬取頁面是：https://www.1111.com.tw/job-bank/job-index.asp?si=1&ss=s&ks=%E9%87%91%E8%9E%8D&page=101\n"
     ]
    },
    {
     "name": "stderr",
     "output_type": "stream",
     "text": [
      "\r",
      " 68%|██████████████████████████████████████████████████████▍                         | 102/150 [01:17<01:03,  1.33s/it]"
     ]
    },
    {
     "name": "stdout",
     "output_type": "stream",
     "text": [
      "目前爬取頁面是：https://www.1111.com.tw/job-bank/job-index.asp?si=1&ss=s&ks=%E9%87%91%E8%9E%8D&page=102\n"
     ]
    },
    {
     "name": "stderr",
     "output_type": "stream",
     "text": [
      "\r",
      " 69%|██████████████████████████████████████████████████████▉                         | 103/150 [01:18<00:57,  1.21s/it]"
     ]
    },
    {
     "name": "stdout",
     "output_type": "stream",
     "text": [
      "目前爬取頁面是：https://www.1111.com.tw/job-bank/job-index.asp?si=1&ss=s&ks=%E9%87%91%E8%9E%8D&page=103\n"
     ]
    },
    {
     "name": "stderr",
     "output_type": "stream",
     "text": [
      "\r",
      " 69%|███████████████████████████████████████████████████████▍                        | 104/150 [01:19<00:55,  1.21s/it]"
     ]
    },
    {
     "name": "stdout",
     "output_type": "stream",
     "text": [
      "目前爬取頁面是：https://www.1111.com.tw/job-bank/job-index.asp?si=1&ss=s&ks=%E9%87%91%E8%9E%8D&page=104\n"
     ]
    },
    {
     "name": "stderr",
     "output_type": "stream",
     "text": [
      "\r",
      " 70%|████████████████████████████████████████████████████████                        | 105/150 [01:20<00:53,  1.19s/it]"
     ]
    },
    {
     "name": "stdout",
     "output_type": "stream",
     "text": [
      "目前爬取頁面是：https://www.1111.com.tw/job-bank/job-index.asp?si=1&ss=s&ks=%E9%87%91%E8%9E%8D&page=105\n",
      "目前爬取頁面是：https://www.1111.com.tw/job-bank/job-index.asp?si=1&ss=s&ks=%E9%87%91%E8%9E%8D&page=106\n"
     ]
    },
    {
     "name": "stderr",
     "output_type": "stream",
     "text": [
      "\r",
      " 71%|█████████████████████████████████████████████████████████                       | 107/150 [01:21<00:45,  1.05s/it]"
     ]
    },
    {
     "name": "stdout",
     "output_type": "stream",
     "text": [
      "目前爬取頁面是：https://www.1111.com.tw/job-bank/job-index.asp?si=1&ss=s&ks=%E9%87%91%E8%9E%8D&page=107\n"
     ]
    },
    {
     "name": "stderr",
     "output_type": "stream",
     "text": [
      "\r",
      " 72%|█████████████████████████████████████████████████████████▌                      | 108/150 [01:23<00:51,  1.22s/it]"
     ]
    },
    {
     "name": "stdout",
     "output_type": "stream",
     "text": [
      "目前爬取頁面是：https://www.1111.com.tw/job-bank/job-index.asp?si=1&ss=s&ks=%E9%87%91%E8%9E%8D&page=108\n"
     ]
    },
    {
     "name": "stderr",
     "output_type": "stream",
     "text": [
      " 74%|███████████████████████████████████████████████████████████▏                    | 111/150 [01:24<00:30,  1.29it/s]"
     ]
    },
    {
     "name": "stdout",
     "output_type": "stream",
     "text": [
      "目前爬取頁面是：https://www.1111.com.tw/job-bank/job-index.asp?si=1&ss=s&ks=%E9%87%91%E8%9E%8D&page=109\n",
      "目前爬取頁面是：https://www.1111.com.tw/job-bank/job-index.asp?si=1&ss=s&ks=%E9%87%91%E8%9E%8D&page=110\n",
      "目前爬取頁面是：https://www.1111.com.tw/job-bank/job-index.asp?si=1&ss=s&ks=%E9%87%91%E8%9E%8D&page=111\n"
     ]
    },
    {
     "name": "stderr",
     "output_type": "stream",
     "text": [
      "\r",
      " 75%|███████████████████████████████████████████████████████████▋                    | 112/150 [01:25<00:32,  1.16it/s]"
     ]
    },
    {
     "name": "stdout",
     "output_type": "stream",
     "text": [
      "目前爬取頁面是：https://www.1111.com.tw/job-bank/job-index.asp?si=1&ss=s&ks=%E9%87%91%E8%9E%8D&page=112\n"
     ]
    },
    {
     "name": "stderr",
     "output_type": "stream",
     "text": [
      "\r",
      " 75%|████████████████████████████████████████████████████████████▎                   | 113/150 [01:26<00:35,  1.04it/s]"
     ]
    },
    {
     "name": "stdout",
     "output_type": "stream",
     "text": [
      "目前爬取頁面是：https://www.1111.com.tw/job-bank/job-index.asp?si=1&ss=s&ks=%E9%87%91%E8%9E%8D&page=113\n"
     ]
    },
    {
     "name": "stderr",
     "output_type": "stream",
     "text": [
      "\r",
      " 76%|████████████████████████████████████████████████████████████▊                   | 114/150 [01:27<00:31,  1.13it/s]"
     ]
    },
    {
     "name": "stdout",
     "output_type": "stream",
     "text": [
      "目前爬取頁面是：https://www.1111.com.tw/job-bank/job-index.asp?si=1&ss=s&ks=%E9%87%91%E8%9E%8D&page=114\n",
      "目前爬取頁面是：https://www.1111.com.tw/job-bank/job-index.asp?si=1&ss=s&ks=%E9%87%91%E8%9E%8D&page=115\n",
      "目前爬取頁面是：https://www.1111.com.tw/job-bank/job-index.asp?si=1&ss=s&ks=%E9%87%91%E8%9E%8D&page=116\n"
     ]
    },
    {
     "name": "stderr",
     "output_type": "stream",
     "text": [
      "\r",
      " 77%|█████████████████████████████████████████████████████████████▊                  | 116/150 [01:27<00:22,  1.54it/s]"
     ]
    },
    {
     "name": "stdout",
     "output_type": "stream",
     "text": [
      "目前爬取頁面是：https://www.1111.com.tw/job-bank/job-index.asp?si=1&ss=s&ks=%E9%87%91%E8%9E%8D&page=117\n",
      "目前爬取頁面是：https://www.1111.com.tw/job-bank/job-index.asp?si=1&ss=s&ks=%E9%87%91%E8%9E%8D&page=118\n"
     ]
    },
    {
     "name": "stderr",
     "output_type": "stream",
     "text": [
      " 79%|███████████████████████████████████████████████████████████████▍                | 119/150 [01:28<00:20,  1.54it/s]"
     ]
    },
    {
     "name": "stdout",
     "output_type": "stream",
     "text": [
      "目前爬取頁面是：https://www.1111.com.tw/job-bank/job-index.asp?si=1&ss=s&ks=%E9%87%91%E8%9E%8D&page=119\n"
     ]
    },
    {
     "name": "stderr",
     "output_type": "stream",
     "text": [
      "\r",
      " 80%|████████████████████████████████████████████████████████████████                | 120/150 [01:30<00:25,  1.17it/s]"
     ]
    },
    {
     "name": "stdout",
     "output_type": "stream",
     "text": [
      "目前爬取頁面是：https://www.1111.com.tw/job-bank/job-index.asp?si=1&ss=s&ks=%E9%87%91%E8%9E%8D&page=120\n"
     ]
    },
    {
     "name": "stderr",
     "output_type": "stream",
     "text": [
      "\r",
      " 81%|████████████████████████████████████████████████████████████████▌               | 121/150 [01:31<00:25,  1.14it/s]"
     ]
    },
    {
     "name": "stdout",
     "output_type": "stream",
     "text": [
      "目前爬取頁面是：https://www.1111.com.tw/job-bank/job-index.asp?si=1&ss=s&ks=%E9%87%91%E8%9E%8D&page=121\n"
     ]
    },
    {
     "name": "stderr",
     "output_type": "stream",
     "text": [
      "\r",
      " 81%|█████████████████████████████████████████████████████████████████               | 122/150 [01:32<00:28,  1.01s/it]"
     ]
    },
    {
     "name": "stdout",
     "output_type": "stream",
     "text": [
      "目前爬取頁面是：https://www.1111.com.tw/job-bank/job-index.asp?si=1&ss=s&ks=%E9%87%91%E8%9E%8D&page=122\n"
     ]
    },
    {
     "name": "stderr",
     "output_type": "stream",
     "text": [
      "\r",
      " 82%|█████████████████████████████████████████████████████████████████▌              | 123/150 [01:33<00:29,  1.08s/it]"
     ]
    },
    {
     "name": "stdout",
     "output_type": "stream",
     "text": [
      "目前爬取頁面是：https://www.1111.com.tw/job-bank/job-index.asp?si=1&ss=s&ks=%E9%87%91%E8%9E%8D&page=123\n",
      "目前爬取頁面是：https://www.1111.com.tw/job-bank/job-index.asp?si=1&ss=s&ks=%E9%87%91%E8%9E%8D&page=124\n"
     ]
    },
    {
     "name": "stderr",
     "output_type": "stream",
     "text": [
      "\r",
      " 83%|██████████████████████████████████████████████████████████████████▋             | 125/150 [01:35<00:25,  1.02s/it]"
     ]
    },
    {
     "name": "stdout",
     "output_type": "stream",
     "text": [
      "目前爬取頁面是：https://www.1111.com.tw/job-bank/job-index.asp?si=1&ss=s&ks=%E9%87%91%E8%9E%8D&page=125\n"
     ]
    },
    {
     "name": "stderr",
     "output_type": "stream",
     "text": [
      " 85%|████████████████████████████████████████████████████████████████████▎           | 128/150 [01:37<00:19,  1.15it/s]"
     ]
    },
    {
     "name": "stdout",
     "output_type": "stream",
     "text": [
      "目前爬取頁面是：https://www.1111.com.tw/job-bank/job-index.asp?si=1&ss=s&ks=%E9%87%91%E8%9E%8D&page=126\n",
      "目前爬取頁面是：https://www.1111.com.tw/job-bank/job-index.asp?si=1&ss=s&ks=%E9%87%91%E8%9E%8D&page=127\n",
      "目前爬取頁面是：https://www.1111.com.tw/job-bank/job-index.asp?si=1&ss=s&ks=%E9%87%91%E8%9E%8D&page=128\n"
     ]
    },
    {
     "name": "stderr",
     "output_type": "stream",
     "text": [
      "\r",
      " 86%|████████████████████████████████████████████████████████████████████▊           | 129/150 [01:38<00:18,  1.15it/s]"
     ]
    },
    {
     "name": "stdout",
     "output_type": "stream",
     "text": [
      "目前爬取頁面是：https://www.1111.com.tw/job-bank/job-index.asp?si=1&ss=s&ks=%E9%87%91%E8%9E%8D&page=129\n"
     ]
    },
    {
     "name": "stderr",
     "output_type": "stream",
     "text": [
      "\r",
      " 87%|█████████████████████████████████████████████████████████████████████▎          | 130/150 [01:39<00:19,  1.01it/s]"
     ]
    },
    {
     "name": "stdout",
     "output_type": "stream",
     "text": [
      "目前爬取頁面是：https://www.1111.com.tw/job-bank/job-index.asp?si=1&ss=s&ks=%E9%87%91%E8%9E%8D&page=130\n"
     ]
    },
    {
     "name": "stderr",
     "output_type": "stream",
     "text": [
      "\r",
      " 87%|█████████████████████████████████████████████████████████████████████▊          | 131/150 [01:40<00:20,  1.10s/it]"
     ]
    },
    {
     "name": "stdout",
     "output_type": "stream",
     "text": [
      "目前爬取頁面是：https://www.1111.com.tw/job-bank/job-index.asp?si=1&ss=s&ks=%E9%87%91%E8%9E%8D&page=131\n"
     ]
    },
    {
     "name": "stderr",
     "output_type": "stream",
     "text": [
      " 89%|███████████████████████████████████████████████████████████████████████▍        | 134/150 [01:42<00:14,  1.12it/s]"
     ]
    },
    {
     "name": "stdout",
     "output_type": "stream",
     "text": [
      "目前爬取頁面是：https://www.1111.com.tw/job-bank/job-index.asp?si=1&ss=s&ks=%E9%87%91%E8%9E%8D&page=132\n",
      "目前爬取頁面是：https://www.1111.com.tw/job-bank/job-index.asp?si=1&ss=s&ks=%E9%87%91%E8%9E%8D&page=133\n",
      "目前爬取頁面是：https://www.1111.com.tw/job-bank/job-index.asp?si=1&ss=s&ks=%E9%87%91%E8%9E%8D&page=134\n",
      "目前爬取頁面是：https://www.1111.com.tw/job-bank/job-index.asp?si=1&ss=s&ks=%E9%87%91%E8%9E%8D&page=135\n"
     ]
    },
    {
     "name": "stderr",
     "output_type": "stream",
     "text": [
      "\r",
      " 91%|████████████████████████████████████████████████████████████████████████▌       | 136/150 [01:44<00:11,  1.17it/s]"
     ]
    },
    {
     "name": "stdout",
     "output_type": "stream",
     "text": [
      "目前爬取頁面是：https://www.1111.com.tw/job-bank/job-index.asp?si=1&ss=s&ks=%E9%87%91%E8%9E%8D&page=136\n"
     ]
    },
    {
     "name": "stderr",
     "output_type": "stream",
     "text": [
      "\r",
      " 91%|█████████████████████████████████████████████████████████████████████████       | 137/150 [01:44<00:10,  1.23it/s]"
     ]
    },
    {
     "name": "stdout",
     "output_type": "stream",
     "text": [
      "目前爬取頁面是：https://www.1111.com.tw/job-bank/job-index.asp?si=1&ss=s&ks=%E9%87%91%E8%9E%8D&page=137\n"
     ]
    },
    {
     "name": "stderr",
     "output_type": "stream",
     "text": [
      "\r",
      " 92%|█████████████████████████████████████████████████████████████████████████▌      | 138/150 [01:45<00:09,  1.32it/s]"
     ]
    },
    {
     "name": "stdout",
     "output_type": "stream",
     "text": [
      "目前爬取頁面是：https://www.1111.com.tw/job-bank/job-index.asp?si=1&ss=s&ks=%E9%87%91%E8%9E%8D&page=138\n"
     ]
    },
    {
     "name": "stderr",
     "output_type": "stream",
     "text": [
      "\r",
      " 93%|██████████████████████████████████████████████████████████████████████████▏     | 139/150 [01:46<00:09,  1.21it/s]"
     ]
    },
    {
     "name": "stdout",
     "output_type": "stream",
     "text": [
      "目前爬取頁面是：https://www.1111.com.tw/job-bank/job-index.asp?si=1&ss=s&ks=%E9%87%91%E8%9E%8D&page=139\n",
      "目前爬取頁面是：https://www.1111.com.tw/job-bank/job-index.asp?si=1&ss=s&ks=%E9%87%91%E8%9E%8D&page=140\n"
     ]
    },
    {
     "name": "stderr",
     "output_type": "stream",
     "text": [
      " 95%|████████████████████████████████████████████████████████████████████████████▎   | 143/150 [01:47<00:03,  1.76it/s]"
     ]
    },
    {
     "name": "stdout",
     "output_type": "stream",
     "text": [
      "目前爬取頁面是：https://www.1111.com.tw/job-bank/job-index.asp?si=1&ss=s&ks=%E9%87%91%E8%9E%8D&page=141\n",
      "目前爬取頁面是：https://www.1111.com.tw/job-bank/job-index.asp?si=1&ss=s&ks=%E9%87%91%E8%9E%8D&page=142\n",
      "目前爬取頁面是：https://www.1111.com.tw/job-bank/job-index.asp?si=1&ss=s&ks=%E9%87%91%E8%9E%8D&page=143\n",
      "目前爬取頁面是：https://www.1111.com.tw/job-bank/job-index.asp?si=1&ss=s&ks=%E9%87%91%E8%9E%8D&page=144\n"
     ]
    },
    {
     "name": "stderr",
     "output_type": "stream",
     "text": [
      "\r",
      " 97%|█████████████████████████████████████████████████████████████████████████████▎  | 145/150 [01:48<00:02,  1.85it/s]"
     ]
    },
    {
     "name": "stdout",
     "output_type": "stream",
     "text": [
      "目前爬取頁面是：https://www.1111.com.tw/job-bank/job-index.asp?si=1&ss=s&ks=%E9%87%91%E8%9E%8D&page=145\n"
     ]
    },
    {
     "name": "stderr",
     "output_type": "stream",
     "text": [
      "\r",
      " 97%|█████████████████████████████████████████████████████████████████████████████▊  | 146/150 [01:50<00:03,  1.26it/s]"
     ]
    },
    {
     "name": "stdout",
     "output_type": "stream",
     "text": [
      "目前爬取頁面是：https://www.1111.com.tw/job-bank/job-index.asp?si=1&ss=s&ks=%E9%87%91%E8%9E%8D&page=146\n"
     ]
    },
    {
     "name": "stderr",
     "output_type": "stream",
     "text": [
      "\r",
      " 98%|██████████████████████████████████████████████████████████████████████████████▍ | 147/150 [01:51<00:02,  1.04it/s]"
     ]
    },
    {
     "name": "stdout",
     "output_type": "stream",
     "text": [
      "目前爬取頁面是：https://www.1111.com.tw/job-bank/job-index.asp?si=1&ss=s&ks=%E9%87%91%E8%9E%8D&page=147\n"
     ]
    },
    {
     "name": "stderr",
     "output_type": "stream",
     "text": [
      "100%|████████████████████████████████████████████████████████████████████████████████| 150/150 [01:53<00:00,  1.32it/s]"
     ]
    },
    {
     "name": "stdout",
     "output_type": "stream",
     "text": [
      "目前爬取頁面是：https://www.1111.com.tw/job-bank/job-index.asp?si=1&ss=s&ks=%E9%87%91%E8%9E%8D&page=148\n",
      "目前爬取頁面是：https://www.1111.com.tw/job-bank/job-index.asp?si=1&ss=s&ks=%E9%87%91%E8%9E%8D&page=149\n",
      "目前爬取頁面是：https://www.1111.com.tw/job-bank/job-index.asp?si=1&ss=s&ks=%E9%87%91%E8%9E%8D&page=150\n",
      "爬取1111完成：請開啟csv檔案\n"
     ]
    },
    {
     "name": "stderr",
     "output_type": "stream",
     "text": [
      "\n"
     ]
    }
   ],
   "source": [
    "find_key = '金融'\n",
    "find_title_104(find_key)\n",
    "find_title_1111(find_key)"
   ]
  },
  {
   "cell_type": "markdown",
   "metadata": {},
   "source": [
    "# Pandas 過濾工作"
   ]
  },
  {
   "cell_type": "code",
   "execution_count": 4,
   "metadata": {},
   "outputs": [
    {
     "data": {
      "text/plain": [
       "['jobs_csv\\\\2020-06-05金融_104人力銀行.csv',\n",
       " 'jobs_csv\\\\2020-06-05金融_1111人力銀行.csv',\n",
       " 'jobs_csv\\\\2020-07-06金融_104人力銀行.csv',\n",
       " 'jobs_csv\\\\2020-07-06金融_1111人力銀行.csv']"
      ]
     },
     "execution_count": 4,
     "metadata": {},
     "output_type": "execute_result"
    }
   ],
   "source": [
    "import glob\n",
    "glob.glob('jobs_csv/*.csv')"
   ]
  },
  {
   "cell_type": "code",
   "execution_count": 5,
   "metadata": {},
   "outputs": [],
   "source": [
    "#讀取爬取到的資料\n",
    "get_file_name = glob.glob('jobs_csv/*.csv')\n",
    "data_104 = pd.read_csv(get_file_name[2])\n",
    "data_1111 = pd.read_csv(get_file_name[3])"
   ]
  },
  {
   "cell_type": "markdown",
   "metadata": {},
   "source": [
    "查看資料"
   ]
  },
  {
   "cell_type": "code",
   "execution_count": 6,
   "metadata": {},
   "outputs": [
    {
     "data": {
      "text/html": [
       "<div>\n",
       "<style scoped>\n",
       "    .dataframe tbody tr th:only-of-type {\n",
       "        vertical-align: middle;\n",
       "    }\n",
       "\n",
       "    .dataframe tbody tr th {\n",
       "        vertical-align: top;\n",
       "    }\n",
       "\n",
       "    .dataframe thead th {\n",
       "        text-align: right;\n",
       "    }\n",
       "</style>\n",
       "<table border=\"1\" class=\"dataframe\">\n",
       "  <thead>\n",
       "    <tr style=\"text-align: right;\">\n",
       "      <th></th>\n",
       "      <th>日期</th>\n",
       "      <th>工作名稱</th>\n",
       "      <th>公司名稱</th>\n",
       "      <th>公司地址</th>\n",
       "      <th>薪資</th>\n",
       "      <th>工作內容</th>\n",
       "      <th>地區</th>\n",
       "      <th>經歷</th>\n",
       "      <th>學歷</th>\n",
       "      <th>工作網址</th>\n",
       "    </tr>\n",
       "  </thead>\n",
       "  <tbody>\n",
       "    <tr>\n",
       "      <th>0</th>\n",
       "      <td>2020-06-23</td>\n",
       "      <td>電話行銷客服人員-保障底薪+獎金+供餐</td>\n",
       "      <td>全球華人股份有限公司(1111人力銀行)</td>\n",
       "      <td>台北市松山區南京東路</td>\n",
       "      <td>25,000</td>\n",
       "      <td>1.內勤電話開發潛在客戶，拓展市場，以達成業績目標。 2.負責業務推展接洽及訂單處理。 3....</td>\n",
       "      <td>台北市松山區</td>\n",
       "      <td>1年工作經驗以上</td>\n",
       "      <td>高中職,專科,大學,碩士,博士</td>\n",
       "      <td>https://www.1111.com.tw/job/85973247/</td>\n",
       "    </tr>\n",
       "    <tr>\n",
       "      <th>1</th>\n",
       "      <td>2020-06-09</td>\n",
       "      <td>教育訓練師</td>\n",
       "      <td>全球華人股份有限公司高雄分公司(1111人力銀行高雄分公司)</td>\n",
       "      <td>高雄市前金區中山二路</td>\n",
       "      <td>30,000</td>\n",
       "      <td>1.負責新進員工電話行銷教育訓練。2.電話行銷課程規劃執行、教材製作、學習績效評估。3.新進...</td>\n",
       "      <td>高雄市前金區</td>\n",
       "      <td>1年工作經驗以上</td>\n",
       "      <td>專科,大學</td>\n",
       "      <td>https://www.1111.com.tw/job/86023657/</td>\n",
       "    </tr>\n",
       "    <tr>\n",
       "      <th>2</th>\n",
       "      <td>2020-06-08</td>\n",
       "      <td>電銷客服專員【週休二日】</td>\n",
       "      <td>全球華人股份有限公司高雄分公司(1111人力銀行高雄分公司)</td>\n",
       "      <td>高雄市前金區中山二路</td>\n",
       "      <td>25,000</td>\n",
       "      <td>你喜歡講話嗎?快加入我們你喜歡賺錢嗎?快加入我們你喜歡廣結善緣嗎?快加入我們你喜歡學習成長嗎...</td>\n",
       "      <td>高雄市前金區</td>\n",
       "      <td>經驗不拘</td>\n",
       "      <td>高中職,專科,大學,碩士</td>\n",
       "      <td>https://www.1111.com.tw/job/86023633/</td>\n",
       "    </tr>\n",
       "    <tr>\n",
       "      <th>3</th>\n",
       "      <td>2020-07-02</td>\n",
       "      <td>會計記帳人員</td>\n",
       "      <td>仕展記帳士事務所</td>\n",
       "      <td>桃園市中壢區寧夏二街</td>\n",
       "      <td>25,000</td>\n",
       "      <td>1.在會計原則之下，從事辦理會計、財務處理記錄等工作。2.代客記帳及稅務申報業務3.協助各項...</td>\n",
       "      <td>桃園市中壢區</td>\n",
       "      <td>經驗不拘</td>\n",
       "      <td>專科,大學,碩士</td>\n",
       "      <td>https://www.1111.com.tw/job/85204068/</td>\n",
       "    </tr>\n",
       "    <tr>\n",
       "      <th>4</th>\n",
       "      <td>2020-07-06</td>\n",
       "      <td>會計助理/專員</td>\n",
       "      <td>金盟營造有限公司</td>\n",
       "      <td>台北市中山區明水路</td>\n",
       "      <td>26,000</td>\n",
       "      <td>1. 收發、記錄及彙整憑證，登錄至會計軟體。2. 審核發票、單據及一般會計帳務處理。3. 處...</td>\n",
       "      <td>台北市中山區</td>\n",
       "      <td>1年工作經驗以上</td>\n",
       "      <td>大學,碩士,博士</td>\n",
       "      <td>https://www.1111.com.tw/job/85985749/</td>\n",
       "    </tr>\n",
       "  </tbody>\n",
       "</table>\n",
       "</div>"
      ],
      "text/plain": [
       "           日期                 工作名稱                            公司名稱  \\\n",
       "0  2020-06-23  電話行銷客服人員-保障底薪+獎金+供餐            全球華人股份有限公司(1111人力銀行)   \n",
       "1  2020-06-09                教育訓練師  全球華人股份有限公司高雄分公司(1111人力銀行高雄分公司)   \n",
       "2  2020-06-08         電銷客服專員【週休二日】  全球華人股份有限公司高雄分公司(1111人力銀行高雄分公司)   \n",
       "3  2020-07-02               會計記帳人員                        仕展記帳士事務所   \n",
       "4  2020-07-06              會計助理/專員                        金盟營造有限公司   \n",
       "\n",
       "         公司地址      薪資                                               工作內容  \\\n",
       "0  台北市松山區南京東路  25,000  1.內勤電話開發潛在客戶，拓展市場，以達成業績目標。 2.負責業務推展接洽及訂單處理。 3....   \n",
       "1  高雄市前金區中山二路  30,000  1.負責新進員工電話行銷教育訓練。2.電話行銷課程規劃執行、教材製作、學習績效評估。3.新進...   \n",
       "2  高雄市前金區中山二路  25,000  你喜歡講話嗎?快加入我們你喜歡賺錢嗎?快加入我們你喜歡廣結善緣嗎?快加入我們你喜歡學習成長嗎...   \n",
       "3  桃園市中壢區寧夏二街  25,000  1.在會計原則之下，從事辦理會計、財務處理記錄等工作。2.代客記帳及稅務申報業務3.協助各項...   \n",
       "4   台北市中山區明水路  26,000  1. 收發、記錄及彙整憑證，登錄至會計軟體。2. 審核發票、單據及一般會計帳務處理。3. 處...   \n",
       "\n",
       "       地區        經歷               學歷                                   工作網址  \n",
       "0  台北市松山區  1年工作經驗以上  高中職,專科,大學,碩士,博士  https://www.1111.com.tw/job/85973247/  \n",
       "1  高雄市前金區  1年工作經驗以上            專科,大學  https://www.1111.com.tw/job/86023657/  \n",
       "2  高雄市前金區      經驗不拘     高中職,專科,大學,碩士  https://www.1111.com.tw/job/86023633/  \n",
       "3  桃園市中壢區      經驗不拘         專科,大學,碩士  https://www.1111.com.tw/job/85204068/  \n",
       "4  台北市中山區  1年工作經驗以上         大學,碩士,博士  https://www.1111.com.tw/job/85985749/  "
      ]
     },
     "execution_count": 6,
     "metadata": {},
     "output_type": "execute_result"
    }
   ],
   "source": [
    "data_1111.head()"
   ]
  },
  {
   "cell_type": "code",
   "execution_count": 7,
   "metadata": {},
   "outputs": [
    {
     "data": {
      "text/html": [
       "<div>\n",
       "<style scoped>\n",
       "    .dataframe tbody tr th:only-of-type {\n",
       "        vertical-align: middle;\n",
       "    }\n",
       "\n",
       "    .dataframe tbody tr th {\n",
       "        vertical-align: top;\n",
       "    }\n",
       "\n",
       "    .dataframe thead th {\n",
       "        text-align: right;\n",
       "    }\n",
       "</style>\n",
       "<table border=\"1\" class=\"dataframe\">\n",
       "  <thead>\n",
       "    <tr style=\"text-align: right;\">\n",
       "      <th></th>\n",
       "      <th>日期</th>\n",
       "      <th>工作名稱</th>\n",
       "      <th>公司名稱</th>\n",
       "      <th>公司地址</th>\n",
       "      <th>薪資</th>\n",
       "      <th>工作內容</th>\n",
       "      <th>地區</th>\n",
       "      <th>經歷</th>\n",
       "      <th>學歷</th>\n",
       "      <th>公司人數</th>\n",
       "      <th>文章編號</th>\n",
       "      <th>工作網址</th>\n",
       "    </tr>\n",
       "  </thead>\n",
       "  <tbody>\n",
       "    <tr>\n",
       "      <th>0</th>\n",
       "      <td>廣告</td>\n",
       "      <td>富邦行銷/富昇保代-電話行銷專員(台南/高雄)</td>\n",
       "      <td>富邦行銷股份有限公司</td>\n",
       "      <td>台南市中西區民生路二段279號5樓</td>\n",
       "      <td>25,000</td>\n",
       "      <td>1.屬全職辦公室內勤、正職人員編制。 2.專責電話線上商品行銷與服務之工作，不出差外訪，無需...</td>\n",
       "      <td>台南市中西區</td>\n",
       "      <td>經歷不拘</td>\n",
       "      <td>高中</td>\n",
       "      <td>員工400人</td>\n",
       "      <td>56so8</td>\n",
       "      <td>www.104.com.tw/job/56so8?jobsource=hotjob_chr</td>\n",
       "    </tr>\n",
       "    <tr>\n",
       "      <th>1</th>\n",
       "      <td>廣告</td>\n",
       "      <td>行銷專員CA(正職)</td>\n",
       "      <td>富邦人壽保險股份有限公司-中辰通訊處(核准文號109A01號)</td>\n",
       "      <td>台中市西屯區市政路386號26樓之3中辰通訊處</td>\n",
       "      <td>158</td>\n",
       "      <td>歡迎尋求成長機會，肯吃苦、肯努力、挑戰高薪的您加入。1.銷售人身保險商品、客戶經營服務並提供...</td>\n",
       "      <td>台中市西屯區</td>\n",
       "      <td>經歷不拘</td>\n",
       "      <td>高中</td>\n",
       "      <td>員工27825人</td>\n",
       "      <td>5aifk</td>\n",
       "      <td>www.104.com.tw/job/5aifk?jobsource=hotjob_chr</td>\n",
       "    </tr>\n",
       "    <tr>\n",
       "      <th>2</th>\n",
       "      <td>廣告</td>\n",
       "      <td>Branch Universal Sales_全方位金融服務專員_台北(無經驗可_完整培訓_...</td>\n",
       "      <td>花旗(台灣) 商業銀行股份有限公司</td>\n",
       "      <td>台北市中山區德惠街9號</td>\n",
       "      <td>26,000</td>\n",
       "      <td>1.透過駐點花旗分行開發客戶，提供信用卡 / 信用貸款 / 銀行帳戶，針對客戶需求推薦最適當...</td>\n",
       "      <td>台北市中山區</td>\n",
       "      <td>經歷不拘</td>\n",
       "      <td>專科</td>\n",
       "      <td>外商公司</td>\n",
       "      <td>3w4bi</td>\n",
       "      <td>www.104.com.tw/job/3w4bi?jobsource=hotjob_chr</td>\n",
       "    </tr>\n",
       "    <tr>\n",
       "      <th>3</th>\n",
       "      <td>廣告</td>\n",
       "      <td>風險控制管理師 Risk Management</td>\n",
       "      <td>智鈦星平台服務有限公司</td>\n",
       "      <td>台北市信義區市民大道六段288號8樓之8</td>\n",
       "      <td>35,000</td>\n",
       "      <td>工作內容：1. 監控日常狀態，並以數據資料產出相關報告管控風險。2. 辨視異常狀況及高風險使...</td>\n",
       "      <td>台北市信義區</td>\n",
       "      <td>1年以上</td>\n",
       "      <td>專科</td>\n",
       "      <td>員工70人</td>\n",
       "      <td>6wyuy</td>\n",
       "      <td>www.104.com.tw/job/6wyuy?jobsource=hotjob_chr</td>\n",
       "    </tr>\n",
       "    <tr>\n",
       "      <th>4</th>\n",
       "      <td>廣告</td>\n",
       "      <td>新光投信-海外基金經理人</td>\n",
       "      <td>新光金融控股股份有限公司(新光金控/新光人壽/新光銀行/新光投信)</td>\n",
       "      <td>台北市中山區南京東路二段123號12樓</td>\n",
       "      <td>待遇面議</td>\n",
       "      <td>1. 海外基金投資管理2. 海外產業、市場研究及個股研究分析3. 協助基金銷售、客戶簡報</td>\n",
       "      <td>台北市中山區</td>\n",
       "      <td>2年以上</td>\n",
       "      <td>碩士</td>\n",
       "      <td>上市上櫃</td>\n",
       "      <td>6spmi</td>\n",
       "      <td>www.104.com.tw/job/6spmi?jobsource=hotjob_chr</td>\n",
       "    </tr>\n",
       "  </tbody>\n",
       "</table>\n",
       "</div>"
      ],
      "text/plain": [
       "   日期                                               工作名稱  \\\n",
       "0  廣告                            富邦行銷/富昇保代-電話行銷專員(台南/高雄)   \n",
       "1  廣告                                         行銷專員CA(正職)   \n",
       "2  廣告  Branch Universal Sales_全方位金融服務專員_台北(無經驗可_完整培訓_...   \n",
       "3  廣告                            風險控制管理師 Risk Management   \n",
       "4  廣告                                       新光投信-海外基金經理人   \n",
       "\n",
       "                                公司名稱                     公司地址      薪資  \\\n",
       "0                         富邦行銷股份有限公司        台南市中西區民生路二段279號5樓  25,000   \n",
       "1    富邦人壽保險股份有限公司-中辰通訊處(核准文號109A01號)  台中市西屯區市政路386號26樓之3中辰通訊處     158   \n",
       "2                  花旗(台灣) 商業銀行股份有限公司              台北市中山區德惠街9號  26,000   \n",
       "3                        智鈦星平台服務有限公司     台北市信義區市民大道六段288號8樓之8  35,000   \n",
       "4  新光金融控股股份有限公司(新光金控/新光人壽/新光銀行/新光投信)      台北市中山區南京東路二段123號12樓    待遇面議   \n",
       "\n",
       "                                                工作內容      地區    經歷  學歷  \\\n",
       "0  1.屬全職辦公室內勤、正職人員編制。 2.專責電話線上商品行銷與服務之工作，不出差外訪，無需...  台南市中西區  經歷不拘  高中   \n",
       "1  歡迎尋求成長機會，肯吃苦、肯努力、挑戰高薪的您加入。1.銷售人身保險商品、客戶經營服務並提供...  台中市西屯區  經歷不拘  高中   \n",
       "2  1.透過駐點花旗分行開發客戶，提供信用卡 / 信用貸款 / 銀行帳戶，針對客戶需求推薦最適當...  台北市中山區  經歷不拘  專科   \n",
       "3  工作內容：1. 監控日常狀態，並以數據資料產出相關報告管控風險。2. 辨視異常狀況及高風險使...  台北市信義區  1年以上  專科   \n",
       "4       1. 海外基金投資管理2. 海外產業、市場研究及個股研究分析3. 協助基金銷售、客戶簡報  台北市中山區  2年以上  碩士   \n",
       "\n",
       "       公司人數   文章編號                                           工作網址  \n",
       "0    員工400人  56so8  www.104.com.tw/job/56so8?jobsource=hotjob_chr  \n",
       "1  員工27825人  5aifk  www.104.com.tw/job/5aifk?jobsource=hotjob_chr  \n",
       "2      外商公司  3w4bi  www.104.com.tw/job/3w4bi?jobsource=hotjob_chr  \n",
       "3     員工70人  6wyuy  www.104.com.tw/job/6wyuy?jobsource=hotjob_chr  \n",
       "4      上市上櫃  6spmi  www.104.com.tw/job/6spmi?jobsource=hotjob_chr  "
      ]
     },
     "execution_count": 7,
     "metadata": {},
     "output_type": "execute_result"
    }
   ],
   "source": [
    "data_104.head()"
   ]
  },
  {
   "cell_type": "markdown",
   "metadata": {},
   "source": [
    "## 選擇想要的資料\n",
    "\n",
    "日期、工作名稱、公司地址、薪資、工作內容、地區、經歷、學歷、工作網址\n",
    "依想要的順序排序"
   ]
  },
  {
   "cell_type": "code",
   "execution_count": 8,
   "metadata": {},
   "outputs": [],
   "source": [
    "new_data_1111 =  data_1111[['日期', '工作名稱', '薪資', '地區', '工作內容', '公司地址', '經歷', '學歷', '工作網址']]\n",
    "new_data_104 = data_104[['日期', '工作名稱', '薪資', '地區', '工作內容', '公司地址', '經歷', '學歷', '工作網址']]"
   ]
  },
  {
   "cell_type": "markdown",
   "metadata": {},
   "source": [
    "## 需要接資料，方便一次過濾資料及處理資料"
   ]
  },
  {
   "cell_type": "code",
   "execution_count": 9,
   "metadata": {},
   "outputs": [
    {
     "name": "stdout",
     "output_type": "stream",
     "text": [
      "104：(2950, 9)\n",
      "1111：(1705, 9)\n"
     ]
    }
   ],
   "source": [
    "#檢查shape \n",
    "print('104：' + str(new_data_104.shape))\n",
    "print('1111：' + str(new_data_1111.shape))\n"
   ]
  },
  {
   "cell_type": "markdown",
   "metadata": {},
   "source": [
    "## 接資料"
   ]
  },
  {
   "cell_type": "code",
   "execution_count": 10,
   "metadata": {},
   "outputs": [],
   "source": [
    "concat_104_1111 = pd.concat([new_data_1111, new_data_104], axis=0)"
   ]
  },
  {
   "cell_type": "code",
   "execution_count": 11,
   "metadata": {},
   "outputs": [
    {
     "data": {
      "text/plain": [
       "(4655, 9)"
      ]
     },
     "execution_count": 11,
     "metadata": {},
     "output_type": "execute_result"
    }
   ],
   "source": [
    "#row數量\n",
    "concat_104_1111.shape\n"
   ]
  },
  {
   "cell_type": "markdown",
   "metadata": {},
   "source": [
    "index重設"
   ]
  },
  {
   "cell_type": "code",
   "execution_count": 12,
   "metadata": {},
   "outputs": [
    {
     "data": {
      "text/html": [
       "<div>\n",
       "<style scoped>\n",
       "    .dataframe tbody tr th:only-of-type {\n",
       "        vertical-align: middle;\n",
       "    }\n",
       "\n",
       "    .dataframe tbody tr th {\n",
       "        vertical-align: top;\n",
       "    }\n",
       "\n",
       "    .dataframe thead th {\n",
       "        text-align: right;\n",
       "    }\n",
       "</style>\n",
       "<table border=\"1\" class=\"dataframe\">\n",
       "  <thead>\n",
       "    <tr style=\"text-align: right;\">\n",
       "      <th></th>\n",
       "      <th>日期</th>\n",
       "      <th>工作名稱</th>\n",
       "      <th>薪資</th>\n",
       "      <th>地區</th>\n",
       "      <th>工作內容</th>\n",
       "      <th>公司地址</th>\n",
       "      <th>經歷</th>\n",
       "      <th>學歷</th>\n",
       "      <th>工作網址</th>\n",
       "    </tr>\n",
       "  </thead>\n",
       "  <tbody>\n",
       "    <tr>\n",
       "      <th>2945</th>\n",
       "      <td>11/22</td>\n",
       "      <td>消金業務分行駐點人員(高雄)</td>\n",
       "      <td>34,000</td>\n",
       "      <td>高雄市左營區</td>\n",
       "      <td>駐點於分行，負責服務消金業務(房貸、信用卡、房貸壽險、產險…等)，提供客戶消金商品諮詢與規劃...</td>\n",
       "      <td>高雄市左營區(工作地點：高雄地區，依公司規定分派單位)</td>\n",
       "      <td>1年以上</td>\n",
       "      <td>專科</td>\n",
       "      <td>www.104.com.tw/job/57y40?jobsource=2018indexpoc</td>\n",
       "    </tr>\n",
       "    <tr>\n",
       "      <th>2946</th>\n",
       "      <td>6/19</td>\n",
       "      <td>會計</td>\n",
       "      <td>35,000</td>\n",
       "      <td>台北市信義區</td>\n",
       "      <td>1. 客戶應收帳務和逾期帳管催收管理 2. 收入帳務處理及發票開立 3. 營業稅調節表編制及...</td>\n",
       "      <td>台北市信義區松仁路100號30樓</td>\n",
       "      <td>3年以上</td>\n",
       "      <td>專科</td>\n",
       "      <td>www.104.com.tw/job/67iug?jobsource=2018indexpoc</td>\n",
       "    </tr>\n",
       "    <tr>\n",
       "      <th>2947</th>\n",
       "      <td>7/05</td>\n",
       "      <td>銀行理專</td>\n",
       "      <td>待遇面議</td>\n",
       "      <td>新北市中和區</td>\n",
       "      <td>\\t1.提供有關證券、債券、市場條件、投資前途及財務狀況等擬投資之資料。 2.分析證券、債券...</td>\n",
       "      <td>新北市中和區連城路</td>\n",
       "      <td>經歷不拘</td>\n",
       "      <td>專科</td>\n",
       "      <td>www.104.com.tw/job/6ro5l?jobsource=2018indexpoc</td>\n",
       "    </tr>\n",
       "    <tr>\n",
       "      <th>2948</th>\n",
       "      <td>6/23</td>\n",
       "      <td>儲備處經理培育專案(承攬性質，非勞動契約)(核准編號X1Q-109-001)</td>\n",
       "      <td>1~9</td>\n",
       "      <td>台北市中正區</td>\n",
       "      <td>儲備處經理專案優勢：「儲備處經理培育專案」是新光人壽專銷制業務單位全新推出之儲備幹部培訓專案...</td>\n",
       "      <td>台北市中正區忠孝西路一段66號17樓</td>\n",
       "      <td>經歷不拘</td>\n",
       "      <td>大學</td>\n",
       "      <td>www.104.com.tw/job/6z5rm?jobsource=2018indexpoc</td>\n",
       "    </tr>\n",
       "    <tr>\n",
       "      <th>2949</th>\n",
       "      <td>6/29</td>\n",
       "      <td>會計</td>\n",
       "      <td>28,000</td>\n",
       "      <td>新北市林口區</td>\n",
       "      <td>1.各項費用支付之帳務處理。2.廠商貨款或費用等應付款項帳務。3.客戶應收款項帳務。4.其他...</td>\n",
       "      <td>新北市林口區中山路81巷1號1樓</td>\n",
       "      <td>2年以上</td>\n",
       "      <td>專科</td>\n",
       "      <td>www.104.com.tw/job/3s95d?jobsource=2018indexpoc</td>\n",
       "    </tr>\n",
       "  </tbody>\n",
       "</table>\n",
       "</div>"
      ],
      "text/plain": [
       "         日期                                    工作名稱      薪資      地區  \\\n",
       "2945  11/22                          消金業務分行駐點人員(高雄)  34,000  高雄市左營區   \n",
       "2946   6/19                                      會計  35,000  台北市信義區   \n",
       "2947   7/05                                    銀行理專    待遇面議  新北市中和區   \n",
       "2948   6/23  儲備處經理培育專案(承攬性質，非勞動契約)(核准編號X1Q-109-001)     1~9  台北市中正區   \n",
       "2949   6/29                                      會計  28,000  新北市林口區   \n",
       "\n",
       "                                                   工作內容  \\\n",
       "2945  駐點於分行，負責服務消金業務(房貸、信用卡、房貸壽險、產險…等)，提供客戶消金商品諮詢與規劃...   \n",
       "2946  1. 客戶應收帳務和逾期帳管催收管理 2. 收入帳務處理及發票開立 3. 營業稅調節表編制及...   \n",
       "2947  \\t1.提供有關證券、債券、市場條件、投資前途及財務狀況等擬投資之資料。 2.分析證券、債券...   \n",
       "2948  儲備處經理專案優勢：「儲備處經理培育專案」是新光人壽專銷制業務單位全新推出之儲備幹部培訓專案...   \n",
       "2949  1.各項費用支付之帳務處理。2.廠商貨款或費用等應付款項帳務。3.客戶應收款項帳務。4.其他...   \n",
       "\n",
       "                             公司地址    經歷  學歷  \\\n",
       "2945  高雄市左營區(工作地點：高雄地區，依公司規定分派單位)  1年以上  專科   \n",
       "2946             台北市信義區松仁路100號30樓  3年以上  專科   \n",
       "2947                    新北市中和區連城路  經歷不拘  專科   \n",
       "2948           台北市中正區忠孝西路一段66號17樓  經歷不拘  大學   \n",
       "2949             新北市林口區中山路81巷1號1樓  2年以上  專科   \n",
       "\n",
       "                                                 工作網址  \n",
       "2945  www.104.com.tw/job/57y40?jobsource=2018indexpoc  \n",
       "2946  www.104.com.tw/job/67iug?jobsource=2018indexpoc  \n",
       "2947  www.104.com.tw/job/6ro5l?jobsource=2018indexpoc  \n",
       "2948  www.104.com.tw/job/6z5rm?jobsource=2018indexpoc  \n",
       "2949  www.104.com.tw/job/3s95d?jobsource=2018indexpoc  "
      ]
     },
     "execution_count": 12,
     "metadata": {},
     "output_type": "execute_result"
    }
   ],
   "source": [
    "concat_104_1111.tail() #資料最後面的index 不是5952，需要重新建立index"
   ]
  },
  {
   "cell_type": "code",
   "execution_count": 13,
   "metadata": {
    "scrolled": true
   },
   "outputs": [],
   "source": [
    "concat_104_1111.reset_index(drop=True, inplace=True) #drop=True 刪除原有index , inplace 直接更新現有的DataFrame"
   ]
  },
  {
   "cell_type": "code",
   "execution_count": 14,
   "metadata": {
    "scrolled": true
   },
   "outputs": [
    {
     "data": {
      "text/html": [
       "<div>\n",
       "<style scoped>\n",
       "    .dataframe tbody tr th:only-of-type {\n",
       "        vertical-align: middle;\n",
       "    }\n",
       "\n",
       "    .dataframe tbody tr th {\n",
       "        vertical-align: top;\n",
       "    }\n",
       "\n",
       "    .dataframe thead th {\n",
       "        text-align: right;\n",
       "    }\n",
       "</style>\n",
       "<table border=\"1\" class=\"dataframe\">\n",
       "  <thead>\n",
       "    <tr style=\"text-align: right;\">\n",
       "      <th></th>\n",
       "      <th>日期</th>\n",
       "      <th>工作名稱</th>\n",
       "      <th>薪資</th>\n",
       "      <th>地區</th>\n",
       "      <th>工作內容</th>\n",
       "      <th>公司地址</th>\n",
       "      <th>經歷</th>\n",
       "      <th>學歷</th>\n",
       "      <th>工作網址</th>\n",
       "    </tr>\n",
       "  </thead>\n",
       "  <tbody>\n",
       "    <tr>\n",
       "      <th>4650</th>\n",
       "      <td>11/22</td>\n",
       "      <td>消金業務分行駐點人員(高雄)</td>\n",
       "      <td>34,000</td>\n",
       "      <td>高雄市左營區</td>\n",
       "      <td>駐點於分行，負責服務消金業務(房貸、信用卡、房貸壽險、產險…等)，提供客戶消金商品諮詢與規劃...</td>\n",
       "      <td>高雄市左營區(工作地點：高雄地區，依公司規定分派單位)</td>\n",
       "      <td>1年以上</td>\n",
       "      <td>專科</td>\n",
       "      <td>www.104.com.tw/job/57y40?jobsource=2018indexpoc</td>\n",
       "    </tr>\n",
       "    <tr>\n",
       "      <th>4651</th>\n",
       "      <td>6/19</td>\n",
       "      <td>會計</td>\n",
       "      <td>35,000</td>\n",
       "      <td>台北市信義區</td>\n",
       "      <td>1. 客戶應收帳務和逾期帳管催收管理 2. 收入帳務處理及發票開立 3. 營業稅調節表編制及...</td>\n",
       "      <td>台北市信義區松仁路100號30樓</td>\n",
       "      <td>3年以上</td>\n",
       "      <td>專科</td>\n",
       "      <td>www.104.com.tw/job/67iug?jobsource=2018indexpoc</td>\n",
       "    </tr>\n",
       "    <tr>\n",
       "      <th>4652</th>\n",
       "      <td>7/05</td>\n",
       "      <td>銀行理專</td>\n",
       "      <td>待遇面議</td>\n",
       "      <td>新北市中和區</td>\n",
       "      <td>\\t1.提供有關證券、債券、市場條件、投資前途及財務狀況等擬投資之資料。 2.分析證券、債券...</td>\n",
       "      <td>新北市中和區連城路</td>\n",
       "      <td>經歷不拘</td>\n",
       "      <td>專科</td>\n",
       "      <td>www.104.com.tw/job/6ro5l?jobsource=2018indexpoc</td>\n",
       "    </tr>\n",
       "    <tr>\n",
       "      <th>4653</th>\n",
       "      <td>6/23</td>\n",
       "      <td>儲備處經理培育專案(承攬性質，非勞動契約)(核准編號X1Q-109-001)</td>\n",
       "      <td>1~9</td>\n",
       "      <td>台北市中正區</td>\n",
       "      <td>儲備處經理專案優勢：「儲備處經理培育專案」是新光人壽專銷制業務單位全新推出之儲備幹部培訓專案...</td>\n",
       "      <td>台北市中正區忠孝西路一段66號17樓</td>\n",
       "      <td>經歷不拘</td>\n",
       "      <td>大學</td>\n",
       "      <td>www.104.com.tw/job/6z5rm?jobsource=2018indexpoc</td>\n",
       "    </tr>\n",
       "    <tr>\n",
       "      <th>4654</th>\n",
       "      <td>6/29</td>\n",
       "      <td>會計</td>\n",
       "      <td>28,000</td>\n",
       "      <td>新北市林口區</td>\n",
       "      <td>1.各項費用支付之帳務處理。2.廠商貨款或費用等應付款項帳務。3.客戶應收款項帳務。4.其他...</td>\n",
       "      <td>新北市林口區中山路81巷1號1樓</td>\n",
       "      <td>2年以上</td>\n",
       "      <td>專科</td>\n",
       "      <td>www.104.com.tw/job/3s95d?jobsource=2018indexpoc</td>\n",
       "    </tr>\n",
       "  </tbody>\n",
       "</table>\n",
       "</div>"
      ],
      "text/plain": [
       "         日期                                    工作名稱      薪資      地區  \\\n",
       "4650  11/22                          消金業務分行駐點人員(高雄)  34,000  高雄市左營區   \n",
       "4651   6/19                                      會計  35,000  台北市信義區   \n",
       "4652   7/05                                    銀行理專    待遇面議  新北市中和區   \n",
       "4653   6/23  儲備處經理培育專案(承攬性質，非勞動契約)(核准編號X1Q-109-001)     1~9  台北市中正區   \n",
       "4654   6/29                                      會計  28,000  新北市林口區   \n",
       "\n",
       "                                                   工作內容  \\\n",
       "4650  駐點於分行，負責服務消金業務(房貸、信用卡、房貸壽險、產險…等)，提供客戶消金商品諮詢與規劃...   \n",
       "4651  1. 客戶應收帳務和逾期帳管催收管理 2. 收入帳務處理及發票開立 3. 營業稅調節表編制及...   \n",
       "4652  \\t1.提供有關證券、債券、市場條件、投資前途及財務狀況等擬投資之資料。 2.分析證券、債券...   \n",
       "4653  儲備處經理專案優勢：「儲備處經理培育專案」是新光人壽專銷制業務單位全新推出之儲備幹部培訓專案...   \n",
       "4654  1.各項費用支付之帳務處理。2.廠商貨款或費用等應付款項帳務。3.客戶應收款項帳務。4.其他...   \n",
       "\n",
       "                             公司地址    經歷  學歷  \\\n",
       "4650  高雄市左營區(工作地點：高雄地區，依公司規定分派單位)  1年以上  專科   \n",
       "4651             台北市信義區松仁路100號30樓  3年以上  專科   \n",
       "4652                    新北市中和區連城路  經歷不拘  專科   \n",
       "4653           台北市中正區忠孝西路一段66號17樓  經歷不拘  大學   \n",
       "4654             新北市林口區中山路81巷1號1樓  2年以上  專科   \n",
       "\n",
       "                                                 工作網址  \n",
       "4650  www.104.com.tw/job/57y40?jobsource=2018indexpoc  \n",
       "4651  www.104.com.tw/job/67iug?jobsource=2018indexpoc  \n",
       "4652  www.104.com.tw/job/6ro5l?jobsource=2018indexpoc  \n",
       "4653  www.104.com.tw/job/6z5rm?jobsource=2018indexpoc  \n",
       "4654  www.104.com.tw/job/3s95d?jobsource=2018indexpoc  "
      ]
     },
     "execution_count": 14,
     "metadata": {},
     "output_type": "execute_result"
    }
   ],
   "source": [
    "concat_104_1111.tail()"
   ]
  },
  {
   "cell_type": "markdown",
   "metadata": {},
   "source": [
    "## 清理資料\n",
    "\n",
    "清理 薪資的資料：\n",
    "    1. 將 待遇面議 轉換成 0\n",
    "    2. 將 面議（經常性薪資4萬/月含以上）轉成 40000\n",
    "    3. 將 時薪 例如：150~200 轉成只取最低時薪 150\n",
    "    4. 移除數字中的, 例如\"30,000\"將,移除"
   ]
  },
  {
   "cell_type": "code",
   "execution_count": 15,
   "metadata": {},
   "outputs": [],
   "source": [
    "#將四萬改成0  但是也可以改成40,000\n",
    "concat_104_1111['薪資'] = concat_104_1111.薪資.str.replace('面議（經常性薪資4萬/月含以上）', '40000')\n",
    "\n",
    "#將待遇面議改成0\n",
    "concat_104_1111['薪資'] = concat_104_1111.薪資.str.replace('待遇面議', '0')\n",
    "\n",
    "#時薪 取最低時薪\n",
    "concat_104_1111.loc[concat_104_1111.薪資.str.contains('~'),'薪資'] = concat_104_1111.loc[concat_104_1111.薪資.str.contains('~'),'薪資'].str.split('~').str[0]\n",
    "\n",
    "#數字有\"30,000\"將,移除\n",
    "concat_104_1111.loc[:,'薪資'] = concat_104_1111['薪資'].apply(lambda x:x.replace(',','')) \n",
    "\n",
    "# 薪資轉成int type\n",
    "# concat_104_1111.loc[:,'薪資'] = concat_104_1111['薪資'].astype(int)\n",
    "concat_104_1111.loc[:,'薪資'] = pd.to_numeric(concat_104_1111['薪資'])"
   ]
  },
  {
   "cell_type": "code",
   "execution_count": 16,
   "metadata": {},
   "outputs": [
    {
     "data": {
      "text/plain": [
       "日期      object\n",
       "工作名稱    object\n",
       "薪資       int64\n",
       "地區      object\n",
       "工作內容    object\n",
       "公司地址    object\n",
       "經歷      object\n",
       "學歷      object\n",
       "工作網址    object\n",
       "dtype: object"
      ]
     },
     "execution_count": 16,
     "metadata": {},
     "output_type": "execute_result"
    }
   ],
   "source": [
    "#薪資 已轉成 int64\n",
    "concat_104_1111.dtypes"
   ]
  },
  {
   "cell_type": "markdown",
   "metadata": {},
   "source": [
    "## 過濾\n",
    "\n",
    "找想要的工作\n",
    "\n",
    "過濾方法：可以參考這篇 https://ithelp.ithome.com.tw/articles/10194003"
   ]
  },
  {
   "cell_type": "code",
   "execution_count": 30,
   "metadata": {
    "scrolled": false
   },
   "outputs": [
    {
     "data": {
      "text/html": [
       "<div>\n",
       "<style scoped>\n",
       "    .dataframe tbody tr th:only-of-type {\n",
       "        vertical-align: middle;\n",
       "    }\n",
       "\n",
       "    .dataframe tbody tr th {\n",
       "        vertical-align: top;\n",
       "    }\n",
       "\n",
       "    .dataframe thead th {\n",
       "        text-align: right;\n",
       "    }\n",
       "</style>\n",
       "<table border=\"1\" class=\"dataframe\">\n",
       "  <thead>\n",
       "    <tr style=\"text-align: right;\">\n",
       "      <th></th>\n",
       "      <th>日期</th>\n",
       "      <th>工作名稱</th>\n",
       "      <th>薪資</th>\n",
       "      <th>地區</th>\n",
       "      <th>工作內容</th>\n",
       "      <th>公司地址</th>\n",
       "      <th>經歷</th>\n",
       "      <th>學歷</th>\n",
       "      <th>工作網址</th>\n",
       "    </tr>\n",
       "  </thead>\n",
       "  <tbody>\n",
       "    <tr>\n",
       "      <th>19</th>\n",
       "      <td>2020-07-03</td>\n",
       "      <td>S-金融理財顧問Financial Advisor(板盛分公司)</td>\n",
       "      <td>40000</td>\n",
       "      <td>新北市板橋區</td>\n",
       "      <td>優先考量：具有客戶信任基礎為佳，提供高底薪高獎金制度。1. FA的特質:正面、積極、可影響他...</td>\n",
       "      <td>台北市中山區八德路</td>\n",
       "      <td>2年工作經驗以上</td>\n",
       "      <td>大學,碩士,博士</td>\n",
       "      <td>https://www.1111.com.tw/job/78592271/</td>\n",
       "    </tr>\n",
       "    <tr>\n",
       "      <th>22</th>\n",
       "      <td>2020-07-03</td>\n",
       "      <td>S-金融理財顧問-Financial Advisor(敦南分公司)</td>\n",
       "      <td>40000</td>\n",
       "      <td>台北市大安區</td>\n",
       "      <td>1. 負責證券、期貨、選擇權之開發及接單。2. 開發財富管理客戶.協銷各項金融商品（如：基金...</td>\n",
       "      <td>台北市中山區八德路</td>\n",
       "      <td>經驗不拘</td>\n",
       "      <td>專科,大學,碩士,博士</td>\n",
       "      <td>https://www.1111.com.tw/job/78513979/</td>\n",
       "    </tr>\n",
       "    <tr>\n",
       "      <th>50</th>\n",
       "      <td>2020-06-29</td>\n",
       "      <td>科技金融_私人銀行系統分析師</td>\n",
       "      <td>40000</td>\n",
       "      <td>台北市南港區</td>\n",
       "      <td>1. 需求分析、系統設計及系統文件撰寫。2. 新系統專案建置。3. 系統開發維運及問題排除。</td>\n",
       "      <td>台北市南港區經貿二路</td>\n",
       "      <td>3年工作經驗以上</td>\n",
       "      <td>大學,碩士,博士</td>\n",
       "      <td>https://www.1111.com.tw/job/91510390/</td>\n",
       "    </tr>\n",
       "    <tr>\n",
       "      <th>57</th>\n",
       "      <td>2020-07-05</td>\n",
       "      <td>S-理財專員(板新分公司)</td>\n",
       "      <td>30000</td>\n",
       "      <td>新北市板橋區</td>\n",
       "      <td>1. 提供有關證券、債券、市場條件、投資前途及財務狀況等擬投資之資料。2. 分析證券、債券、...</td>\n",
       "      <td>台北市中山區八德路</td>\n",
       "      <td>經驗不拘</td>\n",
       "      <td>高中職,專科,大學,碩士,博士</td>\n",
       "      <td>https://www.1111.com.tw/job/86012506/</td>\n",
       "    </tr>\n",
       "    <tr>\n",
       "      <th>64</th>\n",
       "      <td>2020-07-04</td>\n",
       "      <td>桃園-理財業務人員</td>\n",
       "      <td>32576</td>\n",
       "      <td>桃園市</td>\n",
       "      <td>【學歷及資格條件】1.國內外大專以上學歷畢業者(具理財業務經驗3年以上者除外)。2.具備保險...</td>\n",
       "      <td>高雄市左營區博愛二路</td>\n",
       "      <td>經驗不拘</td>\n",
       "      <td>不拘</td>\n",
       "      <td>https://www.1111.com.tw/job/79036526/</td>\n",
       "    </tr>\n",
       "  </tbody>\n",
       "</table>\n",
       "</div>"
      ],
      "text/plain": [
       "            日期                               工作名稱     薪資      地區  \\\n",
       "19  2020-07-03   S-金融理財顧問Financial Advisor(板盛分公司)  40000  新北市板橋區   \n",
       "22  2020-07-03  S-金融理財顧問-Financial Advisor(敦南分公司)  40000  台北市大安區   \n",
       "50  2020-06-29                     科技金融_私人銀行系統分析師  40000  台北市南港區   \n",
       "57  2020-07-05                      S-理財專員(板新分公司)  30000  新北市板橋區   \n",
       "64  2020-07-04                          桃園-理財業務人員  32576     桃園市   \n",
       "\n",
       "                                                 工作內容        公司地址        經歷  \\\n",
       "19  優先考量：具有客戶信任基礎為佳，提供高底薪高獎金制度。1. FA的特質:正面、積極、可影響他...   台北市中山區八德路  2年工作經驗以上   \n",
       "22  1. 負責證券、期貨、選擇權之開發及接單。2. 開發財富管理客戶.協銷各項金融商品（如：基金...   台北市中山區八德路      經驗不拘   \n",
       "50     1. 需求分析、系統設計及系統文件撰寫。2. 新系統專案建置。3. 系統開發維運及問題排除。  台北市南港區經貿二路  3年工作經驗以上   \n",
       "57  1. 提供有關證券、債券、市場條件、投資前途及財務狀況等擬投資之資料。2. 分析證券、債券、...   台北市中山區八德路      經驗不拘   \n",
       "64  【學歷及資格條件】1.國內外大專以上學歷畢業者(具理財業務經驗3年以上者除外)。2.具備保險...  高雄市左營區博愛二路      經驗不拘   \n",
       "\n",
       "                 學歷                                   工作網址  \n",
       "19         大學,碩士,博士  https://www.1111.com.tw/job/78592271/  \n",
       "22      專科,大學,碩士,博士  https://www.1111.com.tw/job/78513979/  \n",
       "50         大學,碩士,博士  https://www.1111.com.tw/job/91510390/  \n",
       "57  高中職,專科,大學,碩士,博士  https://www.1111.com.tw/job/86012506/  \n",
       "64               不拘  https://www.1111.com.tw/job/79036526/  "
      ]
     },
     "execution_count": 30,
     "metadata": {},
     "output_type": "execute_result"
    }
   ],
   "source": [
    "#1萬至3萬之間、地區：台北市 這種過濾方法會寫越寫長\n",
    "#concat_104_1111.loc[concat_104_1111.薪資 > 10000].loc[concat_104_1111.薪資 < 30000].loc[concat_104_1111.地區.str.contains('台北市')]\n",
    "\n",
    "\n",
    "#3萬以上\n",
    "mask1 = concat_104_1111.薪資 >= 30000\n",
    "mask2 = concat_104_1111.地區.str.contains('台北市')\n",
    "mask3 = concat_104_1111.地區.str.contains('新北市')\n",
    "mask4 = concat_104_1111.地區.str.contains('桃園市')\n",
    "mask5 = concat_104_1111.工作名稱.str.contains('分析')\n",
    "mask6 = concat_104_1111.工作內容.str.contains('證券') #工作內容簡介也許會有相關的工作\n",
    "#mask7 =  \n",
    "\n",
    "#搜尋 3萬以上 工作名稱有\"證卷\"關鍵字、區域 台北市 新北市\n",
    "# & = and , | = or   \n",
    "concat_104_1111.loc[((mask2 | mask3 | mask4) & mask1 & mask5) | ((mask2 | mask3 | mask4) & mask1 & mask6)].head()\n"
   ]
  },
  {
   "cell_type": "code",
   "execution_count": 27,
   "metadata": {},
   "outputs": [
    {
     "data": {
      "text/plain": [
       "'2020-06-05金融'"
      ]
     },
     "execution_count": 27,
     "metadata": {},
     "output_type": "execute_result"
    }
   ],
   "source": [
    "str(get_todate()) + '金融'"
   ]
  },
  {
   "cell_type": "code",
   "execution_count": 22,
   "metadata": {},
   "outputs": [],
   "source": [
    "#儲存成 Excel格式檔\n",
    "file_name = str(get_todate()) + '金融' #今天日期+檔案名稱\n",
    "save_excel = concat_104_1111.loc[((mask2 | mask3 | mask4) & mask1 & mask5) | ((mask2 | mask3 | mask4) & mask1 & mask6)].head()\n",
    "save_excel.to_excel('jobs_csv/{}.xlsx'.format(file_name), sheet_name='passengers', index=False)"
   ]
  },
  {
   "cell_type": "code",
   "execution_count": 30,
   "metadata": {
    "scrolled": false
   },
   "outputs": [
    {
     "data": {
      "text/html": [
       "<div>\n",
       "<style scoped>\n",
       "    .dataframe tbody tr th:only-of-type {\n",
       "        vertical-align: middle;\n",
       "    }\n",
       "\n",
       "    .dataframe tbody tr th {\n",
       "        vertical-align: top;\n",
       "    }\n",
       "\n",
       "    .dataframe thead th {\n",
       "        text-align: right;\n",
       "    }\n",
       "</style>\n",
       "<table border=\"1\" class=\"dataframe\">\n",
       "  <thead>\n",
       "    <tr style=\"text-align: right;\">\n",
       "      <th></th>\n",
       "      <th>日期</th>\n",
       "      <th>工作名稱</th>\n",
       "      <th>薪資</th>\n",
       "      <th>地區</th>\n",
       "      <th>工作內容</th>\n",
       "      <th>公司地址</th>\n",
       "      <th>經歷</th>\n",
       "      <th>學歷</th>\n",
       "      <th>工作網址</th>\n",
       "    </tr>\n",
       "  </thead>\n",
       "  <tbody>\n",
       "    <tr>\n",
       "      <th>224</th>\n",
       "      <td>2020-06-01</td>\n",
       "      <td>B-《2020暑期實習計畫-金融市場處》金融市場專案研究</td>\n",
       "      <td>160</td>\n",
       "      <td>台北市中正區</td>\n",
       "      <td>《實習內容》• 每日上午: 參加晨會討論與研讀市場資訊；在(交易員)旁觀察市場動態/交易決策...</td>\n",
       "      <td>台北市中山區八德路</td>\n",
       "      <td>經驗不拘</td>\n",
       "      <td>大學</td>\n",
       "      <td>https://www.1111.com.tw/job/91499883/</td>\n",
       "    </tr>\n",
       "    <tr>\n",
       "      <th>229</th>\n",
       "      <td>2020-06-01</td>\n",
       "      <td>B-《2020暑期實習計畫-金融市場處》金融市場專案研究</td>\n",
       "      <td>160</td>\n",
       "      <td>台北市中正區</td>\n",
       "      <td>《實習內容》• 每日上午: 參加晨會討論與研讀市場資訊；在(交易員)旁觀察市場動態/交易決策...</td>\n",
       "      <td>台北市中山區八德路</td>\n",
       "      <td>經驗不拘</td>\n",
       "      <td>大學</td>\n",
       "      <td>https://www.1111.com.tw/job/91499883/</td>\n",
       "    </tr>\n",
       "    <tr>\n",
       "      <th>235</th>\n",
       "      <td>2020-06-01</td>\n",
       "      <td>B-《2020暑期實習計畫-法人金融處》法人金融實習人員</td>\n",
       "      <td>160</td>\n",
       "      <td>台北市中正區</td>\n",
       "      <td>1. FI期中覆審工作2. 法金CRM(客戶關係管理)3. 電廠資料運用案：過往資料建檔、資...</td>\n",
       "      <td>台北市中山區八德路</td>\n",
       "      <td>經驗不拘</td>\n",
       "      <td>碩士</td>\n",
       "      <td>https://www.1111.com.tw/job/91499504/</td>\n",
       "    </tr>\n",
       "    <tr>\n",
       "      <th>360</th>\n",
       "      <td>2020-06-01</td>\n",
       "      <td>B-《2020暑期實習計畫-電子金融處》數位金融產品專案人員</td>\n",
       "      <td>160</td>\n",
       "      <td>台北市中正區</td>\n",
       "      <td>• 產品設計1. 參與產品功能設計發想、規劃與討論2. 基本網頁排版及設計3. 數位金融產品...</td>\n",
       "      <td>台北市中山區八德路</td>\n",
       "      <td>經驗不拘</td>\n",
       "      <td>碩士</td>\n",
       "      <td>https://www.1111.com.tw/job/91499768/</td>\n",
       "    </tr>\n",
       "    <tr>\n",
       "      <th>409</th>\n",
       "      <td>2020-06-03</td>\n",
       "      <td>[兼職] 財經/金融_英翻中翻譯師</td>\n",
       "      <td>100</td>\n",
       "      <td>台北市大安區</td>\n",
       "      <td>工作描述:1. 依據Localization標準，翻譯財經/金融相關類型文件(英翻中)。2....</td>\n",
       "      <td>台北市大安區信義路</td>\n",
       "      <td>經驗不拘</td>\n",
       "      <td>專科,大學,碩士,博士</td>\n",
       "      <td>https://www.1111.com.tw/job/91473326/</td>\n",
       "    </tr>\n",
       "    <tr>\n",
       "      <th>...</th>\n",
       "      <td>...</td>\n",
       "      <td>...</td>\n",
       "      <td>...</td>\n",
       "      <td>...</td>\n",
       "      <td>...</td>\n",
       "      <td>...</td>\n",
       "      <td>...</td>\n",
       "      <td>...</td>\n",
       "      <td>...</td>\n",
       "    </tr>\n",
       "    <tr>\n",
       "      <th>4490</th>\n",
       "      <td>5/20</td>\n",
       "      <td>財務部工讀生(6 months)</td>\n",
       "      <td>160</td>\n",
       "      <td>台北市士林區</td>\n",
       "      <td>歡迎財務或會計相關科系的學生們能透過在美商500大公司的財務部實習機會讓自己所學與實務做一結...</td>\n",
       "      <td>台北市士林區承德路四段172號10樓</td>\n",
       "      <td>經歷不拘</td>\n",
       "      <td>專科</td>\n",
       "      <td>www.104.com.tw/job/641hv?jobsource=2018indexpoc</td>\n",
       "    </tr>\n",
       "    <tr>\n",
       "      <th>4507</th>\n",
       "      <td>12/12</td>\n",
       "      <td>F0006_會計工讀生(長期)</td>\n",
       "      <td>158</td>\n",
       "      <td>台北市中正區</td>\n",
       "      <td>TutorABC屢獲世界級投資者的關注，分別於2015年10月份獲得近2億美元C輪投資，以及...</td>\n",
       "      <td>台北市中正區羅斯福路二段100號20樓（古亭9號出口）</td>\n",
       "      <td>經歷不拘</td>\n",
       "      <td>專科</td>\n",
       "      <td>www.104.com.tw/job/3xpha?jobsource=2018indexpoc</td>\n",
       "    </tr>\n",
       "    <tr>\n",
       "      <th>4626</th>\n",
       "      <td>6/01</td>\n",
       "      <td>財務部-會計工讀生</td>\n",
       "      <td>158</td>\n",
       "      <td>台北市中山區</td>\n",
       "      <td>1. 負責一般帳務處理(包含傳票編製及單據審核作業等)2. 傳票整理及歸檔3. 協助庶務性行...</td>\n",
       "      <td>台北市中山區敬業四路33號</td>\n",
       "      <td>經歷不拘</td>\n",
       "      <td>高中</td>\n",
       "      <td>www.104.com.tw/job/6uc8z?jobsource=2018indexpoc</td>\n",
       "    </tr>\n",
       "    <tr>\n",
       "      <th>4668</th>\n",
       "      <td>5/14</td>\n",
       "      <td>工研院巨資中心_產業資訊彙整人員(M0)</td>\n",
       "      <td>170</td>\n",
       "      <td>新竹縣竹東鎮</td>\n",
       "      <td>常態性收集與整理相關技術研發與產業動向，並定期產出整理報告供計畫主管與同仁參考。工作內容包含...</td>\n",
       "      <td>新竹縣竹東鎮</td>\n",
       "      <td>經歷不拘</td>\n",
       "      <td>大學</td>\n",
       "      <td>www.104.com.tw/job/6xyl0?jobsource=2018indexpoc</td>\n",
       "    </tr>\n",
       "    <tr>\n",
       "      <th>4724</th>\n",
       "      <td>6/01</td>\n",
       "      <td>投資研究/知識編輯實習生</td>\n",
       "      <td>180</td>\n",
       "      <td>台北市松山區</td>\n",
       "      <td>在新創公司上班的好處之一就是沒有大公司繁瑣僵化的規定。上下班時間彈性(上班時間9:00~10...</td>\n",
       "      <td>台北市松山區民生東路三段 135 號 3 樓</td>\n",
       "      <td>經歷不拘</td>\n",
       "      <td>大學</td>\n",
       "      <td>www.104.com.tw/job/6n9ic?jobsource=jolist_c_re...</td>\n",
       "    </tr>\n",
       "  </tbody>\n",
       "</table>\n",
       "<p>86 rows × 9 columns</p>\n",
       "</div>"
      ],
      "text/plain": [
       "              日期                            工作名稱   薪資      地區  \\\n",
       "224   2020-06-01    B-《2020暑期實習計畫-金融市場處》金融市場專案研究  160  台北市中正區   \n",
       "229   2020-06-01    B-《2020暑期實習計畫-金融市場處》金融市場專案研究  160  台北市中正區   \n",
       "235   2020-06-01    B-《2020暑期實習計畫-法人金融處》法人金融實習人員  160  台北市中正區   \n",
       "360   2020-06-01  B-《2020暑期實習計畫-電子金融處》數位金融產品專案人員  160  台北市中正區   \n",
       "409   2020-06-03               [兼職] 財經/金融_英翻中翻譯師  100  台北市大安區   \n",
       "...          ...                             ...  ...     ...   \n",
       "4490        5/20                財務部工讀生(6 months)  160  台北市士林區   \n",
       "4507       12/12                 F0006_會計工讀生(長期)  158  台北市中正區   \n",
       "4626        6/01                       財務部-會計工讀生  158  台北市中山區   \n",
       "4668        5/14            工研院巨資中心_產業資訊彙整人員(M0)  170  新竹縣竹東鎮   \n",
       "4724        6/01                    投資研究/知識編輯實習生  180  台北市松山區   \n",
       "\n",
       "                                                   工作內容  \\\n",
       "224   《實習內容》• 每日上午: 參加晨會討論與研讀市場資訊；在(交易員)旁觀察市場動態/交易決策...   \n",
       "229   《實習內容》• 每日上午: 參加晨會討論與研讀市場資訊；在(交易員)旁觀察市場動態/交易決策...   \n",
       "235   1. FI期中覆審工作2. 法金CRM(客戶關係管理)3. 電廠資料運用案：過往資料建檔、資...   \n",
       "360   • 產品設計1. 參與產品功能設計發想、規劃與討論2. 基本網頁排版及設計3. 數位金融產品...   \n",
       "409   工作描述:1. 依據Localization標準，翻譯財經/金融相關類型文件(英翻中)。2....   \n",
       "...                                                 ...   \n",
       "4490  歡迎財務或會計相關科系的學生們能透過在美商500大公司的財務部實習機會讓自己所學與實務做一結...   \n",
       "4507  TutorABC屢獲世界級投資者的關注，分別於2015年10月份獲得近2億美元C輪投資，以及...   \n",
       "4626  1. 負責一般帳務處理(包含傳票編製及單據審核作業等)2. 傳票整理及歸檔3. 協助庶務性行...   \n",
       "4668  常態性收集與整理相關技術研發與產業動向，並定期產出整理報告供計畫主管與同仁參考。工作內容包含...   \n",
       "4724  在新創公司上班的好處之一就是沒有大公司繁瑣僵化的規定。上下班時間彈性(上班時間9:00~10...   \n",
       "\n",
       "                             公司地址    經歷           學歷  \\\n",
       "224                     台北市中山區八德路  經驗不拘           大學   \n",
       "229                     台北市中山區八德路  經驗不拘           大學   \n",
       "235                     台北市中山區八德路  經驗不拘           碩士   \n",
       "360                     台北市中山區八德路  經驗不拘           碩士   \n",
       "409                     台北市大安區信義路  經驗不拘  專科,大學,碩士,博士   \n",
       "...                           ...   ...          ...   \n",
       "4490           台北市士林區承德路四段172號10樓  經歷不拘           專科   \n",
       "4507  台北市中正區羅斯福路二段100號20樓（古亭9號出口）  經歷不拘           專科   \n",
       "4626                台北市中山區敬業四路33號  經歷不拘           高中   \n",
       "4668                       新竹縣竹東鎮  經歷不拘           大學   \n",
       "4724       台北市松山區民生東路三段 135 號 3 樓  經歷不拘           大學   \n",
       "\n",
       "                                                   工作網址  \n",
       "224               https://www.1111.com.tw/job/91499883/  \n",
       "229               https://www.1111.com.tw/job/91499883/  \n",
       "235               https://www.1111.com.tw/job/91499504/  \n",
       "360               https://www.1111.com.tw/job/91499768/  \n",
       "409               https://www.1111.com.tw/job/91473326/  \n",
       "...                                                 ...  \n",
       "4490    www.104.com.tw/job/641hv?jobsource=2018indexpoc  \n",
       "4507    www.104.com.tw/job/3xpha?jobsource=2018indexpoc  \n",
       "4626    www.104.com.tw/job/6uc8z?jobsource=2018indexpoc  \n",
       "4668    www.104.com.tw/job/6xyl0?jobsource=2018indexpoc  \n",
       "4724  www.104.com.tw/job/6n9ic?jobsource=jolist_c_re...  \n",
       "\n",
       "[86 rows x 9 columns]"
      ]
     },
     "execution_count": 30,
     "metadata": {},
     "output_type": "execute_result"
    }
   ],
   "source": [
    "#我想兼差打工 50至1000之間\n",
    "concat_104_1111.loc[concat_104_1111.薪資 > 50].loc[concat_104_1111.薪資 < 1000]"
   ]
  },
  {
   "cell_type": "code",
   "execution_count": null,
   "metadata": {},
   "outputs": [],
   "source": []
  }
 ],
 "metadata": {
  "kernelspec": {
   "display_name": "Python 3",
   "language": "python",
   "name": "python3"
  },
  "language_info": {
   "codemirror_mode": {
    "name": "ipython",
    "version": 3
   },
   "file_extension": ".py",
   "mimetype": "text/x-python",
   "name": "python",
   "nbconvert_exporter": "python",
   "pygments_lexer": "ipython3",
   "version": "3.7.6"
  },
  "varInspector": {
   "cols": {
    "lenName": 16,
    "lenType": 16,
    "lenVar": 40
   },
   "kernels_config": {
    "python": {
     "delete_cmd_postfix": "",
     "delete_cmd_prefix": "del ",
     "library": "var_list.py",
     "varRefreshCmd": "print(var_dic_list())"
    },
    "r": {
     "delete_cmd_postfix": ") ",
     "delete_cmd_prefix": "rm(",
     "library": "var_list.r",
     "varRefreshCmd": "cat(var_dic_list()) "
    }
   },
   "position": {
    "height": "143.977px",
    "left": "1400px",
    "right": "20px",
    "top": "97.9915px",
    "width": "350px"
   },
   "types_to_exclude": [
    "module",
    "function",
    "builtin_function_or_method",
    "instance",
    "_Feature"
   ],
   "window_display": true
  }
 },
 "nbformat": 4,
 "nbformat_minor": 2
}
