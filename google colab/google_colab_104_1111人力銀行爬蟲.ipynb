{
  "nbformat": 4,
  "nbformat_minor": 0,
  "metadata": {
    "kernelspec": {
      "display_name": "Python 3.7.4 64-bit ('base': conda)",
      "language": "python",
      "name": "python36764bitbaseconda9a90f2598c134799afb1054108d8c992"
    },
    "language_info": {
      "codemirror_mode": {
        "name": "ipython",
        "version": 3
      },
      "file_extension": ".py",
      "mimetype": "text/x-python",
      "name": "python",
      "nbconvert_exporter": "python",
      "pygments_lexer": "ipython3",
      "version": "3.7.6"
    },
    "varInspector": {
      "cols": {
        "lenName": 16,
        "lenType": 16,
        "lenVar": 40
      },
      "kernels_config": {
        "python": {
          "delete_cmd_postfix": "",
          "delete_cmd_prefix": "del ",
          "library": "var_list.py",
          "varRefreshCmd": "print(var_dic_list())"
        },
        "r": {
          "delete_cmd_postfix": ") ",
          "delete_cmd_prefix": "rm(",
          "library": "var_list.r",
          "varRefreshCmd": "cat(var_dic_list()) "
        }
      },
      "position": {
        "height": "144px",
        "left": "1523px",
        "right": "20px",
        "top": "120px",
        "width": "350px"
      },
      "types_to_exclude": [
        "module",
        "function",
        "builtin_function_or_method",
        "instance",
        "_Feature"
      ],
      "window_display": true
    },
    "colab": {
      "name": "google_colab_104_1111人力銀行爬蟲.ipynb",
      "provenance": [],
      "collapsed_sections": [],
      "toc_visible": true
    }
  },
  "cells": [
    {
      "cell_type": "markdown",
      "metadata": {
        "id": "w9KTfYbaIJNf",
        "colab_type": "text"
      },
      "source": [
        "# 介紹\n",
        "1. 2020/6/7 測試可正常爬資料，\n",
        "\n",
        "如果遇到無法爬資料可能是104、1111有改版導致BeautifulSoup無法找到calss、tag、attr，\n",
        "\n",
        "**發生無法爬取從以下修改def**\n",
        "* 104人力銀行\n",
        "    * find_title_104 爬資料\n",
        "    * selenium_get_Code_104 取得最大頁面數\n",
        "* 1111人力銀行\n",
        "    * find_title_1111 爬資料\n",
        "    * find_data_1111 指定class、tag、id 並丟給find_title_1111\n",
        "    * selenium_get_Code_1111 取得最大頁面數\n",
        "    \n",
        "\n",
        "2. 只爬取104，1111因為比較多人使用。\n",
        "3. 爬取大量資料並使用Pandas處理資料及過濾資料，找有興趣的相關工作。 \n",
        "\n",
        "\n",
        "104爬取資料有『日期、工作名稱、公司名稱、公司地址、薪資、工作內容、地區、經歷、學歷、公司人數、文章編號、工作網址』\n",
        "11111爬取資料有『日期、工作名稱、公司名稱、公司地址、薪資、工作內容、地區、經歷、學歷、工作網址』\n",
        "\n",
        "爬取資料並儲存csv格式，使用Pandas處理資料。\n",
        "\n",
        "\n",
        "## 需安裝的套件\n",
        "google colab 基本上已經安裝好許多套件\n",
        "需要安裝的套件：\n",
        "BeautifulSoup、requests、selenium、pandas、tqdm、openpyxl\n",
        "\n",
        "## 使用selenium目的\n",
        "104需要讓網頁加載javascript得到共有多少頁面，使用Headless(無頭)模式在背景執行Chrome，並不會實際看到瀏覽器。\n"
      ]
    },
    {
      "cell_type": "code",
      "metadata": {
        "id": "8yBmyyk1IJNg",
        "colab_type": "code",
        "outputId": "f1feb5df-d137-49a7-c5a8-98cdab439ba7",
        "colab": {
          "base_uri": "https://localhost:8080/",
          "height": 1000
        }
      },
      "source": [
        "#安裝selenium、chromium-chromedriver驅動及更新\n",
        "!pip install selenium\n",
        "!apt-get update \n",
        "!apt install chromium-chromedriver\n",
        "\n",
        "import requests\n",
        "from bs4 import BeautifulSoup\n",
        "import re\n",
        "import random\n",
        "import time\n",
        "from urllib.parse import quote\n",
        "from tqdm import tqdm, trange\n",
        "import csv\n",
        "from selenium import webdriver\n",
        "from selenium.webdriver.common.keys import Keys\n",
        "from selenium.webdriver.chrome.options import Options\n",
        "import pandas as pd\n",
        "from datetime import date\n",
        "from IPython.display import clear_output\n",
        "import os,os.path"
      ],
      "execution_count": 1,
      "outputs": [
        {
          "output_type": "stream",
          "text": [
            "Collecting selenium\n",
            "\u001b[?25l  Downloading https://files.pythonhosted.org/packages/80/d6/4294f0b4bce4de0abf13e17190289f9d0613b0a44e5dd6a7f5ca98459853/selenium-3.141.0-py2.py3-none-any.whl (904kB)\n",
            "\u001b[K     |████████████████████████████████| 911kB 2.8MB/s \n",
            "\u001b[?25hRequirement already satisfied: urllib3 in /usr/local/lib/python3.6/dist-packages (from selenium) (1.24.3)\n",
            "Installing collected packages: selenium\n",
            "Successfully installed selenium-3.141.0\n",
            "Get:1 https://cloud.r-project.org/bin/linux/ubuntu bionic-cran35/ InRelease [3,626 B]\n",
            "Ign:2 https://developer.download.nvidia.com/compute/cuda/repos/ubuntu1804/x86_64  InRelease\n",
            "Get:3 http://ppa.launchpad.net/graphics-drivers/ppa/ubuntu bionic InRelease [21.3 kB]\n",
            "Get:4 http://security.ubuntu.com/ubuntu bionic-security InRelease [88.7 kB]\n",
            "Hit:5 http://archive.ubuntu.com/ubuntu bionic InRelease\n",
            "Ign:6 https://developer.download.nvidia.com/compute/machine-learning/repos/ubuntu1804/x86_64  InRelease\n",
            "Get:7 https://developer.download.nvidia.com/compute/cuda/repos/ubuntu1804/x86_64  Release [697 B]\n",
            "Hit:8 https://developer.download.nvidia.com/compute/machine-learning/repos/ubuntu1804/x86_64  Release\n",
            "Get:9 https://developer.download.nvidia.com/compute/cuda/repos/ubuntu1804/x86_64  Release.gpg [836 B]\n",
            "Get:10 http://archive.ubuntu.com/ubuntu bionic-updates InRelease [88.7 kB]\n",
            "Get:11 http://ppa.launchpad.net/marutter/c2d4u3.5/ubuntu bionic InRelease [15.4 kB]\n",
            "Get:12 http://archive.ubuntu.com/ubuntu bionic-backports InRelease [74.6 kB]\n",
            "Ign:14 https://developer.download.nvidia.com/compute/cuda/repos/ubuntu1804/x86_64  Packages\n",
            "Get:14 https://developer.download.nvidia.com/compute/cuda/repos/ubuntu1804/x86_64  Packages [162 kB]\n",
            "Get:15 http://ppa.launchpad.net/graphics-drivers/ppa/ubuntu bionic/main amd64 Packages [37.4 kB]\n",
            "Get:16 http://security.ubuntu.com/ubuntu bionic-security/universe amd64 Packages [856 kB]\n",
            "Get:17 http://ppa.launchpad.net/marutter/c2d4u3.5/ubuntu bionic/main Sources [1,830 kB]\n",
            "Get:18 http://archive.ubuntu.com/ubuntu bionic-updates/universe amd64 Packages [1,387 kB]\n",
            "Get:19 http://security.ubuntu.com/ubuntu bionic-security/main amd64 Packages [933 kB]\n",
            "Get:20 http://archive.ubuntu.com/ubuntu bionic-updates/main amd64 Packages [1,230 kB]\n",
            "Get:21 http://ppa.launchpad.net/marutter/c2d4u3.5/ubuntu bionic/main amd64 Packages [882 kB]\n",
            "Fetched 7,612 kB in 3s (2,515 kB/s)\n",
            "Reading package lists... Done\n",
            "Reading package lists... Done\n",
            "Building dependency tree       \n",
            "Reading state information... Done\n",
            "The following additional packages will be installed:\n",
            "  chromium-browser chromium-browser-l10n chromium-codecs-ffmpeg-extra\n",
            "Suggested packages:\n",
            "  webaccounts-chromium-extension unity-chromium-extension adobe-flashplugin\n",
            "The following NEW packages will be installed:\n",
            "  chromium-browser chromium-browser-l10n chromium-chromedriver\n",
            "  chromium-codecs-ffmpeg-extra\n",
            "0 upgraded, 4 newly installed, 0 to remove and 64 not upgraded.\n",
            "Need to get 75.5 MB of archives.\n",
            "After this operation, 256 MB of additional disk space will be used.\n",
            "Get:1 http://archive.ubuntu.com/ubuntu bionic-updates/universe amd64 chromium-codecs-ffmpeg-extra amd64 83.0.4103.61-0ubuntu0.18.04.1 [1,119 kB]\n",
            "Get:2 http://archive.ubuntu.com/ubuntu bionic-updates/universe amd64 chromium-browser amd64 83.0.4103.61-0ubuntu0.18.04.1 [66.7 MB]\n",
            "Get:3 http://archive.ubuntu.com/ubuntu bionic-updates/universe amd64 chromium-browser-l10n all 83.0.4103.61-0ubuntu0.18.04.1 [3,378 kB]\n",
            "Get:4 http://archive.ubuntu.com/ubuntu bionic-updates/universe amd64 chromium-chromedriver amd64 83.0.4103.61-0ubuntu0.18.04.1 [4,294 kB]\n",
            "Fetched 75.5 MB in 3s (23.6 MB/s)\n",
            "Selecting previously unselected package chromium-codecs-ffmpeg-extra.\n",
            "(Reading database ... 144467 files and directories currently installed.)\n",
            "Preparing to unpack .../chromium-codecs-ffmpeg-extra_83.0.4103.61-0ubuntu0.18.04.1_amd64.deb ...\n",
            "Unpacking chromium-codecs-ffmpeg-extra (83.0.4103.61-0ubuntu0.18.04.1) ...\n",
            "Selecting previously unselected package chromium-browser.\n",
            "Preparing to unpack .../chromium-browser_83.0.4103.61-0ubuntu0.18.04.1_amd64.deb ...\n",
            "Unpacking chromium-browser (83.0.4103.61-0ubuntu0.18.04.1) ...\n",
            "Selecting previously unselected package chromium-browser-l10n.\n",
            "Preparing to unpack .../chromium-browser-l10n_83.0.4103.61-0ubuntu0.18.04.1_all.deb ...\n",
            "Unpacking chromium-browser-l10n (83.0.4103.61-0ubuntu0.18.04.1) ...\n",
            "Selecting previously unselected package chromium-chromedriver.\n",
            "Preparing to unpack .../chromium-chromedriver_83.0.4103.61-0ubuntu0.18.04.1_amd64.deb ...\n",
            "Unpacking chromium-chromedriver (83.0.4103.61-0ubuntu0.18.04.1) ...\n",
            "Setting up chromium-codecs-ffmpeg-extra (83.0.4103.61-0ubuntu0.18.04.1) ...\n",
            "Setting up chromium-browser (83.0.4103.61-0ubuntu0.18.04.1) ...\n",
            "update-alternatives: using /usr/bin/chromium-browser to provide /usr/bin/x-www-browser (x-www-browser) in auto mode\n",
            "update-alternatives: using /usr/bin/chromium-browser to provide /usr/bin/gnome-www-browser (gnome-www-browser) in auto mode\n",
            "Setting up chromium-chromedriver (83.0.4103.61-0ubuntu0.18.04.1) ...\n",
            "Setting up chromium-browser-l10n (83.0.4103.61-0ubuntu0.18.04.1) ...\n",
            "Processing triggers for hicolor-icon-theme (0.17-2) ...\n",
            "Processing triggers for mime-support (3.60ubuntu1) ...\n",
            "Processing triggers for man-db (2.8.3-2ubuntu0.1) ...\n"
          ],
          "name": "stdout"
        }
      ]
    },
    {
      "cell_type": "code",
      "metadata": {
        "id": "4uD1EfraJOP6",
        "colab_type": "code",
        "colab": {}
      },
      "source": [
        "!ls"
      ],
      "execution_count": 0,
      "outputs": []
    },
    {
      "cell_type": "markdown",
      "metadata": {
        "id": "AvJJqTm4IJNl",
        "colab_type": "text"
      },
      "source": [
        "# 104-1111人力銀行 爬蟲"
      ]
    },
    {
      "cell_type": "code",
      "metadata": {
        "id": "aptXretMIJNm",
        "colab_type": "code",
        "colab": {}
      },
      "source": [
        "def get_todate():\n",
        "    return date.today()\n",
        "\n",
        "def selenium_get_Code_104(url):\n",
        "    #chrome_options = Options() # 啟動無頭模式\n",
        "    chrome_options = webdriver.ChromeOptions() \n",
        "    chrome_options.add_argument('--headless') \n",
        "    chrome_options.add_argument('--no-sandbox')\n",
        "    chrome_options.add_argument('--disable-dev-shm-usage')\n",
        "    driver = webdriver.Chrome('chromedriver',options=chrome_options)\n",
        "    driver.get(url)\n",
        "    save = driver.page_source\n",
        "    driver.quit()#關閉瀏覽器\n",
        "    soup = BeautifulSoup(save, \"html.parser\")\n",
        "    page = soup.select('.page-select.js-paging-select.gtm-paging-top')[0].find_all('option')[-1].get('value')\n",
        "    return page\n",
        "\n",
        "def read_url(url):\n",
        "    USER_AGENT_LIST = [\n",
        "        \"Mozilla/4.0 (compatible; MSIE 6.0; Windows NT 5.1; SV1; AcooBrowser; .NET CLR 1.1.4322; .NET CLR 2.0.50727)\",\n",
        "        \"Mozilla/4.0 (compatible; MSIE 7.0; Windows NT 6.0; Acoo Browser; SLCC1; .NET CLR 2.0.50727; Media Center PC 5.0; .NET CLR 3.0.04506)\",\n",
        "        \"Mozilla/4.0 (compatible; MSIE 7.0; AOL 9.5; AOLBuild 4337.35; Windows NT 5.1; .NET CLR 1.1.4322; .NET CLR 2.0.50727)\",\n",
        "        \"Mozilla/5.0 (Windows; U; MSIE 9.0; Windows NT 9.0; en-US)\",\n",
        "        \"Mozilla/5.0 (compatible; MSIE 9.0; Windows NT 6.1; Win64; x64; Trident/5.0; .NET CLR 3.5.30729; .NET CLR 3.0.30729; .NET CLR 2.0.50727; Media Center PC 6.0)\",\n",
        "        \"Mozilla/5.0 (compatible; MSIE 8.0; Windows NT 6.0; Trident/4.0; WOW64; Trident/4.0; SLCC2; .NET CLR 2.0.50727; .NET CLR 3.5.30729; .NET CLR 3.0.30729; .NET CLR 1.0.3705; .NET CLR 1.1.4322)\",\n",
        "        \"Mozilla/4.0 (compatible; MSIE 7.0b; Windows NT 5.2; .NET CLR 1.1.4322; .NET CLR 2.0.50727; InfoPath.2; .NET CLR 3.0.04506.30)\",\n",
        "        \"Mozilla/5.0 (Windows; U; Windows NT 5.1; zh-CN) AppleWebKit/523.15 (KHTML, like Gecko, Safari/419.3) Arora/0.3 (Change: 287 c9dfb30)\",\n",
        "        \"Mozilla/5.0 (X11; U; Linux; en-US) AppleWebKit/527+ (KHTML, like Gecko, Safari/419.3) Arora/0.6\",\n",
        "        \"Mozilla/5.0 (Windows; U; Windows NT 5.1; en-US; rv:1.8.1.2pre) Gecko/20070215 K-Ninja/2.1.1\",\n",
        "        \"Mozilla/5.0 (Windows; U; Windows NT 5.1; zh-CN; rv:1.9) Gecko/20080705 Firefox/3.0 Kapiko/3.0\",\n",
        "        \"Mozilla/5.0 (X11; Linux i686; U;) Gecko/20070322 Kazehakase/0.4.5\",\n",
        "        \"Mozilla/5.0 (X11; U; Linux i686; en-US; rv:1.9.0.8) Gecko Fedora/1.9.0.8-1.fc10 Kazehakase/0.5.6\",\n",
        "        \"Mozilla/5.0 (Windows NT 6.1; WOW64) AppleWebKit/535.11 (KHTML, like Gecko) Chrome/17.0.963.56 Safari/535.11\",\n",
        "        \"Mozilla/5.0 (Macintosh; Intel Mac OS X 10_7_3) AppleWebKit/535.20 (KHTML, like Gecko) Chrome/19.0.1036.7 Safari/535.20\",\n",
        "        \"Opera/9.80 (Macintosh; Intel Mac OS X 10.6.8; U; fr) Presto/2.9.168 Version/11.52\",\n",
        "        \"Mozilla/5.0 (Windows NT 6.1; WOW64) AppleWebKit/536.11 (KHTML, like Gecko) Chrome/20.0.1132.11 TaoBrowser/2.0 Safari/536.11\",\n",
        "        \"Mozilla/5.0 (Windows NT 6.1; WOW64) AppleWebKit/537.1 (KHTML, like Gecko) Chrome/21.0.1180.71 Safari/537.1 LBBROWSER\",\n",
        "        \"Mozilla/5.0 (compatible; MSIE 9.0; Windows NT 6.1; WOW64; Trident/5.0; SLCC2; .NET CLR 2.0.50727; .NET CLR 3.5.30729; .NET CLR 3.0.30729; Media Center PC 6.0; .NET4.0C; .NET4.0E; LBBROWSER)\",\n",
        "        \"Mozilla/4.0 (compatible; MSIE 6.0; Windows NT 5.1; SV1; QQDownload 732; .NET4.0C; .NET4.0E; LBBROWSER)\",\n",
        "        \"Mozilla/5.0 (Windows NT 6.1; WOW64) AppleWebKit/535.11 (KHTML, like Gecko) Chrome/17.0.963.84 Safari/535.11 LBBROWSER\",\n",
        "        \"Mozilla/4.0 (compatible; MSIE 7.0; Windows NT 6.1; WOW64; Trident/5.0; SLCC2; .NET CLR 2.0.50727; .NET CLR 3.5.30729; .NET CLR 3.0.30729; Media Center PC 6.0; .NET4.0C; .NET4.0E)\",\n",
        "        \"Mozilla/5.0 (compatible; MSIE 9.0; Windows NT 6.1; WOW64; Trident/5.0; SLCC2; .NET CLR 2.0.50727; .NET CLR 3.5.30729; .NET CLR 3.0.30729; Media Center PC 6.0; .NET4.0C; .NET4.0E; QQBrowser/7.0.3698.400)\",\n",
        "        \"Mozilla/4.0 (compatible; MSIE 6.0; Windows NT 5.1; SV1; QQDownload 732; .NET4.0C; .NET4.0E)\",\n",
        "        \"Mozilla/4.0 (compatible; MSIE 7.0; Windows NT 5.1; Trident/4.0; SV1; QQDownload 732; .NET4.0C; .NET4.0E; 360SE)\",\n",
        "        \"Mozilla/4.0 (compatible; MSIE 6.0; Windows NT 5.1; SV1; QQDownload 732; .NET4.0C; .NET4.0E)\",\n",
        "        \"Mozilla/4.0 (compatible; MSIE 7.0; Windows NT 6.1; WOW64; Trident/5.0; SLCC2; .NET CLR 2.0.50727; .NET CLR 3.5.30729; .NET CLR 3.0.30729; Media Center PC 6.0; .NET4.0C; .NET4.0E)\",\n",
        "        \"Mozilla/5.0 (Windows NT 5.1) AppleWebKit/537.1 (KHTML, like Gecko) Chrome/21.0.1180.89 Safari/537.1\",\n",
        "        \"Mozilla/5.0 (Windows NT 6.1; WOW64) AppleWebKit/537.1 (KHTML, like Gecko) Chrome/21.0.1180.89 Safari/537.1\",\n",
        "        \"Mozilla/5.0 (iPad; U; CPU OS 4_2_1 like Mac OS X; zh-cn) AppleWebKit/533.17.9 (KHTML, like Gecko) Version/5.0.2 Mobile/8C148 Safari/6533.18.5\",\n",
        "        \"Mozilla/5.0 (Windows NT 6.1; Win64; x64; rv:2.0b13pre) Gecko/20110307 Firefox/4.0b13pre\",\n",
        "        \"Mozilla/5.0 (X11; Ubuntu; Linux x86_64; rv:16.0) Gecko/20100101 Firefox/16.0\",\n",
        "        \"Mozilla/5.0 (Windows NT 6.1; WOW64) AppleWebKit/537.11 (KHTML, like Gecko) Chrome/23.0.1271.64 Safari/537.11\",\n",
        "        \"Mozilla/5.0 (X11; U; Linux x86_64; zh-CN; rv:1.9.2.10) Gecko/20100922 Ubuntu/10.10 (maverick) Firefox/3.6.10\",\n",
        "        \"Mozilla/5.0 (Windows NT 10.0; Win64; x64) AppleWebKit/537.36 (KHTML, like Gecko) Chrome/58.0.3029.110 Safari/537.36\",\n",
        "        ]\n",
        "    USER_AGENT = random.choice(USER_AGENT_LIST)\n",
        "    headers = {'user-agent': USER_AGENT}\n",
        "    s = requests.Session()\n",
        "    req = s.get(url, headers = headers)\n",
        "    soup = BeautifulSoup(req.text, \"html.parser\")\n",
        "    return soup\n",
        "\n",
        "def csv_column_104(path_csv, key_txt): #建立行標題\n",
        "    with open(path_csv + '.csv', mode='a+', newline='', encoding='utf-8') as employee_file: \n",
        "        employee_writer = csv.writer(employee_file, delimiter=',', quotechar='\"', quoting=csv.QUOTE_MINIMAL)\n",
        "        employee_writer.writerow(['日期', '工作名稱', '公司名稱', '公司地址', '薪資', '工作內容', '地區', '經歷', '學歷', '公司人數', '文章編號', '工作網址'])\n",
        "\n",
        "def find_title_104(key_txt):\n",
        "    #路徑組合\n",
        "    today = get_todate()\n",
        "    path_csv = \"%s\" % os.getcwd() + '/' + 'jobs_csv/'+ str(today) + key_txt + '_104人力銀行'\n",
        "    if not os.path.isdir('jobs_csv'): # 確認是否有jobs_csv資料夾  沒有則返回Ture\n",
        "        os.mkdir('jobs_csv') # 建立jobs_csv資料夾\n",
        "        print('建立jobs_csv資料夾完成')\n",
        "    csv_column_104(path_csv, key_txt) #建立行標題\n",
        "    csv_save = \"\"\n",
        "    key = quote(key_txt)\n",
        "    #  104 api searchTempExclude=2  -> 設定排除派遣\n",
        "    find_page_url = 'https://www.104.com.tw/jobs/search/?ro=0&kwop=7&keyword={0}&order=15&asc=0&page=1&mode=s&jobsource=2018indexpoc&searchTempExclude=2'.format(key)\n",
        "    get_sum_page = int(selenium_get_Code_104(find_page_url))\n",
        "    print('共有：' + str(get_sum_page) + ' 頁')\n",
        "    for i in tqdm(range(1, get_sum_page+1)):  #set page 1 to find all max page ,tqdm讀取進度條\n",
        "        url = 'https://www.104.com.tw/jobs/search/?ro=0&kwop=7&keyword={0}&order=15&asc=0&page={1}&mode=s&jobsource=2018indexpoc&searchTempExclude=2'.format(key, i) \n",
        "        #time.sleep(random.randint(2,10)) #隨機等待\n",
        "        soup = read_url(url) #讀取網頁\n",
        "        print('目前爬取頁面是：' + url)\n",
        "        for title_1 in soup.select('.b-block__left'):\n",
        "            #有三個資料是無資料的，遇到無資料就跳過這個迴圈\n",
        "            if title_1.select('.b-list-inline.b-clearfix.job-list-item__company') != soup.select('.b-block__left')[0].select('.b-list-inline.b-clearfix.job-list-item__company'):\n",
        "                #日期\n",
        "                try:\n",
        "                    #正常代表找到 讚 廣告 (業主買廣告)，發生異常代表找不到 讚，執行except找日期 \n",
        "                    date_match__ = title_1.select('.b-icon--gray.b-icon--w18')[0].select('use')[0]\n",
        "                    date = '廣告'\n",
        "                except:\n",
        "                    date = title_1.select('.b-tit__date')[0].get_text().replace('\\n','').replace(' ','')\n",
        "        \n",
        "                #地區\n",
        "                area = title_1.select('.b-list-inline.b-clearfix.job-list-intro.b-content')[0].find('li').get_text()\n",
        "                #經歷(年資)\n",
        "                experience = title_1.select('.b-list-inline.b-clearfix.job-list-intro.b-content')[0].find_all('li')[1].get_text()\n",
        "                try: #業者沒有輸入學歷，遇到錯誤處理\n",
        "                    #學歷\n",
        "                    education = title_1.select('.b-list-inline.b-clearfix.job-list-intro.b-content')[0].find_all('li')[2].get_text()\n",
        "                except:\n",
        "                    education = \"\"\n",
        "                #工作網址\n",
        "                title_url = title_1.select('.js-job-link')[0].get('href')[2:]\n",
        "                #get 文章編號\n",
        "                title_str = title_url.split('?')[0].split('/')[-1] #get 文章編號\n",
        "                #標題名稱\n",
        "                title = title_1.select('.js-job-link')[0].get_text() #get title\n",
        "                #print(title + title_url + area)\n",
        "                #公司名\n",
        "                company_name = title_1.select('li')[1].find('a').get('title').split('\\n')[0][4:]\n",
        "                try:\n",
        "                    #公司地址\n",
        "                    company_address = title_1.select('li')[1].find('a').get('title').split('\\n')[1][5:]\n",
        "                except:\n",
        "                    company_address = \"\"\n",
        "                try:\n",
        "                    #簡介\n",
        "                    introduction = title_1.select('.job-list-item__info.b-clearfix.b-content')[0].get_text()\n",
        "                    #處理string \\r \\n5 \\n轉成''\n",
        "                    introduction = introduction.replace('\\r','').replace('\\n5','').replace('\\n','')\n",
        "                except:\n",
        "                    introduction = \"\"\n",
        "                #薪資\n",
        "                try:\n",
        "                    salary = title_1.select('.b-tag--default')[0].get_text()\n",
        "                except:\n",
        "                    salary = 0 #沒有寫薪資或待遇面議，設定 0\n",
        "                    \n",
        "                if salary == '待遇面議':\n",
        "                    salary = \"待遇面議\"\n",
        "                else: #數字處理 25000~35000 取25000最低薪資為主要，三位數 = 日薪，四位數 = 論件計酬\n",
        "                    try:\n",
        "                        salary = re.search('\\d+.\\d+', salary).group()\n",
        "                    except:\n",
        "                        salary = 0\n",
        "                #員工人數\n",
        "                try:\n",
        "                    people = title_1.select('.b-tag--default')[1].get_text()\n",
        "                except:\n",
        "                    people = \"\"\n",
        "                #clear_output() # 清除輸出 用於清除進度讀，註解#不使用：用來檢查出錯的網址\n",
        "\n",
        "                with open(path_csv + '.csv', mode='a+', newline='', encoding='utf-8') as employee_file: #w\n",
        "                    employee_writer = csv.writer(employee_file, delimiter=',', quotechar='\"', quoting=csv.QUOTE_MINIMAL)\n",
        "                    employee_writer.writerow([date, title, company_name, company_address, salary, introduction, area, experience, education, people, title_str, title_url])\n",
        "            else:\n",
        "                continue\n",
        "    return print('爬取104完成：請開啟csv檔案')\n",
        "\n",
        "\n",
        "# input_go = input('輸入關鍵字')\n",
        "# save_title_data = find_title_104(input_go)\n",
        "\n",
        "\n",
        "\n",
        "\n",
        "############ 1111人力銀行 #########\n",
        "\n",
        "\n",
        "def selenium_get_Code_1111(url):\n",
        "    chrome_options = webdriver.ChromeOptions() \n",
        "    chrome_options.add_argument('--headless') \n",
        "    chrome_options.add_argument('--no-sandbox')\n",
        "    chrome_options.add_argument('--disable-dev-shm-usage')\n",
        "    driver = webdriver.Chrome('chromedriver',options=chrome_options)\n",
        "    driver.get(url)\n",
        "    save = driver.page_source\n",
        "    driver.quit()#關閉瀏覽器\n",
        "    soup = BeautifulSoup(save, \"html.parser\")\n",
        "    \n",
        "    page = soup.select('.custom-select')[0].select('option')[0].text\n",
        "    page = page.split('/')\n",
        "    page = page[1].strip(' ')\n",
        "    return page\n",
        "\n",
        "\n",
        "def csv_column_1111(path_csv): #建立行標題\n",
        "    with open(path_csv + '.csv', mode='a+', newline='', encoding='utf-8') as employee_file: \n",
        "        employee_writer = csv.writer(employee_file, delimiter=',', quotechar='\"', quoting=csv.QUOTE_MINIMAL)\n",
        "        employee_writer.writerow(['日期', '工作名稱', '公司名稱', '公司地址', '薪資', '工作內容', '地區', '經歷', '學歷', '工作網址'])\n",
        "\n",
        "def find_data_1111(soup):\n",
        "    #錢錢\n",
        "    mnone = soup.select('.needs') \n",
        "    #縣市區域\n",
        "    location = soup.select('.needs')\n",
        "    #日期\n",
        "    get_date = soup.select('.date')\n",
        "    #簡介\n",
        "    jbInfoTxt = soup.select('.jbInfoTxt')\n",
        "    #網址\n",
        "    jobs_url = soup.select('.position0')\n",
        "    #公司名稱、類別、住址\n",
        "    company_data = soup.select('.d-md-flex')\n",
        "    #工作標題\n",
        "    title = soup.select('.position0')\n",
        "    #工作經驗\n",
        "    jobs_exp = soup.select('.needs')\n",
        "    # 學歷\n",
        "    education = soup.select('.needs')\n",
        "    return mnone, location, jbInfoTxt, jobs_url, company_data, title, jobs_exp, get_date, education\n",
        "\n",
        "\n",
        "        \n",
        "def find_title_1111(key_txt):\n",
        "    #路徑組合\n",
        "    today = get_todate()\n",
        "    path_csv = 'jobs_csv/' + str(today) + key_txt + '_1111人力銀行'\n",
        "    if not os.path.isdir('jobs_csv'): # 確認是否有jobs_csv資料夾  沒有則返回Ture\n",
        "        os.mkdir('jobs_csv') # 建立jobs_csv資料夾\n",
        "        print('建立jobs_csv資料夾完成')\n",
        "    csv_column_1111(path_csv) #建立行標題\n",
        "    key = quote(key_txt)\n",
        "    find_page_url = 'https://www.1111.com.tw/job-bank/job-index.asp?si=1&ss=s&ks={0}&page=1'.format(key)\n",
        "    #取得最大page數\n",
        "    get_sum_page = int(selenium_get_Code_1111(find_page_url))\n",
        "    print('共有：' + str(get_sum_page) + ' 頁')\n",
        "    \n",
        "    for i in tqdm(range(1, get_sum_page+1)):\n",
        "        url = 'https://www.1111.com.tw/job-bank/job-index.asp?si=1&ss=s&ks={0}&page={1}'.format(key, i)\n",
        "        soup = read_url(url) #讀取網頁\n",
        "        #讀取網頁資料\n",
        "        mnone, location, jbInfoTxt, jobs_url, company_data, title, jobs_exp, get_date, education = find_data_1111(soup)\n",
        "        print('目前爬取頁面是：' + url)\n",
        "        for mnone, location, jbInfoTxt, jobs_url, company_data, title, jobs_exp, get_date, education in zip(mnone, location, jbInfoTxt, jobs_url, company_data, title, jobs_exp, get_date, education):\n",
        "            #錢 取最低薪資\n",
        "            try:\n",
        "                mnone = mnone.find_all(\"span\")[1].get_text()\n",
        "                get_mone = re.search('\\d+.\\d+', mnone).group()\n",
        "            except:\n",
        "                get_mone = '面議（經常性薪資4萬/月含以上）' #也可以直接給40000\n",
        "            #日期\n",
        "            get_date = get_date.get_text()[5:]\n",
        "\n",
        "            #縣市區域\n",
        "            location = location.find_all(\"span\")[0].get_text()\n",
        "\n",
        "            #簡介\n",
        "            jbInfoTxt = jbInfoTxt.get_text().replace(\"\\xa0\", \"\") #刪除\\xa0\n",
        "\n",
        "            #工作網址\n",
        "            jobs_url = 'https://www.1111.com.tw{0}'.format(jobs_url.find('a').get('href'))\n",
        "\n",
        "            #公司名\n",
        "            company = company_data.find_all('a')[0].get('title').replace('\\r','').split('\\n')[0][6:]\n",
        "\n",
        "            #公司分類 目前暫不使用\n",
        "            category = company_data.find_all('a')[0].get('title').replace('\\r','').split('\\n')[1][6:]\n",
        "\n",
        "            #公司地址\n",
        "            address = company_data.find_all('a')[0].get('title').replace('\\r','').split('\\n')[2][6:]\n",
        "\n",
        "            #工作標題\n",
        "            title = title.find('a').get('title')\n",
        "\n",
        "            # 工作經驗\n",
        "            jobs_exp = jobs_exp.find_all(\"span\")[2].get_text()\n",
        "\n",
        "            # 學歷\n",
        "            education = education.find_all(\"span\")[3].get_text()\n",
        "            # 儲存\n",
        "\n",
        "            # clear_output() # 清除輸出 用於清除進度讀\n",
        "\n",
        "            with open(path_csv + '.csv', mode='a+', newline='', encoding='utf-8') as employee_file: #w\n",
        "                employee_writer = csv.writer(employee_file, delimiter=',', quotechar='\"', quoting=csv.QUOTE_MINIMAL)\n",
        "                employee_writer.writerow([get_date, title, company, address, get_mone, jbInfoTxt, location, jobs_exp, education, jobs_url])\n",
        "    return print('爬取1111完成：請開啟csv檔案')"
      ],
      "execution_count": 0,
      "outputs": []
    },
    {
      "cell_type": "markdown",
      "metadata": {
        "id": "QHFJR6pQIJNp",
        "colab_type": "text"
      },
      "source": [
        "# 執行爬蟲\n",
        "\n",
        "可直接使用 find_title_104('金融') find_title_1111('金融')\n",
        "\n",
        "或\n",
        "\n",
        "執行下列判斷依照說明執行"
      ]
    },
    {
      "cell_type": "code",
      "metadata": {
        "scrolled": true,
        "id": "Pcs1RzIKIJNq",
        "colab_type": "code",
        "outputId": "5c139509-ed8f-408a-aa97-d3ba81d72213",
        "colab": {
          "base_uri": "https://localhost:8080/",
          "height": 1000
        }
      },
      "source": [
        "sel = input('請選擇要使用104或是1111，兩種都要爬輸入 2：')\n",
        "\n",
        "while True:\n",
        "    if sel == '104':\n",
        "        input_str = input('請輸入要搜尋的關鍵字，取消請輸入0：')\n",
        "        if input_str == '0':\n",
        "            print('已經取消')\n",
        "            break\n",
        "        find_title_104(input_str)\n",
        "        break\n",
        "    elif sel == '1111':\n",
        "        input_str = input('請輸入要搜尋的關鍵字，取消請輸入0：')\n",
        "        if input_str == '0':\n",
        "            print('已經取消')\n",
        "            break\n",
        "        find_title_1111(input_str)\n",
        "        break\n",
        "    elif sel == '0':\n",
        "        break\n",
        "    elif sel == '2':\n",
        "        input_str = input('請輸入要搜尋的關鍵字，取消請輸入0：')\n",
        "        if input_str == '0':\n",
        "            print('已經取消')\n",
        "            break        \n",
        "        print('爬取104、1111')\n",
        "        find_title_104(input_str)\n",
        "        find_title_1111(input_str)\n",
        "        break\n",
        "\n",
        "    else:\n",
        "        print('請輸入正確的選項：輸入 104 或 1111：')\n",
        "        sel = input('請選擇要使用104或是1111：')"
      ],
      "execution_count": 4,
      "outputs": [
        {
          "output_type": "stream",
          "text": [
            "請選擇要使用104或是1111，兩種都要爬輸入 2：2\n",
            "請輸入要搜尋的關鍵字，取消請輸入0：金融\n",
            "爬取104、1111\n",
            "建立jobs_csv資料夾完成\n"
          ],
          "name": "stdout"
        },
        {
          "output_type": "stream",
          "text": [
            "\r  0%|          | 0/150 [00:00<?, ?it/s]"
          ],
          "name": "stderr"
        },
        {
          "output_type": "stream",
          "text": [
            "共有：150 頁\n"
          ],
          "name": "stdout"
        },
        {
          "output_type": "stream",
          "text": [
            "\r  1%|          | 1/150 [00:01<04:01,  1.62s/it]"
          ],
          "name": "stderr"
        },
        {
          "output_type": "stream",
          "text": [
            "目前爬取頁面是：https://www.104.com.tw/jobs/search/?ro=0&kwop=7&keyword=%E9%87%91%E8%9E%8D&order=15&asc=0&page=1&mode=s&jobsource=2018indexpoc&searchTempExclude=2\n"
          ],
          "name": "stdout"
        },
        {
          "output_type": "stream",
          "text": [
            "\r  1%|▏         | 2/150 [00:03<04:00,  1.63s/it]"
          ],
          "name": "stderr"
        },
        {
          "output_type": "stream",
          "text": [
            "目前爬取頁面是：https://www.104.com.tw/jobs/search/?ro=0&kwop=7&keyword=%E9%87%91%E8%9E%8D&order=15&asc=0&page=2&mode=s&jobsource=2018indexpoc&searchTempExclude=2\n"
          ],
          "name": "stdout"
        },
        {
          "output_type": "stream",
          "text": [
            "\r  2%|▏         | 3/150 [00:04<03:55,  1.60s/it]"
          ],
          "name": "stderr"
        },
        {
          "output_type": "stream",
          "text": [
            "目前爬取頁面是：https://www.104.com.tw/jobs/search/?ro=0&kwop=7&keyword=%E9%87%91%E8%9E%8D&order=15&asc=0&page=3&mode=s&jobsource=2018indexpoc&searchTempExclude=2\n"
          ],
          "name": "stdout"
        },
        {
          "output_type": "stream",
          "text": [
            "\r  3%|▎         | 4/150 [00:06<03:53,  1.60s/it]"
          ],
          "name": "stderr"
        },
        {
          "output_type": "stream",
          "text": [
            "目前爬取頁面是：https://www.104.com.tw/jobs/search/?ro=0&kwop=7&keyword=%E9%87%91%E8%9E%8D&order=15&asc=0&page=4&mode=s&jobsource=2018indexpoc&searchTempExclude=2\n"
          ],
          "name": "stdout"
        },
        {
          "output_type": "stream",
          "text": [
            "\r  3%|▎         | 5/150 [00:07<03:49,  1.58s/it]"
          ],
          "name": "stderr"
        },
        {
          "output_type": "stream",
          "text": [
            "目前爬取頁面是：https://www.104.com.tw/jobs/search/?ro=0&kwop=7&keyword=%E9%87%91%E8%9E%8D&order=15&asc=0&page=5&mode=s&jobsource=2018indexpoc&searchTempExclude=2\n"
          ],
          "name": "stdout"
        },
        {
          "output_type": "stream",
          "text": [
            "\r  4%|▍         | 6/150 [00:09<03:37,  1.51s/it]"
          ],
          "name": "stderr"
        },
        {
          "output_type": "stream",
          "text": [
            "目前爬取頁面是：https://www.104.com.tw/jobs/search/?ro=0&kwop=7&keyword=%E9%87%91%E8%9E%8D&order=15&asc=0&page=6&mode=s&jobsource=2018indexpoc&searchTempExclude=2\n"
          ],
          "name": "stdout"
        },
        {
          "output_type": "stream",
          "text": [
            "\r  5%|▍         | 7/150 [00:10<03:30,  1.47s/it]"
          ],
          "name": "stderr"
        },
        {
          "output_type": "stream",
          "text": [
            "目前爬取頁面是：https://www.104.com.tw/jobs/search/?ro=0&kwop=7&keyword=%E9%87%91%E8%9E%8D&order=15&asc=0&page=7&mode=s&jobsource=2018indexpoc&searchTempExclude=2\n"
          ],
          "name": "stdout"
        },
        {
          "output_type": "stream",
          "text": [
            "\r  5%|▌         | 8/150 [00:12<03:35,  1.52s/it]"
          ],
          "name": "stderr"
        },
        {
          "output_type": "stream",
          "text": [
            "目前爬取頁面是：https://www.104.com.tw/jobs/search/?ro=0&kwop=7&keyword=%E9%87%91%E8%9E%8D&order=15&asc=0&page=8&mode=s&jobsource=2018indexpoc&searchTempExclude=2\n"
          ],
          "name": "stdout"
        },
        {
          "output_type": "stream",
          "text": [
            "\r  6%|▌         | 9/150 [00:13<03:36,  1.54s/it]"
          ],
          "name": "stderr"
        },
        {
          "output_type": "stream",
          "text": [
            "目前爬取頁面是：https://www.104.com.tw/jobs/search/?ro=0&kwop=7&keyword=%E9%87%91%E8%9E%8D&order=15&asc=0&page=9&mode=s&jobsource=2018indexpoc&searchTempExclude=2\n"
          ],
          "name": "stdout"
        },
        {
          "output_type": "stream",
          "text": [
            "\r  7%|▋         | 10/150 [00:15<03:39,  1.57s/it]"
          ],
          "name": "stderr"
        },
        {
          "output_type": "stream",
          "text": [
            "目前爬取頁面是：https://www.104.com.tw/jobs/search/?ro=0&kwop=7&keyword=%E9%87%91%E8%9E%8D&order=15&asc=0&page=10&mode=s&jobsource=2018indexpoc&searchTempExclude=2\n"
          ],
          "name": "stdout"
        },
        {
          "output_type": "stream",
          "text": [
            "\r  7%|▋         | 11/150 [00:16<03:28,  1.50s/it]"
          ],
          "name": "stderr"
        },
        {
          "output_type": "stream",
          "text": [
            "目前爬取頁面是：https://www.104.com.tw/jobs/search/?ro=0&kwop=7&keyword=%E9%87%91%E8%9E%8D&order=15&asc=0&page=11&mode=s&jobsource=2018indexpoc&searchTempExclude=2\n"
          ],
          "name": "stdout"
        },
        {
          "output_type": "stream",
          "text": [
            "\r  8%|▊         | 12/150 [00:18<03:29,  1.52s/it]"
          ],
          "name": "stderr"
        },
        {
          "output_type": "stream",
          "text": [
            "目前爬取頁面是：https://www.104.com.tw/jobs/search/?ro=0&kwop=7&keyword=%E9%87%91%E8%9E%8D&order=15&asc=0&page=12&mode=s&jobsource=2018indexpoc&searchTempExclude=2\n"
          ],
          "name": "stdout"
        },
        {
          "output_type": "stream",
          "text": [
            "\r  9%|▊         | 13/150 [00:20<03:32,  1.55s/it]"
          ],
          "name": "stderr"
        },
        {
          "output_type": "stream",
          "text": [
            "目前爬取頁面是：https://www.104.com.tw/jobs/search/?ro=0&kwop=7&keyword=%E9%87%91%E8%9E%8D&order=15&asc=0&page=13&mode=s&jobsource=2018indexpoc&searchTempExclude=2\n"
          ],
          "name": "stdout"
        },
        {
          "output_type": "stream",
          "text": [
            "\r  9%|▉         | 14/150 [00:21<03:25,  1.51s/it]"
          ],
          "name": "stderr"
        },
        {
          "output_type": "stream",
          "text": [
            "目前爬取頁面是：https://www.104.com.tw/jobs/search/?ro=0&kwop=7&keyword=%E9%87%91%E8%9E%8D&order=15&asc=0&page=14&mode=s&jobsource=2018indexpoc&searchTempExclude=2\n"
          ],
          "name": "stdout"
        },
        {
          "output_type": "stream",
          "text": [
            "\r 10%|█         | 15/150 [00:22<03:19,  1.48s/it]"
          ],
          "name": "stderr"
        },
        {
          "output_type": "stream",
          "text": [
            "目前爬取頁面是：https://www.104.com.tw/jobs/search/?ro=0&kwop=7&keyword=%E9%87%91%E8%9E%8D&order=15&asc=0&page=15&mode=s&jobsource=2018indexpoc&searchTempExclude=2\n"
          ],
          "name": "stdout"
        },
        {
          "output_type": "stream",
          "text": [
            "\r 11%|█         | 16/150 [00:24<03:14,  1.45s/it]"
          ],
          "name": "stderr"
        },
        {
          "output_type": "stream",
          "text": [
            "目前爬取頁面是：https://www.104.com.tw/jobs/search/?ro=0&kwop=7&keyword=%E9%87%91%E8%9E%8D&order=15&asc=0&page=16&mode=s&jobsource=2018indexpoc&searchTempExclude=2\n"
          ],
          "name": "stdout"
        },
        {
          "output_type": "stream",
          "text": [
            "\r 11%|█▏        | 17/150 [00:25<03:18,  1.49s/it]"
          ],
          "name": "stderr"
        },
        {
          "output_type": "stream",
          "text": [
            "目前爬取頁面是：https://www.104.com.tw/jobs/search/?ro=0&kwop=7&keyword=%E9%87%91%E8%9E%8D&order=15&asc=0&page=17&mode=s&jobsource=2018indexpoc&searchTempExclude=2\n"
          ],
          "name": "stdout"
        },
        {
          "output_type": "stream",
          "text": [
            "\r 12%|█▏        | 18/150 [00:27<03:12,  1.46s/it]"
          ],
          "name": "stderr"
        },
        {
          "output_type": "stream",
          "text": [
            "目前爬取頁面是：https://www.104.com.tw/jobs/search/?ro=0&kwop=7&keyword=%E9%87%91%E8%9E%8D&order=15&asc=0&page=18&mode=s&jobsource=2018indexpoc&searchTempExclude=2\n"
          ],
          "name": "stdout"
        },
        {
          "output_type": "stream",
          "text": [
            "\r 13%|█▎        | 19/150 [00:28<03:14,  1.48s/it]"
          ],
          "name": "stderr"
        },
        {
          "output_type": "stream",
          "text": [
            "目前爬取頁面是：https://www.104.com.tw/jobs/search/?ro=0&kwop=7&keyword=%E9%87%91%E8%9E%8D&order=15&asc=0&page=19&mode=s&jobsource=2018indexpoc&searchTempExclude=2\n"
          ],
          "name": "stdout"
        },
        {
          "output_type": "stream",
          "text": [
            "\r 13%|█▎        | 20/150 [00:30<03:16,  1.51s/it]"
          ],
          "name": "stderr"
        },
        {
          "output_type": "stream",
          "text": [
            "目前爬取頁面是：https://www.104.com.tw/jobs/search/?ro=0&kwop=7&keyword=%E9%87%91%E8%9E%8D&order=15&asc=0&page=20&mode=s&jobsource=2018indexpoc&searchTempExclude=2\n"
          ],
          "name": "stdout"
        },
        {
          "output_type": "stream",
          "text": [
            "\r 14%|█▍        | 21/150 [00:31<03:08,  1.46s/it]"
          ],
          "name": "stderr"
        },
        {
          "output_type": "stream",
          "text": [
            "目前爬取頁面是：https://www.104.com.tw/jobs/search/?ro=0&kwop=7&keyword=%E9%87%91%E8%9E%8D&order=15&asc=0&page=21&mode=s&jobsource=2018indexpoc&searchTempExclude=2\n"
          ],
          "name": "stdout"
        },
        {
          "output_type": "stream",
          "text": [
            "\r 15%|█▍        | 22/150 [00:33<03:03,  1.43s/it]"
          ],
          "name": "stderr"
        },
        {
          "output_type": "stream",
          "text": [
            "目前爬取頁面是：https://www.104.com.tw/jobs/search/?ro=0&kwop=7&keyword=%E9%87%91%E8%9E%8D&order=15&asc=0&page=22&mode=s&jobsource=2018indexpoc&searchTempExclude=2\n"
          ],
          "name": "stdout"
        },
        {
          "output_type": "stream",
          "text": [
            "\r 15%|█▌        | 23/150 [00:34<03:04,  1.46s/it]"
          ],
          "name": "stderr"
        },
        {
          "output_type": "stream",
          "text": [
            "目前爬取頁面是：https://www.104.com.tw/jobs/search/?ro=0&kwop=7&keyword=%E9%87%91%E8%9E%8D&order=15&asc=0&page=23&mode=s&jobsource=2018indexpoc&searchTempExclude=2\n"
          ],
          "name": "stdout"
        },
        {
          "output_type": "stream",
          "text": [
            "\r 16%|█▌        | 24/150 [00:37<03:52,  1.85s/it]"
          ],
          "name": "stderr"
        },
        {
          "output_type": "stream",
          "text": [
            "目前爬取頁面是：https://www.104.com.tw/jobs/search/?ro=0&kwop=7&keyword=%E9%87%91%E8%9E%8D&order=15&asc=0&page=24&mode=s&jobsource=2018indexpoc&searchTempExclude=2\n"
          ],
          "name": "stdout"
        },
        {
          "output_type": "stream",
          "text": [
            "\r 17%|█▋        | 25/150 [00:38<03:41,  1.77s/it]"
          ],
          "name": "stderr"
        },
        {
          "output_type": "stream",
          "text": [
            "目前爬取頁面是：https://www.104.com.tw/jobs/search/?ro=0&kwop=7&keyword=%E9%87%91%E8%9E%8D&order=15&asc=0&page=25&mode=s&jobsource=2018indexpoc&searchTempExclude=2\n"
          ],
          "name": "stdout"
        },
        {
          "output_type": "stream",
          "text": [
            "\r 17%|█▋        | 26/150 [00:40<03:36,  1.75s/it]"
          ],
          "name": "stderr"
        },
        {
          "output_type": "stream",
          "text": [
            "目前爬取頁面是：https://www.104.com.tw/jobs/search/?ro=0&kwop=7&keyword=%E9%87%91%E8%9E%8D&order=15&asc=0&page=26&mode=s&jobsource=2018indexpoc&searchTempExclude=2\n"
          ],
          "name": "stdout"
        },
        {
          "output_type": "stream",
          "text": [
            "\r 18%|█▊        | 27/150 [00:41<03:19,  1.62s/it]"
          ],
          "name": "stderr"
        },
        {
          "output_type": "stream",
          "text": [
            "目前爬取頁面是：https://www.104.com.tw/jobs/search/?ro=0&kwop=7&keyword=%E9%87%91%E8%9E%8D&order=15&asc=0&page=27&mode=s&jobsource=2018indexpoc&searchTempExclude=2\n"
          ],
          "name": "stdout"
        },
        {
          "output_type": "stream",
          "text": [
            "\r 19%|█▊        | 28/150 [00:43<03:10,  1.56s/it]"
          ],
          "name": "stderr"
        },
        {
          "output_type": "stream",
          "text": [
            "目前爬取頁面是：https://www.104.com.tw/jobs/search/?ro=0&kwop=7&keyword=%E9%87%91%E8%9E%8D&order=15&asc=0&page=28&mode=s&jobsource=2018indexpoc&searchTempExclude=2\n"
          ],
          "name": "stdout"
        },
        {
          "output_type": "stream",
          "text": [
            "\r 19%|█▉        | 29/150 [00:44<03:02,  1.51s/it]"
          ],
          "name": "stderr"
        },
        {
          "output_type": "stream",
          "text": [
            "目前爬取頁面是：https://www.104.com.tw/jobs/search/?ro=0&kwop=7&keyword=%E9%87%91%E8%9E%8D&order=15&asc=0&page=29&mode=s&jobsource=2018indexpoc&searchTempExclude=2\n"
          ],
          "name": "stdout"
        },
        {
          "output_type": "stream",
          "text": [
            "\r 20%|██        | 30/150 [00:46<03:01,  1.51s/it]"
          ],
          "name": "stderr"
        },
        {
          "output_type": "stream",
          "text": [
            "目前爬取頁面是：https://www.104.com.tw/jobs/search/?ro=0&kwop=7&keyword=%E9%87%91%E8%9E%8D&order=15&asc=0&page=30&mode=s&jobsource=2018indexpoc&searchTempExclude=2\n"
          ],
          "name": "stdout"
        },
        {
          "output_type": "stream",
          "text": [
            "\r 21%|██        | 31/150 [00:47<03:00,  1.52s/it]"
          ],
          "name": "stderr"
        },
        {
          "output_type": "stream",
          "text": [
            "目前爬取頁面是：https://www.104.com.tw/jobs/search/?ro=0&kwop=7&keyword=%E9%87%91%E8%9E%8D&order=15&asc=0&page=31&mode=s&jobsource=2018indexpoc&searchTempExclude=2\n"
          ],
          "name": "stdout"
        },
        {
          "output_type": "stream",
          "text": [
            "\r 21%|██▏       | 32/150 [00:49<03:02,  1.55s/it]"
          ],
          "name": "stderr"
        },
        {
          "output_type": "stream",
          "text": [
            "目前爬取頁面是：https://www.104.com.tw/jobs/search/?ro=0&kwop=7&keyword=%E9%87%91%E8%9E%8D&order=15&asc=0&page=32&mode=s&jobsource=2018indexpoc&searchTempExclude=2\n"
          ],
          "name": "stdout"
        },
        {
          "output_type": "stream",
          "text": [
            "\r 22%|██▏       | 33/150 [00:51<03:07,  1.60s/it]"
          ],
          "name": "stderr"
        },
        {
          "output_type": "stream",
          "text": [
            "目前爬取頁面是：https://www.104.com.tw/jobs/search/?ro=0&kwop=7&keyword=%E9%87%91%E8%9E%8D&order=15&asc=0&page=33&mode=s&jobsource=2018indexpoc&searchTempExclude=2\n"
          ],
          "name": "stdout"
        },
        {
          "output_type": "stream",
          "text": [
            "\r 23%|██▎       | 34/150 [00:52<03:03,  1.58s/it]"
          ],
          "name": "stderr"
        },
        {
          "output_type": "stream",
          "text": [
            "目前爬取頁面是：https://www.104.com.tw/jobs/search/?ro=0&kwop=7&keyword=%E9%87%91%E8%9E%8D&order=15&asc=0&page=34&mode=s&jobsource=2018indexpoc&searchTempExclude=2\n"
          ],
          "name": "stdout"
        },
        {
          "output_type": "stream",
          "text": [
            "\r 23%|██▎       | 35/150 [00:54<02:56,  1.53s/it]"
          ],
          "name": "stderr"
        },
        {
          "output_type": "stream",
          "text": [
            "目前爬取頁面是：https://www.104.com.tw/jobs/search/?ro=0&kwop=7&keyword=%E9%87%91%E8%9E%8D&order=15&asc=0&page=35&mode=s&jobsource=2018indexpoc&searchTempExclude=2\n"
          ],
          "name": "stdout"
        },
        {
          "output_type": "stream",
          "text": [
            "\r 24%|██▍       | 36/150 [00:55<02:58,  1.56s/it]"
          ],
          "name": "stderr"
        },
        {
          "output_type": "stream",
          "text": [
            "目前爬取頁面是：https://www.104.com.tw/jobs/search/?ro=0&kwop=7&keyword=%E9%87%91%E8%9E%8D&order=15&asc=0&page=36&mode=s&jobsource=2018indexpoc&searchTempExclude=2\n"
          ],
          "name": "stdout"
        },
        {
          "output_type": "stream",
          "text": [
            "\r 25%|██▍       | 37/150 [00:57<02:56,  1.56s/it]"
          ],
          "name": "stderr"
        },
        {
          "output_type": "stream",
          "text": [
            "目前爬取頁面是：https://www.104.com.tw/jobs/search/?ro=0&kwop=7&keyword=%E9%87%91%E8%9E%8D&order=15&asc=0&page=37&mode=s&jobsource=2018indexpoc&searchTempExclude=2\n"
          ],
          "name": "stdout"
        },
        {
          "output_type": "stream",
          "text": [
            "\r 25%|██▌       | 38/150 [00:58<02:49,  1.51s/it]"
          ],
          "name": "stderr"
        },
        {
          "output_type": "stream",
          "text": [
            "目前爬取頁面是：https://www.104.com.tw/jobs/search/?ro=0&kwop=7&keyword=%E9%87%91%E8%9E%8D&order=15&asc=0&page=38&mode=s&jobsource=2018indexpoc&searchTempExclude=2\n"
          ],
          "name": "stdout"
        },
        {
          "output_type": "stream",
          "text": [
            "\r 26%|██▌       | 39/150 [01:00<02:43,  1.47s/it]"
          ],
          "name": "stderr"
        },
        {
          "output_type": "stream",
          "text": [
            "目前爬取頁面是：https://www.104.com.tw/jobs/search/?ro=0&kwop=7&keyword=%E9%87%91%E8%9E%8D&order=15&asc=0&page=39&mode=s&jobsource=2018indexpoc&searchTempExclude=2\n"
          ],
          "name": "stdout"
        },
        {
          "output_type": "stream",
          "text": [
            "\r 27%|██▋       | 40/150 [01:01<02:52,  1.57s/it]"
          ],
          "name": "stderr"
        },
        {
          "output_type": "stream",
          "text": [
            "目前爬取頁面是：https://www.104.com.tw/jobs/search/?ro=0&kwop=7&keyword=%E9%87%91%E8%9E%8D&order=15&asc=0&page=40&mode=s&jobsource=2018indexpoc&searchTempExclude=2\n"
          ],
          "name": "stdout"
        },
        {
          "output_type": "stream",
          "text": [
            "\r 27%|██▋       | 41/150 [01:03<02:54,  1.60s/it]"
          ],
          "name": "stderr"
        },
        {
          "output_type": "stream",
          "text": [
            "目前爬取頁面是：https://www.104.com.tw/jobs/search/?ro=0&kwop=7&keyword=%E9%87%91%E8%9E%8D&order=15&asc=0&page=41&mode=s&jobsource=2018indexpoc&searchTempExclude=2\n"
          ],
          "name": "stdout"
        },
        {
          "output_type": "stream",
          "text": [
            "\r 28%|██▊       | 42/150 [01:05<02:53,  1.61s/it]"
          ],
          "name": "stderr"
        },
        {
          "output_type": "stream",
          "text": [
            "目前爬取頁面是：https://www.104.com.tw/jobs/search/?ro=0&kwop=7&keyword=%E9%87%91%E8%9E%8D&order=15&asc=0&page=42&mode=s&jobsource=2018indexpoc&searchTempExclude=2\n"
          ],
          "name": "stdout"
        },
        {
          "output_type": "stream",
          "text": [
            "\r 29%|██▊       | 43/150 [01:06<02:50,  1.59s/it]"
          ],
          "name": "stderr"
        },
        {
          "output_type": "stream",
          "text": [
            "目前爬取頁面是：https://www.104.com.tw/jobs/search/?ro=0&kwop=7&keyword=%E9%87%91%E8%9E%8D&order=15&asc=0&page=43&mode=s&jobsource=2018indexpoc&searchTempExclude=2\n"
          ],
          "name": "stdout"
        },
        {
          "output_type": "stream",
          "text": [
            "\r 29%|██▉       | 44/150 [01:08<02:48,  1.59s/it]"
          ],
          "name": "stderr"
        },
        {
          "output_type": "stream",
          "text": [
            "目前爬取頁面是：https://www.104.com.tw/jobs/search/?ro=0&kwop=7&keyword=%E9%87%91%E8%9E%8D&order=15&asc=0&page=44&mode=s&jobsource=2018indexpoc&searchTempExclude=2\n"
          ],
          "name": "stdout"
        },
        {
          "output_type": "stream",
          "text": [
            "\r 30%|███       | 45/150 [01:09<02:41,  1.54s/it]"
          ],
          "name": "stderr"
        },
        {
          "output_type": "stream",
          "text": [
            "目前爬取頁面是：https://www.104.com.tw/jobs/search/?ro=0&kwop=7&keyword=%E9%87%91%E8%9E%8D&order=15&asc=0&page=45&mode=s&jobsource=2018indexpoc&searchTempExclude=2\n"
          ],
          "name": "stdout"
        },
        {
          "output_type": "stream",
          "text": [
            "\r 31%|███       | 46/150 [01:11<02:33,  1.48s/it]"
          ],
          "name": "stderr"
        },
        {
          "output_type": "stream",
          "text": [
            "目前爬取頁面是：https://www.104.com.tw/jobs/search/?ro=0&kwop=7&keyword=%E9%87%91%E8%9E%8D&order=15&asc=0&page=46&mode=s&jobsource=2018indexpoc&searchTempExclude=2\n"
          ],
          "name": "stdout"
        },
        {
          "output_type": "stream",
          "text": [
            "\r 31%|███▏      | 47/150 [01:12<02:28,  1.45s/it]"
          ],
          "name": "stderr"
        },
        {
          "output_type": "stream",
          "text": [
            "目前爬取頁面是：https://www.104.com.tw/jobs/search/?ro=0&kwop=7&keyword=%E9%87%91%E8%9E%8D&order=15&asc=0&page=47&mode=s&jobsource=2018indexpoc&searchTempExclude=2\n"
          ],
          "name": "stdout"
        },
        {
          "output_type": "stream",
          "text": [
            "\r 32%|███▏      | 48/150 [01:13<02:25,  1.43s/it]"
          ],
          "name": "stderr"
        },
        {
          "output_type": "stream",
          "text": [
            "目前爬取頁面是：https://www.104.com.tw/jobs/search/?ro=0&kwop=7&keyword=%E9%87%91%E8%9E%8D&order=15&asc=0&page=48&mode=s&jobsource=2018indexpoc&searchTempExclude=2\n"
          ],
          "name": "stdout"
        },
        {
          "output_type": "stream",
          "text": [
            "\r 33%|███▎      | 49/150 [01:15<02:29,  1.48s/it]"
          ],
          "name": "stderr"
        },
        {
          "output_type": "stream",
          "text": [
            "目前爬取頁面是：https://www.104.com.tw/jobs/search/?ro=0&kwop=7&keyword=%E9%87%91%E8%9E%8D&order=15&asc=0&page=49&mode=s&jobsource=2018indexpoc&searchTempExclude=2\n"
          ],
          "name": "stdout"
        },
        {
          "output_type": "stream",
          "text": [
            "\r 33%|███▎      | 50/150 [01:17<02:31,  1.52s/it]"
          ],
          "name": "stderr"
        },
        {
          "output_type": "stream",
          "text": [
            "目前爬取頁面是：https://www.104.com.tw/jobs/search/?ro=0&kwop=7&keyword=%E9%87%91%E8%9E%8D&order=15&asc=0&page=50&mode=s&jobsource=2018indexpoc&searchTempExclude=2\n"
          ],
          "name": "stdout"
        },
        {
          "output_type": "stream",
          "text": [
            "\r 34%|███▍      | 51/150 [01:18<02:27,  1.49s/it]"
          ],
          "name": "stderr"
        },
        {
          "output_type": "stream",
          "text": [
            "目前爬取頁面是：https://www.104.com.tw/jobs/search/?ro=0&kwop=7&keyword=%E9%87%91%E8%9E%8D&order=15&asc=0&page=51&mode=s&jobsource=2018indexpoc&searchTempExclude=2\n"
          ],
          "name": "stdout"
        },
        {
          "output_type": "stream",
          "text": [
            "\r 35%|███▍      | 52/150 [01:20<02:30,  1.54s/it]"
          ],
          "name": "stderr"
        },
        {
          "output_type": "stream",
          "text": [
            "目前爬取頁面是：https://www.104.com.tw/jobs/search/?ro=0&kwop=7&keyword=%E9%87%91%E8%9E%8D&order=15&asc=0&page=52&mode=s&jobsource=2018indexpoc&searchTempExclude=2\n"
          ],
          "name": "stdout"
        },
        {
          "output_type": "stream",
          "text": [
            "\r 35%|███▌      | 53/150 [01:21<02:26,  1.51s/it]"
          ],
          "name": "stderr"
        },
        {
          "output_type": "stream",
          "text": [
            "目前爬取頁面是：https://www.104.com.tw/jobs/search/?ro=0&kwop=7&keyword=%E9%87%91%E8%9E%8D&order=15&asc=0&page=53&mode=s&jobsource=2018indexpoc&searchTempExclude=2\n"
          ],
          "name": "stdout"
        },
        {
          "output_type": "stream",
          "text": [
            "\r 36%|███▌      | 54/150 [01:23<02:25,  1.52s/it]"
          ],
          "name": "stderr"
        },
        {
          "output_type": "stream",
          "text": [
            "目前爬取頁面是：https://www.104.com.tw/jobs/search/?ro=0&kwop=7&keyword=%E9%87%91%E8%9E%8D&order=15&asc=0&page=54&mode=s&jobsource=2018indexpoc&searchTempExclude=2\n"
          ],
          "name": "stdout"
        },
        {
          "output_type": "stream",
          "text": [
            "\r 37%|███▋      | 55/150 [01:24<02:25,  1.53s/it]"
          ],
          "name": "stderr"
        },
        {
          "output_type": "stream",
          "text": [
            "目前爬取頁面是：https://www.104.com.tw/jobs/search/?ro=0&kwop=7&keyword=%E9%87%91%E8%9E%8D&order=15&asc=0&page=55&mode=s&jobsource=2018indexpoc&searchTempExclude=2\n"
          ],
          "name": "stdout"
        },
        {
          "output_type": "stream",
          "text": [
            "\r 37%|███▋      | 56/150 [01:26<02:25,  1.55s/it]"
          ],
          "name": "stderr"
        },
        {
          "output_type": "stream",
          "text": [
            "目前爬取頁面是：https://www.104.com.tw/jobs/search/?ro=0&kwop=7&keyword=%E9%87%91%E8%9E%8D&order=15&asc=0&page=56&mode=s&jobsource=2018indexpoc&searchTempExclude=2\n"
          ],
          "name": "stdout"
        },
        {
          "output_type": "stream",
          "text": [
            "\r 38%|███▊      | 57/150 [01:27<02:25,  1.57s/it]"
          ],
          "name": "stderr"
        },
        {
          "output_type": "stream",
          "text": [
            "目前爬取頁面是：https://www.104.com.tw/jobs/search/?ro=0&kwop=7&keyword=%E9%87%91%E8%9E%8D&order=15&asc=0&page=57&mode=s&jobsource=2018indexpoc&searchTempExclude=2\n"
          ],
          "name": "stdout"
        },
        {
          "output_type": "stream",
          "text": [
            "\r 39%|███▊      | 58/150 [01:29<02:19,  1.52s/it]"
          ],
          "name": "stderr"
        },
        {
          "output_type": "stream",
          "text": [
            "目前爬取頁面是：https://www.104.com.tw/jobs/search/?ro=0&kwop=7&keyword=%E9%87%91%E8%9E%8D&order=15&asc=0&page=58&mode=s&jobsource=2018indexpoc&searchTempExclude=2\n"
          ],
          "name": "stdout"
        },
        {
          "output_type": "stream",
          "text": [
            "\r 39%|███▉      | 59/150 [01:30<02:16,  1.49s/it]"
          ],
          "name": "stderr"
        },
        {
          "output_type": "stream",
          "text": [
            "目前爬取頁面是：https://www.104.com.tw/jobs/search/?ro=0&kwop=7&keyword=%E9%87%91%E8%9E%8D&order=15&asc=0&page=59&mode=s&jobsource=2018indexpoc&searchTempExclude=2\n"
          ],
          "name": "stdout"
        },
        {
          "output_type": "stream",
          "text": [
            "\r 40%|████      | 60/150 [01:32<02:13,  1.48s/it]"
          ],
          "name": "stderr"
        },
        {
          "output_type": "stream",
          "text": [
            "目前爬取頁面是：https://www.104.com.tw/jobs/search/?ro=0&kwop=7&keyword=%E9%87%91%E8%9E%8D&order=15&asc=0&page=60&mode=s&jobsource=2018indexpoc&searchTempExclude=2\n"
          ],
          "name": "stdout"
        },
        {
          "output_type": "stream",
          "text": [
            "\r 41%|████      | 61/150 [01:33<02:15,  1.53s/it]"
          ],
          "name": "stderr"
        },
        {
          "output_type": "stream",
          "text": [
            "目前爬取頁面是：https://www.104.com.tw/jobs/search/?ro=0&kwop=7&keyword=%E9%87%91%E8%9E%8D&order=15&asc=0&page=61&mode=s&jobsource=2018indexpoc&searchTempExclude=2\n"
          ],
          "name": "stdout"
        },
        {
          "output_type": "stream",
          "text": [
            "\r 41%|████▏     | 62/150 [01:35<02:20,  1.59s/it]"
          ],
          "name": "stderr"
        },
        {
          "output_type": "stream",
          "text": [
            "目前爬取頁面是：https://www.104.com.tw/jobs/search/?ro=0&kwop=7&keyword=%E9%87%91%E8%9E%8D&order=15&asc=0&page=62&mode=s&jobsource=2018indexpoc&searchTempExclude=2\n"
          ],
          "name": "stdout"
        },
        {
          "output_type": "stream",
          "text": [
            "\r 42%|████▏     | 63/150 [01:37<02:21,  1.63s/it]"
          ],
          "name": "stderr"
        },
        {
          "output_type": "stream",
          "text": [
            "目前爬取頁面是：https://www.104.com.tw/jobs/search/?ro=0&kwop=7&keyword=%E9%87%91%E8%9E%8D&order=15&asc=0&page=63&mode=s&jobsource=2018indexpoc&searchTempExclude=2\n"
          ],
          "name": "stdout"
        },
        {
          "output_type": "stream",
          "text": [
            "\r 43%|████▎     | 64/150 [01:38<02:23,  1.66s/it]"
          ],
          "name": "stderr"
        },
        {
          "output_type": "stream",
          "text": [
            "目前爬取頁面是：https://www.104.com.tw/jobs/search/?ro=0&kwop=7&keyword=%E9%87%91%E8%9E%8D&order=15&asc=0&page=64&mode=s&jobsource=2018indexpoc&searchTempExclude=2\n"
          ],
          "name": "stdout"
        },
        {
          "output_type": "stream",
          "text": [
            "\r 43%|████▎     | 65/150 [01:40<02:20,  1.65s/it]"
          ],
          "name": "stderr"
        },
        {
          "output_type": "stream",
          "text": [
            "目前爬取頁面是：https://www.104.com.tw/jobs/search/?ro=0&kwop=7&keyword=%E9%87%91%E8%9E%8D&order=15&asc=0&page=65&mode=s&jobsource=2018indexpoc&searchTempExclude=2\n"
          ],
          "name": "stdout"
        },
        {
          "output_type": "stream",
          "text": [
            "\r 44%|████▍     | 66/150 [01:41<02:11,  1.57s/it]"
          ],
          "name": "stderr"
        },
        {
          "output_type": "stream",
          "text": [
            "目前爬取頁面是：https://www.104.com.tw/jobs/search/?ro=0&kwop=7&keyword=%E9%87%91%E8%9E%8D&order=15&asc=0&page=66&mode=s&jobsource=2018indexpoc&searchTempExclude=2\n"
          ],
          "name": "stdout"
        },
        {
          "output_type": "stream",
          "text": [
            "\r 45%|████▍     | 67/150 [01:43<02:09,  1.56s/it]"
          ],
          "name": "stderr"
        },
        {
          "output_type": "stream",
          "text": [
            "目前爬取頁面是：https://www.104.com.tw/jobs/search/?ro=0&kwop=7&keyword=%E9%87%91%E8%9E%8D&order=15&asc=0&page=67&mode=s&jobsource=2018indexpoc&searchTempExclude=2\n"
          ],
          "name": "stdout"
        },
        {
          "output_type": "stream",
          "text": [
            "\r 45%|████▌     | 68/150 [01:44<02:05,  1.53s/it]"
          ],
          "name": "stderr"
        },
        {
          "output_type": "stream",
          "text": [
            "目前爬取頁面是：https://www.104.com.tw/jobs/search/?ro=0&kwop=7&keyword=%E9%87%91%E8%9E%8D&order=15&asc=0&page=68&mode=s&jobsource=2018indexpoc&searchTempExclude=2\n"
          ],
          "name": "stdout"
        },
        {
          "output_type": "stream",
          "text": [
            "\r 46%|████▌     | 69/150 [01:46<02:03,  1.52s/it]"
          ],
          "name": "stderr"
        },
        {
          "output_type": "stream",
          "text": [
            "目前爬取頁面是：https://www.104.com.tw/jobs/search/?ro=0&kwop=7&keyword=%E9%87%91%E8%9E%8D&order=15&asc=0&page=69&mode=s&jobsource=2018indexpoc&searchTempExclude=2\n"
          ],
          "name": "stdout"
        },
        {
          "output_type": "stream",
          "text": [
            "\r 47%|████▋     | 70/150 [01:48<02:03,  1.54s/it]"
          ],
          "name": "stderr"
        },
        {
          "output_type": "stream",
          "text": [
            "目前爬取頁面是：https://www.104.com.tw/jobs/search/?ro=0&kwop=7&keyword=%E9%87%91%E8%9E%8D&order=15&asc=0&page=70&mode=s&jobsource=2018indexpoc&searchTempExclude=2\n"
          ],
          "name": "stdout"
        },
        {
          "output_type": "stream",
          "text": [
            "\r 47%|████▋     | 71/150 [01:49<02:06,  1.60s/it]"
          ],
          "name": "stderr"
        },
        {
          "output_type": "stream",
          "text": [
            "目前爬取頁面是：https://www.104.com.tw/jobs/search/?ro=0&kwop=7&keyword=%E9%87%91%E8%9E%8D&order=15&asc=0&page=71&mode=s&jobsource=2018indexpoc&searchTempExclude=2\n"
          ],
          "name": "stdout"
        },
        {
          "output_type": "stream",
          "text": [
            "\r 48%|████▊     | 72/150 [01:51<01:58,  1.52s/it]"
          ],
          "name": "stderr"
        },
        {
          "output_type": "stream",
          "text": [
            "目前爬取頁面是：https://www.104.com.tw/jobs/search/?ro=0&kwop=7&keyword=%E9%87%91%E8%9E%8D&order=15&asc=0&page=72&mode=s&jobsource=2018indexpoc&searchTempExclude=2\n"
          ],
          "name": "stdout"
        },
        {
          "output_type": "stream",
          "text": [
            "\r 49%|████▊     | 73/150 [01:52<01:59,  1.55s/it]"
          ],
          "name": "stderr"
        },
        {
          "output_type": "stream",
          "text": [
            "目前爬取頁面是：https://www.104.com.tw/jobs/search/?ro=0&kwop=7&keyword=%E9%87%91%E8%9E%8D&order=15&asc=0&page=73&mode=s&jobsource=2018indexpoc&searchTempExclude=2\n"
          ],
          "name": "stdout"
        },
        {
          "output_type": "stream",
          "text": [
            "\r 49%|████▉     | 74/150 [01:54<01:57,  1.55s/it]"
          ],
          "name": "stderr"
        },
        {
          "output_type": "stream",
          "text": [
            "目前爬取頁面是：https://www.104.com.tw/jobs/search/?ro=0&kwop=7&keyword=%E9%87%91%E8%9E%8D&order=15&asc=0&page=74&mode=s&jobsource=2018indexpoc&searchTempExclude=2\n"
          ],
          "name": "stdout"
        },
        {
          "output_type": "stream",
          "text": [
            "\r 50%|█████     | 75/150 [01:55<01:57,  1.56s/it]"
          ],
          "name": "stderr"
        },
        {
          "output_type": "stream",
          "text": [
            "目前爬取頁面是：https://www.104.com.tw/jobs/search/?ro=0&kwop=7&keyword=%E9%87%91%E8%9E%8D&order=15&asc=0&page=75&mode=s&jobsource=2018indexpoc&searchTempExclude=2\n"
          ],
          "name": "stdout"
        },
        {
          "output_type": "stream",
          "text": [
            "\r 51%|█████     | 76/150 [01:57<01:50,  1.50s/it]"
          ],
          "name": "stderr"
        },
        {
          "output_type": "stream",
          "text": [
            "目前爬取頁面是：https://www.104.com.tw/jobs/search/?ro=0&kwop=7&keyword=%E9%87%91%E8%9E%8D&order=15&asc=0&page=76&mode=s&jobsource=2018indexpoc&searchTempExclude=2\n"
          ],
          "name": "stdout"
        },
        {
          "output_type": "stream",
          "text": [
            "\r 51%|█████▏    | 77/150 [01:58<01:50,  1.51s/it]"
          ],
          "name": "stderr"
        },
        {
          "output_type": "stream",
          "text": [
            "目前爬取頁面是：https://www.104.com.tw/jobs/search/?ro=0&kwop=7&keyword=%E9%87%91%E8%9E%8D&order=15&asc=0&page=77&mode=s&jobsource=2018indexpoc&searchTempExclude=2\n"
          ],
          "name": "stdout"
        },
        {
          "output_type": "stream",
          "text": [
            "\r 52%|█████▏    | 78/150 [02:00<01:49,  1.52s/it]"
          ],
          "name": "stderr"
        },
        {
          "output_type": "stream",
          "text": [
            "目前爬取頁面是：https://www.104.com.tw/jobs/search/?ro=0&kwop=7&keyword=%E9%87%91%E8%9E%8D&order=15&asc=0&page=78&mode=s&jobsource=2018indexpoc&searchTempExclude=2\n"
          ],
          "name": "stdout"
        },
        {
          "output_type": "stream",
          "text": [
            "\r 53%|█████▎    | 79/150 [02:02<01:52,  1.58s/it]"
          ],
          "name": "stderr"
        },
        {
          "output_type": "stream",
          "text": [
            "目前爬取頁面是：https://www.104.com.tw/jobs/search/?ro=0&kwop=7&keyword=%E9%87%91%E8%9E%8D&order=15&asc=0&page=79&mode=s&jobsource=2018indexpoc&searchTempExclude=2\n"
          ],
          "name": "stdout"
        },
        {
          "output_type": "stream",
          "text": [
            "\r 53%|█████▎    | 80/150 [02:03<01:51,  1.60s/it]"
          ],
          "name": "stderr"
        },
        {
          "output_type": "stream",
          "text": [
            "目前爬取頁面是：https://www.104.com.tw/jobs/search/?ro=0&kwop=7&keyword=%E9%87%91%E8%9E%8D&order=15&asc=0&page=80&mode=s&jobsource=2018indexpoc&searchTempExclude=2\n"
          ],
          "name": "stdout"
        },
        {
          "output_type": "stream",
          "text": [
            "\r 54%|█████▍    | 81/150 [02:05<01:50,  1.60s/it]"
          ],
          "name": "stderr"
        },
        {
          "output_type": "stream",
          "text": [
            "目前爬取頁面是：https://www.104.com.tw/jobs/search/?ro=0&kwop=7&keyword=%E9%87%91%E8%9E%8D&order=15&asc=0&page=81&mode=s&jobsource=2018indexpoc&searchTempExclude=2\n"
          ],
          "name": "stdout"
        },
        {
          "output_type": "stream",
          "text": [
            "\r 55%|█████▍    | 82/150 [02:08<02:11,  1.94s/it]"
          ],
          "name": "stderr"
        },
        {
          "output_type": "stream",
          "text": [
            "目前爬取頁面是：https://www.104.com.tw/jobs/search/?ro=0&kwop=7&keyword=%E9%87%91%E8%9E%8D&order=15&asc=0&page=82&mode=s&jobsource=2018indexpoc&searchTempExclude=2\n"
          ],
          "name": "stdout"
        },
        {
          "output_type": "stream",
          "text": [
            "\r 55%|█████▌    | 83/150 [02:09<01:59,  1.79s/it]"
          ],
          "name": "stderr"
        },
        {
          "output_type": "stream",
          "text": [
            "目前爬取頁面是：https://www.104.com.tw/jobs/search/?ro=0&kwop=7&keyword=%E9%87%91%E8%9E%8D&order=15&asc=0&page=83&mode=s&jobsource=2018indexpoc&searchTempExclude=2\n"
          ],
          "name": "stdout"
        },
        {
          "output_type": "stream",
          "text": [
            "\r 56%|█████▌    | 84/150 [02:10<01:53,  1.71s/it]"
          ],
          "name": "stderr"
        },
        {
          "output_type": "stream",
          "text": [
            "目前爬取頁面是：https://www.104.com.tw/jobs/search/?ro=0&kwop=7&keyword=%E9%87%91%E8%9E%8D&order=15&asc=0&page=84&mode=s&jobsource=2018indexpoc&searchTempExclude=2\n"
          ],
          "name": "stdout"
        },
        {
          "output_type": "stream",
          "text": [
            "\r 57%|█████▋    | 85/150 [02:12<01:45,  1.63s/it]"
          ],
          "name": "stderr"
        },
        {
          "output_type": "stream",
          "text": [
            "目前爬取頁面是：https://www.104.com.tw/jobs/search/?ro=0&kwop=7&keyword=%E9%87%91%E8%9E%8D&order=15&asc=0&page=85&mode=s&jobsource=2018indexpoc&searchTempExclude=2\n"
          ],
          "name": "stdout"
        },
        {
          "output_type": "stream",
          "text": [
            "\r 57%|█████▋    | 86/150 [02:13<01:39,  1.55s/it]"
          ],
          "name": "stderr"
        },
        {
          "output_type": "stream",
          "text": [
            "目前爬取頁面是：https://www.104.com.tw/jobs/search/?ro=0&kwop=7&keyword=%E9%87%91%E8%9E%8D&order=15&asc=0&page=86&mode=s&jobsource=2018indexpoc&searchTempExclude=2\n"
          ],
          "name": "stdout"
        },
        {
          "output_type": "stream",
          "text": [
            "\r 58%|█████▊    | 87/150 [02:15<01:37,  1.55s/it]"
          ],
          "name": "stderr"
        },
        {
          "output_type": "stream",
          "text": [
            "目前爬取頁面是：https://www.104.com.tw/jobs/search/?ro=0&kwop=7&keyword=%E9%87%91%E8%9E%8D&order=15&asc=0&page=87&mode=s&jobsource=2018indexpoc&searchTempExclude=2\n"
          ],
          "name": "stdout"
        },
        {
          "output_type": "stream",
          "text": [
            "\r 59%|█████▊    | 88/150 [02:17<01:40,  1.62s/it]"
          ],
          "name": "stderr"
        },
        {
          "output_type": "stream",
          "text": [
            "目前爬取頁面是：https://www.104.com.tw/jobs/search/?ro=0&kwop=7&keyword=%E9%87%91%E8%9E%8D&order=15&asc=0&page=88&mode=s&jobsource=2018indexpoc&searchTempExclude=2\n"
          ],
          "name": "stdout"
        },
        {
          "output_type": "stream",
          "text": [
            "\r 59%|█████▉    | 89/150 [02:18<01:37,  1.60s/it]"
          ],
          "name": "stderr"
        },
        {
          "output_type": "stream",
          "text": [
            "目前爬取頁面是：https://www.104.com.tw/jobs/search/?ro=0&kwop=7&keyword=%E9%87%91%E8%9E%8D&order=15&asc=0&page=89&mode=s&jobsource=2018indexpoc&searchTempExclude=2\n"
          ],
          "name": "stdout"
        },
        {
          "output_type": "stream",
          "text": [
            "\r 60%|██████    | 90/150 [02:20<01:34,  1.58s/it]"
          ],
          "name": "stderr"
        },
        {
          "output_type": "stream",
          "text": [
            "目前爬取頁面是：https://www.104.com.tw/jobs/search/?ro=0&kwop=7&keyword=%E9%87%91%E8%9E%8D&order=15&asc=0&page=90&mode=s&jobsource=2018indexpoc&searchTempExclude=2\n"
          ],
          "name": "stdout"
        },
        {
          "output_type": "stream",
          "text": [
            "\r 61%|██████    | 91/150 [02:21<01:31,  1.54s/it]"
          ],
          "name": "stderr"
        },
        {
          "output_type": "stream",
          "text": [
            "目前爬取頁面是：https://www.104.com.tw/jobs/search/?ro=0&kwop=7&keyword=%E9%87%91%E8%9E%8D&order=15&asc=0&page=91&mode=s&jobsource=2018indexpoc&searchTempExclude=2\n"
          ],
          "name": "stdout"
        },
        {
          "output_type": "stream",
          "text": [
            "\r 61%|██████▏   | 92/150 [02:23<01:26,  1.49s/it]"
          ],
          "name": "stderr"
        },
        {
          "output_type": "stream",
          "text": [
            "目前爬取頁面是：https://www.104.com.tw/jobs/search/?ro=0&kwop=7&keyword=%E9%87%91%E8%9E%8D&order=15&asc=0&page=92&mode=s&jobsource=2018indexpoc&searchTempExclude=2\n"
          ],
          "name": "stdout"
        },
        {
          "output_type": "stream",
          "text": [
            "\r 62%|██████▏   | 93/150 [02:24<01:22,  1.45s/it]"
          ],
          "name": "stderr"
        },
        {
          "output_type": "stream",
          "text": [
            "目前爬取頁面是：https://www.104.com.tw/jobs/search/?ro=0&kwop=7&keyword=%E9%87%91%E8%9E%8D&order=15&asc=0&page=93&mode=s&jobsource=2018indexpoc&searchTempExclude=2\n"
          ],
          "name": "stdout"
        },
        {
          "output_type": "stream",
          "text": [
            "\r 63%|██████▎   | 94/150 [02:26<01:25,  1.52s/it]"
          ],
          "name": "stderr"
        },
        {
          "output_type": "stream",
          "text": [
            "目前爬取頁面是：https://www.104.com.tw/jobs/search/?ro=0&kwop=7&keyword=%E9%87%91%E8%9E%8D&order=15&asc=0&page=94&mode=s&jobsource=2018indexpoc&searchTempExclude=2\n"
          ],
          "name": "stdout"
        },
        {
          "output_type": "stream",
          "text": [
            "\r 63%|██████▎   | 95/150 [02:27<01:26,  1.57s/it]"
          ],
          "name": "stderr"
        },
        {
          "output_type": "stream",
          "text": [
            "目前爬取頁面是：https://www.104.com.tw/jobs/search/?ro=0&kwop=7&keyword=%E9%87%91%E8%9E%8D&order=15&asc=0&page=95&mode=s&jobsource=2018indexpoc&searchTempExclude=2\n"
          ],
          "name": "stdout"
        },
        {
          "output_type": "stream",
          "text": [
            "\r 64%|██████▍   | 96/150 [02:29<01:21,  1.51s/it]"
          ],
          "name": "stderr"
        },
        {
          "output_type": "stream",
          "text": [
            "目前爬取頁面是：https://www.104.com.tw/jobs/search/?ro=0&kwop=7&keyword=%E9%87%91%E8%9E%8D&order=15&asc=0&page=96&mode=s&jobsource=2018indexpoc&searchTempExclude=2\n"
          ],
          "name": "stdout"
        },
        {
          "output_type": "stream",
          "text": [
            "\r 65%|██████▍   | 97/150 [02:30<01:23,  1.57s/it]"
          ],
          "name": "stderr"
        },
        {
          "output_type": "stream",
          "text": [
            "目前爬取頁面是：https://www.104.com.tw/jobs/search/?ro=0&kwop=7&keyword=%E9%87%91%E8%9E%8D&order=15&asc=0&page=97&mode=s&jobsource=2018indexpoc&searchTempExclude=2\n"
          ],
          "name": "stdout"
        },
        {
          "output_type": "stream",
          "text": [
            "\r 65%|██████▌   | 98/150 [02:32<01:21,  1.56s/it]"
          ],
          "name": "stderr"
        },
        {
          "output_type": "stream",
          "text": [
            "目前爬取頁面是：https://www.104.com.tw/jobs/search/?ro=0&kwop=7&keyword=%E9%87%91%E8%9E%8D&order=15&asc=0&page=98&mode=s&jobsource=2018indexpoc&searchTempExclude=2\n"
          ],
          "name": "stdout"
        },
        {
          "output_type": "stream",
          "text": [
            "\r 66%|██████▌   | 99/150 [02:33<01:16,  1.50s/it]"
          ],
          "name": "stderr"
        },
        {
          "output_type": "stream",
          "text": [
            "目前爬取頁面是：https://www.104.com.tw/jobs/search/?ro=0&kwop=7&keyword=%E9%87%91%E8%9E%8D&order=15&asc=0&page=99&mode=s&jobsource=2018indexpoc&searchTempExclude=2\n"
          ],
          "name": "stdout"
        },
        {
          "output_type": "stream",
          "text": [
            "\r 67%|██████▋   | 100/150 [02:35<01:16,  1.52s/it]"
          ],
          "name": "stderr"
        },
        {
          "output_type": "stream",
          "text": [
            "目前爬取頁面是：https://www.104.com.tw/jobs/search/?ro=0&kwop=7&keyword=%E9%87%91%E8%9E%8D&order=15&asc=0&page=100&mode=s&jobsource=2018indexpoc&searchTempExclude=2\n"
          ],
          "name": "stdout"
        },
        {
          "output_type": "stream",
          "text": [
            "\r 67%|██████▋   | 101/150 [02:36<01:15,  1.55s/it]"
          ],
          "name": "stderr"
        },
        {
          "output_type": "stream",
          "text": [
            "目前爬取頁面是：https://www.104.com.tw/jobs/search/?ro=0&kwop=7&keyword=%E9%87%91%E8%9E%8D&order=15&asc=0&page=101&mode=s&jobsource=2018indexpoc&searchTempExclude=2\n"
          ],
          "name": "stdout"
        },
        {
          "output_type": "stream",
          "text": [
            "\r 68%|██████▊   | 102/150 [02:38<01:11,  1.49s/it]"
          ],
          "name": "stderr"
        },
        {
          "output_type": "stream",
          "text": [
            "目前爬取頁面是：https://www.104.com.tw/jobs/search/?ro=0&kwop=7&keyword=%E9%87%91%E8%9E%8D&order=15&asc=0&page=102&mode=s&jobsource=2018indexpoc&searchTempExclude=2\n"
          ],
          "name": "stdout"
        },
        {
          "output_type": "stream",
          "text": [
            "\r 69%|██████▊   | 103/150 [02:39<01:08,  1.45s/it]"
          ],
          "name": "stderr"
        },
        {
          "output_type": "stream",
          "text": [
            "目前爬取頁面是：https://www.104.com.tw/jobs/search/?ro=0&kwop=7&keyword=%E9%87%91%E8%9E%8D&order=15&asc=0&page=103&mode=s&jobsource=2018indexpoc&searchTempExclude=2\n"
          ],
          "name": "stdout"
        },
        {
          "output_type": "stream",
          "text": [
            "\r 69%|██████▉   | 104/150 [02:41<01:07,  1.47s/it]"
          ],
          "name": "stderr"
        },
        {
          "output_type": "stream",
          "text": [
            "目前爬取頁面是：https://www.104.com.tw/jobs/search/?ro=0&kwop=7&keyword=%E9%87%91%E8%9E%8D&order=15&asc=0&page=104&mode=s&jobsource=2018indexpoc&searchTempExclude=2\n"
          ],
          "name": "stdout"
        },
        {
          "output_type": "stream",
          "text": [
            "\r 70%|███████   | 105/150 [02:42<01:07,  1.50s/it]"
          ],
          "name": "stderr"
        },
        {
          "output_type": "stream",
          "text": [
            "目前爬取頁面是：https://www.104.com.tw/jobs/search/?ro=0&kwop=7&keyword=%E9%87%91%E8%9E%8D&order=15&asc=0&page=105&mode=s&jobsource=2018indexpoc&searchTempExclude=2\n"
          ],
          "name": "stdout"
        },
        {
          "output_type": "stream",
          "text": [
            "\r 71%|███████   | 106/150 [02:44<01:07,  1.54s/it]"
          ],
          "name": "stderr"
        },
        {
          "output_type": "stream",
          "text": [
            "目前爬取頁面是：https://www.104.com.tw/jobs/search/?ro=0&kwop=7&keyword=%E9%87%91%E8%9E%8D&order=15&asc=0&page=106&mode=s&jobsource=2018indexpoc&searchTempExclude=2\n"
          ],
          "name": "stdout"
        },
        {
          "output_type": "stream",
          "text": [
            "\r 71%|███████▏  | 107/150 [02:45<01:04,  1.50s/it]"
          ],
          "name": "stderr"
        },
        {
          "output_type": "stream",
          "text": [
            "目前爬取頁面是：https://www.104.com.tw/jobs/search/?ro=0&kwop=7&keyword=%E9%87%91%E8%9E%8D&order=15&asc=0&page=107&mode=s&jobsource=2018indexpoc&searchTempExclude=2\n"
          ],
          "name": "stdout"
        },
        {
          "output_type": "stream",
          "text": [
            "\r 72%|███████▏  | 108/150 [02:47<01:02,  1.49s/it]"
          ],
          "name": "stderr"
        },
        {
          "output_type": "stream",
          "text": [
            "目前爬取頁面是：https://www.104.com.tw/jobs/search/?ro=0&kwop=7&keyword=%E9%87%91%E8%9E%8D&order=15&asc=0&page=108&mode=s&jobsource=2018indexpoc&searchTempExclude=2\n"
          ],
          "name": "stdout"
        },
        {
          "output_type": "stream",
          "text": [
            "\r 73%|███████▎  | 109/150 [02:48<01:01,  1.50s/it]"
          ],
          "name": "stderr"
        },
        {
          "output_type": "stream",
          "text": [
            "目前爬取頁面是：https://www.104.com.tw/jobs/search/?ro=0&kwop=7&keyword=%E9%87%91%E8%9E%8D&order=15&asc=0&page=109&mode=s&jobsource=2018indexpoc&searchTempExclude=2\n"
          ],
          "name": "stdout"
        },
        {
          "output_type": "stream",
          "text": [
            "\r 73%|███████▎  | 110/150 [02:50<00:58,  1.47s/it]"
          ],
          "name": "stderr"
        },
        {
          "output_type": "stream",
          "text": [
            "目前爬取頁面是：https://www.104.com.tw/jobs/search/?ro=0&kwop=7&keyword=%E9%87%91%E8%9E%8D&order=15&asc=0&page=110&mode=s&jobsource=2018indexpoc&searchTempExclude=2\n"
          ],
          "name": "stdout"
        },
        {
          "output_type": "stream",
          "text": [
            "\r 74%|███████▍  | 111/150 [02:51<00:59,  1.52s/it]"
          ],
          "name": "stderr"
        },
        {
          "output_type": "stream",
          "text": [
            "目前爬取頁面是：https://www.104.com.tw/jobs/search/?ro=0&kwop=7&keyword=%E9%87%91%E8%9E%8D&order=15&asc=0&page=111&mode=s&jobsource=2018indexpoc&searchTempExclude=2\n"
          ],
          "name": "stdout"
        },
        {
          "output_type": "stream",
          "text": [
            "\r 75%|███████▍  | 112/150 [02:53<00:58,  1.53s/it]"
          ],
          "name": "stderr"
        },
        {
          "output_type": "stream",
          "text": [
            "目前爬取頁面是：https://www.104.com.tw/jobs/search/?ro=0&kwop=7&keyword=%E9%87%91%E8%9E%8D&order=15&asc=0&page=112&mode=s&jobsource=2018indexpoc&searchTempExclude=2\n"
          ],
          "name": "stdout"
        },
        {
          "output_type": "stream",
          "text": [
            "\r 75%|███████▌  | 113/150 [02:54<00:56,  1.53s/it]"
          ],
          "name": "stderr"
        },
        {
          "output_type": "stream",
          "text": [
            "目前爬取頁面是：https://www.104.com.tw/jobs/search/?ro=0&kwop=7&keyword=%E9%87%91%E8%9E%8D&order=15&asc=0&page=113&mode=s&jobsource=2018indexpoc&searchTempExclude=2\n"
          ],
          "name": "stdout"
        },
        {
          "output_type": "stream",
          "text": [
            "\r 76%|███████▌  | 114/150 [02:56<00:55,  1.53s/it]"
          ],
          "name": "stderr"
        },
        {
          "output_type": "stream",
          "text": [
            "目前爬取頁面是：https://www.104.com.tw/jobs/search/?ro=0&kwop=7&keyword=%E9%87%91%E8%9E%8D&order=15&asc=0&page=114&mode=s&jobsource=2018indexpoc&searchTempExclude=2\n"
          ],
          "name": "stdout"
        },
        {
          "output_type": "stream",
          "text": [
            "\r 77%|███████▋  | 115/150 [02:58<00:55,  1.58s/it]"
          ],
          "name": "stderr"
        },
        {
          "output_type": "stream",
          "text": [
            "目前爬取頁面是：https://www.104.com.tw/jobs/search/?ro=0&kwop=7&keyword=%E9%87%91%E8%9E%8D&order=15&asc=0&page=115&mode=s&jobsource=2018indexpoc&searchTempExclude=2\n"
          ],
          "name": "stdout"
        },
        {
          "output_type": "stream",
          "text": [
            "\r 77%|███████▋  | 116/150 [02:59<00:53,  1.56s/it]"
          ],
          "name": "stderr"
        },
        {
          "output_type": "stream",
          "text": [
            "目前爬取頁面是：https://www.104.com.tw/jobs/search/?ro=0&kwop=7&keyword=%E9%87%91%E8%9E%8D&order=15&asc=0&page=116&mode=s&jobsource=2018indexpoc&searchTempExclude=2\n"
          ],
          "name": "stdout"
        },
        {
          "output_type": "stream",
          "text": [
            "\r 78%|███████▊  | 117/150 [03:01<00:51,  1.55s/it]"
          ],
          "name": "stderr"
        },
        {
          "output_type": "stream",
          "text": [
            "目前爬取頁面是：https://www.104.com.tw/jobs/search/?ro=0&kwop=7&keyword=%E9%87%91%E8%9E%8D&order=15&asc=0&page=117&mode=s&jobsource=2018indexpoc&searchTempExclude=2\n"
          ],
          "name": "stdout"
        },
        {
          "output_type": "stream",
          "text": [
            "\r 79%|███████▊  | 118/150 [03:02<00:49,  1.56s/it]"
          ],
          "name": "stderr"
        },
        {
          "output_type": "stream",
          "text": [
            "目前爬取頁面是：https://www.104.com.tw/jobs/search/?ro=0&kwop=7&keyword=%E9%87%91%E8%9E%8D&order=15&asc=0&page=118&mode=s&jobsource=2018indexpoc&searchTempExclude=2\n"
          ],
          "name": "stdout"
        },
        {
          "output_type": "stream",
          "text": [
            "\r 79%|███████▉  | 119/150 [03:04<00:47,  1.52s/it]"
          ],
          "name": "stderr"
        },
        {
          "output_type": "stream",
          "text": [
            "目前爬取頁面是：https://www.104.com.tw/jobs/search/?ro=0&kwop=7&keyword=%E9%87%91%E8%9E%8D&order=15&asc=0&page=119&mode=s&jobsource=2018indexpoc&searchTempExclude=2\n"
          ],
          "name": "stdout"
        },
        {
          "output_type": "stream",
          "text": [
            "\r 80%|████████  | 120/150 [03:05<00:43,  1.46s/it]"
          ],
          "name": "stderr"
        },
        {
          "output_type": "stream",
          "text": [
            "目前爬取頁面是：https://www.104.com.tw/jobs/search/?ro=0&kwop=7&keyword=%E9%87%91%E8%9E%8D&order=15&asc=0&page=120&mode=s&jobsource=2018indexpoc&searchTempExclude=2\n"
          ],
          "name": "stdout"
        },
        {
          "output_type": "stream",
          "text": [
            "\r 81%|████████  | 121/150 [03:07<00:43,  1.49s/it]"
          ],
          "name": "stderr"
        },
        {
          "output_type": "stream",
          "text": [
            "目前爬取頁面是：https://www.104.com.tw/jobs/search/?ro=0&kwop=7&keyword=%E9%87%91%E8%9E%8D&order=15&asc=0&page=121&mode=s&jobsource=2018indexpoc&searchTempExclude=2\n"
          ],
          "name": "stdout"
        },
        {
          "output_type": "stream",
          "text": [
            "\r 81%|████████▏ | 122/150 [03:08<00:43,  1.56s/it]"
          ],
          "name": "stderr"
        },
        {
          "output_type": "stream",
          "text": [
            "目前爬取頁面是：https://www.104.com.tw/jobs/search/?ro=0&kwop=7&keyword=%E9%87%91%E8%9E%8D&order=15&asc=0&page=122&mode=s&jobsource=2018indexpoc&searchTempExclude=2\n"
          ],
          "name": "stdout"
        },
        {
          "output_type": "stream",
          "text": [
            "\r 82%|████████▏ | 123/150 [03:10<00:42,  1.59s/it]"
          ],
          "name": "stderr"
        },
        {
          "output_type": "stream",
          "text": [
            "目前爬取頁面是：https://www.104.com.tw/jobs/search/?ro=0&kwop=7&keyword=%E9%87%91%E8%9E%8D&order=15&asc=0&page=123&mode=s&jobsource=2018indexpoc&searchTempExclude=2\n"
          ],
          "name": "stdout"
        },
        {
          "output_type": "stream",
          "text": [
            "\r 83%|████████▎ | 124/150 [03:12<00:43,  1.68s/it]"
          ],
          "name": "stderr"
        },
        {
          "output_type": "stream",
          "text": [
            "目前爬取頁面是：https://www.104.com.tw/jobs/search/?ro=0&kwop=7&keyword=%E9%87%91%E8%9E%8D&order=15&asc=0&page=124&mode=s&jobsource=2018indexpoc&searchTempExclude=2\n"
          ],
          "name": "stdout"
        },
        {
          "output_type": "stream",
          "text": [
            "\r 83%|████████▎ | 125/150 [03:13<00:39,  1.59s/it]"
          ],
          "name": "stderr"
        },
        {
          "output_type": "stream",
          "text": [
            "目前爬取頁面是：https://www.104.com.tw/jobs/search/?ro=0&kwop=7&keyword=%E9%87%91%E8%9E%8D&order=15&asc=0&page=125&mode=s&jobsource=2018indexpoc&searchTempExclude=2\n"
          ],
          "name": "stdout"
        },
        {
          "output_type": "stream",
          "text": [
            "\r 84%|████████▍ | 126/150 [03:15<00:38,  1.62s/it]"
          ],
          "name": "stderr"
        },
        {
          "output_type": "stream",
          "text": [
            "目前爬取頁面是：https://www.104.com.tw/jobs/search/?ro=0&kwop=7&keyword=%E9%87%91%E8%9E%8D&order=15&asc=0&page=126&mode=s&jobsource=2018indexpoc&searchTempExclude=2\n"
          ],
          "name": "stdout"
        },
        {
          "output_type": "stream",
          "text": [
            "\r 85%|████████▍ | 127/150 [03:17<00:37,  1.62s/it]"
          ],
          "name": "stderr"
        },
        {
          "output_type": "stream",
          "text": [
            "目前爬取頁面是：https://www.104.com.tw/jobs/search/?ro=0&kwop=7&keyword=%E9%87%91%E8%9E%8D&order=15&asc=0&page=127&mode=s&jobsource=2018indexpoc&searchTempExclude=2\n"
          ],
          "name": "stdout"
        },
        {
          "output_type": "stream",
          "text": [
            "\r 85%|████████▌ | 128/150 [03:18<00:34,  1.55s/it]"
          ],
          "name": "stderr"
        },
        {
          "output_type": "stream",
          "text": [
            "目前爬取頁面是：https://www.104.com.tw/jobs/search/?ro=0&kwop=7&keyword=%E9%87%91%E8%9E%8D&order=15&asc=0&page=128&mode=s&jobsource=2018indexpoc&searchTempExclude=2\n"
          ],
          "name": "stdout"
        },
        {
          "output_type": "stream",
          "text": [
            "\r 86%|████████▌ | 129/150 [03:19<00:32,  1.55s/it]"
          ],
          "name": "stderr"
        },
        {
          "output_type": "stream",
          "text": [
            "目前爬取頁面是：https://www.104.com.tw/jobs/search/?ro=0&kwop=7&keyword=%E9%87%91%E8%9E%8D&order=15&asc=0&page=129&mode=s&jobsource=2018indexpoc&searchTempExclude=2\n"
          ],
          "name": "stdout"
        },
        {
          "output_type": "stream",
          "text": [
            "\r 87%|████████▋ | 130/150 [03:21<00:30,  1.54s/it]"
          ],
          "name": "stderr"
        },
        {
          "output_type": "stream",
          "text": [
            "目前爬取頁面是：https://www.104.com.tw/jobs/search/?ro=0&kwop=7&keyword=%E9%87%91%E8%9E%8D&order=15&asc=0&page=130&mode=s&jobsource=2018indexpoc&searchTempExclude=2\n"
          ],
          "name": "stdout"
        },
        {
          "output_type": "stream",
          "text": [
            "\r 87%|████████▋ | 131/150 [03:22<00:28,  1.48s/it]"
          ],
          "name": "stderr"
        },
        {
          "output_type": "stream",
          "text": [
            "目前爬取頁面是：https://www.104.com.tw/jobs/search/?ro=0&kwop=7&keyword=%E9%87%91%E8%9E%8D&order=15&asc=0&page=131&mode=s&jobsource=2018indexpoc&searchTempExclude=2\n"
          ],
          "name": "stdout"
        },
        {
          "output_type": "stream",
          "text": [
            "\r 88%|████████▊ | 132/150 [03:24<00:27,  1.52s/it]"
          ],
          "name": "stderr"
        },
        {
          "output_type": "stream",
          "text": [
            "目前爬取頁面是：https://www.104.com.tw/jobs/search/?ro=0&kwop=7&keyword=%E9%87%91%E8%9E%8D&order=15&asc=0&page=132&mode=s&jobsource=2018indexpoc&searchTempExclude=2\n"
          ],
          "name": "stdout"
        },
        {
          "output_type": "stream",
          "text": [
            "\r 89%|████████▊ | 133/150 [03:25<00:26,  1.53s/it]"
          ],
          "name": "stderr"
        },
        {
          "output_type": "stream",
          "text": [
            "目前爬取頁面是：https://www.104.com.tw/jobs/search/?ro=0&kwop=7&keyword=%E9%87%91%E8%9E%8D&order=15&asc=0&page=133&mode=s&jobsource=2018indexpoc&searchTempExclude=2\n"
          ],
          "name": "stdout"
        },
        {
          "output_type": "stream",
          "text": [
            "\r 89%|████████▉ | 134/150 [03:27<00:24,  1.54s/it]"
          ],
          "name": "stderr"
        },
        {
          "output_type": "stream",
          "text": [
            "目前爬取頁面是：https://www.104.com.tw/jobs/search/?ro=0&kwop=7&keyword=%E9%87%91%E8%9E%8D&order=15&asc=0&page=134&mode=s&jobsource=2018indexpoc&searchTempExclude=2\n"
          ],
          "name": "stdout"
        },
        {
          "output_type": "stream",
          "text": [
            "\r 90%|█████████ | 135/150 [03:29<00:23,  1.56s/it]"
          ],
          "name": "stderr"
        },
        {
          "output_type": "stream",
          "text": [
            "目前爬取頁面是：https://www.104.com.tw/jobs/search/?ro=0&kwop=7&keyword=%E9%87%91%E8%9E%8D&order=15&asc=0&page=135&mode=s&jobsource=2018indexpoc&searchTempExclude=2\n"
          ],
          "name": "stdout"
        },
        {
          "output_type": "stream",
          "text": [
            "\r 91%|█████████ | 136/150 [03:30<00:21,  1.52s/it]"
          ],
          "name": "stderr"
        },
        {
          "output_type": "stream",
          "text": [
            "目前爬取頁面是：https://www.104.com.tw/jobs/search/?ro=0&kwop=7&keyword=%E9%87%91%E8%9E%8D&order=15&asc=0&page=136&mode=s&jobsource=2018indexpoc&searchTempExclude=2\n"
          ],
          "name": "stdout"
        },
        {
          "output_type": "stream",
          "text": [
            "\r 91%|█████████▏| 137/150 [03:32<00:20,  1.55s/it]"
          ],
          "name": "stderr"
        },
        {
          "output_type": "stream",
          "text": [
            "目前爬取頁面是：https://www.104.com.tw/jobs/search/?ro=0&kwop=7&keyword=%E9%87%91%E8%9E%8D&order=15&asc=0&page=137&mode=s&jobsource=2018indexpoc&searchTempExclude=2\n"
          ],
          "name": "stdout"
        },
        {
          "output_type": "stream",
          "text": [
            "\r 92%|█████████▏| 138/150 [03:33<00:17,  1.49s/it]"
          ],
          "name": "stderr"
        },
        {
          "output_type": "stream",
          "text": [
            "目前爬取頁面是：https://www.104.com.tw/jobs/search/?ro=0&kwop=7&keyword=%E9%87%91%E8%9E%8D&order=15&asc=0&page=138&mode=s&jobsource=2018indexpoc&searchTempExclude=2\n"
          ],
          "name": "stdout"
        },
        {
          "output_type": "stream",
          "text": [
            "\r 93%|█████████▎| 139/150 [03:35<00:16,  1.49s/it]"
          ],
          "name": "stderr"
        },
        {
          "output_type": "stream",
          "text": [
            "目前爬取頁面是：https://www.104.com.tw/jobs/search/?ro=0&kwop=7&keyword=%E9%87%91%E8%9E%8D&order=15&asc=0&page=139&mode=s&jobsource=2018indexpoc&searchTempExclude=2\n"
          ],
          "name": "stdout"
        },
        {
          "output_type": "stream",
          "text": [
            "\r 93%|█████████▎| 140/150 [03:36<00:15,  1.57s/it]"
          ],
          "name": "stderr"
        },
        {
          "output_type": "stream",
          "text": [
            "目前爬取頁面是：https://www.104.com.tw/jobs/search/?ro=0&kwop=7&keyword=%E9%87%91%E8%9E%8D&order=15&asc=0&page=140&mode=s&jobsource=2018indexpoc&searchTempExclude=2\n"
          ],
          "name": "stdout"
        },
        {
          "output_type": "stream",
          "text": [
            "\r 94%|█████████▍| 141/150 [03:38<00:14,  1.57s/it]"
          ],
          "name": "stderr"
        },
        {
          "output_type": "stream",
          "text": [
            "目前爬取頁面是：https://www.104.com.tw/jobs/search/?ro=0&kwop=7&keyword=%E9%87%91%E8%9E%8D&order=15&asc=0&page=141&mode=s&jobsource=2018indexpoc&searchTempExclude=2\n"
          ],
          "name": "stdout"
        },
        {
          "output_type": "stream",
          "text": [
            "\r 95%|█████████▍| 142/150 [03:40<00:12,  1.60s/it]"
          ],
          "name": "stderr"
        },
        {
          "output_type": "stream",
          "text": [
            "目前爬取頁面是：https://www.104.com.tw/jobs/search/?ro=0&kwop=7&keyword=%E9%87%91%E8%9E%8D&order=15&asc=0&page=142&mode=s&jobsource=2018indexpoc&searchTempExclude=2\n"
          ],
          "name": "stdout"
        },
        {
          "output_type": "stream",
          "text": [
            "\r 95%|█████████▌| 143/150 [03:41<00:11,  1.58s/it]"
          ],
          "name": "stderr"
        },
        {
          "output_type": "stream",
          "text": [
            "目前爬取頁面是：https://www.104.com.tw/jobs/search/?ro=0&kwop=7&keyword=%E9%87%91%E8%9E%8D&order=15&asc=0&page=143&mode=s&jobsource=2018indexpoc&searchTempExclude=2\n"
          ],
          "name": "stdout"
        },
        {
          "output_type": "stream",
          "text": [
            "\r 96%|█████████▌| 144/150 [03:43<00:09,  1.56s/it]"
          ],
          "name": "stderr"
        },
        {
          "output_type": "stream",
          "text": [
            "目前爬取頁面是：https://www.104.com.tw/jobs/search/?ro=0&kwop=7&keyword=%E9%87%91%E8%9E%8D&order=15&asc=0&page=144&mode=s&jobsource=2018indexpoc&searchTempExclude=2\n"
          ],
          "name": "stdout"
        },
        {
          "output_type": "stream",
          "text": [
            "\r 97%|█████████▋| 145/150 [03:44<00:07,  1.57s/it]"
          ],
          "name": "stderr"
        },
        {
          "output_type": "stream",
          "text": [
            "目前爬取頁面是：https://www.104.com.tw/jobs/search/?ro=0&kwop=7&keyword=%E9%87%91%E8%9E%8D&order=15&asc=0&page=145&mode=s&jobsource=2018indexpoc&searchTempExclude=2\n"
          ],
          "name": "stdout"
        },
        {
          "output_type": "stream",
          "text": [
            "\r 97%|█████████▋| 146/150 [03:46<00:06,  1.62s/it]"
          ],
          "name": "stderr"
        },
        {
          "output_type": "stream",
          "text": [
            "目前爬取頁面是：https://www.104.com.tw/jobs/search/?ro=0&kwop=7&keyword=%E9%87%91%E8%9E%8D&order=15&asc=0&page=146&mode=s&jobsource=2018indexpoc&searchTempExclude=2\n"
          ],
          "name": "stdout"
        },
        {
          "output_type": "stream",
          "text": [
            "\r 98%|█████████▊| 147/150 [03:48<00:04,  1.63s/it]"
          ],
          "name": "stderr"
        },
        {
          "output_type": "stream",
          "text": [
            "目前爬取頁面是：https://www.104.com.tw/jobs/search/?ro=0&kwop=7&keyword=%E9%87%91%E8%9E%8D&order=15&asc=0&page=147&mode=s&jobsource=2018indexpoc&searchTempExclude=2\n"
          ],
          "name": "stdout"
        },
        {
          "output_type": "stream",
          "text": [
            "\r 99%|█████████▊| 148/150 [03:49<00:03,  1.54s/it]"
          ],
          "name": "stderr"
        },
        {
          "output_type": "stream",
          "text": [
            "目前爬取頁面是：https://www.104.com.tw/jobs/search/?ro=0&kwop=7&keyword=%E9%87%91%E8%9E%8D&order=15&asc=0&page=148&mode=s&jobsource=2018indexpoc&searchTempExclude=2\n"
          ],
          "name": "stdout"
        },
        {
          "output_type": "stream",
          "text": [
            "\r 99%|█████████▉| 149/150 [03:51<00:01,  1.57s/it]"
          ],
          "name": "stderr"
        },
        {
          "output_type": "stream",
          "text": [
            "目前爬取頁面是：https://www.104.com.tw/jobs/search/?ro=0&kwop=7&keyword=%E9%87%91%E8%9E%8D&order=15&asc=0&page=149&mode=s&jobsource=2018indexpoc&searchTempExclude=2\n"
          ],
          "name": "stdout"
        },
        {
          "output_type": "stream",
          "text": [
            "100%|██████████| 150/150 [03:52<00:00,  1.55s/it]"
          ],
          "name": "stderr"
        },
        {
          "output_type": "stream",
          "text": [
            "目前爬取頁面是：https://www.104.com.tw/jobs/search/?ro=0&kwop=7&keyword=%E9%87%91%E8%9E%8D&order=15&asc=0&page=150&mode=s&jobsource=2018indexpoc&searchTempExclude=2\n",
            "爬取104完成：請開啟csv檔案\n"
          ],
          "name": "stdout"
        },
        {
          "output_type": "stream",
          "text": [
            "\n",
            "  0%|          | 0/150 [00:00<?, ?it/s]"
          ],
          "name": "stderr"
        },
        {
          "output_type": "stream",
          "text": [
            "共有：150 頁\n"
          ],
          "name": "stdout"
        },
        {
          "output_type": "stream",
          "text": [
            "\r  1%|          | 1/150 [00:02<06:55,  2.79s/it]"
          ],
          "name": "stderr"
        },
        {
          "output_type": "stream",
          "text": [
            "目前爬取頁面是：https://www.1111.com.tw/job-bank/job-index.asp?si=1&ss=s&ks=%E9%87%91%E8%9E%8D&page=1\n"
          ],
          "name": "stdout"
        },
        {
          "output_type": "stream",
          "text": [
            "\r  1%|▏         | 2/150 [00:03<05:42,  2.31s/it]"
          ],
          "name": "stderr"
        },
        {
          "output_type": "stream",
          "text": [
            "目前爬取頁面是：https://www.1111.com.tw/job-bank/job-index.asp?si=1&ss=s&ks=%E9%87%91%E8%9E%8D&page=2\n"
          ],
          "name": "stdout"
        },
        {
          "output_type": "stream",
          "text": [
            "\r  2%|▏         | 3/150 [00:06<05:36,  2.29s/it]"
          ],
          "name": "stderr"
        },
        {
          "output_type": "stream",
          "text": [
            "目前爬取頁面是：https://www.1111.com.tw/job-bank/job-index.asp?si=1&ss=s&ks=%E9%87%91%E8%9E%8D&page=3\n"
          ],
          "name": "stdout"
        },
        {
          "output_type": "stream",
          "text": [
            "\r  3%|▎         | 4/150 [00:08<05:36,  2.31s/it]"
          ],
          "name": "stderr"
        },
        {
          "output_type": "stream",
          "text": [
            "目前爬取頁面是：https://www.1111.com.tw/job-bank/job-index.asp?si=1&ss=s&ks=%E9%87%91%E8%9E%8D&page=4\n"
          ],
          "name": "stdout"
        },
        {
          "output_type": "stream",
          "text": [
            "\r  3%|▎         | 5/150 [00:10<05:21,  2.22s/it]"
          ],
          "name": "stderr"
        },
        {
          "output_type": "stream",
          "text": [
            "目前爬取頁面是：https://www.1111.com.tw/job-bank/job-index.asp?si=1&ss=s&ks=%E9%87%91%E8%9E%8D&page=5\n"
          ],
          "name": "stdout"
        },
        {
          "output_type": "stream",
          "text": [
            "\r  4%|▍         | 6/150 [00:13<05:48,  2.42s/it]"
          ],
          "name": "stderr"
        },
        {
          "output_type": "stream",
          "text": [
            "目前爬取頁面是：https://www.1111.com.tw/job-bank/job-index.asp?si=1&ss=s&ks=%E9%87%91%E8%9E%8D&page=6\n"
          ],
          "name": "stdout"
        },
        {
          "output_type": "stream",
          "text": [
            "\r  5%|▍         | 7/150 [00:14<04:44,  1.99s/it]"
          ],
          "name": "stderr"
        },
        {
          "output_type": "stream",
          "text": [
            "目前爬取頁面是：https://www.1111.com.tw/job-bank/job-index.asp?si=1&ss=s&ks=%E9%87%91%E8%9E%8D&page=7\n"
          ],
          "name": "stdout"
        },
        {
          "output_type": "stream",
          "text": [
            "\r  5%|▌         | 8/150 [00:16<04:45,  2.01s/it]"
          ],
          "name": "stderr"
        },
        {
          "output_type": "stream",
          "text": [
            "目前爬取頁面是：https://www.1111.com.tw/job-bank/job-index.asp?si=1&ss=s&ks=%E9%87%91%E8%9E%8D&page=8\n"
          ],
          "name": "stdout"
        },
        {
          "output_type": "stream",
          "text": [
            "\r  6%|▌         | 9/150 [00:17<04:09,  1.77s/it]"
          ],
          "name": "stderr"
        },
        {
          "output_type": "stream",
          "text": [
            "目前爬取頁面是：https://www.1111.com.tw/job-bank/job-index.asp?si=1&ss=s&ks=%E9%87%91%E8%9E%8D&page=9\n"
          ],
          "name": "stdout"
        },
        {
          "output_type": "stream",
          "text": [
            "\r  7%|▋         | 10/150 [00:20<04:29,  1.92s/it]"
          ],
          "name": "stderr"
        },
        {
          "output_type": "stream",
          "text": [
            "目前爬取頁面是：https://www.1111.com.tw/job-bank/job-index.asp?si=1&ss=s&ks=%E9%87%91%E8%9E%8D&page=10\n"
          ],
          "name": "stdout"
        },
        {
          "output_type": "stream",
          "text": [
            "\r  7%|▋         | 11/150 [00:21<03:57,  1.71s/it]"
          ],
          "name": "stderr"
        },
        {
          "output_type": "stream",
          "text": [
            "目前爬取頁面是：https://www.1111.com.tw/job-bank/job-index.asp?si=1&ss=s&ks=%E9%87%91%E8%9E%8D&page=11\n"
          ],
          "name": "stdout"
        },
        {
          "output_type": "stream",
          "text": [
            "\r  8%|▊         | 12/150 [00:23<04:19,  1.88s/it]"
          ],
          "name": "stderr"
        },
        {
          "output_type": "stream",
          "text": [
            "目前爬取頁面是：https://www.1111.com.tw/job-bank/job-index.asp?si=1&ss=s&ks=%E9%87%91%E8%9E%8D&page=12\n"
          ],
          "name": "stdout"
        },
        {
          "output_type": "stream",
          "text": [
            "\r  9%|▊         | 13/150 [00:24<03:56,  1.73s/it]"
          ],
          "name": "stderr"
        },
        {
          "output_type": "stream",
          "text": [
            "目前爬取頁面是：https://www.1111.com.tw/job-bank/job-index.asp?si=1&ss=s&ks=%E9%87%91%E8%9E%8D&page=13\n"
          ],
          "name": "stdout"
        },
        {
          "output_type": "stream",
          "text": [
            "\r  9%|▉         | 14/150 [00:25<03:24,  1.51s/it]"
          ],
          "name": "stderr"
        },
        {
          "output_type": "stream",
          "text": [
            "目前爬取頁面是：https://www.1111.com.tw/job-bank/job-index.asp?si=1&ss=s&ks=%E9%87%91%E8%9E%8D&page=14\n"
          ],
          "name": "stdout"
        },
        {
          "output_type": "stream",
          "text": [
            "\r 10%|█         | 15/150 [00:27<03:43,  1.66s/it]"
          ],
          "name": "stderr"
        },
        {
          "output_type": "stream",
          "text": [
            "目前爬取頁面是：https://www.1111.com.tw/job-bank/job-index.asp?si=1&ss=s&ks=%E9%87%91%E8%9E%8D&page=15\n"
          ],
          "name": "stdout"
        },
        {
          "output_type": "stream",
          "text": [
            "\r 11%|█         | 16/150 [00:29<03:58,  1.78s/it]"
          ],
          "name": "stderr"
        },
        {
          "output_type": "stream",
          "text": [
            "目前爬取頁面是：https://www.1111.com.tw/job-bank/job-index.asp?si=1&ss=s&ks=%E9%87%91%E8%9E%8D&page=16\n"
          ],
          "name": "stdout"
        },
        {
          "output_type": "stream",
          "text": [
            "\r 11%|█▏        | 17/150 [00:31<04:07,  1.86s/it]"
          ],
          "name": "stderr"
        },
        {
          "output_type": "stream",
          "text": [
            "目前爬取頁面是：https://www.1111.com.tw/job-bank/job-index.asp?si=1&ss=s&ks=%E9%87%91%E8%9E%8D&page=17\n"
          ],
          "name": "stdout"
        },
        {
          "output_type": "stream",
          "text": [
            "\r 12%|█▏        | 18/150 [00:32<03:30,  1.60s/it]"
          ],
          "name": "stderr"
        },
        {
          "output_type": "stream",
          "text": [
            "目前爬取頁面是：https://www.1111.com.tw/job-bank/job-index.asp?si=1&ss=s&ks=%E9%87%91%E8%9E%8D&page=18\n"
          ],
          "name": "stdout"
        },
        {
          "output_type": "stream",
          "text": [
            "\r 13%|█▎        | 19/150 [00:33<03:05,  1.41s/it]"
          ],
          "name": "stderr"
        },
        {
          "output_type": "stream",
          "text": [
            "目前爬取頁面是：https://www.1111.com.tw/job-bank/job-index.asp?si=1&ss=s&ks=%E9%87%91%E8%9E%8D&page=19\n"
          ],
          "name": "stdout"
        },
        {
          "output_type": "stream",
          "text": [
            "\r 13%|█▎        | 20/150 [00:34<02:46,  1.28s/it]"
          ],
          "name": "stderr"
        },
        {
          "output_type": "stream",
          "text": [
            "目前爬取頁面是：https://www.1111.com.tw/job-bank/job-index.asp?si=1&ss=s&ks=%E9%87%91%E8%9E%8D&page=20\n"
          ],
          "name": "stdout"
        },
        {
          "output_type": "stream",
          "text": [
            "\r 14%|█▍        | 21/150 [00:37<03:28,  1.62s/it]"
          ],
          "name": "stderr"
        },
        {
          "output_type": "stream",
          "text": [
            "目前爬取頁面是：https://www.1111.com.tw/job-bank/job-index.asp?si=1&ss=s&ks=%E9%87%91%E8%9E%8D&page=21\n"
          ],
          "name": "stdout"
        },
        {
          "output_type": "stream",
          "text": [
            "\r 15%|█▍        | 22/150 [00:38<03:02,  1.43s/it]"
          ],
          "name": "stderr"
        },
        {
          "output_type": "stream",
          "text": [
            "目前爬取頁面是：https://www.1111.com.tw/job-bank/job-index.asp?si=1&ss=s&ks=%E9%87%91%E8%9E%8D&page=22\n"
          ],
          "name": "stdout"
        },
        {
          "output_type": "stream",
          "text": [
            "\r 15%|█▌        | 23/150 [00:41<03:51,  1.82s/it]"
          ],
          "name": "stderr"
        },
        {
          "output_type": "stream",
          "text": [
            "目前爬取頁面是：https://www.1111.com.tw/job-bank/job-index.asp?si=1&ss=s&ks=%E9%87%91%E8%9E%8D&page=23\n"
          ],
          "name": "stdout"
        },
        {
          "output_type": "stream",
          "text": [
            "\r 16%|█▌        | 24/150 [00:42<03:17,  1.57s/it]"
          ],
          "name": "stderr"
        },
        {
          "output_type": "stream",
          "text": [
            "目前爬取頁面是：https://www.1111.com.tw/job-bank/job-index.asp?si=1&ss=s&ks=%E9%87%91%E8%9E%8D&page=24\n"
          ],
          "name": "stdout"
        },
        {
          "output_type": "stream",
          "text": [
            "\r 17%|█▋        | 25/150 [00:44<03:32,  1.70s/it]"
          ],
          "name": "stderr"
        },
        {
          "output_type": "stream",
          "text": [
            "目前爬取頁面是：https://www.1111.com.tw/job-bank/job-index.asp?si=1&ss=s&ks=%E9%87%91%E8%9E%8D&page=25\n"
          ],
          "name": "stdout"
        },
        {
          "output_type": "stream",
          "text": [
            "\r 17%|█▋        | 26/150 [00:46<03:48,  1.85s/it]"
          ],
          "name": "stderr"
        },
        {
          "output_type": "stream",
          "text": [
            "目前爬取頁面是：https://www.1111.com.tw/job-bank/job-index.asp?si=1&ss=s&ks=%E9%87%91%E8%9E%8D&page=26\n"
          ],
          "name": "stdout"
        },
        {
          "output_type": "stream",
          "text": [
            "\r 18%|█▊        | 27/150 [00:48<03:52,  1.89s/it]"
          ],
          "name": "stderr"
        },
        {
          "output_type": "stream",
          "text": [
            "目前爬取頁面是：https://www.1111.com.tw/job-bank/job-index.asp?si=1&ss=s&ks=%E9%87%91%E8%9E%8D&page=27\n"
          ],
          "name": "stdout"
        },
        {
          "output_type": "stream",
          "text": [
            "\r 19%|█▊        | 28/150 [00:50<03:56,  1.94s/it]"
          ],
          "name": "stderr"
        },
        {
          "output_type": "stream",
          "text": [
            "目前爬取頁面是：https://www.1111.com.tw/job-bank/job-index.asp?si=1&ss=s&ks=%E9%87%91%E8%9E%8D&page=28\n"
          ],
          "name": "stdout"
        },
        {
          "output_type": "stream",
          "text": [
            "\r 19%|█▉        | 29/150 [00:52<04:01,  2.00s/it]"
          ],
          "name": "stderr"
        },
        {
          "output_type": "stream",
          "text": [
            "目前爬取頁面是：https://www.1111.com.tw/job-bank/job-index.asp?si=1&ss=s&ks=%E9%87%91%E8%9E%8D&page=29\n"
          ],
          "name": "stdout"
        },
        {
          "output_type": "stream",
          "text": [
            "\r 20%|██        | 30/150 [00:54<04:00,  2.00s/it]"
          ],
          "name": "stderr"
        },
        {
          "output_type": "stream",
          "text": [
            "目前爬取頁面是：https://www.1111.com.tw/job-bank/job-index.asp?si=1&ss=s&ks=%E9%87%91%E8%9E%8D&page=30\n"
          ],
          "name": "stdout"
        },
        {
          "output_type": "stream",
          "text": [
            "\r 21%|██        | 31/150 [00:56<04:17,  2.16s/it]"
          ],
          "name": "stderr"
        },
        {
          "output_type": "stream",
          "text": [
            "目前爬取頁面是：https://www.1111.com.tw/job-bank/job-index.asp?si=1&ss=s&ks=%E9%87%91%E8%9E%8D&page=31\n"
          ],
          "name": "stdout"
        },
        {
          "output_type": "stream",
          "text": [
            "\r 21%|██▏       | 32/150 [00:57<03:33,  1.81s/it]"
          ],
          "name": "stderr"
        },
        {
          "output_type": "stream",
          "text": [
            "目前爬取頁面是：https://www.1111.com.tw/job-bank/job-index.asp?si=1&ss=s&ks=%E9%87%91%E8%9E%8D&page=32\n"
          ],
          "name": "stdout"
        },
        {
          "output_type": "stream",
          "text": [
            "\r 22%|██▏       | 33/150 [00:59<03:39,  1.87s/it]"
          ],
          "name": "stderr"
        },
        {
          "output_type": "stream",
          "text": [
            "目前爬取頁面是：https://www.1111.com.tw/job-bank/job-index.asp?si=1&ss=s&ks=%E9%87%91%E8%9E%8D&page=33\n"
          ],
          "name": "stdout"
        },
        {
          "output_type": "stream",
          "text": [
            "\r 23%|██▎       | 34/150 [01:02<03:44,  1.94s/it]"
          ],
          "name": "stderr"
        },
        {
          "output_type": "stream",
          "text": [
            "目前爬取頁面是：https://www.1111.com.tw/job-bank/job-index.asp?si=1&ss=s&ks=%E9%87%91%E8%9E%8D&page=34\n"
          ],
          "name": "stdout"
        },
        {
          "output_type": "stream",
          "text": [
            "\r 23%|██▎       | 35/150 [01:04<03:47,  1.98s/it]"
          ],
          "name": "stderr"
        },
        {
          "output_type": "stream",
          "text": [
            "目前爬取頁面是：https://www.1111.com.tw/job-bank/job-index.asp?si=1&ss=s&ks=%E9%87%91%E8%9E%8D&page=35\n"
          ],
          "name": "stdout"
        },
        {
          "output_type": "stream",
          "text": [
            "\r 24%|██▍       | 36/150 [01:06<03:48,  2.00s/it]"
          ],
          "name": "stderr"
        },
        {
          "output_type": "stream",
          "text": [
            "目前爬取頁面是：https://www.1111.com.tw/job-bank/job-index.asp?si=1&ss=s&ks=%E9%87%91%E8%9E%8D&page=36\n"
          ],
          "name": "stdout"
        },
        {
          "output_type": "stream",
          "text": [
            "\r 25%|██▍       | 37/150 [01:08<03:47,  2.01s/it]"
          ],
          "name": "stderr"
        },
        {
          "output_type": "stream",
          "text": [
            "目前爬取頁面是：https://www.1111.com.tw/job-bank/job-index.asp?si=1&ss=s&ks=%E9%87%91%E8%9E%8D&page=37\n"
          ],
          "name": "stdout"
        },
        {
          "output_type": "stream",
          "text": [
            "\r 25%|██▌       | 38/150 [01:10<03:46,  2.02s/it]"
          ],
          "name": "stderr"
        },
        {
          "output_type": "stream",
          "text": [
            "目前爬取頁面是：https://www.1111.com.tw/job-bank/job-index.asp?si=1&ss=s&ks=%E9%87%91%E8%9E%8D&page=38\n"
          ],
          "name": "stdout"
        },
        {
          "output_type": "stream",
          "text": [
            "\r 26%|██▌       | 39/150 [01:12<03:45,  2.03s/it]"
          ],
          "name": "stderr"
        },
        {
          "output_type": "stream",
          "text": [
            "目前爬取頁面是：https://www.1111.com.tw/job-bank/job-index.asp?si=1&ss=s&ks=%E9%87%91%E8%9E%8D&page=39\n"
          ],
          "name": "stdout"
        },
        {
          "output_type": "stream",
          "text": [
            "\r 27%|██▋       | 40/150 [01:13<03:09,  1.72s/it]"
          ],
          "name": "stderr"
        },
        {
          "output_type": "stream",
          "text": [
            "目前爬取頁面是：https://www.1111.com.tw/job-bank/job-index.asp?si=1&ss=s&ks=%E9%87%91%E8%9E%8D&page=40\n"
          ],
          "name": "stdout"
        },
        {
          "output_type": "stream",
          "text": [
            "\r 27%|██▋       | 41/150 [01:15<03:29,  1.92s/it]"
          ],
          "name": "stderr"
        },
        {
          "output_type": "stream",
          "text": [
            "目前爬取頁面是：https://www.1111.com.tw/job-bank/job-index.asp?si=1&ss=s&ks=%E9%87%91%E8%9E%8D&page=41\n"
          ],
          "name": "stdout"
        },
        {
          "output_type": "stream",
          "text": [
            "\r 28%|██▊       | 42/150 [01:17<03:32,  1.96s/it]"
          ],
          "name": "stderr"
        },
        {
          "output_type": "stream",
          "text": [
            "目前爬取頁面是：https://www.1111.com.tw/job-bank/job-index.asp?si=1&ss=s&ks=%E9%87%91%E8%9E%8D&page=42\n"
          ],
          "name": "stdout"
        },
        {
          "output_type": "stream",
          "text": [
            "\r 29%|██▊       | 43/150 [01:18<02:58,  1.67s/it]"
          ],
          "name": "stderr"
        },
        {
          "output_type": "stream",
          "text": [
            "目前爬取頁面是：https://www.1111.com.tw/job-bank/job-index.asp?si=1&ss=s&ks=%E9%87%91%E8%9E%8D&page=43\n"
          ],
          "name": "stdout"
        },
        {
          "output_type": "stream",
          "text": [
            "\r 29%|██▉       | 44/150 [01:19<02:35,  1.46s/it]"
          ],
          "name": "stderr"
        },
        {
          "output_type": "stream",
          "text": [
            "目前爬取頁面是：https://www.1111.com.tw/job-bank/job-index.asp?si=1&ss=s&ks=%E9%87%91%E8%9E%8D&page=44\n"
          ],
          "name": "stdout"
        },
        {
          "output_type": "stream",
          "text": [
            "\r 30%|███       | 45/150 [01:20<02:18,  1.32s/it]"
          ],
          "name": "stderr"
        },
        {
          "output_type": "stream",
          "text": [
            "目前爬取頁面是：https://www.1111.com.tw/job-bank/job-index.asp?si=1&ss=s&ks=%E9%87%91%E8%9E%8D&page=45\n"
          ],
          "name": "stdout"
        },
        {
          "output_type": "stream",
          "text": [
            "\r 31%|███       | 46/150 [01:21<02:06,  1.22s/it]"
          ],
          "name": "stderr"
        },
        {
          "output_type": "stream",
          "text": [
            "目前爬取頁面是：https://www.1111.com.tw/job-bank/job-index.asp?si=1&ss=s&ks=%E9%87%91%E8%9E%8D&page=46\n"
          ],
          "name": "stdout"
        },
        {
          "output_type": "stream",
          "text": [
            "\r 31%|███▏      | 47/150 [01:23<02:32,  1.48s/it]"
          ],
          "name": "stderr"
        },
        {
          "output_type": "stream",
          "text": [
            "目前爬取頁面是：https://www.1111.com.tw/job-bank/job-index.asp?si=1&ss=s&ks=%E9%87%91%E8%9E%8D&page=47\n"
          ],
          "name": "stdout"
        },
        {
          "output_type": "stream",
          "text": [
            "\r 32%|███▏      | 48/150 [01:25<02:49,  1.66s/it]"
          ],
          "name": "stderr"
        },
        {
          "output_type": "stream",
          "text": [
            "目前爬取頁面是：https://www.1111.com.tw/job-bank/job-index.asp?si=1&ss=s&ks=%E9%87%91%E8%9E%8D&page=48\n"
          ],
          "name": "stdout"
        },
        {
          "output_type": "stream",
          "text": [
            "\r 33%|███▎      | 49/150 [01:26<02:27,  1.46s/it]"
          ],
          "name": "stderr"
        },
        {
          "output_type": "stream",
          "text": [
            "目前爬取頁面是：https://www.1111.com.tw/job-bank/job-index.asp?si=1&ss=s&ks=%E9%87%91%E8%9E%8D&page=49\n"
          ],
          "name": "stdout"
        },
        {
          "output_type": "stream",
          "text": [
            "\r 33%|███▎      | 50/150 [01:27<02:11,  1.32s/it]"
          ],
          "name": "stderr"
        },
        {
          "output_type": "stream",
          "text": [
            "目前爬取頁面是：https://www.1111.com.tw/job-bank/job-index.asp?si=1&ss=s&ks=%E9%87%91%E8%9E%8D&page=50\n"
          ],
          "name": "stdout"
        },
        {
          "output_type": "stream",
          "text": [
            "\r 34%|███▍      | 51/150 [01:30<02:59,  1.81s/it]"
          ],
          "name": "stderr"
        },
        {
          "output_type": "stream",
          "text": [
            "目前爬取頁面是：https://www.1111.com.tw/job-bank/job-index.asp?si=1&ss=s&ks=%E9%87%91%E8%9E%8D&page=51\n"
          ],
          "name": "stdout"
        },
        {
          "output_type": "stream",
          "text": [
            "\r 35%|███▍      | 52/150 [01:32<03:05,  1.89s/it]"
          ],
          "name": "stderr"
        },
        {
          "output_type": "stream",
          "text": [
            "目前爬取頁面是：https://www.1111.com.tw/job-bank/job-index.asp?si=1&ss=s&ks=%E9%87%91%E8%9E%8D&page=52\n"
          ],
          "name": "stdout"
        },
        {
          "output_type": "stream",
          "text": [
            "\r 35%|███▌      | 53/150 [01:33<02:37,  1.62s/it]"
          ],
          "name": "stderr"
        },
        {
          "output_type": "stream",
          "text": [
            "目前爬取頁面是：https://www.1111.com.tw/job-bank/job-index.asp?si=1&ss=s&ks=%E9%87%91%E8%9E%8D&page=53\n"
          ],
          "name": "stdout"
        },
        {
          "output_type": "stream",
          "text": [
            "\r 36%|███▌      | 54/150 [01:36<02:51,  1.79s/it]"
          ],
          "name": "stderr"
        },
        {
          "output_type": "stream",
          "text": [
            "目前爬取頁面是：https://www.1111.com.tw/job-bank/job-index.asp?si=1&ss=s&ks=%E9%87%91%E8%9E%8D&page=54\n"
          ],
          "name": "stdout"
        },
        {
          "output_type": "stream",
          "text": [
            "\r 37%|███▋      | 55/150 [01:38<02:57,  1.87s/it]"
          ],
          "name": "stderr"
        },
        {
          "output_type": "stream",
          "text": [
            "目前爬取頁面是：https://www.1111.com.tw/job-bank/job-index.asp?si=1&ss=s&ks=%E9%87%91%E8%9E%8D&page=55\n"
          ],
          "name": "stdout"
        },
        {
          "output_type": "stream",
          "text": [
            "\r 37%|███▋      | 56/150 [01:39<02:30,  1.60s/it]"
          ],
          "name": "stderr"
        },
        {
          "output_type": "stream",
          "text": [
            "目前爬取頁面是：https://www.1111.com.tw/job-bank/job-index.asp?si=1&ss=s&ks=%E9%87%91%E8%9E%8D&page=56\n"
          ],
          "name": "stdout"
        },
        {
          "output_type": "stream",
          "text": [
            "\r 38%|███▊      | 57/150 [01:40<02:11,  1.42s/it]"
          ],
          "name": "stderr"
        },
        {
          "output_type": "stream",
          "text": [
            "目前爬取頁面是：https://www.1111.com.tw/job-bank/job-index.asp?si=1&ss=s&ks=%E9%87%91%E8%9E%8D&page=57\n"
          ],
          "name": "stdout"
        },
        {
          "output_type": "stream",
          "text": [
            "\r 39%|███▊      | 58/150 [01:42<02:27,  1.60s/it]"
          ],
          "name": "stderr"
        },
        {
          "output_type": "stream",
          "text": [
            "目前爬取頁面是：https://www.1111.com.tw/job-bank/job-index.asp?si=1&ss=s&ks=%E9%87%91%E8%9E%8D&page=58\n"
          ],
          "name": "stdout"
        },
        {
          "output_type": "stream",
          "text": [
            "\r 39%|███▉      | 59/150 [01:43<02:08,  1.42s/it]"
          ],
          "name": "stderr"
        },
        {
          "output_type": "stream",
          "text": [
            "目前爬取頁面是：https://www.1111.com.tw/job-bank/job-index.asp?si=1&ss=s&ks=%E9%87%91%E8%9E%8D&page=59\n"
          ],
          "name": "stdout"
        },
        {
          "output_type": "stream",
          "text": [
            "\r 40%|████      | 60/150 [01:44<01:55,  1.29s/it]"
          ],
          "name": "stderr"
        },
        {
          "output_type": "stream",
          "text": [
            "目前爬取頁面是：https://www.1111.com.tw/job-bank/job-index.asp?si=1&ss=s&ks=%E9%87%91%E8%9E%8D&page=60\n"
          ],
          "name": "stdout"
        },
        {
          "output_type": "stream",
          "text": [
            "\r 41%|████      | 61/150 [01:45<01:46,  1.20s/it]"
          ],
          "name": "stderr"
        },
        {
          "output_type": "stream",
          "text": [
            "目前爬取頁面是：https://www.1111.com.tw/job-bank/job-index.asp?si=1&ss=s&ks=%E9%87%91%E8%9E%8D&page=61\n"
          ],
          "name": "stdout"
        },
        {
          "output_type": "stream",
          "text": [
            "\r 41%|████▏     | 62/150 [01:47<02:08,  1.46s/it]"
          ],
          "name": "stderr"
        },
        {
          "output_type": "stream",
          "text": [
            "目前爬取頁面是：https://www.1111.com.tw/job-bank/job-index.asp?si=1&ss=s&ks=%E9%87%91%E8%9E%8D&page=62\n"
          ],
          "name": "stdout"
        },
        {
          "output_type": "stream",
          "text": [
            "\r 42%|████▏     | 63/150 [01:48<01:55,  1.32s/it]"
          ],
          "name": "stderr"
        },
        {
          "output_type": "stream",
          "text": [
            "目前爬取頁面是：https://www.1111.com.tw/job-bank/job-index.asp?si=1&ss=s&ks=%E9%87%91%E8%9E%8D&page=63\n"
          ],
          "name": "stdout"
        },
        {
          "output_type": "stream",
          "text": [
            "\r 43%|████▎     | 64/150 [01:50<02:22,  1.66s/it]"
          ],
          "name": "stderr"
        },
        {
          "output_type": "stream",
          "text": [
            "目前爬取頁面是：https://www.1111.com.tw/job-bank/job-index.asp?si=1&ss=s&ks=%E9%87%91%E8%9E%8D&page=64\n"
          ],
          "name": "stdout"
        },
        {
          "output_type": "stream",
          "text": [
            "\r 43%|████▎     | 65/150 [01:51<02:05,  1.48s/it]"
          ],
          "name": "stderr"
        },
        {
          "output_type": "stream",
          "text": [
            "目前爬取頁面是：https://www.1111.com.tw/job-bank/job-index.asp?si=1&ss=s&ks=%E9%87%91%E8%9E%8D&page=65\n"
          ],
          "name": "stdout"
        },
        {
          "output_type": "stream",
          "text": [
            "\r 44%|████▍     | 66/150 [01:53<02:19,  1.66s/it]"
          ],
          "name": "stderr"
        },
        {
          "output_type": "stream",
          "text": [
            "目前爬取頁面是：https://www.1111.com.tw/job-bank/job-index.asp?si=1&ss=s&ks=%E9%87%91%E8%9E%8D&page=66\n"
          ],
          "name": "stdout"
        },
        {
          "output_type": "stream",
          "text": [
            "\r 45%|████▍     | 67/150 [01:54<02:00,  1.46s/it]"
          ],
          "name": "stderr"
        },
        {
          "output_type": "stream",
          "text": [
            "目前爬取頁面是：https://www.1111.com.tw/job-bank/job-index.asp?si=1&ss=s&ks=%E9%87%91%E8%9E%8D&page=67\n"
          ],
          "name": "stdout"
        },
        {
          "output_type": "stream",
          "text": [
            "\r 45%|████▌     | 68/150 [01:55<01:47,  1.31s/it]"
          ],
          "name": "stderr"
        },
        {
          "output_type": "stream",
          "text": [
            "目前爬取頁面是：https://www.1111.com.tw/job-bank/job-index.asp?si=1&ss=s&ks=%E9%87%91%E8%9E%8D&page=68\n"
          ],
          "name": "stdout"
        },
        {
          "output_type": "stream",
          "text": [
            "\r 46%|████▌     | 69/150 [01:58<02:21,  1.75s/it]"
          ],
          "name": "stderr"
        },
        {
          "output_type": "stream",
          "text": [
            "目前爬取頁面是：https://www.1111.com.tw/job-bank/job-index.asp?si=1&ss=s&ks=%E9%87%91%E8%9E%8D&page=69\n"
          ],
          "name": "stdout"
        },
        {
          "output_type": "stream",
          "text": [
            "\r 47%|████▋     | 70/150 [01:59<02:01,  1.52s/it]"
          ],
          "name": "stderr"
        },
        {
          "output_type": "stream",
          "text": [
            "目前爬取頁面是：https://www.1111.com.tw/job-bank/job-index.asp?si=1&ss=s&ks=%E9%87%91%E8%9E%8D&page=70\n"
          ],
          "name": "stdout"
        },
        {
          "output_type": "stream",
          "text": [
            "\r 47%|████▋     | 71/150 [02:01<02:13,  1.69s/it]"
          ],
          "name": "stderr"
        },
        {
          "output_type": "stream",
          "text": [
            "目前爬取頁面是：https://www.1111.com.tw/job-bank/job-index.asp?si=1&ss=s&ks=%E9%87%91%E8%9E%8D&page=71\n"
          ],
          "name": "stdout"
        },
        {
          "output_type": "stream",
          "text": [
            "\r 48%|████▊     | 72/150 [02:02<01:55,  1.48s/it]"
          ],
          "name": "stderr"
        },
        {
          "output_type": "stream",
          "text": [
            "目前爬取頁面是：https://www.1111.com.tw/job-bank/job-index.asp?si=1&ss=s&ks=%E9%87%91%E8%9E%8D&page=72\n"
          ],
          "name": "stdout"
        },
        {
          "output_type": "stream",
          "text": [
            "\r 49%|████▊     | 73/150 [02:04<02:06,  1.64s/it]"
          ],
          "name": "stderr"
        },
        {
          "output_type": "stream",
          "text": [
            "目前爬取頁面是：https://www.1111.com.tw/job-bank/job-index.asp?si=1&ss=s&ks=%E9%87%91%E8%9E%8D&page=73\n"
          ],
          "name": "stdout"
        },
        {
          "output_type": "stream",
          "text": [
            "\r 49%|████▉     | 74/150 [02:06<02:13,  1.75s/it]"
          ],
          "name": "stderr"
        },
        {
          "output_type": "stream",
          "text": [
            "目前爬取頁面是：https://www.1111.com.tw/job-bank/job-index.asp?si=1&ss=s&ks=%E9%87%91%E8%9E%8D&page=74\n"
          ],
          "name": "stdout"
        },
        {
          "output_type": "stream",
          "text": [
            "\r 50%|█████     | 75/150 [02:08<02:19,  1.86s/it]"
          ],
          "name": "stderr"
        },
        {
          "output_type": "stream",
          "text": [
            "目前爬取頁面是：https://www.1111.com.tw/job-bank/job-index.asp?si=1&ss=s&ks=%E9%87%91%E8%9E%8D&page=75\n"
          ],
          "name": "stdout"
        },
        {
          "output_type": "stream",
          "text": [
            "\r 51%|█████     | 76/150 [02:10<02:21,  1.92s/it]"
          ],
          "name": "stderr"
        },
        {
          "output_type": "stream",
          "text": [
            "目前爬取頁面是：https://www.1111.com.tw/job-bank/job-index.asp?si=1&ss=s&ks=%E9%87%91%E8%9E%8D&page=76\n"
          ],
          "name": "stdout"
        },
        {
          "output_type": "stream",
          "text": [
            "\r 51%|█████▏    | 77/150 [02:11<01:59,  1.64s/it]"
          ],
          "name": "stderr"
        },
        {
          "output_type": "stream",
          "text": [
            "目前爬取頁面是：https://www.1111.com.tw/job-bank/job-index.asp?si=1&ss=s&ks=%E9%87%91%E8%9E%8D&page=77\n"
          ],
          "name": "stdout"
        },
        {
          "output_type": "stream",
          "text": [
            "\r 52%|█████▏    | 78/150 [02:12<01:43,  1.44s/it]"
          ],
          "name": "stderr"
        },
        {
          "output_type": "stream",
          "text": [
            "目前爬取頁面是：https://www.1111.com.tw/job-bank/job-index.asp?si=1&ss=s&ks=%E9%87%91%E8%9E%8D&page=78\n"
          ],
          "name": "stdout"
        },
        {
          "output_type": "stream",
          "text": [
            "\r 53%|█████▎    | 79/150 [02:14<01:55,  1.63s/it]"
          ],
          "name": "stderr"
        },
        {
          "output_type": "stream",
          "text": [
            "目前爬取頁面是：https://www.1111.com.tw/job-bank/job-index.asp?si=1&ss=s&ks=%E9%87%91%E8%9E%8D&page=79\n"
          ],
          "name": "stdout"
        },
        {
          "output_type": "stream",
          "text": [
            "\r 53%|█████▎    | 80/150 [02:16<02:02,  1.76s/it]"
          ],
          "name": "stderr"
        },
        {
          "output_type": "stream",
          "text": [
            "目前爬取頁面是：https://www.1111.com.tw/job-bank/job-index.asp?si=1&ss=s&ks=%E9%87%91%E8%9E%8D&page=80\n"
          ],
          "name": "stdout"
        },
        {
          "output_type": "stream",
          "text": [
            "\r 54%|█████▍    | 81/150 [02:19<02:17,  2.00s/it]"
          ],
          "name": "stderr"
        },
        {
          "output_type": "stream",
          "text": [
            "目前爬取頁面是：https://www.1111.com.tw/job-bank/job-index.asp?si=1&ss=s&ks=%E9%87%91%E8%9E%8D&page=81\n"
          ],
          "name": "stdout"
        },
        {
          "output_type": "stream",
          "text": [
            "\r 55%|█████▍    | 82/150 [02:21<02:19,  2.06s/it]"
          ],
          "name": "stderr"
        },
        {
          "output_type": "stream",
          "text": [
            "目前爬取頁面是：https://www.1111.com.tw/job-bank/job-index.asp?si=1&ss=s&ks=%E9%87%91%E8%9E%8D&page=82\n"
          ],
          "name": "stdout"
        },
        {
          "output_type": "stream",
          "text": [
            "\r 55%|█████▌    | 83/150 [02:22<01:56,  1.74s/it]"
          ],
          "name": "stderr"
        },
        {
          "output_type": "stream",
          "text": [
            "目前爬取頁面是：https://www.1111.com.tw/job-bank/job-index.asp?si=1&ss=s&ks=%E9%87%91%E8%9E%8D&page=83\n"
          ],
          "name": "stdout"
        },
        {
          "output_type": "stream",
          "text": [
            "\r 56%|█████▌    | 84/150 [02:23<01:39,  1.51s/it]"
          ],
          "name": "stderr"
        },
        {
          "output_type": "stream",
          "text": [
            "目前爬取頁面是：https://www.1111.com.tw/job-bank/job-index.asp?si=1&ss=s&ks=%E9%87%91%E8%9E%8D&page=84\n"
          ],
          "name": "stdout"
        },
        {
          "output_type": "stream",
          "text": [
            "\r 57%|█████▋    | 85/150 [02:24<01:27,  1.35s/it]"
          ],
          "name": "stderr"
        },
        {
          "output_type": "stream",
          "text": [
            "目前爬取頁面是：https://www.1111.com.tw/job-bank/job-index.asp?si=1&ss=s&ks=%E9%87%91%E8%9E%8D&page=85\n"
          ],
          "name": "stdout"
        },
        {
          "output_type": "stream",
          "text": [
            "\r 57%|█████▋    | 86/150 [02:26<01:40,  1.57s/it]"
          ],
          "name": "stderr"
        },
        {
          "output_type": "stream",
          "text": [
            "目前爬取頁面是：https://www.1111.com.tw/job-bank/job-index.asp?si=1&ss=s&ks=%E9%87%91%E8%9E%8D&page=86\n"
          ],
          "name": "stdout"
        },
        {
          "output_type": "stream",
          "text": [
            "\r 58%|█████▊    | 87/150 [02:29<01:59,  1.89s/it]"
          ],
          "name": "stderr"
        },
        {
          "output_type": "stream",
          "text": [
            "目前爬取頁面是：https://www.1111.com.tw/job-bank/job-index.asp?si=1&ss=s&ks=%E9%87%91%E8%9E%8D&page=87\n"
          ],
          "name": "stdout"
        },
        {
          "output_type": "stream",
          "text": [
            "\r 59%|█████▊    | 88/150 [02:31<02:00,  1.94s/it]"
          ],
          "name": "stderr"
        },
        {
          "output_type": "stream",
          "text": [
            "目前爬取頁面是：https://www.1111.com.tw/job-bank/job-index.asp?si=1&ss=s&ks=%E9%87%91%E8%9E%8D&page=88\n"
          ],
          "name": "stdout"
        },
        {
          "output_type": "stream",
          "text": [
            "\r 59%|█████▉    | 89/150 [02:32<01:41,  1.66s/it]"
          ],
          "name": "stderr"
        },
        {
          "output_type": "stream",
          "text": [
            "目前爬取頁面是：https://www.1111.com.tw/job-bank/job-index.asp?si=1&ss=s&ks=%E9%87%91%E8%9E%8D&page=89\n"
          ],
          "name": "stdout"
        },
        {
          "output_type": "stream",
          "text": [
            "\r 60%|██████    | 90/150 [02:33<01:27,  1.46s/it]"
          ],
          "name": "stderr"
        },
        {
          "output_type": "stream",
          "text": [
            "目前爬取頁面是：https://www.1111.com.tw/job-bank/job-index.asp?si=1&ss=s&ks=%E9%87%91%E8%9E%8D&page=90\n"
          ],
          "name": "stdout"
        },
        {
          "output_type": "stream",
          "text": [
            "\r 61%|██████    | 91/150 [02:35<01:46,  1.80s/it]"
          ],
          "name": "stderr"
        },
        {
          "output_type": "stream",
          "text": [
            "目前爬取頁面是：https://www.1111.com.tw/job-bank/job-index.asp?si=1&ss=s&ks=%E9%87%91%E8%9E%8D&page=91\n"
          ],
          "name": "stdout"
        },
        {
          "output_type": "stream",
          "text": [
            "\r 61%|██████▏   | 92/150 [02:36<01:30,  1.56s/it]"
          ],
          "name": "stderr"
        },
        {
          "output_type": "stream",
          "text": [
            "目前爬取頁面是：https://www.1111.com.tw/job-bank/job-index.asp?si=1&ss=s&ks=%E9%87%91%E8%9E%8D&page=92\n"
          ],
          "name": "stdout"
        },
        {
          "output_type": "stream",
          "text": [
            "\r 62%|██████▏   | 93/150 [02:39<01:40,  1.76s/it]"
          ],
          "name": "stderr"
        },
        {
          "output_type": "stream",
          "text": [
            "目前爬取頁面是：https://www.1111.com.tw/job-bank/job-index.asp?si=1&ss=s&ks=%E9%87%91%E8%9E%8D&page=93\n"
          ],
          "name": "stdout"
        },
        {
          "output_type": "stream",
          "text": [
            "\r 63%|██████▎   | 94/150 [02:41<01:43,  1.85s/it]"
          ],
          "name": "stderr"
        },
        {
          "output_type": "stream",
          "text": [
            "目前爬取頁面是：https://www.1111.com.tw/job-bank/job-index.asp?si=1&ss=s&ks=%E9%87%91%E8%9E%8D&page=94\n"
          ],
          "name": "stdout"
        },
        {
          "output_type": "stream",
          "text": [
            "\r 63%|██████▎   | 95/150 [02:42<01:27,  1.59s/it]"
          ],
          "name": "stderr"
        },
        {
          "output_type": "stream",
          "text": [
            "目前爬取頁面是：https://www.1111.com.tw/job-bank/job-index.asp?si=1&ss=s&ks=%E9%87%91%E8%9E%8D&page=95\n"
          ],
          "name": "stdout"
        },
        {
          "output_type": "stream",
          "text": [
            "\r 64%|██████▍   | 96/150 [02:44<01:45,  1.95s/it]"
          ],
          "name": "stderr"
        },
        {
          "output_type": "stream",
          "text": [
            "目前爬取頁面是：https://www.1111.com.tw/job-bank/job-index.asp?si=1&ss=s&ks=%E9%87%91%E8%9E%8D&page=96\n"
          ],
          "name": "stdout"
        },
        {
          "output_type": "stream",
          "text": [
            "\r 65%|██████▍   | 97/150 [02:45<01:27,  1.66s/it]"
          ],
          "name": "stderr"
        },
        {
          "output_type": "stream",
          "text": [
            "目前爬取頁面是：https://www.1111.com.tw/job-bank/job-index.asp?si=1&ss=s&ks=%E9%87%91%E8%9E%8D&page=97\n"
          ],
          "name": "stdout"
        },
        {
          "output_type": "stream",
          "text": [
            "\r 65%|██████▌   | 98/150 [02:46<01:15,  1.46s/it]"
          ],
          "name": "stderr"
        },
        {
          "output_type": "stream",
          "text": [
            "目前爬取頁面是：https://www.1111.com.tw/job-bank/job-index.asp?si=1&ss=s&ks=%E9%87%91%E8%9E%8D&page=98\n"
          ],
          "name": "stdout"
        },
        {
          "output_type": "stream",
          "text": [
            "\r 66%|██████▌   | 99/150 [02:48<01:22,  1.61s/it]"
          ],
          "name": "stderr"
        },
        {
          "output_type": "stream",
          "text": [
            "目前爬取頁面是：https://www.1111.com.tw/job-bank/job-index.asp?si=1&ss=s&ks=%E9%87%91%E8%9E%8D&page=99\n"
          ],
          "name": "stdout"
        },
        {
          "output_type": "stream",
          "text": [
            "\r 67%|██████▋   | 100/150 [02:50<01:26,  1.73s/it]"
          ],
          "name": "stderr"
        },
        {
          "output_type": "stream",
          "text": [
            "目前爬取頁面是：https://www.1111.com.tw/job-bank/job-index.asp?si=1&ss=s&ks=%E9%87%91%E8%9E%8D&page=100\n"
          ],
          "name": "stdout"
        },
        {
          "output_type": "stream",
          "text": [
            "\r 67%|██████▋   | 101/150 [02:53<01:33,  1.90s/it]"
          ],
          "name": "stderr"
        },
        {
          "output_type": "stream",
          "text": [
            "目前爬取頁面是：https://www.1111.com.tw/job-bank/job-index.asp?si=1&ss=s&ks=%E9%87%91%E8%9E%8D&page=101\n"
          ],
          "name": "stdout"
        },
        {
          "output_type": "stream",
          "text": [
            "\r 68%|██████▊   | 102/150 [02:55<01:42,  2.13s/it]"
          ],
          "name": "stderr"
        },
        {
          "output_type": "stream",
          "text": [
            "目前爬取頁面是：https://www.1111.com.tw/job-bank/job-index.asp?si=1&ss=s&ks=%E9%87%91%E8%9E%8D&page=102\n"
          ],
          "name": "stdout"
        },
        {
          "output_type": "stream",
          "text": [
            "\r 69%|██████▊   | 103/150 [02:56<01:24,  1.79s/it]"
          ],
          "name": "stderr"
        },
        {
          "output_type": "stream",
          "text": [
            "目前爬取頁面是：https://www.1111.com.tw/job-bank/job-index.asp?si=1&ss=s&ks=%E9%87%91%E8%9E%8D&page=103\n"
          ],
          "name": "stdout"
        },
        {
          "output_type": "stream",
          "text": [
            "\r 69%|██████▉   | 104/150 [02:58<01:25,  1.86s/it]"
          ],
          "name": "stderr"
        },
        {
          "output_type": "stream",
          "text": [
            "目前爬取頁面是：https://www.1111.com.tw/job-bank/job-index.asp?si=1&ss=s&ks=%E9%87%91%E8%9E%8D&page=104\n"
          ],
          "name": "stdout"
        },
        {
          "output_type": "stream",
          "text": [
            "\r 70%|███████   | 105/150 [03:01<01:29,  1.98s/it]"
          ],
          "name": "stderr"
        },
        {
          "output_type": "stream",
          "text": [
            "目前爬取頁面是：https://www.1111.com.tw/job-bank/job-index.asp?si=1&ss=s&ks=%E9%87%91%E8%9E%8D&page=105\n"
          ],
          "name": "stdout"
        },
        {
          "output_type": "stream",
          "text": [
            "\r 71%|███████   | 106/150 [03:03<01:33,  2.12s/it]"
          ],
          "name": "stderr"
        },
        {
          "output_type": "stream",
          "text": [
            "目前爬取頁面是：https://www.1111.com.tw/job-bank/job-index.asp?si=1&ss=s&ks=%E9%87%91%E8%9E%8D&page=106\n"
          ],
          "name": "stdout"
        },
        {
          "output_type": "stream",
          "text": [
            "\r 71%|███████▏  | 107/150 [03:05<01:33,  2.17s/it]"
          ],
          "name": "stderr"
        },
        {
          "output_type": "stream",
          "text": [
            "目前爬取頁面是：https://www.1111.com.tw/job-bank/job-index.asp?si=1&ss=s&ks=%E9%87%91%E8%9E%8D&page=107\n"
          ],
          "name": "stdout"
        },
        {
          "output_type": "stream",
          "text": [
            "\r 72%|███████▏  | 108/150 [03:07<01:28,  2.12s/it]"
          ],
          "name": "stderr"
        },
        {
          "output_type": "stream",
          "text": [
            "目前爬取頁面是：https://www.1111.com.tw/job-bank/job-index.asp?si=1&ss=s&ks=%E9%87%91%E8%9E%8D&page=108\n"
          ],
          "name": "stdout"
        },
        {
          "output_type": "stream",
          "text": [
            "\r 73%|███████▎  | 109/150 [03:08<01:13,  1.78s/it]"
          ],
          "name": "stderr"
        },
        {
          "output_type": "stream",
          "text": [
            "目前爬取頁面是：https://www.1111.com.tw/job-bank/job-index.asp?si=1&ss=s&ks=%E9%87%91%E8%9E%8D&page=109\n"
          ],
          "name": "stdout"
        },
        {
          "output_type": "stream",
          "text": [
            "\r 73%|███████▎  | 110/150 [03:11<01:18,  1.96s/it]"
          ],
          "name": "stderr"
        },
        {
          "output_type": "stream",
          "text": [
            "目前爬取頁面是：https://www.1111.com.tw/job-bank/job-index.asp?si=1&ss=s&ks=%E9%87%91%E8%9E%8D&page=110\n"
          ],
          "name": "stdout"
        },
        {
          "output_type": "stream",
          "text": [
            "\r 74%|███████▍  | 111/150 [03:12<01:05,  1.67s/it]"
          ],
          "name": "stderr"
        },
        {
          "output_type": "stream",
          "text": [
            "目前爬取頁面是：https://www.1111.com.tw/job-bank/job-index.asp?si=1&ss=s&ks=%E9%87%91%E8%9E%8D&page=111\n"
          ],
          "name": "stdout"
        },
        {
          "output_type": "stream",
          "text": [
            "\r 75%|███████▍  | 112/150 [03:14<01:08,  1.79s/it]"
          ],
          "name": "stderr"
        },
        {
          "output_type": "stream",
          "text": [
            "目前爬取頁面是：https://www.1111.com.tw/job-bank/job-index.asp?si=1&ss=s&ks=%E9%87%91%E8%9E%8D&page=112\n"
          ],
          "name": "stdout"
        },
        {
          "output_type": "stream",
          "text": [
            "\r 75%|███████▌  | 113/150 [03:16<01:08,  1.86s/it]"
          ],
          "name": "stderr"
        },
        {
          "output_type": "stream",
          "text": [
            "目前爬取頁面是：https://www.1111.com.tw/job-bank/job-index.asp?si=1&ss=s&ks=%E9%87%91%E8%9E%8D&page=113\n"
          ],
          "name": "stdout"
        },
        {
          "output_type": "stream",
          "text": [
            "\r 76%|███████▌  | 114/150 [03:18<01:13,  2.03s/it]"
          ],
          "name": "stderr"
        },
        {
          "output_type": "stream",
          "text": [
            "目前爬取頁面是：https://www.1111.com.tw/job-bank/job-index.asp?si=1&ss=s&ks=%E9%87%91%E8%9E%8D&page=114\n"
          ],
          "name": "stdout"
        },
        {
          "output_type": "stream",
          "text": [
            "\r 77%|███████▋  | 115/150 [03:20<01:12,  2.07s/it]"
          ],
          "name": "stderr"
        },
        {
          "output_type": "stream",
          "text": [
            "目前爬取頁面是：https://www.1111.com.tw/job-bank/job-index.asp?si=1&ss=s&ks=%E9%87%91%E8%9E%8D&page=115\n"
          ],
          "name": "stdout"
        },
        {
          "output_type": "stream",
          "text": [
            "\r 77%|███████▋  | 116/150 [03:23<01:11,  2.11s/it]"
          ],
          "name": "stderr"
        },
        {
          "output_type": "stream",
          "text": [
            "目前爬取頁面是：https://www.1111.com.tw/job-bank/job-index.asp?si=1&ss=s&ks=%E9%87%91%E8%9E%8D&page=116\n"
          ],
          "name": "stdout"
        },
        {
          "output_type": "stream",
          "text": [
            "\r 78%|███████▊  | 117/150 [03:24<00:58,  1.77s/it]"
          ],
          "name": "stderr"
        },
        {
          "output_type": "stream",
          "text": [
            "目前爬取頁面是：https://www.1111.com.tw/job-bank/job-index.asp?si=1&ss=s&ks=%E9%87%91%E8%9E%8D&page=117\n"
          ],
          "name": "stdout"
        },
        {
          "output_type": "stream",
          "text": [
            "\r 79%|███████▊  | 118/150 [03:25<00:49,  1.54s/it]"
          ],
          "name": "stderr"
        },
        {
          "output_type": "stream",
          "text": [
            "目前爬取頁面是：https://www.1111.com.tw/job-bank/job-index.asp?si=1&ss=s&ks=%E9%87%91%E8%9E%8D&page=118\n"
          ],
          "name": "stdout"
        },
        {
          "output_type": "stream",
          "text": [
            "\r 79%|███████▉  | 119/150 [03:26<00:42,  1.37s/it]"
          ],
          "name": "stderr"
        },
        {
          "output_type": "stream",
          "text": [
            "目前爬取頁面是：https://www.1111.com.tw/job-bank/job-index.asp?si=1&ss=s&ks=%E9%87%91%E8%9E%8D&page=119\n"
          ],
          "name": "stdout"
        },
        {
          "output_type": "stream",
          "text": [
            "\r 80%|████████  | 120/150 [03:28<00:47,  1.57s/it]"
          ],
          "name": "stderr"
        },
        {
          "output_type": "stream",
          "text": [
            "目前爬取頁面是：https://www.1111.com.tw/job-bank/job-index.asp?si=1&ss=s&ks=%E9%87%91%E8%9E%8D&page=120\n"
          ],
          "name": "stdout"
        },
        {
          "output_type": "stream",
          "text": [
            "\r 81%|████████  | 121/150 [03:30<00:49,  1.70s/it]"
          ],
          "name": "stderr"
        },
        {
          "output_type": "stream",
          "text": [
            "目前爬取頁面是：https://www.1111.com.tw/job-bank/job-index.asp?si=1&ss=s&ks=%E9%87%91%E8%9E%8D&page=121\n"
          ],
          "name": "stdout"
        },
        {
          "output_type": "stream",
          "text": [
            "\r 81%|████████▏ | 122/150 [03:32<00:52,  1.86s/it]"
          ],
          "name": "stderr"
        },
        {
          "output_type": "stream",
          "text": [
            "目前爬取頁面是：https://www.1111.com.tw/job-bank/job-index.asp?si=1&ss=s&ks=%E9%87%91%E8%9E%8D&page=122\n"
          ],
          "name": "stdout"
        },
        {
          "output_type": "stream",
          "text": [
            "\r 82%|████████▏ | 123/150 [03:33<00:43,  1.60s/it]"
          ],
          "name": "stderr"
        },
        {
          "output_type": "stream",
          "text": [
            "目前爬取頁面是：https://www.1111.com.tw/job-bank/job-index.asp?si=1&ss=s&ks=%E9%87%91%E8%9E%8D&page=123\n"
          ],
          "name": "stdout"
        },
        {
          "output_type": "stream",
          "text": [
            "\r 83%|████████▎ | 124/150 [03:35<00:45,  1.73s/it]"
          ],
          "name": "stderr"
        },
        {
          "output_type": "stream",
          "text": [
            "目前爬取頁面是：https://www.1111.com.tw/job-bank/job-index.asp?si=1&ss=s&ks=%E9%87%91%E8%9E%8D&page=124\n"
          ],
          "name": "stdout"
        },
        {
          "output_type": "stream",
          "text": [
            "\r 83%|████████▎ | 125/150 [03:37<00:45,  1.83s/it]"
          ],
          "name": "stderr"
        },
        {
          "output_type": "stream",
          "text": [
            "目前爬取頁面是：https://www.1111.com.tw/job-bank/job-index.asp?si=1&ss=s&ks=%E9%87%91%E8%9E%8D&page=125\n"
          ],
          "name": "stdout"
        },
        {
          "output_type": "stream",
          "text": [
            "\r 84%|████████▍ | 126/150 [03:38<00:37,  1.58s/it]"
          ],
          "name": "stderr"
        },
        {
          "output_type": "stream",
          "text": [
            "目前爬取頁面是：https://www.1111.com.tw/job-bank/job-index.asp?si=1&ss=s&ks=%E9%87%91%E8%9E%8D&page=126\n"
          ],
          "name": "stdout"
        },
        {
          "output_type": "stream",
          "text": [
            "\r 85%|████████▍ | 127/150 [03:39<00:32,  1.40s/it]"
          ],
          "name": "stderr"
        },
        {
          "output_type": "stream",
          "text": [
            "目前爬取頁面是：https://www.1111.com.tw/job-bank/job-index.asp?si=1&ss=s&ks=%E9%87%91%E8%9E%8D&page=127\n"
          ],
          "name": "stdout"
        },
        {
          "output_type": "stream",
          "text": [
            "\r 85%|████████▌ | 128/150 [03:40<00:28,  1.27s/it]"
          ],
          "name": "stderr"
        },
        {
          "output_type": "stream",
          "text": [
            "目前爬取頁面是：https://www.1111.com.tw/job-bank/job-index.asp?si=1&ss=s&ks=%E9%87%91%E8%9E%8D&page=128\n"
          ],
          "name": "stdout"
        },
        {
          "output_type": "stream",
          "text": [
            "\r 86%|████████▌ | 129/150 [03:42<00:31,  1.52s/it]"
          ],
          "name": "stderr"
        },
        {
          "output_type": "stream",
          "text": [
            "目前爬取頁面是：https://www.1111.com.tw/job-bank/job-index.asp?si=1&ss=s&ks=%E9%87%91%E8%9E%8D&page=129\n"
          ],
          "name": "stdout"
        },
        {
          "output_type": "stream",
          "text": [
            "\r 87%|████████▋ | 130/150 [03:44<00:33,  1.66s/it]"
          ],
          "name": "stderr"
        },
        {
          "output_type": "stream",
          "text": [
            "目前爬取頁面是：https://www.1111.com.tw/job-bank/job-index.asp?si=1&ss=s&ks=%E9%87%91%E8%9E%8D&page=130\n"
          ],
          "name": "stdout"
        },
        {
          "output_type": "stream",
          "text": [
            "\r 87%|████████▋ | 131/150 [03:46<00:35,  1.86s/it]"
          ],
          "name": "stderr"
        },
        {
          "output_type": "stream",
          "text": [
            "目前爬取頁面是：https://www.1111.com.tw/job-bank/job-index.asp?si=1&ss=s&ks=%E9%87%91%E8%9E%8D&page=131\n"
          ],
          "name": "stdout"
        },
        {
          "output_type": "stream",
          "text": [
            "\r 88%|████████▊ | 132/150 [03:48<00:34,  1.91s/it]"
          ],
          "name": "stderr"
        },
        {
          "output_type": "stream",
          "text": [
            "目前爬取頁面是：https://www.1111.com.tw/job-bank/job-index.asp?si=1&ss=s&ks=%E9%87%91%E8%9E%8D&page=132\n"
          ],
          "name": "stdout"
        },
        {
          "output_type": "stream",
          "text": [
            "\r 89%|████████▊ | 133/150 [03:49<00:27,  1.63s/it]"
          ],
          "name": "stderr"
        },
        {
          "output_type": "stream",
          "text": [
            "目前爬取頁面是：https://www.1111.com.tw/job-bank/job-index.asp?si=1&ss=s&ks=%E9%87%91%E8%9E%8D&page=133\n"
          ],
          "name": "stdout"
        },
        {
          "output_type": "stream",
          "text": [
            "\r 89%|████████▉ | 134/150 [03:51<00:28,  1.77s/it]"
          ],
          "name": "stderr"
        },
        {
          "output_type": "stream",
          "text": [
            "目前爬取頁面是：https://www.1111.com.tw/job-bank/job-index.asp?si=1&ss=s&ks=%E9%87%91%E8%9E%8D&page=134\n"
          ],
          "name": "stdout"
        },
        {
          "output_type": "stream",
          "text": [
            "\r 90%|█████████ | 135/150 [03:53<00:27,  1.85s/it]"
          ],
          "name": "stderr"
        },
        {
          "output_type": "stream",
          "text": [
            "目前爬取頁面是：https://www.1111.com.tw/job-bank/job-index.asp?si=1&ss=s&ks=%E9%87%91%E8%9E%8D&page=135\n"
          ],
          "name": "stdout"
        },
        {
          "output_type": "stream",
          "text": [
            "\r 91%|█████████ | 136/150 [03:55<00:26,  1.90s/it]"
          ],
          "name": "stderr"
        },
        {
          "output_type": "stream",
          "text": [
            "目前爬取頁面是：https://www.1111.com.tw/job-bank/job-index.asp?si=1&ss=s&ks=%E9%87%91%E8%9E%8D&page=136\n"
          ],
          "name": "stdout"
        },
        {
          "output_type": "stream",
          "text": [
            "\r 91%|█████████▏| 137/150 [03:58<00:25,  1.95s/it]"
          ],
          "name": "stderr"
        },
        {
          "output_type": "stream",
          "text": [
            "目前爬取頁面是：https://www.1111.com.tw/job-bank/job-index.asp?si=1&ss=s&ks=%E9%87%91%E8%9E%8D&page=137\n"
          ],
          "name": "stdout"
        },
        {
          "output_type": "stream",
          "text": [
            "\r 92%|█████████▏| 138/150 [03:59<00:19,  1.66s/it]"
          ],
          "name": "stderr"
        },
        {
          "output_type": "stream",
          "text": [
            "目前爬取頁面是：https://www.1111.com.tw/job-bank/job-index.asp?si=1&ss=s&ks=%E9%87%91%E8%9E%8D&page=138\n"
          ],
          "name": "stdout"
        },
        {
          "output_type": "stream",
          "text": [
            "\r 93%|█████████▎| 139/150 [04:00<00:16,  1.46s/it]"
          ],
          "name": "stderr"
        },
        {
          "output_type": "stream",
          "text": [
            "目前爬取頁面是：https://www.1111.com.tw/job-bank/job-index.asp?si=1&ss=s&ks=%E9%87%91%E8%9E%8D&page=139\n"
          ],
          "name": "stdout"
        },
        {
          "output_type": "stream",
          "text": [
            "\r 93%|█████████▎| 140/150 [04:00<00:13,  1.32s/it]"
          ],
          "name": "stderr"
        },
        {
          "output_type": "stream",
          "text": [
            "目前爬取頁面是：https://www.1111.com.tw/job-bank/job-index.asp?si=1&ss=s&ks=%E9%87%91%E8%9E%8D&page=140\n"
          ],
          "name": "stdout"
        },
        {
          "output_type": "stream",
          "text": [
            "\r 94%|█████████▍| 141/150 [04:01<00:10,  1.22s/it]"
          ],
          "name": "stderr"
        },
        {
          "output_type": "stream",
          "text": [
            "目前爬取頁面是：https://www.1111.com.tw/job-bank/job-index.asp?si=1&ss=s&ks=%E9%87%91%E8%9E%8D&page=141\n"
          ],
          "name": "stdout"
        },
        {
          "output_type": "stream",
          "text": [
            "\r 95%|█████████▍| 142/150 [04:02<00:09,  1.15s/it]"
          ],
          "name": "stderr"
        },
        {
          "output_type": "stream",
          "text": [
            "目前爬取頁面是：https://www.1111.com.tw/job-bank/job-index.asp?si=1&ss=s&ks=%E9%87%91%E8%9E%8D&page=142\n"
          ],
          "name": "stdout"
        },
        {
          "output_type": "stream",
          "text": [
            "\r 95%|█████████▌| 143/150 [04:03<00:07,  1.10s/it]"
          ],
          "name": "stderr"
        },
        {
          "output_type": "stream",
          "text": [
            "目前爬取頁面是：https://www.1111.com.tw/job-bank/job-index.asp?si=1&ss=s&ks=%E9%87%91%E8%9E%8D&page=143\n"
          ],
          "name": "stdout"
        },
        {
          "output_type": "stream",
          "text": [
            "\r 96%|█████████▌| 144/150 [04:05<00:08,  1.38s/it]"
          ],
          "name": "stderr"
        },
        {
          "output_type": "stream",
          "text": [
            "目前爬取頁面是：https://www.1111.com.tw/job-bank/job-index.asp?si=1&ss=s&ks=%E9%87%91%E8%9E%8D&page=144\n"
          ],
          "name": "stdout"
        },
        {
          "output_type": "stream",
          "text": [
            "\r 97%|█████████▋| 145/150 [04:08<00:07,  1.58s/it]"
          ],
          "name": "stderr"
        },
        {
          "output_type": "stream",
          "text": [
            "目前爬取頁面是：https://www.1111.com.tw/job-bank/job-index.asp?si=1&ss=s&ks=%E9%87%91%E8%9E%8D&page=145\n"
          ],
          "name": "stdout"
        },
        {
          "output_type": "stream",
          "text": [
            "\r 97%|█████████▋| 146/150 [04:10<00:06,  1.70s/it]"
          ],
          "name": "stderr"
        },
        {
          "output_type": "stream",
          "text": [
            "目前爬取頁面是：https://www.1111.com.tw/job-bank/job-index.asp?si=1&ss=s&ks=%E9%87%91%E8%9E%8D&page=146\n"
          ],
          "name": "stdout"
        },
        {
          "output_type": "stream",
          "text": [
            "\r 98%|█████████▊| 147/150 [04:12<00:05,  1.85s/it]"
          ],
          "name": "stderr"
        },
        {
          "output_type": "stream",
          "text": [
            "目前爬取頁面是：https://www.1111.com.tw/job-bank/job-index.asp?si=1&ss=s&ks=%E9%87%91%E8%9E%8D&page=147\n"
          ],
          "name": "stdout"
        },
        {
          "output_type": "stream",
          "text": [
            "\r 99%|█████████▊| 148/150 [04:14<00:04,  2.05s/it]"
          ],
          "name": "stderr"
        },
        {
          "output_type": "stream",
          "text": [
            "目前爬取頁面是：https://www.1111.com.tw/job-bank/job-index.asp?si=1&ss=s&ks=%E9%87%91%E8%9E%8D&page=148\n"
          ],
          "name": "stdout"
        },
        {
          "output_type": "stream",
          "text": [
            "\r 99%|█████████▉| 149/150 [04:16<00:02,  2.04s/it]"
          ],
          "name": "stderr"
        },
        {
          "output_type": "stream",
          "text": [
            "目前爬取頁面是：https://www.1111.com.tw/job-bank/job-index.asp?si=1&ss=s&ks=%E9%87%91%E8%9E%8D&page=149\n"
          ],
          "name": "stdout"
        },
        {
          "output_type": "stream",
          "text": [
            "100%|██████████| 150/150 [04:18<00:00,  1.73s/it]"
          ],
          "name": "stderr"
        },
        {
          "output_type": "stream",
          "text": [
            "目前爬取頁面是：https://www.1111.com.tw/job-bank/job-index.asp?si=1&ss=s&ks=%E9%87%91%E8%9E%8D&page=150\n",
            "爬取1111完成：請開啟csv檔案\n"
          ],
          "name": "stdout"
        },
        {
          "output_type": "stream",
          "text": [
            "\n"
          ],
          "name": "stderr"
        }
      ]
    },
    {
      "cell_type": "markdown",
      "metadata": {
        "id": "Mlcy6z_8IJNt",
        "colab_type": "text"
      },
      "source": [
        "# Pandas 過濾工作"
      ]
    },
    {
      "cell_type": "code",
      "metadata": {
        "id": "Q9n7Qla4n--k",
        "colab_type": "code",
        "outputId": "f1b654d2-401e-40e4-f2b1-1bace7de89cf",
        "colab": {
          "base_uri": "https://localhost:8080/",
          "height": 34
        }
      },
      "source": [
        "import glob\n",
        "glob.glob('jobs_csv/*.csv')"
      ],
      "execution_count": 5,
      "outputs": [
        {
          "output_type": "execute_result",
          "data": {
            "text/plain": [
              "['jobs_csv/2020-06-07金融_104人力銀行.csv', 'jobs_csv/2020-06-07金融_1111人力銀行.csv']"
            ]
          },
          "metadata": {
            "tags": []
          },
          "execution_count": 5
        }
      ]
    },
    {
      "cell_type": "code",
      "metadata": {
        "id": "YGuk-83VIJNt",
        "colab_type": "code",
        "colab": {}
      },
      "source": [
        "#讀取爬取到的資料\n",
        "data_104 = pd.read_csv('jobs_csv/2020-06-07金融_104人力銀行.csv')\n",
        "data_1111 = pd.read_csv('jobs_csv/2020-06-07金融_1111人力銀行.csv')"
      ],
      "execution_count": 0,
      "outputs": []
    },
    {
      "cell_type": "code",
      "metadata": {
        "id": "6lkCzmyupHyT",
        "colab_type": "code",
        "colab": {}
      },
      "source": [
        "#另一種方法\n",
        "#讀取爬取到的資料\n",
        "get_file_name = glob.glob('jobs_csv/*.csv')\n",
        "data_104 = pd.read_csv(get_file_name[0])\n",
        "data_1111 = pd.read_csv(get_file_name[1])"
      ],
      "execution_count": 0,
      "outputs": []
    },
    {
      "cell_type": "markdown",
      "metadata": {
        "id": "W-EcfIjqIJNx",
        "colab_type": "text"
      },
      "source": [
        "查看資料"
      ]
    },
    {
      "cell_type": "code",
      "metadata": {
        "id": "KW3aoUPpIJNx",
        "colab_type": "code",
        "outputId": "4fd713aa-1002-4aa2-c7a0-1f38f737086e",
        "colab": {
          "base_uri": "https://localhost:8080/",
          "height": 357
        }
      },
      "source": [
        "data_1111.head()"
      ],
      "execution_count": 7,
      "outputs": [
        {
          "output_type": "execute_result",
          "data": {
            "text/html": [
              "<div>\n",
              "<style scoped>\n",
              "    .dataframe tbody tr th:only-of-type {\n",
              "        vertical-align: middle;\n",
              "    }\n",
              "\n",
              "    .dataframe tbody tr th {\n",
              "        vertical-align: top;\n",
              "    }\n",
              "\n",
              "    .dataframe thead th {\n",
              "        text-align: right;\n",
              "    }\n",
              "</style>\n",
              "<table border=\"1\" class=\"dataframe\">\n",
              "  <thead>\n",
              "    <tr style=\"text-align: right;\">\n",
              "      <th></th>\n",
              "      <th>日期</th>\n",
              "      <th>工作名稱</th>\n",
              "      <th>公司名稱</th>\n",
              "      <th>公司地址</th>\n",
              "      <th>薪資</th>\n",
              "      <th>工作內容</th>\n",
              "      <th>地區</th>\n",
              "      <th>經歷</th>\n",
              "      <th>學歷</th>\n",
              "      <th>工作網址</th>\n",
              "    </tr>\n",
              "  </thead>\n",
              "  <tbody>\n",
              "    <tr>\n",
              "      <th>0</th>\n",
              "      <td>2020-05-21</td>\n",
              "      <td>電話行銷客服人員-保障底薪+獎金+供餐</td>\n",
              "      <td>全球華人股份有限公司(1111人力銀行)</td>\n",
              "      <td>台北市松山區南京東路</td>\n",
              "      <td>25,000</td>\n",
              "      <td>1.內勤電話開發潛在客戶，拓展市場，以達成業績目標。 2.負責業務推展接洽及訂單處理。 3....</td>\n",
              "      <td>台北市松山區</td>\n",
              "      <td>1年工作經驗以上</td>\n",
              "      <td>高中職,專科,大學,碩士,博士</td>\n",
              "      <td>https://www.1111.com.tw/job/85973247/</td>\n",
              "    </tr>\n",
              "    <tr>\n",
              "      <th>1</th>\n",
              "      <td>2020-06-05</td>\n",
              "      <td>教育訓練師</td>\n",
              "      <td>全球華人股份有限公司高雄分公司(1111人力銀行高雄分公司)</td>\n",
              "      <td>高雄市前金區中山二路</td>\n",
              "      <td>30,000</td>\n",
              "      <td>1.負責新進員工教育訓練。2.課程規劃執行、教材製作、學習績效評估。3.新進員工學習進度追蹤...</td>\n",
              "      <td>高雄市前金區</td>\n",
              "      <td>2年工作經驗以上</td>\n",
              "      <td>專科,大學,碩士,博士</td>\n",
              "      <td>https://www.1111.com.tw/job/86023657/</td>\n",
              "    </tr>\n",
              "    <tr>\n",
              "      <th>2</th>\n",
              "      <td>2020-06-01</td>\n",
              "      <td>電銷客服專員【週休二日】</td>\n",
              "      <td>全球華人股份有限公司高雄分公司(1111人力銀行高雄分公司)</td>\n",
              "      <td>高雄市前金區中山二路</td>\n",
              "      <td>25,000</td>\n",
              "      <td>你喜歡講話嗎?快加入我們你喜歡賺錢嗎?快加入我們你喜歡廣結善緣嗎?快加入我們你喜歡學習成長嗎...</td>\n",
              "      <td>高雄市前金區</td>\n",
              "      <td>經驗不拘</td>\n",
              "      <td>高中職,專科,大學,碩士</td>\n",
              "      <td>https://www.1111.com.tw/job/86023633/</td>\n",
              "    </tr>\n",
              "    <tr>\n",
              "      <th>3</th>\n",
              "      <td>2020-06-06</td>\n",
              "      <td>會計人員~管理部</td>\n",
              "      <td>忠冠企業有限公司</td>\n",
              "      <td>亞太電信台南府前加盟、東寧加盟</td>\n",
              "      <td>28,000</td>\n",
              "      <td>本公司上班為AM 11:30~ PM20:00 月休8天。 1.公司一般現金收付作業、出納科...</td>\n",
              "      <td>台南市中西區</td>\n",
              "      <td>2年工作經驗以上</td>\n",
              "      <td>高中職,專科,大學,碩士,博士</td>\n",
              "      <td>https://www.1111.com.tw/job/91115407/</td>\n",
              "    </tr>\n",
              "    <tr>\n",
              "      <th>4</th>\n",
              "      <td>2020-06-06</td>\n",
              "      <td>高專業務</td>\n",
              "      <td>立安地產股份有限公司</td>\n",
              "      <td>住商不動產台南立安加盟店</td>\n",
              "      <td>50,000</td>\n",
              "      <td>1.提供搜尋及銷售不動產(房屋)訊息及服務之業務人員2.收集或獲得有關銷售及租賃房屋之資料，...</td>\n",
              "      <td>台南市中西區</td>\n",
              "      <td>1年工作經驗以上</td>\n",
              "      <td>高中職,專科,大學,碩士,博士</td>\n",
              "      <td>https://www.1111.com.tw/job/91429933/</td>\n",
              "    </tr>\n",
              "  </tbody>\n",
              "</table>\n",
              "</div>"
            ],
            "text/plain": [
              "           日期  ...                                   工作網址\n",
              "0  2020-05-21  ...  https://www.1111.com.tw/job/85973247/\n",
              "1  2020-06-05  ...  https://www.1111.com.tw/job/86023657/\n",
              "2  2020-06-01  ...  https://www.1111.com.tw/job/86023633/\n",
              "3  2020-06-06  ...  https://www.1111.com.tw/job/91115407/\n",
              "4  2020-06-06  ...  https://www.1111.com.tw/job/91429933/\n",
              "\n",
              "[5 rows x 10 columns]"
            ]
          },
          "metadata": {
            "tags": []
          },
          "execution_count": 7
        }
      ]
    },
    {
      "cell_type": "code",
      "metadata": {
        "id": "omVznnYZZ9Fq",
        "colab_type": "code",
        "outputId": "4c20c4d2-6f38-4412-ccd0-06c588ef5ec7",
        "colab": {
          "base_uri": "https://localhost:8080/",
          "height": 34
        }
      },
      "source": [
        "# 檢查有多少筆資料 共2810筆\n",
        "data_1111.shape"
      ],
      "execution_count": 8,
      "outputs": [
        {
          "output_type": "execute_result",
          "data": {
            "text/plain": [
              "(1825, 10)"
            ]
          },
          "metadata": {
            "tags": []
          },
          "execution_count": 8
        }
      ]
    },
    {
      "cell_type": "code",
      "metadata": {
        "id": "eESfH61MIJN2",
        "colab_type": "code",
        "outputId": "d52d8df9-b5bf-4779-a42f-8a6b1647d463",
        "colab": {
          "base_uri": "https://localhost:8080/",
          "height": 340
        }
      },
      "source": [
        "data_104.head()"
      ],
      "execution_count": 9,
      "outputs": [
        {
          "output_type": "execute_result",
          "data": {
            "text/html": [
              "<div>\n",
              "<style scoped>\n",
              "    .dataframe tbody tr th:only-of-type {\n",
              "        vertical-align: middle;\n",
              "    }\n",
              "\n",
              "    .dataframe tbody tr th {\n",
              "        vertical-align: top;\n",
              "    }\n",
              "\n",
              "    .dataframe thead th {\n",
              "        text-align: right;\n",
              "    }\n",
              "</style>\n",
              "<table border=\"1\" class=\"dataframe\">\n",
              "  <thead>\n",
              "    <tr style=\"text-align: right;\">\n",
              "      <th></th>\n",
              "      <th>日期</th>\n",
              "      <th>工作名稱</th>\n",
              "      <th>公司名稱</th>\n",
              "      <th>公司地址</th>\n",
              "      <th>薪資</th>\n",
              "      <th>工作內容</th>\n",
              "      <th>地區</th>\n",
              "      <th>經歷</th>\n",
              "      <th>學歷</th>\n",
              "      <th>公司人數</th>\n",
              "      <th>文章編號</th>\n",
              "      <th>工作網址</th>\n",
              "    </tr>\n",
              "  </thead>\n",
              "  <tbody>\n",
              "    <tr>\n",
              "      <th>0</th>\n",
              "      <td>廣告</td>\n",
              "      <td>個金_理財專員FA(全省)</td>\n",
              "      <td>中國信託商業銀行股份有限公司</td>\n",
              "      <td>台北市南港區/全省各分行(依公司指派)</td>\n",
              "      <td>34,000</td>\n",
              "      <td>1.提供客戶全方位理財建議與規劃。2.金融商品銷售與諮詢等多樣化金融服務。</td>\n",
              "      <td>台北市南港區</td>\n",
              "      <td>1年以上</td>\n",
              "      <td>專科</td>\n",
              "      <td>員工25000人</td>\n",
              "      <td>2utgw</td>\n",
              "      <td>www.104.com.tw/job/2utgw?jobsource=hotjob_chr</td>\n",
              "    </tr>\n",
              "    <tr>\n",
              "      <th>1</th>\n",
              "      <td>廣告</td>\n",
              "      <td>富邦行銷/富昇保代-電話行銷專員(高雄/台南)</td>\n",
              "      <td>富邦行銷股份有限公司</td>\n",
              "      <td>高雄市新興區民族二路95號20樓</td>\n",
              "      <td>25,000</td>\n",
              "      <td>1.屬全職辦公室內勤、正職人員編制。 2.專責電話線上商品行銷與服務之工作，不出差外訪，無需...</td>\n",
              "      <td>高雄市新興區</td>\n",
              "      <td>經歷不拘</td>\n",
              "      <td>高中</td>\n",
              "      <td>員工400人</td>\n",
              "      <td>56soo</td>\n",
              "      <td>www.104.com.tw/job/56soo?jobsource=hotjob_chr</td>\n",
              "    </tr>\n",
              "    <tr>\n",
              "      <th>2</th>\n",
              "      <td>廣告</td>\n",
              "      <td>市場運營企畫專員（英語）</td>\n",
              "      <td>格睿科技有限公司</td>\n",
              "      <td>台北市中山區植福路308號9樓之6</td>\n",
              "      <td>35,000</td>\n",
              "      <td>1. 從Facebook，Youtube，Twitter，Instagram等社群媒體挖掘本...</td>\n",
              "      <td>台北市中山區</td>\n",
              "      <td>3年以上</td>\n",
              "      <td>大學</td>\n",
              "      <td>員工50人</td>\n",
              "      <td>6y178</td>\n",
              "      <td>www.104.com.tw/job/6y178?jobsource=hotjob_chr</td>\n",
              "    </tr>\n",
              "    <tr>\n",
              "      <th>3</th>\n",
              "      <td>廣告</td>\n",
              "      <td>一般櫃檯暨儲備幹部人員</td>\n",
              "      <td>有限責任彰化第六信用合作社</td>\n",
              "      <td>彰化縣彰化市彰美路一段186號(依公司任用分派各分社營業處))</td>\n",
              "      <td>26,000</td>\n",
              "      <td>1.工作待遇：試用期三個月月薪 26,000元 +午餐費2400元2.考核通過後 月薪 30...</td>\n",
              "      <td>彰化縣彰化市</td>\n",
              "      <td>經歷不拘</td>\n",
              "      <td>專科</td>\n",
              "      <td>員工170人</td>\n",
              "      <td>6xw8s</td>\n",
              "      <td>www.104.com.tw/job/6xw8s?jobsource=hotjob_chr</td>\n",
              "    </tr>\n",
              "    <tr>\n",
              "      <th>4</th>\n",
              "      <td>廣告</td>\n",
              "      <td>會計人員</td>\n",
              "      <td>上海商業儲蓄銀行股份有限公司</td>\n",
              "      <td>台北市中山區</td>\n",
              "      <td>36,300</td>\n",
              "      <td>＊學士：每月薪資(含膳費)NT$36,300</td>\n",
              "      <td>台北市中山區</td>\n",
              "      <td>經歷不拘</td>\n",
              "      <td>大學</td>\n",
              "      <td>員工2300人</td>\n",
              "      <td>5pbpp</td>\n",
              "      <td>www.104.com.tw/job/5pbpp?jobsource=hotjob_chr</td>\n",
              "    </tr>\n",
              "  </tbody>\n",
              "</table>\n",
              "</div>"
            ],
            "text/plain": [
              "   日期  ...                                           工作網址\n",
              "0  廣告  ...  www.104.com.tw/job/2utgw?jobsource=hotjob_chr\n",
              "1  廣告  ...  www.104.com.tw/job/56soo?jobsource=hotjob_chr\n",
              "2  廣告  ...  www.104.com.tw/job/6y178?jobsource=hotjob_chr\n",
              "3  廣告  ...  www.104.com.tw/job/6xw8s?jobsource=hotjob_chr\n",
              "4  廣告  ...  www.104.com.tw/job/5pbpp?jobsource=hotjob_chr\n",
              "\n",
              "[5 rows x 12 columns]"
            ]
          },
          "metadata": {
            "tags": []
          },
          "execution_count": 9
        }
      ]
    },
    {
      "cell_type": "code",
      "metadata": {
        "id": "Ruj8G9sCaKCX",
        "colab_type": "code",
        "outputId": "7dff4c04-20b9-4dc6-ab41-4e71e51644d4",
        "colab": {
          "base_uri": "https://localhost:8080/",
          "height": 34
        }
      },
      "source": [
        "# 檢查有多少筆資料 共3006筆\n",
        "data_104.shape"
      ],
      "execution_count": 10,
      "outputs": [
        {
          "output_type": "execute_result",
          "data": {
            "text/plain": [
              "(2970, 12)"
            ]
          },
          "metadata": {
            "tags": []
          },
          "execution_count": 10
        }
      ]
    },
    {
      "cell_type": "markdown",
      "metadata": {
        "id": "mAE2wPADIJN6",
        "colab_type": "text"
      },
      "source": [
        "## 選擇想要的資料\n",
        "\n",
        "日期、工作名稱、公司地址、薪資、工作內容、地區、經歷、學歷、工作網址\n",
        "依想要的順序排序"
      ]
    },
    {
      "cell_type": "code",
      "metadata": {
        "id": "2EpPMXrHIJN7",
        "colab_type": "code",
        "colab": {}
      },
      "source": [
        "new_data_1111 =  data_1111[['日期', '工作名稱', '薪資', '地區', '工作內容', '公司地址', '經歷', '學歷', '工作網址']]\n",
        "new_data_104 = data_104[['日期', '工作名稱', '薪資', '地區', '工作內容', '公司地址', '經歷', '學歷', '工作網址']]"
      ],
      "execution_count": 0,
      "outputs": []
    },
    {
      "cell_type": "markdown",
      "metadata": {
        "id": "x03ne6xtIJN-",
        "colab_type": "text"
      },
      "source": [
        "## 需要接資料，方便一次過濾資料及處理資料"
      ]
    },
    {
      "cell_type": "code",
      "metadata": {
        "id": "ZgFeN_NwIJN-",
        "colab_type": "code",
        "outputId": "31b6d231-ad6c-41df-f375-34b371a9c07d",
        "colab": {
          "base_uri": "https://localhost:8080/",
          "height": 51
        }
      },
      "source": [
        "#檢查shape \n",
        "print('104：' + str(new_data_104.shape))\n",
        "print('1111：' + str(new_data_1111.shape))\n"
      ],
      "execution_count": 12,
      "outputs": [
        {
          "output_type": "stream",
          "text": [
            "104：(2970, 9)\n",
            "1111：(1825, 9)\n"
          ],
          "name": "stdout"
        }
      ]
    },
    {
      "cell_type": "markdown",
      "metadata": {
        "id": "oLo5IT3zIJOB",
        "colab_type": "text"
      },
      "source": [
        "## 接資料"
      ]
    },
    {
      "cell_type": "code",
      "metadata": {
        "id": "2UeuZbsMIJOC",
        "colab_type": "code",
        "colab": {}
      },
      "source": [
        "concat_104_1111 = pd.concat([new_data_1111, new_data_104], axis=0)"
      ],
      "execution_count": 0,
      "outputs": []
    },
    {
      "cell_type": "code",
      "metadata": {
        "id": "GDCUNALDIJOF",
        "colab_type": "code",
        "outputId": "de21dd8a-4bb6-4805-90f1-a391e15344b0",
        "colab": {
          "base_uri": "https://localhost:8080/",
          "height": 34
        }
      },
      "source": [
        "#row數量\n",
        "concat_104_1111.shape\n"
      ],
      "execution_count": 14,
      "outputs": [
        {
          "output_type": "execute_result",
          "data": {
            "text/plain": [
              "(4795, 9)"
            ]
          },
          "metadata": {
            "tags": []
          },
          "execution_count": 14
        }
      ]
    },
    {
      "cell_type": "markdown",
      "metadata": {
        "id": "ar_zyjntIJOK",
        "colab_type": "text"
      },
      "source": [
        "index重設"
      ]
    },
    {
      "cell_type": "code",
      "metadata": {
        "id": "V7t2VmTLIJOK",
        "colab_type": "code",
        "outputId": "8592b9e7-a941-4073-a7f5-5e1bdca62ede",
        "colab": {
          "base_uri": "https://localhost:8080/",
          "height": 306
        }
      },
      "source": [
        "concat_104_1111.tail() #資料最後面的index 不是4794，需要重新建立index 不包含標題 所以要減去一筆資料 是5815"
      ],
      "execution_count": 16,
      "outputs": [
        {
          "output_type": "execute_result",
          "data": {
            "text/html": [
              "<div>\n",
              "<style scoped>\n",
              "    .dataframe tbody tr th:only-of-type {\n",
              "        vertical-align: middle;\n",
              "    }\n",
              "\n",
              "    .dataframe tbody tr th {\n",
              "        vertical-align: top;\n",
              "    }\n",
              "\n",
              "    .dataframe thead th {\n",
              "        text-align: right;\n",
              "    }\n",
              "</style>\n",
              "<table border=\"1\" class=\"dataframe\">\n",
              "  <thead>\n",
              "    <tr style=\"text-align: right;\">\n",
              "      <th></th>\n",
              "      <th>日期</th>\n",
              "      <th>工作名稱</th>\n",
              "      <th>薪資</th>\n",
              "      <th>地區</th>\n",
              "      <th>工作內容</th>\n",
              "      <th>公司地址</th>\n",
              "      <th>經歷</th>\n",
              "      <th>學歷</th>\n",
              "      <th>工作網址</th>\n",
              "    </tr>\n",
              "  </thead>\n",
              "  <tbody>\n",
              "    <tr>\n",
              "      <th>2965</th>\n",
              "      <td>6/02</td>\n",
              "      <td>[總公司]財務專員</td>\n",
              "      <td>待遇面議</td>\n",
              "      <td>台中市西屯區</td>\n",
              "      <td>1.每月依預定結帳進度完成成本結算作業及定期料工費控制項分析檢核。2.透過生產或管理效率分析...</td>\n",
              "      <td>台中市西屯區工業區一路70號7樓之1(407)</td>\n",
              "      <td>10年以上</td>\n",
              "      <td>大學</td>\n",
              "      <td>www.104.com.tw/job/6aer3?jobsource=2018indexpoc</td>\n",
              "    </tr>\n",
              "    <tr>\n",
              "      <th>2966</th>\n",
              "      <td>5/26</td>\n",
              "      <td>財務會計專員</td>\n",
              "      <td>待遇面議</td>\n",
              "      <td>新竹縣湖口鄉</td>\n",
              "      <td>・各項傳票憑證處理及核對・與海外母公司聯繫(日文或英文)並進行相關帳務管理及審核・製作財務報...</td>\n",
              "      <td>新竹縣湖口鄉新竹工業區光復北路23號</td>\n",
              "      <td>3年以上</td>\n",
              "      <td>專科</td>\n",
              "      <td>www.104.com.tw/job/6rx73?jobsource=2018indexpoc</td>\n",
              "    </tr>\n",
              "    <tr>\n",
              "      <th>2967</th>\n",
              "      <td>5/20</td>\n",
              "      <td>主辦會計人員&amp;一般會計人員</td>\n",
              "      <td>待遇面議</td>\n",
              "      <td>桃園市桃園區</td>\n",
              "      <td>1.建立海外部門會計帳務及報表。2.審核海外部門有關各項費用支付之發票、單據及帳務處理。3....</td>\n",
              "      <td>桃園市桃園區</td>\n",
              "      <td>2年以上</td>\n",
              "      <td>大學</td>\n",
              "      <td>www.104.com.tw/job/2d4yo?jobsource=2018indexpoc</td>\n",
              "    </tr>\n",
              "    <tr>\n",
              "      <th>2968</th>\n",
              "      <td>6/05</td>\n",
              "      <td>記查帳人員(中壢三所)</td>\n",
              "      <td>待遇面議</td>\n",
              "      <td>桃園市八德區</td>\n",
              "      <td>1..依照企業會計準則，從事帳務處理、成本分析工作 2.營業稅、營所稅、各類所得扣繳等日常各...</td>\n",
              "      <td>桃園市八德區廣興二路二號二樓</td>\n",
              "      <td>經歷不拘</td>\n",
              "      <td>專科</td>\n",
              "      <td>www.104.com.tw/job/26604?jobsource=2018indexpoc</td>\n",
              "    </tr>\n",
              "    <tr>\n",
              "      <th>2969</th>\n",
              "      <td>6/03</td>\n",
              "      <td>交易策略研究員</td>\n",
              "      <td>30,000</td>\n",
              "      <td>台北市中正區</td>\n",
              "      <td>主要協助 交易策略研發 Multicharts 策略維護及客服(主要商品為國內外期貨，未來會...</td>\n",
              "      <td>台北市中正區新生南路一段50號2樓之3</td>\n",
              "      <td>經歷不拘</td>\n",
              "      <td>專科</td>\n",
              "      <td>www.104.com.tw/job/62xbv?jobsource=2018indexpoc</td>\n",
              "    </tr>\n",
              "  </tbody>\n",
              "</table>\n",
              "</div>"
            ],
            "text/plain": [
              "        日期           工作名稱  ...  學歷                                             工作網址\n",
              "2965  6/02      [總公司]財務專員  ...  大學  www.104.com.tw/job/6aer3?jobsource=2018indexpoc\n",
              "2966  5/26         財務會計專員  ...  專科  www.104.com.tw/job/6rx73?jobsource=2018indexpoc\n",
              "2967  5/20  主辦會計人員&一般會計人員  ...  大學  www.104.com.tw/job/2d4yo?jobsource=2018indexpoc\n",
              "2968  6/05    記查帳人員(中壢三所)  ...  專科  www.104.com.tw/job/26604?jobsource=2018indexpoc\n",
              "2969  6/03        交易策略研究員  ...  專科  www.104.com.tw/job/62xbv?jobsource=2018indexpoc\n",
              "\n",
              "[5 rows x 9 columns]"
            ]
          },
          "metadata": {
            "tags": []
          },
          "execution_count": 16
        }
      ]
    },
    {
      "cell_type": "code",
      "metadata": {
        "scrolled": true,
        "id": "QVlEPmjbIJOM",
        "colab_type": "code",
        "colab": {}
      },
      "source": [
        "concat_104_1111.reset_index(drop=True, inplace=True) #drop=True 刪除原有index , inplace 直接更新現有的DataFrame"
      ],
      "execution_count": 0,
      "outputs": []
    },
    {
      "cell_type": "code",
      "metadata": {
        "scrolled": true,
        "id": "UT8qwf4SIJOO",
        "colab_type": "code",
        "outputId": "7d207b24-c2a2-44a6-cc8d-66570ed4b989",
        "colab": {
          "base_uri": "https://localhost:8080/",
          "height": 306
        }
      },
      "source": [
        "concat_104_1111.tail()"
      ],
      "execution_count": 18,
      "outputs": [
        {
          "output_type": "execute_result",
          "data": {
            "text/html": [
              "<div>\n",
              "<style scoped>\n",
              "    .dataframe tbody tr th:only-of-type {\n",
              "        vertical-align: middle;\n",
              "    }\n",
              "\n",
              "    .dataframe tbody tr th {\n",
              "        vertical-align: top;\n",
              "    }\n",
              "\n",
              "    .dataframe thead th {\n",
              "        text-align: right;\n",
              "    }\n",
              "</style>\n",
              "<table border=\"1\" class=\"dataframe\">\n",
              "  <thead>\n",
              "    <tr style=\"text-align: right;\">\n",
              "      <th></th>\n",
              "      <th>日期</th>\n",
              "      <th>工作名稱</th>\n",
              "      <th>薪資</th>\n",
              "      <th>地區</th>\n",
              "      <th>工作內容</th>\n",
              "      <th>公司地址</th>\n",
              "      <th>經歷</th>\n",
              "      <th>學歷</th>\n",
              "      <th>工作網址</th>\n",
              "    </tr>\n",
              "  </thead>\n",
              "  <tbody>\n",
              "    <tr>\n",
              "      <th>4790</th>\n",
              "      <td>6/02</td>\n",
              "      <td>[總公司]財務專員</td>\n",
              "      <td>待遇面議</td>\n",
              "      <td>台中市西屯區</td>\n",
              "      <td>1.每月依預定結帳進度完成成本結算作業及定期料工費控制項分析檢核。2.透過生產或管理效率分析...</td>\n",
              "      <td>台中市西屯區工業區一路70號7樓之1(407)</td>\n",
              "      <td>10年以上</td>\n",
              "      <td>大學</td>\n",
              "      <td>www.104.com.tw/job/6aer3?jobsource=2018indexpoc</td>\n",
              "    </tr>\n",
              "    <tr>\n",
              "      <th>4791</th>\n",
              "      <td>5/26</td>\n",
              "      <td>財務會計專員</td>\n",
              "      <td>待遇面議</td>\n",
              "      <td>新竹縣湖口鄉</td>\n",
              "      <td>・各項傳票憑證處理及核對・與海外母公司聯繫(日文或英文)並進行相關帳務管理及審核・製作財務報...</td>\n",
              "      <td>新竹縣湖口鄉新竹工業區光復北路23號</td>\n",
              "      <td>3年以上</td>\n",
              "      <td>專科</td>\n",
              "      <td>www.104.com.tw/job/6rx73?jobsource=2018indexpoc</td>\n",
              "    </tr>\n",
              "    <tr>\n",
              "      <th>4792</th>\n",
              "      <td>5/20</td>\n",
              "      <td>主辦會計人員&amp;一般會計人員</td>\n",
              "      <td>待遇面議</td>\n",
              "      <td>桃園市桃園區</td>\n",
              "      <td>1.建立海外部門會計帳務及報表。2.審核海外部門有關各項費用支付之發票、單據及帳務處理。3....</td>\n",
              "      <td>桃園市桃園區</td>\n",
              "      <td>2年以上</td>\n",
              "      <td>大學</td>\n",
              "      <td>www.104.com.tw/job/2d4yo?jobsource=2018indexpoc</td>\n",
              "    </tr>\n",
              "    <tr>\n",
              "      <th>4793</th>\n",
              "      <td>6/05</td>\n",
              "      <td>記查帳人員(中壢三所)</td>\n",
              "      <td>待遇面議</td>\n",
              "      <td>桃園市八德區</td>\n",
              "      <td>1..依照企業會計準則，從事帳務處理、成本分析工作 2.營業稅、營所稅、各類所得扣繳等日常各...</td>\n",
              "      <td>桃園市八德區廣興二路二號二樓</td>\n",
              "      <td>經歷不拘</td>\n",
              "      <td>專科</td>\n",
              "      <td>www.104.com.tw/job/26604?jobsource=2018indexpoc</td>\n",
              "    </tr>\n",
              "    <tr>\n",
              "      <th>4794</th>\n",
              "      <td>6/03</td>\n",
              "      <td>交易策略研究員</td>\n",
              "      <td>30,000</td>\n",
              "      <td>台北市中正區</td>\n",
              "      <td>主要協助 交易策略研發 Multicharts 策略維護及客服(主要商品為國內外期貨，未來會...</td>\n",
              "      <td>台北市中正區新生南路一段50號2樓之3</td>\n",
              "      <td>經歷不拘</td>\n",
              "      <td>專科</td>\n",
              "      <td>www.104.com.tw/job/62xbv?jobsource=2018indexpoc</td>\n",
              "    </tr>\n",
              "  </tbody>\n",
              "</table>\n",
              "</div>"
            ],
            "text/plain": [
              "        日期           工作名稱  ...  學歷                                             工作網址\n",
              "4790  6/02      [總公司]財務專員  ...  大學  www.104.com.tw/job/6aer3?jobsource=2018indexpoc\n",
              "4791  5/26         財務會計專員  ...  專科  www.104.com.tw/job/6rx73?jobsource=2018indexpoc\n",
              "4792  5/20  主辦會計人員&一般會計人員  ...  大學  www.104.com.tw/job/2d4yo?jobsource=2018indexpoc\n",
              "4793  6/05    記查帳人員(中壢三所)  ...  專科  www.104.com.tw/job/26604?jobsource=2018indexpoc\n",
              "4794  6/03        交易策略研究員  ...  專科  www.104.com.tw/job/62xbv?jobsource=2018indexpoc\n",
              "\n",
              "[5 rows x 9 columns]"
            ]
          },
          "metadata": {
            "tags": []
          },
          "execution_count": 18
        }
      ]
    },
    {
      "cell_type": "markdown",
      "metadata": {
        "id": "swYOwDrEIJOR",
        "colab_type": "text"
      },
      "source": [
        "## 清理資料\n",
        "\n",
        "清理 薪資的資料：\n",
        "    1. 將 待遇面議 轉換成 0\n",
        "    2. 將 面議（經常性薪資4萬/月含以上）轉成 40000\n",
        "    3. 將 時薪 例如：150~200 轉成只取最低時薪 150\n",
        "    4. 移除數字中的, 例如\"30,000\"將,移除"
      ]
    },
    {
      "cell_type": "code",
      "metadata": {
        "id": "xP-08VfzIJOR",
        "colab_type": "code",
        "colab": {}
      },
      "source": [
        "#將四萬改成0  但是也可以改成40,000\n",
        "concat_104_1111['薪資'] = concat_104_1111.薪資.str.replace('面議（經常性薪資4萬/月含以上）', '40000')\n",
        "\n",
        "#將待遇面議改成0\n",
        "concat_104_1111['薪資'] = concat_104_1111.薪資.str.replace('待遇面議', '0')\n",
        "\n",
        "#時薪 取最低時薪\n",
        "concat_104_1111.loc[concat_104_1111.薪資.str.contains('~'),'薪資'] = concat_104_1111.loc[concat_104_1111.薪資.str.contains('~'),'薪資'].str.split('~').str[0]\n",
        "\n",
        "#數字有\"30,000\"將,移除\n",
        "concat_104_1111.loc[:,'薪資'] = concat_104_1111['薪資'].apply(lambda x:x.replace(',','')) \n",
        "\n",
        "# 薪資轉成int type\n",
        "# concat_104_1111.loc[:,'薪資'] = concat_104_1111['薪資'].astype(int)\n",
        "concat_104_1111.loc[:,'薪資'] = pd.to_numeric(concat_104_1111['薪資'])"
      ],
      "execution_count": 0,
      "outputs": []
    },
    {
      "cell_type": "code",
      "metadata": {
        "id": "QF4jIzeOIJOT",
        "colab_type": "code",
        "outputId": "69982e61-1b08-4fdd-c047-485d50462f8f",
        "colab": {
          "base_uri": "https://localhost:8080/",
          "height": 187
        }
      },
      "source": [
        "#薪資 已轉成 int64\n",
        "concat_104_1111.dtypes"
      ],
      "execution_count": 21,
      "outputs": [
        {
          "output_type": "execute_result",
          "data": {
            "text/plain": [
              "日期      object\n",
              "工作名稱    object\n",
              "薪資       int64\n",
              "地區      object\n",
              "工作內容    object\n",
              "公司地址    object\n",
              "經歷      object\n",
              "學歷      object\n",
              "工作網址    object\n",
              "dtype: object"
            ]
          },
          "metadata": {
            "tags": []
          },
          "execution_count": 21
        }
      ]
    },
    {
      "cell_type": "markdown",
      "metadata": {
        "id": "3AK3RmxQIJOW",
        "colab_type": "text"
      },
      "source": [
        "## 過濾\n",
        "\n",
        "找想要的工作\n",
        "\n",
        "過濾方法：可以參考這篇 https://ithelp.ithome.com.tw/articles/10194003"
      ]
    },
    {
      "cell_type": "code",
      "metadata": {
        "scrolled": true,
        "id": "VAdKbsnHIJOX",
        "colab_type": "code",
        "outputId": "f6125ad7-8632-4d46-c912-2748538732de",
        "colab": {
          "base_uri": "https://localhost:8080/",
          "height": 1000
        }
      },
      "source": [
        "#1萬至3萬之間、地區：台北市 這種過濾方法會寫越寫長\n",
        "#concat_104_1111.loc[concat_104_1111.薪資 > 10000].loc[concat_104_1111.薪資 < 30000].loc[concat_104_1111.地區.str.contains('台北市')]\n",
        "\n",
        "\n",
        "#4萬以上 找雙北 關鍵字：分析\n",
        "mask1 = concat_104_1111.薪資 >= 40000\n",
        "mask2 = concat_104_1111.地區.str.contains('台北市')\n",
        "mask3 = concat_104_1111.地區.str.contains('新北市')\n",
        "mask4 = concat_104_1111.工作名稱.str.contains('分析')\n",
        "#mask5 =  \n",
        "\n",
        "#搜尋 3萬以上 工作名稱有\"證卷\"關鍵字、區域 台北市 新北市\n",
        "# & = and , | = or   \n",
        "concat_104_1111.loc[(mask1 & mask2 & mask4) | (mask1 & mask3 & mask4)]\n"
      ],
      "execution_count": 26,
      "outputs": [
        {
          "output_type": "execute_result",
          "data": {
            "text/html": [
              "<div>\n",
              "<style scoped>\n",
              "    .dataframe tbody tr th:only-of-type {\n",
              "        vertical-align: middle;\n",
              "    }\n",
              "\n",
              "    .dataframe tbody tr th {\n",
              "        vertical-align: top;\n",
              "    }\n",
              "\n",
              "    .dataframe thead th {\n",
              "        text-align: right;\n",
              "    }\n",
              "</style>\n",
              "<table border=\"1\" class=\"dataframe\">\n",
              "  <thead>\n",
              "    <tr style=\"text-align: right;\">\n",
              "      <th></th>\n",
              "      <th>日期</th>\n",
              "      <th>工作名稱</th>\n",
              "      <th>薪資</th>\n",
              "      <th>地區</th>\n",
              "      <th>工作內容</th>\n",
              "      <th>公司地址</th>\n",
              "      <th>經歷</th>\n",
              "      <th>學歷</th>\n",
              "      <th>工作網址</th>\n",
              "    </tr>\n",
              "  </thead>\n",
              "  <tbody>\n",
              "    <tr>\n",
              "      <th>73</th>\n",
              "      <td>2020-06-04</td>\n",
              "      <td>科技金融_私人銀行系統分析師</td>\n",
              "      <td>40000</td>\n",
              "      <td>台北市南港區</td>\n",
              "      <td>1. 需求分析、系統設計及系統文件撰寫。2. 新系統專案建置。3. 系統開發維運及問題排除。</td>\n",
              "      <td>台北市南港區經貿二路</td>\n",
              "      <td>3年工作經驗以上</td>\n",
              "      <td>大學,碩士,博士</td>\n",
              "      <td>https://www.1111.com.tw/job/91510390/</td>\n",
              "    </tr>\n",
              "    <tr>\n",
              "      <th>153</th>\n",
              "      <td>2020-06-03</td>\n",
              "      <td>B-電子金融處-數位金融數據分析人員</td>\n",
              "      <td>40000</td>\n",
              "      <td>台北市中山區</td>\n",
              "      <td>1. 針對數位金融客群及產品進行數據分析、洞察報告撰寫及應用規劃。2. 產出動態視覺化分析報...</td>\n",
              "      <td>台北市中山區八德路</td>\n",
              "      <td>2年工作經驗以上</td>\n",
              "      <td>大學,碩士,博士</td>\n",
              "      <td>https://www.1111.com.tw/job/91127864/</td>\n",
              "    </tr>\n",
              "    <tr>\n",
              "      <th>187</th>\n",
              "      <td>2020-06-01</td>\n",
              "      <td>AML Analyst_反洗錢金融案件調查分析師</td>\n",
              "      <td>40000</td>\n",
              "      <td>台北市中山區</td>\n",
              "      <td>1. 依據本行標準作業規範，分析並調查疑似洗錢金融案件。2. 透過花旗內部資訊系統和全球網路...</td>\n",
              "      <td>台北市信義區松智路</td>\n",
              "      <td>1年工作經驗以上</td>\n",
              "      <td>大學,碩士</td>\n",
              "      <td>https://www.1111.com.tw/job/77037362/</td>\n",
              "    </tr>\n",
              "    <tr>\n",
              "      <th>317</th>\n",
              "      <td>2020-06-01</td>\n",
              "      <td>科技金融_數位金融系統分析師/企業架構師</td>\n",
              "      <td>40000</td>\n",
              "      <td>台北市南港區</td>\n",
              "      <td>1.規劃與Fintech 業者及區塊鏈企業等創新應用串接營運之應用系統架構2.專案需求分析、...</td>\n",
              "      <td>台北市南港區經貿二路</td>\n",
              "      <td>4年工作經驗以上</td>\n",
              "      <td>大學,碩士</td>\n",
              "      <td>https://www.1111.com.tw/job/91446058/</td>\n",
              "    </tr>\n",
              "    <tr>\n",
              "      <th>330</th>\n",
              "      <td>2020-05-10</td>\n",
              "      <td>金融系統分析師(COBOL)</td>\n",
              "      <td>40000</td>\n",
              "      <td>台北市中山區</td>\n",
              "      <td>1.銀行核心系統開發設計與維護2.金融相關產品應用軟體系統專案開發設計與維護要求條件 ● 數...</td>\n",
              "      <td>台北市中山區南京東路</td>\n",
              "      <td>3年工作經驗以上</td>\n",
              "      <td>大學,碩士</td>\n",
              "      <td>https://www.1111.com.tw/job/91487240/</td>\n",
              "    </tr>\n",
              "    <tr>\n",
              "      <th>336</th>\n",
              "      <td>2020-06-02</td>\n",
              "      <td>SA 系統分析師(證券、金融)</td>\n",
              "      <td>40000</td>\n",
              "      <td>台北市大同區</td>\n",
              "      <td>1. 熟悉 Java SE/ Java EE程式設計與開發2. 具證券或金融專案經歷者佳3....</td>\n",
              "      <td>台北市大同區承德路</td>\n",
              "      <td>5年工作經驗以上</td>\n",
              "      <td>專科,大學,碩士</td>\n",
              "      <td>https://www.1111.com.tw/job/91238580/</td>\n",
              "    </tr>\n",
              "    <tr>\n",
              "      <th>355</th>\n",
              "      <td>2020-06-01</td>\n",
              "      <td>科技金融_系統分析師(法金)</td>\n",
              "      <td>40000</td>\n",
              "      <td>台北市南港區</td>\n",
              "      <td>1.業務分析與系統設計。2.配合業務需求進行專案管理。3.新業務或系統操作教育訓練,上線後之...</td>\n",
              "      <td>台北市南港區經貿二路</td>\n",
              "      <td>經驗不拘</td>\n",
              "      <td>大學,碩士,博士</td>\n",
              "      <td>https://www.1111.com.tw/job/91431869/</td>\n",
              "    </tr>\n",
              "    <tr>\n",
              "      <th>379</th>\n",
              "      <td>2020-06-01</td>\n",
              "      <td>科技金融_IT系統分析師</td>\n",
              "      <td>40000</td>\n",
              "      <td>台北市南港區</td>\n",
              "      <td>1. 系統分析及架構規劃2. 系統上線維運*************************...</td>\n",
              "      <td>台北市南港區經貿二路</td>\n",
              "      <td>3年工作經驗以上</td>\n",
              "      <td>大學,碩士,博士</td>\n",
              "      <td>https://www.1111.com.tw/job/91303894/</td>\n",
              "    </tr>\n",
              "    <tr>\n",
              "      <th>392</th>\n",
              "      <td>2020-06-06</td>\n",
              "      <td>金融資料分析師(Financial Data Analyst)</td>\n",
              "      <td>40000</td>\n",
              "      <td>台北市信義區</td>\n",
              "      <td>1.蒐集、整理並分析金融市場資料(包含原物料、外匯、股市與債市)，從中尋找交易機會。2.從網...</td>\n",
              "      <td>台北市信義區松仁路</td>\n",
              "      <td>2年工作經驗以上</td>\n",
              "      <td>碩士</td>\n",
              "      <td>https://www.1111.com.tw/job/91265139/</td>\n",
              "    </tr>\n",
              "    <tr>\n",
              "      <th>397</th>\n",
              "      <td>2020-06-01</td>\n",
              "      <td>科技金融_系統分析師(digital banking)</td>\n",
              "      <td>40000</td>\n",
              "      <td>台北市南港區</td>\n",
              "      <td>1.法金海內外電子通路(網路銀行、行動平台)業務分析與系統設計。2.配合業務需求進行專案管理...</td>\n",
              "      <td>台北市南港區經貿二路</td>\n",
              "      <td>3年工作經驗以上</td>\n",
              "      <td>大學,碩士,博士</td>\n",
              "      <td>https://www.1111.com.tw/job/91415951/</td>\n",
              "    </tr>\n",
              "    <tr>\n",
              "      <th>400</th>\n",
              "      <td>2020-06-07</td>\n",
              "      <td>金融數據分析人員Data Analysis</td>\n",
              "      <td>40000</td>\n",
              "      <td>台北市松山區</td>\n",
              "      <td>1、採集⾦融相關數據，維護數據採集軟件。2、抽取數據，準備數據報表。3、設計數據模型，分析預...</td>\n",
              "      <td>台北市松山區南京東路</td>\n",
              "      <td>經驗不拘</td>\n",
              "      <td>大學,碩士,博士</td>\n",
              "      <td>https://www.1111.com.tw/job/91469391/</td>\n",
              "    </tr>\n",
              "    <tr>\n",
              "      <th>462</th>\n",
              "      <td>2020-06-01</td>\n",
              "      <td>科技金融_財務人事系統分析師</td>\n",
              "      <td>40000</td>\n",
              "      <td>台北市南港區</td>\n",
              "      <td>1、財務人事相關系統專案需求分析規劃與開發2、財務人事相關系統維運與流程改善要求條件 ● 資...</td>\n",
              "      <td>台北市南港區經貿二路</td>\n",
              "      <td>3年工作經驗以上</td>\n",
              "      <td>大學,碩士</td>\n",
              "      <td>https://www.1111.com.tw/job/91417861/</td>\n",
              "    </tr>\n",
              "    <tr>\n",
              "      <th>482</th>\n",
              "      <td>2020-05-10</td>\n",
              "      <td>資深系統分析師(金融產業客戶)</td>\n",
              "      <td>40000</td>\n",
              "      <td>台北市中山區</td>\n",
              "      <td>1. 規劃金融新方案並協助取得案件2. 規劃手持裝置的金融方案並協助培育人材3. 參與生物辨...</td>\n",
              "      <td>台北市中山區南京東路</td>\n",
              "      <td>5年工作經驗以上</td>\n",
              "      <td>專科,大學,碩士,博士</td>\n",
              "      <td>https://www.1111.com.tw/job/91487309/</td>\n",
              "    </tr>\n",
              "    <tr>\n",
              "      <th>668</th>\n",
              "      <td>2020-06-01</td>\n",
              "      <td>B-大數據分析人員</td>\n",
              "      <td>40000</td>\n",
              "      <td>台北市中山區</td>\n",
              "      <td>1.擷取內外部非結構化資料，進行日誌(Log)分析，提供決策支援2.數據平台整合設計，將各業...</td>\n",
              "      <td>台北市中山區八德路</td>\n",
              "      <td>經驗不拘</td>\n",
              "      <td>大學,碩士,博士</td>\n",
              "      <td>https://www.1111.com.tw/job/91499874/</td>\n",
              "    </tr>\n",
              "    <tr>\n",
              "      <th>687</th>\n",
              "      <td>2020-06-01</td>\n",
              "      <td>Customer Due Diligence &amp;Request Further Inform...</td>\n",
              "      <td>40000</td>\n",
              "      <td>台北市中山區</td>\n",
              "      <td>1. Conduct annual CDD(Customer Due Diligence) ...</td>\n",
              "      <td>台北市信義區松智路</td>\n",
              "      <td>3年工作經驗以上</td>\n",
              "      <td>大學,碩士</td>\n",
              "      <td>https://www.1111.com.tw/job/91503814/</td>\n",
              "    </tr>\n",
              "    <tr>\n",
              "      <th>688</th>\n",
              "      <td>2020-06-01</td>\n",
              "      <td>Customer Due Diligent Analyst_專案分析師 (Consumer ...</td>\n",
              "      <td>40000</td>\n",
              "      <td>台北市中山區</td>\n",
              "      <td>1. 針對高風險客戶的相關資料蒐集，並依據花旗銀行內部作業準則完成客戶實質審查作業。2. 依...</td>\n",
              "      <td>台北市信義區松智路</td>\n",
              "      <td>3年工作經驗以上</td>\n",
              "      <td>大學,碩士</td>\n",
              "      <td>https://www.1111.com.tw/job/91503809/</td>\n",
              "    </tr>\n",
              "    <tr>\n",
              "      <th>908</th>\n",
              "      <td>2020-06-03</td>\n",
              "      <td>投資_國際科分析師</td>\n",
              "      <td>40000</td>\n",
              "      <td>台北市南港區</td>\n",
              "      <td>1、美國總體經濟分析2、維護資料庫、經濟模型3、報告出版4、經濟分析簡報要求條件 ● 經濟學...</td>\n",
              "      <td>台北市南港區經貿二路</td>\n",
              "      <td>經驗不拘</td>\n",
              "      <td>碩士</td>\n",
              "      <td>https://www.1111.com.tw/job/85144062/</td>\n",
              "    </tr>\n",
              "    <tr>\n",
              "      <th>917</th>\n",
              "      <td>2020-06-01</td>\n",
              "      <td>行政_財務分析人員(國際財務管理)</td>\n",
              "      <td>40000</td>\n",
              "      <td>台北市南港區</td>\n",
              "      <td>1.海外單位相關產品成本收入分析及預算編列2.海外單位內部財務相關表報編制3.海外單位經營績...</td>\n",
              "      <td>台北市南港區經貿二路</td>\n",
              "      <td>1年工作經驗以上</td>\n",
              "      <td>大學,碩士</td>\n",
              "      <td>https://www.1111.com.tw/job/79795949/</td>\n",
              "    </tr>\n",
              "    <tr>\n",
              "      <th>1221</th>\n",
              "      <td>2020-06-07</td>\n",
              "      <td>財務分析專員/資深專員(內湖)</td>\n",
              "      <td>40000</td>\n",
              "      <td>台北市內湖區</td>\n",
              "      <td>1.建立、解讀與管理財務資訊2.編列與管理財務預算3.參與流程強化與專案以優化資源配置管理要...</td>\n",
              "      <td>台北市內湖區瑞光路</td>\n",
              "      <td>1年工作經驗以上</td>\n",
              "      <td>大學,碩士,博士</td>\n",
              "      <td>https://www.1111.com.tw/job/91418093/</td>\n",
              "    </tr>\n",
              "    <tr>\n",
              "      <th>1230</th>\n",
              "      <td>2020-06-07</td>\n",
              "      <td>財務分析專員/資深專員(內湖)</td>\n",
              "      <td>40000</td>\n",
              "      <td>台北市內湖區</td>\n",
              "      <td>1.建立、解讀與管理財務資訊2.編列與管理財務預算3.參與流程強化與專案以優化資源配置管理要...</td>\n",
              "      <td>台北市內湖區瑞光路</td>\n",
              "      <td>1年工作經驗以上</td>\n",
              "      <td>大學,碩士,博士</td>\n",
              "      <td>https://www.1111.com.tw/job/91418093/</td>\n",
              "    </tr>\n",
              "    <tr>\n",
              "      <th>1371</th>\n",
              "      <td>2020-06-02</td>\n",
              "      <td>.NET 系統分析師-F22R</td>\n",
              "      <td>40000</td>\n",
              "      <td>台北市內湖區</td>\n",
              "      <td>「F22R-數位金融整合服務處」為大型專業金融交易系統整合與開發技術團隊，擁有完整金融交易系...</td>\n",
              "      <td>台北市內湖區瑞光路</td>\n",
              "      <td>3年工作經驗以上</td>\n",
              "      <td>專科,大學,碩士,博士</td>\n",
              "      <td>https://www.1111.com.tw/job/91497614/</td>\n",
              "    </tr>\n",
              "    <tr>\n",
              "      <th>1399</th>\n",
              "      <td>2020-06-02</td>\n",
              "      <td>Java 系統分析師-F22R</td>\n",
              "      <td>40000</td>\n",
              "      <td>台北市中山區</td>\n",
              "      <td>「F22R-數位金融整合服務處」為大型專業金融交易系統整合與開發技術團隊，擁有協助金融客戶數...</td>\n",
              "      <td>台北市內湖區瑞光路</td>\n",
              "      <td>3年工作經驗以上</td>\n",
              "      <td>專科,大學,碩士,博士</td>\n",
              "      <td>https://www.1111.com.tw/job/91497101/</td>\n",
              "    </tr>\n",
              "    <tr>\n",
              "      <th>1429</th>\n",
              "      <td>2020-06-07</td>\n",
              "      <td>證期分析師</td>\n",
              "      <td>40000</td>\n",
              "      <td>台北市中山區</td>\n",
              "      <td>1.挑戰高薪.具備熱忱及企圖心2.須具備證券分析師或期貨分析師證照3.具備網路行銷或直播分析...</td>\n",
              "      <td>台北市中山區中山北路</td>\n",
              "      <td>3年工作經驗以上</td>\n",
              "      <td>大學,碩士,博士</td>\n",
              "      <td>https://www.1111.com.tw/job/85053143/</td>\n",
              "    </tr>\n",
              "    <tr>\n",
              "      <th>1436</th>\n",
              "      <td>2020-06-05</td>\n",
              "      <td>營運管理類 - 策略與市場分析師 Strategic Marketing and Plann...</td>\n",
              "      <td>40000</td>\n",
              "      <td>台北市信義區</td>\n",
              "      <td>We are looking for experienced professionals t...</td>\n",
              "      <td>高雄市楠梓區加工區經三路</td>\n",
              "      <td>2年工作經驗以上</td>\n",
              "      <td>大學,碩士</td>\n",
              "      <td>https://www.1111.com.tw/job/85943279/</td>\n",
              "    </tr>\n",
              "    <tr>\n",
              "      <th>1449</th>\n",
              "      <td>2020-06-07</td>\n",
              "      <td>證期分析師</td>\n",
              "      <td>40000</td>\n",
              "      <td>台北市中山區</td>\n",
              "      <td>1.挑戰高薪.具備熱忱及企圖心2.須具備證券分析師或期貨分析師證照3.具備網路行銷或直播分析...</td>\n",
              "      <td>台北市中山區中山北路</td>\n",
              "      <td>3年工作經驗以上</td>\n",
              "      <td>大學,碩士,博士</td>\n",
              "      <td>https://www.1111.com.tw/job/85053143/</td>\n",
              "    </tr>\n",
              "    <tr>\n",
              "      <th>1453</th>\n",
              "      <td>2020-06-05</td>\n",
              "      <td>營運管理類 - 策略與市場分析師 Strategic Marketing and Plann...</td>\n",
              "      <td>40000</td>\n",
              "      <td>台北市信義區</td>\n",
              "      <td>We are looking for experienced professionals t...</td>\n",
              "      <td>高雄市楠梓區加工區經三路</td>\n",
              "      <td>2年工作經驗以上</td>\n",
              "      <td>大學,碩士</td>\n",
              "      <td>https://www.1111.com.tw/job/85943279/</td>\n",
              "    </tr>\n",
              "    <tr>\n",
              "      <th>1464</th>\n",
              "      <td>2020-06-07</td>\n",
              "      <td>網路分析師</td>\n",
              "      <td>40000</td>\n",
              "      <td>台北市中山區</td>\n",
              "      <td>1.具備證券或期貨分析師執照2.具券商研究部經驗更佳3.網路分享有獨到見解 4.具撰寫投資文...</td>\n",
              "      <td>台北市中山區中山北路</td>\n",
              "      <td>經驗不拘</td>\n",
              "      <td>大學,碩士,博士</td>\n",
              "      <td>https://www.1111.com.tw/job/85053139/</td>\n",
              "    </tr>\n",
              "    <tr>\n",
              "      <th>1501</th>\n",
              "      <td>2020-06-01</td>\n",
              "      <td>分析師</td>\n",
              "      <td>42500</td>\n",
              "      <td>台北市松山區</td>\n",
              "      <td>崗位職責1、負責把握虛擬幣市場趨勢，分析大盤行情；把握國內外宏觀經濟動向和行業發展動態，收集...</td>\n",
              "      <td>暫不提供地址</td>\n",
              "      <td>經驗不拘</td>\n",
              "      <td>大學</td>\n",
              "      <td>https://www.1111.com.tw/job/91468396/</td>\n",
              "    </tr>\n",
              "    <tr>\n",
              "      <th>1512</th>\n",
              "      <td>2020-06-01</td>\n",
              "      <td>分析師</td>\n",
              "      <td>42500</td>\n",
              "      <td>台北市松山區</td>\n",
              "      <td>崗位職責1、負責把握虛擬幣市場趨勢，分析大盤行情；把握國內外宏觀經濟動向和行業發展動態，收集...</td>\n",
              "      <td>暫不提供地址</td>\n",
              "      <td>經驗不拘</td>\n",
              "      <td>大學</td>\n",
              "      <td>https://www.1111.com.tw/job/91468396/</td>\n",
              "    </tr>\n",
              "    <tr>\n",
              "      <th>1611</th>\n",
              "      <td>2020-06-05</td>\n",
              "      <td>BU2 - 系統分析師</td>\n",
              "      <td>40000</td>\n",
              "      <td>台北市內湖區</td>\n",
              "      <td>主要產品為金融及基金交易之資訊系統；對於金融領域有經驗或興趣尤佳;本工作主要內容為客戶訪談、...</td>\n",
              "      <td>中菲, 中菲電腦, ddsc</td>\n",
              "      <td>4年工作經驗以上</td>\n",
              "      <td>專科,大學,碩士,博士</td>\n",
              "      <td>https://www.1111.com.tw/job/77204102/</td>\n",
              "    </tr>\n",
              "    <tr>\n",
              "      <th>1637</th>\n",
              "      <td>2020-06-01</td>\n",
              "      <td>【資訊】需求分析/專案管理人員 ( RM / PM )</td>\n",
              "      <td>40000</td>\n",
              "      <td>台北市松山區</td>\n",
              "      <td>若您具備相關專案管理經驗且勇於展現您的專才，並樂於專案溝通及協調，歡迎加入我們金融科技策略核...</td>\n",
              "      <td>群益金鼎證券</td>\n",
              "      <td>3年工作經驗以上</td>\n",
              "      <td>專科,大學,碩士,博士</td>\n",
              "      <td>https://www.1111.com.tw/job/91113327/</td>\n",
              "    </tr>\n",
              "    <tr>\n",
              "      <th>1649</th>\n",
              "      <td>2020-06-01</td>\n",
              "      <td>【資訊】需求分析/專案管理人員 ( RM / PM )</td>\n",
              "      <td>40000</td>\n",
              "      <td>台北市松山區</td>\n",
              "      <td>若您具備相關專案管理經驗且勇於展現您的專才，並樂於專案溝通及協調，歡迎加入我們金融科技策略核...</td>\n",
              "      <td>群益金鼎證券</td>\n",
              "      <td>3年工作經驗以上</td>\n",
              "      <td>專科,大學,碩士,博士</td>\n",
              "      <td>https://www.1111.com.tw/job/91113327/</td>\n",
              "    </tr>\n",
              "    <tr>\n",
              "      <th>1659</th>\n",
              "      <td>2020-06-01</td>\n",
              "      <td>【MIC STAR PROGRAM】 儲備分析師</td>\n",
              "      <td>40000</td>\n",
              "      <td>台北市大安區</td>\n",
              "      <td>1.跨領域產業分析研究(如：AI、大數據、電子商務、金融科技、智慧城市、物聯網、AR/VR/...</td>\n",
              "      <td>台北市大安區和平東路</td>\n",
              "      <td>經驗不拘</td>\n",
              "      <td>碩士,博士</td>\n",
              "      <td>https://www.1111.com.tw/job/91284666/</td>\n",
              "    </tr>\n",
              "    <tr>\n",
              "      <th>1668</th>\n",
              "      <td>2020-06-01</td>\n",
              "      <td>【MIC STAR PROGRAM】 儲備分析師</td>\n",
              "      <td>40000</td>\n",
              "      <td>台北市大安區</td>\n",
              "      <td>1.跨領域產業分析研究(如：AI、大數據、電子商務、金融科技、智慧城市、物聯網、AR/VR/...</td>\n",
              "      <td>台北市大安區和平東路</td>\n",
              "      <td>經驗不拘</td>\n",
              "      <td>碩士,博士</td>\n",
              "      <td>https://www.1111.com.tw/job/91284666/</td>\n",
              "    </tr>\n",
              "    <tr>\n",
              "      <th>1721</th>\n",
              "      <td>2020-06-01</td>\n",
              "      <td>【資訊】大數據分析人員</td>\n",
              "      <td>40000</td>\n",
              "      <td>台北市松山區</td>\n",
              "      <td>若您對大數據分析與運用有高度興趣，且具備顧客經營/行銷策略規劃能力，歡迎加入我們，成為金融F...</td>\n",
              "      <td>群益金鼎證券</td>\n",
              "      <td>2年工作經驗以上</td>\n",
              "      <td>專科,大學,碩士,博士</td>\n",
              "      <td>https://www.1111.com.tw/job/85925921/</td>\n",
              "    </tr>\n",
              "    <tr>\n",
              "      <th>1976</th>\n",
              "      <td>6/04</td>\n",
              "      <td>資深數據分析人員(數位金融部)</td>\n",
              "      <td>60000</td>\n",
              "      <td>台北市中正區</td>\n",
              "      <td>1.資料建置、清理與管理及資料可視化2.使用者行為分析、解釋與預測，並撰寫分析報告(如投資行...</td>\n",
              "      <td>台北市中正區重慶南路一段2號19樓</td>\n",
              "      <td>2年以上</td>\n",
              "      <td>大學</td>\n",
              "      <td>www.104.com.tw/job/6wuqx?jobsource=2018indexpoc</td>\n",
              "    </tr>\n",
              "    <tr>\n",
              "      <th>2036</th>\n",
              "      <td>5/26</td>\n",
              "      <td>系統分析師(金融創新部)</td>\n",
              "      <td>50000</td>\n",
              "      <td>台北市內湖區</td>\n",
              "      <td>【寶碩財務科技－金融創新部簡介】2015年世界經濟論壇(WEF)針對未來的金融服務發展提供了...</td>\n",
              "      <td>台北市內湖區新湖二路329號5樓</td>\n",
              "      <td>3年以上</td>\n",
              "      <td>大學</td>\n",
              "      <td>www.104.com.tw/job/6jny3?jobsource=jolist_c_re...</td>\n",
              "    </tr>\n",
              "    <tr>\n",
              "      <th>2377</th>\n",
              "      <td>6/02</td>\n",
              "      <td>金融交易業務 IT系統分析師</td>\n",
              "      <td>70000</td>\n",
              "      <td>台北市南港區</td>\n",
              "      <td>1.金融交易(Treasury)系統業務分析及需求規格開立2.系統整合測試3.跨部門整合及溝...</td>\n",
              "      <td>台北市南港區</td>\n",
              "      <td>經歷不拘</td>\n",
              "      <td>大學</td>\n",
              "      <td>www.104.com.tw/job/6y2hk?jobsource=2018indexpoc</td>\n",
              "    </tr>\n",
              "    <tr>\n",
              "      <th>3260</th>\n",
              "      <td>6/05</td>\n",
              "      <td>證券分析師</td>\n",
              "      <td>360000</td>\n",
              "      <td>台北市大安區</td>\n",
              "      <td>摩爾證券投顧是合法的金融機構而且擁有市場上許多超人氣的分析師平均薪資是超乎你的想像!只要你對...</td>\n",
              "      <td>台北市大安區仁愛路三段29號5樓之1</td>\n",
              "      <td>經歷不拘</td>\n",
              "      <td>高中</td>\n",
              "      <td>www.104.com.tw/job/6rvbg?jobsource=2018indexpoc</td>\n",
              "    </tr>\n",
              "    <tr>\n",
              "      <th>4048</th>\n",
              "      <td>6/04</td>\n",
              "      <td>數據庫開發與自動化分析人員</td>\n",
              "      <td>40000</td>\n",
              "      <td>台北市松山區</td>\n",
              "      <td>1、採集⾦融相關數據，維護數據採集軟件。 2、維護系統與建立SQL數據庫。3、透過R 、 P...</td>\n",
              "      <td>台北市松山區南京東路五段</td>\n",
              "      <td>經歷不拘</td>\n",
              "      <td>大學</td>\n",
              "      <td>www.104.com.tw/job/6xyuf?jobsource=jolist_c_re...</td>\n",
              "    </tr>\n",
              "    <tr>\n",
              "      <th>4073</th>\n",
              "      <td>5/13</td>\n",
              "      <td>軟體專案工程師(系統分析)</td>\n",
              "      <td>40000</td>\n",
              "      <td>台北市內湖區</td>\n",
              "      <td>本公司之軟體專案工程師(系統分析)需擁具備軟體系統分析規劃能力，進行內部與外部專案規劃與執行...</td>\n",
              "      <td>台北市內湖區洲子街79號7樓</td>\n",
              "      <td>1年以上</td>\n",
              "      <td>專科</td>\n",
              "      <td>www.104.com.tw/job/6w63m?jobsource=2018indexpoc</td>\n",
              "    </tr>\n",
              "  </tbody>\n",
              "</table>\n",
              "</div>"
            ],
            "text/plain": [
              "              日期  ...                                               工作網址\n",
              "73    2020-06-04  ...              https://www.1111.com.tw/job/91510390/\n",
              "153   2020-06-03  ...              https://www.1111.com.tw/job/91127864/\n",
              "187   2020-06-01  ...              https://www.1111.com.tw/job/77037362/\n",
              "317   2020-06-01  ...              https://www.1111.com.tw/job/91446058/\n",
              "330   2020-05-10  ...              https://www.1111.com.tw/job/91487240/\n",
              "336   2020-06-02  ...              https://www.1111.com.tw/job/91238580/\n",
              "355   2020-06-01  ...              https://www.1111.com.tw/job/91431869/\n",
              "379   2020-06-01  ...              https://www.1111.com.tw/job/91303894/\n",
              "392   2020-06-06  ...              https://www.1111.com.tw/job/91265139/\n",
              "397   2020-06-01  ...              https://www.1111.com.tw/job/91415951/\n",
              "400   2020-06-07  ...              https://www.1111.com.tw/job/91469391/\n",
              "462   2020-06-01  ...              https://www.1111.com.tw/job/91417861/\n",
              "482   2020-05-10  ...              https://www.1111.com.tw/job/91487309/\n",
              "668   2020-06-01  ...              https://www.1111.com.tw/job/91499874/\n",
              "687   2020-06-01  ...              https://www.1111.com.tw/job/91503814/\n",
              "688   2020-06-01  ...              https://www.1111.com.tw/job/91503809/\n",
              "908   2020-06-03  ...              https://www.1111.com.tw/job/85144062/\n",
              "917   2020-06-01  ...              https://www.1111.com.tw/job/79795949/\n",
              "1221  2020-06-07  ...              https://www.1111.com.tw/job/91418093/\n",
              "1230  2020-06-07  ...              https://www.1111.com.tw/job/91418093/\n",
              "1371  2020-06-02  ...              https://www.1111.com.tw/job/91497614/\n",
              "1399  2020-06-02  ...              https://www.1111.com.tw/job/91497101/\n",
              "1429  2020-06-07  ...              https://www.1111.com.tw/job/85053143/\n",
              "1436  2020-06-05  ...              https://www.1111.com.tw/job/85943279/\n",
              "1449  2020-06-07  ...              https://www.1111.com.tw/job/85053143/\n",
              "1453  2020-06-05  ...              https://www.1111.com.tw/job/85943279/\n",
              "1464  2020-06-07  ...              https://www.1111.com.tw/job/85053139/\n",
              "1501  2020-06-01  ...              https://www.1111.com.tw/job/91468396/\n",
              "1512  2020-06-01  ...              https://www.1111.com.tw/job/91468396/\n",
              "1611  2020-06-05  ...              https://www.1111.com.tw/job/77204102/\n",
              "1637  2020-06-01  ...              https://www.1111.com.tw/job/91113327/\n",
              "1649  2020-06-01  ...              https://www.1111.com.tw/job/91113327/\n",
              "1659  2020-06-01  ...              https://www.1111.com.tw/job/91284666/\n",
              "1668  2020-06-01  ...              https://www.1111.com.tw/job/91284666/\n",
              "1721  2020-06-01  ...              https://www.1111.com.tw/job/85925921/\n",
              "1976        6/04  ...    www.104.com.tw/job/6wuqx?jobsource=2018indexpoc\n",
              "2036        5/26  ...  www.104.com.tw/job/6jny3?jobsource=jolist_c_re...\n",
              "2377        6/02  ...    www.104.com.tw/job/6y2hk?jobsource=2018indexpoc\n",
              "3260        6/05  ...    www.104.com.tw/job/6rvbg?jobsource=2018indexpoc\n",
              "4048        6/04  ...  www.104.com.tw/job/6xyuf?jobsource=jolist_c_re...\n",
              "4073        5/13  ...    www.104.com.tw/job/6w63m?jobsource=2018indexpoc\n",
              "\n",
              "[41 rows x 9 columns]"
            ]
          },
          "metadata": {
            "tags": []
          },
          "execution_count": 26
        }
      ]
    },
    {
      "cell_type": "code",
      "metadata": {
        "id": "5wOKtKbTIJOZ",
        "colab_type": "code",
        "colab": {}
      },
      "source": [
        "#儲存成 Excel格式檔\n",
        "file_name = str(get_todate()) + '人力銀行-數據分析' #檔案名稱\n",
        "save_excel = concat_104_1111.loc[(mask1 & mask2 & mask4) | (mask1 & mask3 & mask4)]\n",
        "save_excel.to_excel('jobs_csv/{}.xlsx'.format(file_name), sheet_name='passengers', index=False)"
      ],
      "execution_count": 0,
      "outputs": []
    },
    {
      "cell_type": "code",
      "metadata": {
        "id": "v5kDpeD-IJOb",
        "colab_type": "code",
        "outputId": "5f3a6484-768a-4ca9-ce68-dad00999da16",
        "colab": {
          "base_uri": "https://localhost:8080/",
          "height": 606
        }
      },
      "source": [
        "#我想兼差打工 50至1000之間\n",
        "concat_104_1111.loc[concat_104_1111.薪資 > 50].loc[concat_104_1111.薪資 < 1000]"
      ],
      "execution_count": 0,
      "outputs": [
        {
          "output_type": "execute_result",
          "data": {
            "text/html": [
              "<div>\n",
              "<style scoped>\n",
              "    .dataframe tbody tr th:only-of-type {\n",
              "        vertical-align: middle;\n",
              "    }\n",
              "\n",
              "    .dataframe tbody tr th {\n",
              "        vertical-align: top;\n",
              "    }\n",
              "\n",
              "    .dataframe thead th {\n",
              "        text-align: right;\n",
              "    }\n",
              "</style>\n",
              "<table border=\"1\" class=\"dataframe\">\n",
              "  <thead>\n",
              "    <tr style=\"text-align: right;\">\n",
              "      <th></th>\n",
              "      <th>日期</th>\n",
              "      <th>工作名稱</th>\n",
              "      <th>薪資</th>\n",
              "      <th>地區</th>\n",
              "      <th>工作內容</th>\n",
              "      <th>公司地址</th>\n",
              "      <th>經歷</th>\n",
              "      <th>學歷</th>\n",
              "      <th>工作網址</th>\n",
              "    </tr>\n",
              "  </thead>\n",
              "  <tbody>\n",
              "    <tr>\n",
              "      <th>10</th>\n",
              "      <td>5/11</td>\n",
              "      <td>金融科技實習生(金融類)</td>\n",
              "      <td>158</td>\n",
              "      <td>台北市中山區</td>\n",
              "      <td>對金融科技領域有興趣之同學歡迎加入我們的實習團隊！希望是一周內能馬上到職，此為課間實習(非暑...</td>\n",
              "      <td>台北市中山區松江路111號11樓之2</td>\n",
              "      <td>經歷不拘</td>\n",
              "      <td>大學</td>\n",
              "      <td>www.104.com.tw/job/682xs?jobsource=2018indexpoc</td>\n",
              "    </tr>\n",
              "    <tr>\n",
              "      <th>33</th>\n",
              "      <td>5/08</td>\n",
              "      <td>金融科技實習生(行銷類)</td>\n",
              "      <td>158</td>\n",
              "      <td>台北市中山區</td>\n",
              "      <td>對金融科技領域有興趣之同學歡迎加入我們的實習團隊！希望是一周內能馬上到職，此為課間實習(非暑...</td>\n",
              "      <td>台北市中山區松江路111號11樓之2</td>\n",
              "      <td>經歷不拘</td>\n",
              "      <td>大學</td>\n",
              "      <td>www.104.com.tw/job/6xsun?jobsource=jolist_c_re...</td>\n",
              "    </tr>\n",
              "    <tr>\n",
              "      <th>48</th>\n",
              "      <td>5/11</td>\n",
              "      <td>《2020暑期實習計畫-金融市場處》金融市場專案研究</td>\n",
              "      <td>160</td>\n",
              "      <td>台北市中正區</td>\n",
              "      <td>《實習內容》• 每日上午:  參加晨會討論與研讀市場資訊；在(交易員)旁觀察市場動態/交易決...</td>\n",
              "      <td>台北市中正區</td>\n",
              "      <td>經歷不拘</td>\n",
              "      <td>大學</td>\n",
              "      <td>www.104.com.tw/job/6xndz?jobsource=jolist_c_re...</td>\n",
              "    </tr>\n",
              "    <tr>\n",
              "      <th>160</th>\n",
              "      <td>5/11</td>\n",
              "      <td>《2020暑期實習計畫-電子金融處》數位金融產品專案人員</td>\n",
              "      <td>160</td>\n",
              "      <td>台北市中正區</td>\n",
              "      <td>• 產品設計1. 參與產品功能設計發想、規劃與討論 2. 基本網頁排版及設計3. 數位金融產...</td>\n",
              "      <td>台北市中正區</td>\n",
              "      <td>經歷不拘</td>\n",
              "      <td>碩士</td>\n",
              "      <td>www.104.com.tw/job/6xnhs?jobsource=jolist_c_re...</td>\n",
              "    </tr>\n",
              "    <tr>\n",
              "      <th>342</th>\n",
              "      <td>5/11</td>\n",
              "      <td>《2020暑期實習計畫-法人金融處》法人金融實習人員</td>\n",
              "      <td>160</td>\n",
              "      <td>台北市中正區</td>\n",
              "      <td>1. FI期中覆審工作2. 法金CRM(客戶關係管理)3. 電廠資料運用案：過往資料建檔、資...</td>\n",
              "      <td>台北市中正區</td>\n",
              "      <td>經歷不拘</td>\n",
              "      <td>碩士</td>\n",
              "      <td>www.104.com.tw/job/6xnid?jobsource=2018indexpoc</td>\n",
              "    </tr>\n",
              "    <tr>\n",
              "      <th>...</th>\n",
              "      <td>...</td>\n",
              "      <td>...</td>\n",
              "      <td>...</td>\n",
              "      <td>...</td>\n",
              "      <td>...</td>\n",
              "      <td>...</td>\n",
              "      <td>...</td>\n",
              "      <td>...</td>\n",
              "      <td>...</td>\n",
              "    </tr>\n",
              "    <tr>\n",
              "      <th>5612</th>\n",
              "      <td>2020-04-27</td>\n",
              "      <td>短期兼職會計人員</td>\n",
              "      <td>158</td>\n",
              "      <td>新北市樹林區</td>\n",
              "      <td>1.協助輸入付款憑單拋轉傳票 2.結帳相關傳票協助 3.協助核對資產負債科目餘額明細表 4....</td>\n",
              "      <td>新北市樹林區八德街</td>\n",
              "      <td>3年工作經驗以上</td>\n",
              "      <td>專科、大學、碩士、博士</td>\n",
              "      <td>www.1111.com.tw/job/91418018/?ks=金融</td>\n",
              "    </tr>\n",
              "    <tr>\n",
              "      <th>5618</th>\n",
              "      <td>2020-05-08</td>\n",
              "      <td>法務助理</td>\n",
              "      <td>500</td>\n",
              "      <td>台中市中區</td>\n",
              "      <td>1.擔任銀行訴訟或強制執行的代理人，論件計酬。 2.代理至臺中市各區公所申請土地使用分區證明...</td>\n",
              "      <td>台北市中山區民生東路</td>\n",
              "      <td>經驗不拘</td>\n",
              "      <td>大學、碩士、博士</td>\n",
              "      <td>www.1111.com.tw/job/79393967/?ks=金融</td>\n",
              "    </tr>\n",
              "    <tr>\n",
              "      <th>5646</th>\n",
              "      <td>2020-05-08</td>\n",
              "      <td>法務助理</td>\n",
              "      <td>500</td>\n",
              "      <td>新竹市東區</td>\n",
              "      <td>1.擔任銀行訴訟或強制執行的代理人，論件計酬。 2.代理至新竹市各區公所申請土地使用分區證明...</td>\n",
              "      <td>台北市中山區民生東路</td>\n",
              "      <td>經驗不拘</td>\n",
              "      <td>大學、碩士、博士</td>\n",
              "      <td>www.1111.com.tw/job/79885071/?ks=金融</td>\n",
              "    </tr>\n",
              "    <tr>\n",
              "      <th>5665</th>\n",
              "      <td>2020-05-08</td>\n",
              "      <td>法務助理</td>\n",
              "      <td>500</td>\n",
              "      <td>桃園市中壢區</td>\n",
              "      <td>1.擔任銀行訴訟或強制執行的代理人，論件計酬。 2.代理至桃園市各區公所申請土地使用分區證明...</td>\n",
              "      <td>台北市中山區民生東路</td>\n",
              "      <td>經驗不拘</td>\n",
              "      <td>大學、碩士、博士</td>\n",
              "      <td>www.1111.com.tw/job/79824700/?ks=金融</td>\n",
              "    </tr>\n",
              "    <tr>\n",
              "      <th>5807</th>\n",
              "      <td>2020-05-11</td>\n",
              "      <td>辦公室內勤(工讀生)近台北大學</td>\n",
              "      <td>158</td>\n",
              "      <td>台北市中山區</td>\n",
              "      <td>急徵辦公室內勤 環境單純，貿易公司 靠近中山國中捷運站 公司附近餐飲，超商多    1. 內...</td>\n",
              "      <td>台北市中山區復興北路</td>\n",
              "      <td>經驗不拘</td>\n",
              "      <td>專科、大學、碩士、博士</td>\n",
              "      <td>www.1111.com.tw/job/91164726/?ks=金融</td>\n",
              "    </tr>\n",
              "  </tbody>\n",
              "</table>\n",
              "<p>91 rows × 9 columns</p>\n",
              "</div>"
            ],
            "text/plain": [
              "              日期  ...                                               工作網址\n",
              "10          5/11  ...    www.104.com.tw/job/682xs?jobsource=2018indexpoc\n",
              "33          5/08  ...  www.104.com.tw/job/6xsun?jobsource=jolist_c_re...\n",
              "48          5/11  ...  www.104.com.tw/job/6xndz?jobsource=jolist_c_re...\n",
              "160         5/11  ...  www.104.com.tw/job/6xnhs?jobsource=jolist_c_re...\n",
              "342         5/11  ...    www.104.com.tw/job/6xnid?jobsource=2018indexpoc\n",
              "...          ...  ...                                                ...\n",
              "5612  2020-04-27  ...                www.1111.com.tw/job/91418018/?ks=金融\n",
              "5618  2020-05-08  ...                www.1111.com.tw/job/79393967/?ks=金融\n",
              "5646  2020-05-08  ...                www.1111.com.tw/job/79885071/?ks=金融\n",
              "5665  2020-05-08  ...                www.1111.com.tw/job/79824700/?ks=金融\n",
              "5807  2020-05-11  ...                www.1111.com.tw/job/91164726/?ks=金融\n",
              "\n",
              "[91 rows x 9 columns]"
            ]
          },
          "metadata": {
            "tags": []
          },
          "execution_count": 47
        }
      ]
    },
    {
      "cell_type": "code",
      "metadata": {
        "id": "MrD9Yohuqoe8",
        "colab_type": "code",
        "colab": {}
      },
      "source": [
        ""
      ],
      "execution_count": 0,
      "outputs": []
    },
    {
      "cell_type": "markdown",
      "metadata": {
        "id": "zxO4Wo3jqpHf",
        "colab_type": "text"
      },
      "source": [
        "# 儲存檔案到google drive\n",
        "\n",
        "1. 連結google drive\n",
        "2. 將檔案複製到自己的google drive "
      ]
    },
    {
      "cell_type": "code",
      "metadata": {
        "id": "G9_fG5njrkZD",
        "colab_type": "code",
        "outputId": "e0e5cee1-8a8d-4bb4-a0a0-83fc680ad5b4",
        "colab": {
          "base_uri": "https://localhost:8080/",
          "height": 34
        }
      },
      "source": [
        "#只取得xlsx檔案路徑\n",
        "glob.glob('jobs_csv/*.xlsx')"
      ],
      "execution_count": 0,
      "outputs": [
        {
          "output_type": "execute_result",
          "data": {
            "text/plain": [
              "['jobs_csv/人力銀行工作資料_數據分析.xlsx']"
            ]
          },
          "metadata": {
            "tags": []
          },
          "execution_count": 47
        }
      ]
    },
    {
      "cell_type": "markdown",
      "metadata": {
        "id": "274s6fNpsSFh",
        "colab_type": "text"
      },
      "source": [
        "## 連結google drive\n",
        "\n",
        "執行後，會顯示網址，打開網址可取得驗證碼，按下鍵盤的 ENTER"
      ]
    },
    {
      "cell_type": "markdown",
      "metadata": {
        "id": "RfaRl7ZNtRO_",
        "colab_type": "text"
      },
      "source": [
        "![image.png](data:image/png;base64,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)"
      ]
    },
    {
      "cell_type": "code",
      "metadata": {
        "id": "bBYkQKunsP3q",
        "colab_type": "code",
        "colab": {}
      },
      "source": [
        "from google.colab import drive\n",
        "drive.mount('/content/gdrive')"
      ],
      "execution_count": 0,
      "outputs": []
    },
    {
      "cell_type": "markdown",
      "metadata": {
        "id": "liIJ3IxBuIqp",
        "colab_type": "text"
      },
      "source": [
        "google drive連結後的路徑\n",
        "content/gdrive/My Drive"
      ]
    },
    {
      "cell_type": "markdown",
      "metadata": {
        "id": "FGfUCI4KuYgJ",
        "colab_type": "text"
      },
      "source": [
        "![image.png](data:image/png;base64,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)"
      ]
    },
    {
      "cell_type": "markdown",
      "metadata": {
        "id": "_G58dVliucXy",
        "colab_type": "text"
      },
      "source": [
        "在google drive 建立一個 '人力銀行工作' 資料夾\n"
      ]
    },
    {
      "cell_type": "code",
      "metadata": {
        "id": "IOInZ1oxuuUC",
        "colab_type": "code",
        "colab": {}
      },
      "source": [
        "!mkdir '/content/gdrive/My Drive/人力銀行工作'"
      ],
      "execution_count": 0,
      "outputs": []
    },
    {
      "cell_type": "code",
      "metadata": {
        "id": "J7NNAIoTvT9q",
        "colab_type": "code",
        "outputId": "d4e014c9-0e91-432b-e700-00b0f2aab7d9",
        "colab": {
          "base_uri": "https://localhost:8080/",
          "height": 34
        }
      },
      "source": [
        "glob.glob('jobs_csv/*.xlsx')"
      ],
      "execution_count": 0,
      "outputs": [
        {
          "output_type": "execute_result",
          "data": {
            "text/plain": [
              "['jobs_csv/人力銀行工作資料_數據分析.xlsx']"
            ]
          },
          "metadata": {
            "tags": []
          },
          "execution_count": 67
        }
      ]
    },
    {
      "cell_type": "code",
      "metadata": {
        "id": "DauFS9lXvFxL",
        "colab_type": "code",
        "colab": {}
      },
      "source": [
        "!cp '/content/jobs_csv/人力銀行工作資料_數據分析.xlsx' '/content/gdrive/My Drive/人力銀行工作'  \n"
      ],
      "execution_count": 0,
      "outputs": []
    },
    {
      "cell_type": "markdown",
      "metadata": {
        "id": "LwZYSdvkxEKd",
        "colab_type": "text"
      },
      "source": [
        "# 使用google drive開啟xlsx檔案"
      ]
    },
    {
      "cell_type": "markdown",
      "metadata": {
        "id": "hB_P-Q9FxKo8",
        "colab_type": "text"
      },
      "source": [
        "![image.png](data:image/png;base64,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)"
      ]
    },
    {
      "cell_type": "markdown",
      "metadata": {
        "id": "s4A9uGozxU_j",
        "colab_type": "text"
      },
      "source": [
        "![image.png](data:image/png;base64,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)"
      ]
    }
  ]
}